{
 "cells": [
  {
   "cell_type": "code",
   "execution_count": null,
   "metadata": {},
   "outputs": [],
   "source": [
    "import folium\n",
    "from folium.plugins import MarkerCluster\n",
    "import pandas as pd\n",
    "import json\n",
    "import geopandas as gpd\n",
    "from shapely.geometry import Point\n",
    "import matplotlib.pyplot as plt "
   ]
  },
  {
   "cell_type": "markdown",
   "metadata": {},
   "source": [
    "## Load Communes, Competitions and Shape data"
   ]
  },
  {
   "cell_type": "code",
   "execution_count": null,
   "metadata": {},
   "outputs": [],
   "source": [
    "# Change coordiantes\n",
    "df_communes = pd.read_csv(\"..\\Data\\\\Communes\\\\communes.csv\", sep=\";\")\n",
    "\n",
    "df_communes = df_communes.drop_duplicates(subset=\"Commune\", keep=\"first\")\n",
    "\n",
    "gdf = gpd.GeoDataFrame(\n",
    "    df_communes,\n",
    "    geometry=[Point(e, n) for e, n in zip(df_communes.E, df_communes.N)],\n",
    "    crs=\"EPSG:2056\"  # LV95\n",
    ")\n",
    "\n",
    "gdf = gdf.to_crs(epsg=4326)\n",
    "\n",
    "df_communes[\"lat\"] = gdf.geometry.y\n",
    "df_communes[\"lon\"] = gdf.geometry.x\n",
    "\n",
    "df_communes.to_csv(\"..\\Data\\\\Communes\\\\communes.csv\", sep=\";\")\n"
   ]
  },
  {
   "cell_type": "code",
   "execution_count": null,
   "metadata": {},
   "outputs": [],
   "source": [
    "with open('..\\Data\\geo_data\\canton_name_to_abbreviation.json', encoding='utf-8') as f:\n",
    "    canton_to_abbreviation = json.load(f)\n",
    "\n",
    "gdf_communes = gpd.read_file(\"..\\Data\\\\geo_data\\\\swiss_shp\\\\swissBOUNDARIES3D_1_5_TLM_HOHEITSGEBIET.shp\") \n",
    "gdf_communes = gdf_communes.drop([\"DATUM_AEND\", \"DATUM_ERST\"], axis=1)\n",
    "gdf_communes = gdf_communes.rename(columns={\"NAME\": \"Commune\"})\n",
    "gdf_communes = gdf_communes.to_crs(epsg=4326)\n",
    "\n",
    "\n",
    "gdf_cantons = gpd.read_file(\"..\\Data\\\\geo_data\\\\swiss_shp\\\\swissBOUNDARIES3D_1_5_TLM_KANTONSGEBIET.shp\")\n",
    "gdf_cantons = gdf_cantons.drop([\"DATUM_AEND\", \"DATUM_ERST\"], axis=1)\n",
    "gdf_cantons = gdf_cantons.rename(columns={\"NAME\": \"Canton\"})\n",
    "gdf_cantons = gdf_cantons.to_crs(epsg=4326)\n",
    "gdf_cantons[\"Canton\"] = gdf_cantons[\"Canton\"].replace(canton_to_abbreviation)"
   ]
  },
  {
   "cell_type": "code",
   "execution_count": null,
   "metadata": {},
   "outputs": [],
   "source": [
    "gdf_communes[gdf_communes[\"Commune\"] == \"Leytron\"]"
   ]
  },
  {
   "cell_type": "code",
   "execution_count": null,
   "metadata": {},
   "outputs": [],
   "source": [
    "df_competitions = pd.read_feather(\"..\\Data\\\\ACM\\\\AcmEPFL_paired_communes.feather\")  # Adjust name\n",
    "\n",
    "df = df_competitions.merge(df_communes, on=\"Commune\", how=\"left\")\n",
    "df = df.dropna(subset=[\"lat\", \"lon\"])"
   ]
  },
  {
   "cell_type": "markdown",
   "metadata": {},
   "source": [
    "## Map of Competitions"
   ]
  },
  {
   "cell_type": "code",
   "execution_count": null,
   "metadata": {},
   "outputs": [],
   "source": [
    "m = folium.Map(location=[46.8182, 8.2275], tiles=\"Cartodb Positron\", zoom_start=8)\n",
    "marker_cluster = MarkerCluster().add_to(m)\n",
    "\n",
    "\n",
    "for _, row in df.iterrows():\n",
    "    folium.Marker(\n",
    "        location=[row[\"lat\"], row[\"lon\"]],\n",
    "        popup=f\"{row[\"Nom de l'objet\"]}\",\n",
    "        tooltip=row[\"Commune\"]\n",
    "    ).add_to(marker_cluster)\n",
    "\n",
    "\"\"\" # Step 8: Save or display map\n",
    "m.save(\"swiss_competitions_map.html\") \"\"\"\n",
    "m\n"
   ]
  },
  {
   "cell_type": "markdown",
   "metadata": {},
   "source": [
    "## Map of Competitons per Canton"
   ]
  },
  {
   "cell_type": "code",
   "execution_count": null,
   "metadata": {},
   "outputs": [],
   "source": [
    "#Group competions by canton\n",
    "\n",
    "comp_counts = df_competitions[\"Canton\"].value_counts().reset_index()\n",
    "comp_counts.columns = [\"Canton\", \"count\"]\n",
    "\n",
    "gdf_cantons = gdf_cantons.merge(comp_counts, on=\"Canton\", how=\"left\")\n",
    "gdf_cantons[\"count\"] = gdf_cantons[\"count\"].fillna(0)\n",
    "gdf_cantons = gdf_cantons.drop(columns=[\"count_x\", \"count_y\"], errors='ignore')"
   ]
  },
  {
   "cell_type": "code",
   "execution_count": null,
   "metadata": {},
   "outputs": [],
   "source": [
    "threshold_scale = [0, 1, 50, 100, 150, 200, 250, 308] "
   ]
  },
  {
   "cell_type": "code",
   "execution_count": null,
   "metadata": {},
   "outputs": [],
   "source": [
    "m = folium.Map(location=[46.8, 8.3], tiles=\"Cartodb Positron\", zoom_start=8)\n",
    "\n",
    "\n",
    "folium.Choropleth(\n",
    "    geo_data=gdf_cantons.to_json(),  \n",
    "    data=gdf_cantons,\n",
    "    columns=[\"Canton\", \"count\"],\n",
    "    key_on=\"feature.properties.Canton\",  \n",
    "    fill_color=\"YlGnBu\",\n",
    "    fill_opacity=0.7,\n",
    "    line_opacity=0.2,\n",
    "    threshold_scale=threshold_scale,\n",
    "    legend_name=\"Number of Competitions per Canton\"\n",
    ").add_to(m)\n",
    "\n",
    "folium.GeoJson(\n",
    "    gdf_cantons,\n",
    "    name=\"Canton Info\",\n",
    "    tooltip=folium.GeoJsonTooltip(\n",
    "        fields=[\"Canton\", \"count\"],\n",
    "        aliases=[\"Canton:\", \"Concours:\"],\n",
    "        localize=True\n",
    "    ),\n",
    "    style_function=lambda x: {\n",
    "        \"color\": \"transparent\",    \n",
    "        \"weight\": 0,               \n",
    "        \"fillOpacity\": 0           \n",
    "    },\n",
    ").add_to(m)\n",
    "\n",
    "folium.LayerControl().add_to(m)\n",
    "m"
   ]
  },
  {
   "cell_type": "code",
   "execution_count": null,
   "metadata": {},
   "outputs": [],
   "source": [
    "m = folium.Map(location=[46.8, 8.3], tiles=\"Cartodb Positron\", zoom_start=8)\n",
    "\n",
    "\n",
    "folium.Choropleth(\n",
    "    geo_data=gdf_cantons.to_json(),  \n",
    "    name=\"choropleth\",\n",
    "    data=gdf_cantons,\n",
    "    columns=[\"Canton\", \"count\"],\n",
    "    key_on=\"feature.properties.Canton\",  \n",
    "    fill_color=\"YlGnBu\",\n",
    "    fill_opacity=0.7,\n",
    "    line_opacity=0.2,\n",
    "    threshold_scale=threshold_scale,\n",
    "    legend_name=\"Number of Competitions per Canton\"\n",
    ").add_to(m)\n",
    "\n",
    "folium.GeoJson(\n",
    "    gdf_cantons,\n",
    "    name=\"Canton Info\",\n",
    "    tooltip=folium.GeoJsonTooltip(\n",
    "        fields=[\"Canton\", \"count\"],\n",
    "        aliases=[\"Canton:\", \"Concours:\"],\n",
    "        localize=True\n",
    "    ),\n",
    "    style_function=lambda x: {\n",
    "        \"color\": \"transparent\",    \n",
    "        \"weight\": 0,               \n",
    "        \"fillOpacity\": 0           \n",
    "    },\n",
    ").add_to(m)\n",
    "\n",
    "folium.LayerControl().add_to(m)\n",
    "m"
   ]
  },
  {
   "cell_type": "markdown",
   "metadata": {},
   "source": [
    "## Map of Competitons per Commune"
   ]
  },
  {
   "cell_type": "code",
   "execution_count": null,
   "metadata": {},
   "outputs": [],
   "source": [
    "#Group competions by canton\n",
    "\n",
    "comp_counts = df_competitions[\"Commune\"].value_counts().reset_index()\n",
    "comp_counts.columns = [\"Commune\", \"count\"]\n",
    "# Assume gdf_cantons contains geometries at commune level and has a 'Canton' column\n",
    "gdf_communes_merged = gdf_communes.merge(comp_counts, on=\"Commune\", how=\"left\")\n",
    "gdf_communes_merged[\"count\"] = gdf_communes_merged[\"count\"].fillna(0)\n",
    "gdf_communes_merged = gdf_communes_merged.drop(columns=[\"count_x\", \"count_y\"], errors='ignore')"
   ]
  },
  {
   "cell_type": "code",
   "execution_count": null,
   "metadata": {},
   "outputs": [],
   "source": [
    "threshold_scale = [0, 1, 5, 10, 20, 40, 80, 130]  # Must include the maximum count"
   ]
  },
  {
   "cell_type": "code",
   "execution_count": null,
   "metadata": {},
   "outputs": [],
   "source": [
    "m = folium.Map(location=[46.8, 8.3], tiles=\"Cartodb Positron\", zoom_start=8)\n",
    "\n",
    "\n",
    "folium.Choropleth(\n",
    "    geo_data=gdf_communes_merged.to_json(), \n",
    "    name=\"choropleth\",\n",
    "    data=gdf_communes_merged,\n",
    "    columns=[\"Commune\", \"count\"],\n",
    "    key_on=\"feature.properties.Commune\",  \n",
    "    fill_color=\"YlGnBu\",\n",
    "    fill_opacity=0.7,\n",
    "    line_opacity=0.2,\n",
    "    threshold_scale=threshold_scale,\n",
    "    legend_name=\"Nombre de concours par commune\"\n",
    ").add_to(m)\n",
    "\n",
    "folium.GeoJson(\n",
    "    gdf_communes_merged,\n",
    "    name=\"Commune Info\",\n",
    "    tooltip=folium.GeoJsonTooltip(\n",
    "        fields=[\"Commune\", \"count\"],\n",
    "        aliases=[\"Commune:\", \"Concours:\"],\n",
    "        localize=True\n",
    "    ),\n",
    "    style_function=lambda x: {\n",
    "        \"color\": \"transparent\",    \n",
    "        \"weight\": 0,               \n",
    "        \"fillOpacity\": 0           \n",
    "    },\n",
    ").add_to(m)\n",
    "\n",
    "folium.LayerControl().add_to(m)\n",
    "m"
   ]
  },
  {
   "cell_type": "markdown",
   "metadata": {},
   "source": [
    "## Commune map, removes all communes with no appearences"
   ]
  },
  {
   "cell_type": "code",
   "execution_count": null,
   "metadata": {},
   "outputs": [],
   "source": [
    "gdf_communes_appearences_only = gdf_communes_merged[gdf_communes_merged[\"count\"] > 0]"
   ]
  },
  {
   "cell_type": "code",
   "execution_count": null,
   "metadata": {},
   "outputs": [],
   "source": [
    "m = folium.Map(location=[46.8, 8.3], tiles=\"Cartodb Positron\", zoom_start=8)\n",
    "\n",
    "\n",
    "folium.Choropleth(\n",
    "    geo_data=gdf_communes_appearences_only.to_json(),  \n",
    "    name=\"choropleth\",\n",
    "    data=gdf_communes_appearences_only,\n",
    "    columns=[\"Commune\", \"count\"],\n",
    "    key_on=\"feature.properties.Commune\",  \n",
    "    fill_color=\"YlGnBu\",\n",
    "    fill_opacity=0.7,\n",
    "    line_opacity=0.2,\n",
    "    threshold_scale=threshold_scale,\n",
    "    legend_name=\"Number of Competitions per Commune\"\n",
    ").add_to(m)\n",
    "\n",
    "folium.GeoJson(\n",
    "    gdf_communes_appearences_only,\n",
    "    name=\"Commune Info\",\n",
    "    tooltip=folium.GeoJsonTooltip(\n",
    "        fields=[\"Commune\", \"count\"],\n",
    "        aliases=[\"Commune:\", \"Concours:\"],\n",
    "        localize=True\n",
    "    ),\n",
    "    style_function=lambda x: {\n",
    "        \"color\": \"transparent\",    \n",
    "        \"weight\": 0,               \n",
    "        \"fillOpacity\": 0           \n",
    "    },\n",
    ").add_to(m)\n",
    "\n",
    "folium.LayerControl().add_to(m)\n",
    "m"
   ]
  },
  {
   "cell_type": "code",
   "execution_count": null,
   "metadata": {},
   "outputs": [],
   "source": [
    "df_competitions = df_competitions.sort_values(by=\"Date de début de l'objet\")\n",
    "\n",
    "df_competitions_cumulative = df_competitions[[\"Date de début de l'objet\",'Canton']]\n",
    "df_competitions_cumulative[\"Date de début de l'objet\"] = pd.DatetimeIndex(df_competitions_cumulative[\"Date de début de l'objet\"]).year\n",
    "df_competitions_cumulative[\"Count\"] = 1\n",
    "comptitions_grouped = df_competitions_cumulative.groupby(['Date de début de l\\'objet', 'Canton'])['Count'].sum().reset_index()\n",
    "comptitions_grouped"
   ]
  },
  {
   "cell_type": "code",
   "execution_count": null,
   "metadata": {},
   "outputs": [],
   "source": [
    "grouped = comptitions_grouped.sort_values('Date de début de l\\'objet')\n",
    "\n",
    "pivot = grouped.pivot(index='Date de début de l\\'objet', columns='Canton', values='Count').fillna(0)\n",
    "cumulative = pivot.cumsum()\n",
    "\n",
    "#Specifiy which cantons:\n",
    "cantons = [\"VD\", \"VS\", \"BE\", \"GE\", \"NE\", \"BE\", \"FR\"]\n",
    "\n",
    "cumulative = cumulative[cantons]\n",
    "\n",
    "cumulative.plot.area(figsize=(14, 8), colormap='tab20')\n",
    "\n",
    "plt.title(\"Cumulative Competitions by Canton Over Time\")\n",
    "plt.xlabel(\"Date\")\n",
    "plt.ylabel(\"Cumulative Number of Competitions\")\n",
    "plt.legend(title=\"Canton\")\n",
    "plt.grid(True)\n",
    "plt.tight_layout()\n",
    "plt.show()\n",
    "\n"
   ]
  },
  {
   "cell_type": "code",
   "execution_count": null,
   "metadata": {},
   "outputs": [],
   "source": [
    "df_competitions['Canton'].value_counts()"
   ]
  }
 ],
 "metadata": {
  "kernelspec": {
   "display_name": "Python 3",
   "language": "python",
   "name": "python3"
  },
  "language_info": {
   "codemirror_mode": {
    "name": "ipython",
    "version": 3
   },
   "file_extension": ".py",
   "mimetype": "text/x-python",
   "name": "python",
   "nbconvert_exporter": "python",
   "pygments_lexer": "ipython3",
   "version": "3.13.2"
  }
 },
 "nbformat": 4,
 "nbformat_minor": 2
}

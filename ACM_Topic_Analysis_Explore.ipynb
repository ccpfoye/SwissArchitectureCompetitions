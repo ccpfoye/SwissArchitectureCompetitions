{
 "cells": [
  {
   "cell_type": "code",
   "execution_count": 1,
   "metadata": {},
   "outputs": [
    {
     "name": "stderr",
     "output_type": "stream",
     "text": [
      "/home/cfoye/.pyenv/versions/impresso/lib/python3.11/site-packages/tqdm/auto.py:21: TqdmWarning: IProgress not found. Please update jupyter and ipywidgets. See https://ipywidgets.readthedocs.io/en/stable/user_install.html\n",
      "  from .autonotebook import tqdm as notebook_tqdm\n"
     ]
    }
   ],
   "source": [
    "import pandas as pd\n",
    "import numpy as np\n",
    "import matplotlib.pyplot as plt\n",
    "import spacy\n",
    "from bertopic import BERTopic"
   ]
  },
  {
   "cell_type": "code",
   "execution_count": 2,
   "metadata": {},
   "outputs": [],
   "source": [
    "acm_competitions = pd.read_feather(\"Data/ACM/AcmEPFL_paired.feather\")"
   ]
  },
  {
   "cell_type": "code",
   "execution_count": 3,
   "metadata": {},
   "outputs": [
    {
     "data": {
      "text/html": [
       "<div>\n",
       "<style scoped>\n",
       "    .dataframe tbody tr th:only-of-type {\n",
       "        vertical-align: middle;\n",
       "    }\n",
       "\n",
       "    .dataframe tbody tr th {\n",
       "        vertical-align: top;\n",
       "    }\n",
       "\n",
       "    .dataframe thead th {\n",
       "        text-align: right;\n",
       "    }\n",
       "</style>\n",
       "<table border=\"1\" class=\"dataframe\">\n",
       "  <thead>\n",
       "    <tr style=\"text-align: right;\">\n",
       "      <th></th>\n",
       "      <th>orig_index</th>\n",
       "      <th>Nom de l'objet</th>\n",
       "      <th>Programme</th>\n",
       "      <th>Adresse 1</th>\n",
       "      <th>Adresse 2</th>\n",
       "      <th>Adresse 3</th>\n",
       "      <th>Numéro postal</th>\n",
       "      <th>Localité</th>\n",
       "      <th>Canton - Département</th>\n",
       "      <th>Pays</th>\n",
       "      <th>...</th>\n",
       "      <th>Concours ouvert à</th>\n",
       "      <th>Notes de l'objet</th>\n",
       "      <th>Auteurs</th>\n",
       "      <th>Rôle de l'auteur</th>\n",
       "      <th>Dossiers reliés</th>\n",
       "      <th>Pièces reliées</th>\n",
       "      <th>CombinedArtists</th>\n",
       "      <th>is_jury</th>\n",
       "      <th>paired_competitons</th>\n",
       "      <th>comp_id</th>\n",
       "    </tr>\n",
       "  </thead>\n",
       "  <tbody>\n",
       "    <tr>\n",
       "      <th>0</th>\n",
       "      <td>0</td>\n",
       "      <td>Concours pour le nouveau bâtiment des écoles d...</td>\n",
       "      <td>None</td>\n",
       "      <td>None</td>\n",
       "      <td>None</td>\n",
       "      <td>None</td>\n",
       "      <td>NaN</td>\n",
       "      <td>Vevey</td>\n",
       "      <td>None</td>\n",
       "      <td>Vaud</td>\n",
       "      <td>...</td>\n",
       "      <td>A. national</td>\n",
       "      <td>Ouvert par la Municipalité sur décret du 15 ma...</td>\n",
       "      <td>None</td>\n",
       "      <td>None</td>\n",
       "      <td>None</td>\n",
       "      <td>None</td>\n",
       "      <td>None</td>\n",
       "      <td>False</td>\n",
       "      <td>[1]</td>\n",
       "      <td>0</td>\n",
       "    </tr>\n",
       "    <tr>\n",
       "      <th>1</th>\n",
       "      <td>1</td>\n",
       "      <td>Concours pour le nouveau bâtiment des écoles d...</td>\n",
       "      <td>None</td>\n",
       "      <td>None</td>\n",
       "      <td>None</td>\n",
       "      <td>None</td>\n",
       "      <td>NaN</td>\n",
       "      <td>Vevey</td>\n",
       "      <td>None</td>\n",
       "      <td>Vaud</td>\n",
       "      <td>...</td>\n",
       "      <td>None</td>\n",
       "      <td>Le concours est mentionné en 1878 (Eisenbahn v...</td>\n",
       "      <td>Stadler +;Ritscher von Steinbeck +;Recordon, B...</td>\n",
       "      <td>3e prix;3e prix;Juré, rapporteur;Concurrent;2e...</td>\n",
       "      <td>None</td>\n",
       "      <td>None</td>\n",
       "      <td>[[Stadler, Ritscher von Steinbeck, Recordon, B...</td>\n",
       "      <td>True</td>\n",
       "      <td>[0]</td>\n",
       "      <td>1</td>\n",
       "    </tr>\n",
       "    <tr>\n",
       "      <th>2</th>\n",
       "      <td>2</td>\n",
       "      <td>Concours (1er degré) pour le monument du génér...</td>\n",
       "      <td>None</td>\n",
       "      <td>None</td>\n",
       "      <td>None</td>\n",
       "      <td>None</td>\n",
       "      <td>NaN</td>\n",
       "      <td>Genève</td>\n",
       "      <td>None</td>\n",
       "      <td>Suisse</td>\n",
       "      <td>...</td>\n",
       "      <td>National</td>\n",
       "      <td>Chercher dans Eisenbahn vol. V une annonce d'o...</td>\n",
       "      <td>Thomas, Jules;Cain, Auguste-Nicolas;Rothpletz,...</td>\n",
       "      <td>Juré;Juré;Juré;Juré;Juré;Juré;Juré;Juré;Juré;J...</td>\n",
       "      <td>None</td>\n",
       "      <td>None</td>\n",
       "      <td>[[Thomas, Jules], [Cain, Auguste-Nicolas], [Ro...</td>\n",
       "      <td>False</td>\n",
       "      <td>[1540]</td>\n",
       "      <td>2</td>\n",
       "    </tr>\n",
       "    <tr>\n",
       "      <th>3</th>\n",
       "      <td>3</td>\n",
       "      <td>Concours restreint pour le nouveau Musée de la...</td>\n",
       "      <td>None</td>\n",
       "      <td>None</td>\n",
       "      <td>None</td>\n",
       "      <td>None</td>\n",
       "      <td>NaN</td>\n",
       "      <td>Mulhouse</td>\n",
       "      <td>None</td>\n",
       "      <td>None</td>\n",
       "      <td>...</td>\n",
       "      <td>None</td>\n",
       "      <td>\"Par suite d'un concours entre un nombre restr...</td>\n",
       "      <td>Rütti, Ludwig Friedrich von</td>\n",
       "      <td>Concurrent</td>\n",
       "      <td>None</td>\n",
       "      <td>None</td>\n",
       "      <td>[[Rütti, Ludwig Friedrich von]]</td>\n",
       "      <td>True</td>\n",
       "      <td>[]</td>\n",
       "      <td>3</td>\n",
       "    </tr>\n",
       "    <tr>\n",
       "      <th>4</th>\n",
       "      <td>4</td>\n",
       "      <td>Concours d'éléments analytiques : 2e classe : ...</td>\n",
       "      <td>None</td>\n",
       "      <td>None</td>\n",
       "      <td>None</td>\n",
       "      <td>None</td>\n",
       "      <td>NaN</td>\n",
       "      <td>None</td>\n",
       "      <td>None</td>\n",
       "      <td>None</td>\n",
       "      <td>...</td>\n",
       "      <td>None</td>\n",
       "      <td>None</td>\n",
       "      <td>None</td>\n",
       "      <td>None</td>\n",
       "      <td>None</td>\n",
       "      <td>0138.04.0001/262</td>\n",
       "      <td>None</td>\n",
       "      <td>False</td>\n",
       "      <td>[]</td>\n",
       "      <td>4</td>\n",
       "    </tr>\n",
       "    <tr>\n",
       "      <th>...</th>\n",
       "      <td>...</td>\n",
       "      <td>...</td>\n",
       "      <td>...</td>\n",
       "      <td>...</td>\n",
       "      <td>...</td>\n",
       "      <td>...</td>\n",
       "      <td>...</td>\n",
       "      <td>...</td>\n",
       "      <td>...</td>\n",
       "      <td>...</td>\n",
       "      <td>...</td>\n",
       "      <td>...</td>\n",
       "      <td>...</td>\n",
       "      <td>...</td>\n",
       "      <td>...</td>\n",
       "      <td>...</td>\n",
       "      <td>...</td>\n",
       "      <td>...</td>\n",
       "      <td>...</td>\n",
       "      <td>...</td>\n",
       "      <td>...</td>\n",
       "    </tr>\n",
       "    <tr>\n",
       "      <th>2381</th>\n",
       "      <td>2381</td>\n",
       "      <td>Concours \"Reflet\" hôtel</td>\n",
       "      <td>None</td>\n",
       "      <td>None</td>\n",
       "      <td>None</td>\n",
       "      <td>None</td>\n",
       "      <td>NaN</td>\n",
       "      <td>Ouchy</td>\n",
       "      <td>Vaud</td>\n",
       "      <td>Suisse</td>\n",
       "      <td>...</td>\n",
       "      <td>None</td>\n",
       "      <td>None</td>\n",
       "      <td>None</td>\n",
       "      <td>None</td>\n",
       "      <td>0133.04.0316</td>\n",
       "      <td>None</td>\n",
       "      <td>None</td>\n",
       "      <td>False</td>\n",
       "      <td>[]</td>\n",
       "      <td>2381</td>\n",
       "    </tr>\n",
       "    <tr>\n",
       "      <th>2382</th>\n",
       "      <td>2382</td>\n",
       "      <td>SIA, commission des concours-641</td>\n",
       "      <td>None</td>\n",
       "      <td>None</td>\n",
       "      <td>None</td>\n",
       "      <td>None</td>\n",
       "      <td>NaN</td>\n",
       "      <td>None</td>\n",
       "      <td>None</td>\n",
       "      <td>None</td>\n",
       "      <td>...</td>\n",
       "      <td>None</td>\n",
       "      <td>None</td>\n",
       "      <td>None</td>\n",
       "      <td>None</td>\n",
       "      <td>0011.03.0037 ; 0011.03.0032 ; 0011.03.0034</td>\n",
       "      <td>None</td>\n",
       "      <td>None</td>\n",
       "      <td>False</td>\n",
       "      <td>[]</td>\n",
       "      <td>2382</td>\n",
       "    </tr>\n",
       "    <tr>\n",
       "      <th>2383</th>\n",
       "      <td>2383</td>\n",
       "      <td>SIA, commission des concours-642</td>\n",
       "      <td>None</td>\n",
       "      <td>None</td>\n",
       "      <td>None</td>\n",
       "      <td>None</td>\n",
       "      <td>NaN</td>\n",
       "      <td>None</td>\n",
       "      <td>None</td>\n",
       "      <td>None</td>\n",
       "      <td>...</td>\n",
       "      <td>None</td>\n",
       "      <td>None</td>\n",
       "      <td>None</td>\n",
       "      <td>None</td>\n",
       "      <td>0002.03.0102 ; 0002.03.0094 ; 0002.03.0101</td>\n",
       "      <td>None</td>\n",
       "      <td>None</td>\n",
       "      <td>False</td>\n",
       "      <td>[]</td>\n",
       "      <td>2383</td>\n",
       "    </tr>\n",
       "    <tr>\n",
       "      <th>2384</th>\n",
       "      <td>2384</td>\n",
       "      <td>Temple de Saint-Marc (Lausanne), concours</td>\n",
       "      <td>None</td>\n",
       "      <td>Renens, chemin de, Sévery, avenue de</td>\n",
       "      <td>None</td>\n",
       "      <td>None</td>\n",
       "      <td>NaN</td>\n",
       "      <td>Lausanne</td>\n",
       "      <td>Vaud</td>\n",
       "      <td>Suisse</td>\n",
       "      <td>...</td>\n",
       "      <td>None</td>\n",
       "      <td>Jury:Jean Tschumy, Edmond Virieux, arch. cant....</td>\n",
       "      <td>None</td>\n",
       "      <td>None</td>\n",
       "      <td>0003.04.0059</td>\n",
       "      <td>None</td>\n",
       "      <td>None</td>\n",
       "      <td>False</td>\n",
       "      <td>[]</td>\n",
       "      <td>2384</td>\n",
       "    </tr>\n",
       "    <tr>\n",
       "      <th>2385</th>\n",
       "      <td>2385</td>\n",
       "      <td>Un bâtiment d'administration, un bâtiment de l...</td>\n",
       "      <td>None</td>\n",
       "      <td>None</td>\n",
       "      <td>None</td>\n",
       "      <td>None</td>\n",
       "      <td>NaN</td>\n",
       "      <td>Paris</td>\n",
       "      <td>None</td>\n",
       "      <td>France</td>\n",
       "      <td>...</td>\n",
       "      <td>None</td>\n",
       "      <td>None</td>\n",
       "      <td>None</td>\n",
       "      <td>None</td>\n",
       "      <td>None</td>\n",
       "      <td>0138.04.0001/85</td>\n",
       "      <td>None</td>\n",
       "      <td>False</td>\n",
       "      <td>[]</td>\n",
       "      <td>2385</td>\n",
       "    </tr>\n",
       "  </tbody>\n",
       "</table>\n",
       "<p>2386 rows × 22 columns</p>\n",
       "</div>"
      ],
      "text/plain": [
       "      orig_index                                     Nom de l'objet Programme  \\\n",
       "0              0  Concours pour le nouveau bâtiment des écoles d...      None   \n",
       "1              1  Concours pour le nouveau bâtiment des écoles d...      None   \n",
       "2              2  Concours (1er degré) pour le monument du génér...      None   \n",
       "3              3  Concours restreint pour le nouveau Musée de la...      None   \n",
       "4              4  Concours d'éléments analytiques : 2e classe : ...      None   \n",
       "...          ...                                                ...       ...   \n",
       "2381        2381                            Concours \"Reflet\" hôtel      None   \n",
       "2382        2382                   SIA, commission des concours-641      None   \n",
       "2383        2383                   SIA, commission des concours-642      None   \n",
       "2384        2384          Temple de Saint-Marc (Lausanne), concours      None   \n",
       "2385        2385  Un bâtiment d'administration, un bâtiment de l...      None   \n",
       "\n",
       "                                 Adresse 1 Adresse 2 Adresse 3  Numéro postal  \\\n",
       "0                                     None      None      None            NaN   \n",
       "1                                     None      None      None            NaN   \n",
       "2                                     None      None      None            NaN   \n",
       "3                                     None      None      None            NaN   \n",
       "4                                     None      None      None            NaN   \n",
       "...                                    ...       ...       ...            ...   \n",
       "2381                                  None      None      None            NaN   \n",
       "2382                                  None      None      None            NaN   \n",
       "2383                                  None      None      None            NaN   \n",
       "2384  Renens, chemin de, Sévery, avenue de      None      None            NaN   \n",
       "2385                                  None      None      None            NaN   \n",
       "\n",
       "      Localité Canton - Département    Pays  ... Concours ouvert à  \\\n",
       "0        Vevey                 None    Vaud  ...       A. national   \n",
       "1        Vevey                 None    Vaud  ...              None   \n",
       "2       Genève                 None  Suisse  ...          National   \n",
       "3     Mulhouse                 None    None  ...              None   \n",
       "4         None                 None    None  ...              None   \n",
       "...        ...                  ...     ...  ...               ...   \n",
       "2381     Ouchy                 Vaud  Suisse  ...              None   \n",
       "2382      None                 None    None  ...              None   \n",
       "2383      None                 None    None  ...              None   \n",
       "2384  Lausanne                 Vaud  Suisse  ...              None   \n",
       "2385     Paris                 None  France  ...              None   \n",
       "\n",
       "                                       Notes de l'objet  \\\n",
       "0     Ouvert par la Municipalité sur décret du 15 ma...   \n",
       "1     Le concours est mentionné en 1878 (Eisenbahn v...   \n",
       "2     Chercher dans Eisenbahn vol. V une annonce d'o...   \n",
       "3     \"Par suite d'un concours entre un nombre restr...   \n",
       "4                                                  None   \n",
       "...                                                 ...   \n",
       "2381                                               None   \n",
       "2382                                               None   \n",
       "2383                                               None   \n",
       "2384  Jury:Jean Tschumy, Edmond Virieux, arch. cant....   \n",
       "2385                                               None   \n",
       "\n",
       "                                                Auteurs  \\\n",
       "0                                                  None   \n",
       "1     Stadler +;Ritscher von Steinbeck +;Recordon, B...   \n",
       "2     Thomas, Jules;Cain, Auguste-Nicolas;Rothpletz,...   \n",
       "3                           Rütti, Ludwig Friedrich von   \n",
       "4                                                  None   \n",
       "...                                                 ...   \n",
       "2381                                               None   \n",
       "2382                                               None   \n",
       "2383                                               None   \n",
       "2384                                               None   \n",
       "2385                                               None   \n",
       "\n",
       "                                       Rôle de l'auteur  \\\n",
       "0                                                  None   \n",
       "1     3e prix;3e prix;Juré, rapporteur;Concurrent;2e...   \n",
       "2     Juré;Juré;Juré;Juré;Juré;Juré;Juré;Juré;Juré;J...   \n",
       "3                                            Concurrent   \n",
       "4                                                  None   \n",
       "...                                                 ...   \n",
       "2381                                               None   \n",
       "2382                                               None   \n",
       "2383                                               None   \n",
       "2384                                               None   \n",
       "2385                                               None   \n",
       "\n",
       "                                 Dossiers reliés    Pièces reliées  \\\n",
       "0                                           None              None   \n",
       "1                                           None              None   \n",
       "2                                           None              None   \n",
       "3                                           None              None   \n",
       "4                                           None  0138.04.0001/262   \n",
       "...                                          ...               ...   \n",
       "2381                                0133.04.0316              None   \n",
       "2382  0011.03.0037 ; 0011.03.0032 ; 0011.03.0034              None   \n",
       "2383  0002.03.0102 ; 0002.03.0094 ; 0002.03.0101              None   \n",
       "2384                                0003.04.0059              None   \n",
       "2385                                        None   0138.04.0001/85   \n",
       "\n",
       "                                        CombinedArtists is_jury  \\\n",
       "0                                                  None   False   \n",
       "1     [[Stadler, Ritscher von Steinbeck, Recordon, B...    True   \n",
       "2     [[Thomas, Jules], [Cain, Auguste-Nicolas], [Ro...   False   \n",
       "3                       [[Rütti, Ludwig Friedrich von]]    True   \n",
       "4                                                  None   False   \n",
       "...                                                 ...     ...   \n",
       "2381                                               None   False   \n",
       "2382                                               None   False   \n",
       "2383                                               None   False   \n",
       "2384                                               None   False   \n",
       "2385                                               None   False   \n",
       "\n",
       "     paired_competitons  comp_id  \n",
       "0                   [1]        0  \n",
       "1                   [0]        1  \n",
       "2                [1540]        2  \n",
       "3                    []        3  \n",
       "4                    []        4  \n",
       "...                 ...      ...  \n",
       "2381                 []     2381  \n",
       "2382                 []     2382  \n",
       "2383                 []     2383  \n",
       "2384                 []     2384  \n",
       "2385                 []     2385  \n",
       "\n",
       "[2386 rows x 22 columns]"
      ]
     },
     "execution_count": 3,
     "metadata": {},
     "output_type": "execute_result"
    }
   ],
   "source": [
    "acm_competitions"
   ]
  },
  {
   "cell_type": "code",
   "execution_count": 4,
   "metadata": {},
   "outputs": [],
   "source": [
    "nlp = spacy.load(\"fr_dep_news_trf\", exclude=['tagger', 'parser', 'ner', 'attribute_ruler', 'lemmatizer'])"
   ]
  },
  {
   "cell_type": "code",
   "execution_count": 5,
   "metadata": {},
   "outputs": [],
   "source": [
    "from bertopic.representation import KeyBERTInspired\n",
    "\n",
    "# Fine-tune your topic representations\n",
    "representation_model = KeyBERTInspired()\n",
    "topic_model = BERTopic(embedding_model=nlp.pipe, representation_model=representation_model)"
   ]
  },
  {
   "cell_type": "code",
   "execution_count": 6,
   "metadata": {},
   "outputs": [],
   "source": [
    "acm_competitions = acm_competitions[\n",
    "    (~acm_competitions['is_jury']) | \n",
    "    (acm_competitions['is_jury'] & acm_competitions['paired_competitons'].apply(lambda x: len(x) == 0 if isinstance(x, list) else False))\n",
    "]\n"
   ]
  },
  {
   "cell_type": "code",
   "execution_count": 7,
   "metadata": {},
   "outputs": [],
   "source": [
    "acm_competitions = acm_competitions.dropna(subset=['Date de début de l\\'objet'])"
   ]
  },
  {
   "cell_type": "code",
   "execution_count": 8,
   "metadata": {},
   "outputs": [
    {
     "data": {
      "text/html": [
       "<div>\n",
       "<style scoped>\n",
       "    .dataframe tbody tr th:only-of-type {\n",
       "        vertical-align: middle;\n",
       "    }\n",
       "\n",
       "    .dataframe tbody tr th {\n",
       "        vertical-align: top;\n",
       "    }\n",
       "\n",
       "    .dataframe thead th {\n",
       "        text-align: right;\n",
       "    }\n",
       "</style>\n",
       "<table border=\"1\" class=\"dataframe\">\n",
       "  <thead>\n",
       "    <tr style=\"text-align: right;\">\n",
       "      <th></th>\n",
       "      <th>orig_index</th>\n",
       "      <th>Nom de l'objet</th>\n",
       "      <th>Programme</th>\n",
       "      <th>Adresse 1</th>\n",
       "      <th>Adresse 2</th>\n",
       "      <th>Adresse 3</th>\n",
       "      <th>Numéro postal</th>\n",
       "      <th>Localité</th>\n",
       "      <th>Canton - Département</th>\n",
       "      <th>Pays</th>\n",
       "      <th>...</th>\n",
       "      <th>Concours ouvert à</th>\n",
       "      <th>Notes de l'objet</th>\n",
       "      <th>Auteurs</th>\n",
       "      <th>Rôle de l'auteur</th>\n",
       "      <th>Dossiers reliés</th>\n",
       "      <th>Pièces reliées</th>\n",
       "      <th>CombinedArtists</th>\n",
       "      <th>is_jury</th>\n",
       "      <th>paired_competitons</th>\n",
       "      <th>comp_id</th>\n",
       "    </tr>\n",
       "  </thead>\n",
       "  <tbody>\n",
       "    <tr>\n",
       "      <th>0</th>\n",
       "      <td>0</td>\n",
       "      <td>Concours pour le nouveau bâtiment des écoles d...</td>\n",
       "      <td>None</td>\n",
       "      <td>None</td>\n",
       "      <td>None</td>\n",
       "      <td>None</td>\n",
       "      <td>NaN</td>\n",
       "      <td>Vevey</td>\n",
       "      <td>None</td>\n",
       "      <td>Vaud</td>\n",
       "      <td>...</td>\n",
       "      <td>A. national</td>\n",
       "      <td>Ouvert par la Municipalité sur décret du 15 ma...</td>\n",
       "      <td>None</td>\n",
       "      <td>None</td>\n",
       "      <td>None</td>\n",
       "      <td>None</td>\n",
       "      <td>None</td>\n",
       "      <td>False</td>\n",
       "      <td>[1]</td>\n",
       "      <td>0</td>\n",
       "    </tr>\n",
       "    <tr>\n",
       "      <th>2</th>\n",
       "      <td>2</td>\n",
       "      <td>Concours (1er degré) pour le monument du génér...</td>\n",
       "      <td>None</td>\n",
       "      <td>None</td>\n",
       "      <td>None</td>\n",
       "      <td>None</td>\n",
       "      <td>NaN</td>\n",
       "      <td>Genève</td>\n",
       "      <td>None</td>\n",
       "      <td>Suisse</td>\n",
       "      <td>...</td>\n",
       "      <td>National</td>\n",
       "      <td>Chercher dans Eisenbahn vol. V une annonce d'o...</td>\n",
       "      <td>Thomas, Jules;Cain, Auguste-Nicolas;Rothpletz,...</td>\n",
       "      <td>Juré;Juré;Juré;Juré;Juré;Juré;Juré;Juré;Juré;J...</td>\n",
       "      <td>None</td>\n",
       "      <td>None</td>\n",
       "      <td>[[Thomas, Jules], [Cain, Auguste-Nicolas], [Ro...</td>\n",
       "      <td>False</td>\n",
       "      <td>[1540]</td>\n",
       "      <td>2</td>\n",
       "    </tr>\n",
       "    <tr>\n",
       "      <th>4</th>\n",
       "      <td>4</td>\n",
       "      <td>Concours d'éléments analytiques : 2e classe : ...</td>\n",
       "      <td>None</td>\n",
       "      <td>None</td>\n",
       "      <td>None</td>\n",
       "      <td>None</td>\n",
       "      <td>NaN</td>\n",
       "      <td>None</td>\n",
       "      <td>None</td>\n",
       "      <td>None</td>\n",
       "      <td>...</td>\n",
       "      <td>None</td>\n",
       "      <td>None</td>\n",
       "      <td>None</td>\n",
       "      <td>None</td>\n",
       "      <td>None</td>\n",
       "      <td>0138.04.0001/262</td>\n",
       "      <td>None</td>\n",
       "      <td>False</td>\n",
       "      <td>[]</td>\n",
       "      <td>4</td>\n",
       "    </tr>\n",
       "    <tr>\n",
       "      <th>5</th>\n",
       "      <td>5</td>\n",
       "      <td>Concours d'émulation - 2e classe - Esquisse: U...</td>\n",
       "      <td>None</td>\n",
       "      <td>None</td>\n",
       "      <td>None</td>\n",
       "      <td>None</td>\n",
       "      <td>NaN</td>\n",
       "      <td>Paris</td>\n",
       "      <td>None</td>\n",
       "      <td>France</td>\n",
       "      <td>...</td>\n",
       "      <td>None</td>\n",
       "      <td>\"Dans les grands palais, la chambre  coucher d...</td>\n",
       "      <td>Lesueur, Jean-Baptiste-Cicéron</td>\n",
       "      <td>None</td>\n",
       "      <td>None</td>\n",
       "      <td>0138.04.0001/71</td>\n",
       "      <td>[[Lesueur, Jean-Baptiste-Cicéron]]</td>\n",
       "      <td>False</td>\n",
       "      <td>[]</td>\n",
       "      <td>5</td>\n",
       "    </tr>\n",
       "    <tr>\n",
       "      <th>7</th>\n",
       "      <td>7</td>\n",
       "      <td>Concours d'éléments analytiques : 2e classe : ...</td>\n",
       "      <td>None</td>\n",
       "      <td>None</td>\n",
       "      <td>None</td>\n",
       "      <td>None</td>\n",
       "      <td>NaN</td>\n",
       "      <td>None</td>\n",
       "      <td>None</td>\n",
       "      <td>None</td>\n",
       "      <td>...</td>\n",
       "      <td>None</td>\n",
       "      <td>None</td>\n",
       "      <td>None</td>\n",
       "      <td>None</td>\n",
       "      <td>None</td>\n",
       "      <td>0138.04.0001/204 ; 0138.04.0001/268</td>\n",
       "      <td>None</td>\n",
       "      <td>False</td>\n",
       "      <td>[]</td>\n",
       "      <td>7</td>\n",
       "    </tr>\n",
       "    <tr>\n",
       "      <th>...</th>\n",
       "      <td>...</td>\n",
       "      <td>...</td>\n",
       "      <td>...</td>\n",
       "      <td>...</td>\n",
       "      <td>...</td>\n",
       "      <td>...</td>\n",
       "      <td>...</td>\n",
       "      <td>...</td>\n",
       "      <td>...</td>\n",
       "      <td>...</td>\n",
       "      <td>...</td>\n",
       "      <td>...</td>\n",
       "      <td>...</td>\n",
       "      <td>...</td>\n",
       "      <td>...</td>\n",
       "      <td>...</td>\n",
       "      <td>...</td>\n",
       "      <td>...</td>\n",
       "      <td>...</td>\n",
       "      <td>...</td>\n",
       "      <td>...</td>\n",
       "    </tr>\n",
       "    <tr>\n",
       "      <th>2145</th>\n",
       "      <td>2145</td>\n",
       "      <td>Concours pour l'agrandissement de la Faculté d...</td>\n",
       "      <td>None</td>\n",
       "      <td>None</td>\n",
       "      <td>None</td>\n",
       "      <td>None</td>\n",
       "      <td>NaN</td>\n",
       "      <td>Fribourg</td>\n",
       "      <td>None</td>\n",
       "      <td>Suisse</td>\n",
       "      <td>...</td>\n",
       "      <td>A. cantonal</td>\n",
       "      <td>Ouvert par la Fondation pour le développement ...</td>\n",
       "      <td>None</td>\n",
       "      <td>None</td>\n",
       "      <td>None</td>\n",
       "      <td>None</td>\n",
       "      <td>None</td>\n",
       "      <td>False</td>\n",
       "      <td>[2076]</td>\n",
       "      <td>2145</td>\n",
       "    </tr>\n",
       "    <tr>\n",
       "      <th>2146</th>\n",
       "      <td>2146</td>\n",
       "      <td>concours pour le restaurant des Iles: projet L...</td>\n",
       "      <td>Hôtellerie et tourisme : restaurant</td>\n",
       "      <td>None</td>\n",
       "      <td>None</td>\n",
       "      <td>None</td>\n",
       "      <td>1950.0</td>\n",
       "      <td>Sion</td>\n",
       "      <td>None</td>\n",
       "      <td>Suisse</td>\n",
       "      <td>...</td>\n",
       "      <td>None</td>\n",
       "      <td>concours ouvert aux architectes ayant leur dom...</td>\n",
       "      <td>Morisod, Paul;Bourgeoisie de Sion;Furrer, Edou...</td>\n",
       "      <td>Architecte;Maître de l'ouvrage;Architecte</td>\n",
       "      <td>0076.04.0138 ; 0076.02.0064 ; 0076.03.0022</td>\n",
       "      <td>None</td>\n",
       "      <td>[[Morisod, Paul], [Bourgeoisie de Sion], [Furr...</td>\n",
       "      <td>False</td>\n",
       "      <td>[]</td>\n",
       "      <td>2146</td>\n",
       "    </tr>\n",
       "    <tr>\n",
       "      <th>2147</th>\n",
       "      <td>2147</td>\n",
       "      <td>Concours d'ornement et d'ajustement - 1ère cla...</td>\n",
       "      <td>Monument</td>\n",
       "      <td>None</td>\n",
       "      <td>None</td>\n",
       "      <td>None</td>\n",
       "      <td>NaN</td>\n",
       "      <td>None</td>\n",
       "      <td>None</td>\n",
       "      <td>None</td>\n",
       "      <td>...</td>\n",
       "      <td>None</td>\n",
       "      <td>None</td>\n",
       "      <td>None</td>\n",
       "      <td>None</td>\n",
       "      <td>None</td>\n",
       "      <td>0138.04.0001/182 ; 0138.04.0001/181</td>\n",
       "      <td>None</td>\n",
       "      <td>False</td>\n",
       "      <td>[]</td>\n",
       "      <td>2147</td>\n",
       "    </tr>\n",
       "    <tr>\n",
       "      <th>2157</th>\n",
       "      <td>2157</td>\n",
       "      <td>Concours d'idées pour la construction d'un Pal...</td>\n",
       "      <td>Culture et vie sociale</td>\n",
       "      <td>None</td>\n",
       "      <td>None</td>\n",
       "      <td>None</td>\n",
       "      <td>NaN</td>\n",
       "      <td>Genève</td>\n",
       "      <td>None</td>\n",
       "      <td>Suisse</td>\n",
       "      <td>...</td>\n",
       "      <td>None</td>\n",
       "      <td>Projet nommé Centric. Bâtiment de plan carré, ...</td>\n",
       "      <td>Gaillard, André;Gaillard, Francis</td>\n",
       "      <td>Architecte;Architecte</td>\n",
       "      <td>0143.04.0360</td>\n",
       "      <td>None</td>\n",
       "      <td>[[Gaillard, André], [Gaillard, Francis]]</td>\n",
       "      <td>False</td>\n",
       "      <td>[]</td>\n",
       "      <td>2157</td>\n",
       "    </tr>\n",
       "    <tr>\n",
       "      <th>2158</th>\n",
       "      <td>2158</td>\n",
       "      <td>concours pour une salle de gym et un abri PC à...</td>\n",
       "      <td>Sport,  loisirs et hygiène</td>\n",
       "      <td>None</td>\n",
       "      <td>None</td>\n",
       "      <td>None</td>\n",
       "      <td>1941.0</td>\n",
       "      <td>Vollèges</td>\n",
       "      <td>None</td>\n",
       "      <td>Suisse</td>\n",
       "      <td>...</td>\n",
       "      <td>None</td>\n",
       "      <td>None</td>\n",
       "      <td>Morisod, Paul</td>\n",
       "      <td>Architecte</td>\n",
       "      <td>0076.03.0058</td>\n",
       "      <td>None</td>\n",
       "      <td>[[Morisod, Paul]]</td>\n",
       "      <td>False</td>\n",
       "      <td>[]</td>\n",
       "      <td>2158</td>\n",
       "    </tr>\n",
       "  </tbody>\n",
       "</table>\n",
       "<p>1331 rows × 22 columns</p>\n",
       "</div>"
      ],
      "text/plain": [
       "      orig_index                                     Nom de l'objet  \\\n",
       "0              0  Concours pour le nouveau bâtiment des écoles d...   \n",
       "2              2  Concours (1er degré) pour le monument du génér...   \n",
       "4              4  Concours d'éléments analytiques : 2e classe : ...   \n",
       "5              5  Concours d'émulation - 2e classe - Esquisse: U...   \n",
       "7              7  Concours d'éléments analytiques : 2e classe : ...   \n",
       "...          ...                                                ...   \n",
       "2145        2145  Concours pour l'agrandissement de la Faculté d...   \n",
       "2146        2146  concours pour le restaurant des Iles: projet L...   \n",
       "2147        2147  Concours d'ornement et d'ajustement - 1ère cla...   \n",
       "2157        2157  Concours d'idées pour la construction d'un Pal...   \n",
       "2158        2158  concours pour une salle de gym et un abri PC à...   \n",
       "\n",
       "                                Programme Adresse 1 Adresse 2 Adresse 3  \\\n",
       "0                                    None      None      None      None   \n",
       "2                                    None      None      None      None   \n",
       "4                                    None      None      None      None   \n",
       "5                                    None      None      None      None   \n",
       "7                                    None      None      None      None   \n",
       "...                                   ...       ...       ...       ...   \n",
       "2145                                 None      None      None      None   \n",
       "2146  Hôtellerie et tourisme : restaurant      None      None      None   \n",
       "2147                             Monument      None      None      None   \n",
       "2157               Culture et vie sociale      None      None      None   \n",
       "2158           Sport,  loisirs et hygiène      None      None      None   \n",
       "\n",
       "      Numéro postal  Localité Canton - Département    Pays  ...  \\\n",
       "0               NaN     Vevey                 None    Vaud  ...   \n",
       "2               NaN    Genève                 None  Suisse  ...   \n",
       "4               NaN      None                 None    None  ...   \n",
       "5               NaN     Paris                 None  France  ...   \n",
       "7               NaN      None                 None    None  ...   \n",
       "...             ...       ...                  ...     ...  ...   \n",
       "2145            NaN  Fribourg                 None  Suisse  ...   \n",
       "2146         1950.0      Sion                 None  Suisse  ...   \n",
       "2147            NaN      None                 None    None  ...   \n",
       "2157            NaN    Genève                 None  Suisse  ...   \n",
       "2158         1941.0  Vollèges                 None  Suisse  ...   \n",
       "\n",
       "     Concours ouvert à                                   Notes de l'objet  \\\n",
       "0          A. national  Ouvert par la Municipalité sur décret du 15 ma...   \n",
       "2             National  Chercher dans Eisenbahn vol. V une annonce d'o...   \n",
       "4                 None                                               None   \n",
       "5                 None  \"Dans les grands palais, la chambre  coucher d...   \n",
       "7                 None                                               None   \n",
       "...                ...                                                ...   \n",
       "2145       A. cantonal  Ouvert par la Fondation pour le développement ...   \n",
       "2146              None  concours ouvert aux architectes ayant leur dom...   \n",
       "2147              None                                               None   \n",
       "2157              None  Projet nommé Centric. Bâtiment de plan carré, ...   \n",
       "2158              None                                               None   \n",
       "\n",
       "                                                Auteurs  \\\n",
       "0                                                  None   \n",
       "2     Thomas, Jules;Cain, Auguste-Nicolas;Rothpletz,...   \n",
       "4                                                  None   \n",
       "5                        Lesueur, Jean-Baptiste-Cicéron   \n",
       "7                                                  None   \n",
       "...                                                 ...   \n",
       "2145                                               None   \n",
       "2146  Morisod, Paul;Bourgeoisie de Sion;Furrer, Edou...   \n",
       "2147                                               None   \n",
       "2157                  Gaillard, André;Gaillard, Francis   \n",
       "2158                                      Morisod, Paul   \n",
       "\n",
       "                                       Rôle de l'auteur  \\\n",
       "0                                                  None   \n",
       "2     Juré;Juré;Juré;Juré;Juré;Juré;Juré;Juré;Juré;J...   \n",
       "4                                                  None   \n",
       "5                                                  None   \n",
       "7                                                  None   \n",
       "...                                                 ...   \n",
       "2145                                               None   \n",
       "2146          Architecte;Maître de l'ouvrage;Architecte   \n",
       "2147                                               None   \n",
       "2157                              Architecte;Architecte   \n",
       "2158                                         Architecte   \n",
       "\n",
       "                                 Dossiers reliés  \\\n",
       "0                                           None   \n",
       "2                                           None   \n",
       "4                                           None   \n",
       "5                                           None   \n",
       "7                                           None   \n",
       "...                                          ...   \n",
       "2145                                        None   \n",
       "2146  0076.04.0138 ; 0076.02.0064 ; 0076.03.0022   \n",
       "2147                                        None   \n",
       "2157                                0143.04.0360   \n",
       "2158                                0076.03.0058   \n",
       "\n",
       "                           Pièces reliées  \\\n",
       "0                                    None   \n",
       "2                                    None   \n",
       "4                        0138.04.0001/262   \n",
       "5                         0138.04.0001/71   \n",
       "7     0138.04.0001/204 ; 0138.04.0001/268   \n",
       "...                                   ...   \n",
       "2145                                 None   \n",
       "2146                                 None   \n",
       "2147  0138.04.0001/182 ; 0138.04.0001/181   \n",
       "2157                                 None   \n",
       "2158                                 None   \n",
       "\n",
       "                                        CombinedArtists is_jury  \\\n",
       "0                                                  None   False   \n",
       "2     [[Thomas, Jules], [Cain, Auguste-Nicolas], [Ro...   False   \n",
       "4                                                  None   False   \n",
       "5                    [[Lesueur, Jean-Baptiste-Cicéron]]   False   \n",
       "7                                                  None   False   \n",
       "...                                                 ...     ...   \n",
       "2145                                               None   False   \n",
       "2146  [[Morisod, Paul], [Bourgeoisie de Sion], [Furr...   False   \n",
       "2147                                               None   False   \n",
       "2157           [[Gaillard, André], [Gaillard, Francis]]   False   \n",
       "2158                                  [[Morisod, Paul]]   False   \n",
       "\n",
       "     paired_competitons  comp_id  \n",
       "0                   [1]        0  \n",
       "2                [1540]        2  \n",
       "4                    []        4  \n",
       "5                    []        5  \n",
       "7                    []        7  \n",
       "...                 ...      ...  \n",
       "2145             [2076]     2145  \n",
       "2146                 []     2146  \n",
       "2147                 []     2147  \n",
       "2157                 []     2157  \n",
       "2158                 []     2158  \n",
       "\n",
       "[1331 rows x 22 columns]"
      ]
     },
     "execution_count": 8,
     "metadata": {},
     "output_type": "execute_result"
    }
   ],
   "source": [
    "acm_competitions"
   ]
  },
  {
   "cell_type": "code",
   "execution_count": 9,
   "metadata": {},
   "outputs": [],
   "source": [
    "docs = acm_competitions['Nom de l\\'objet'].dropna().to_list()"
   ]
  },
  {
   "cell_type": "code",
   "execution_count": 10,
   "metadata": {},
   "outputs": [
    {
     "name": "stderr",
     "output_type": "stream",
     "text": [
      "Cleaning Progress: 100%|██████████| 1331/1331 [00:30<00:00, 44.13it/s]\n"
     ]
    }
   ],
   "source": [
    "from spacy_cleaner import processing, Cleaner\n",
    "cleaner = Cleaner( \n",
    "    nlp,\n",
    "    processing.remove_stopword_token,\n",
    "    # processing.replace_punctuation_token,\n",
    "    # processing.mutate_lemma_token,\n",
    ")\n",
    "texts = cleaner.clean(docs)"
   ]
  },
  {
   "cell_type": "code",
   "execution_count": 11,
   "metadata": {},
   "outputs": [
    {
     "data": {
      "text/plain": [
       "['Concours bâtiment écoles filles Vevey',\n",
       " 'Concours ( 1er degré ) monument général Dufour',\n",
       " 'Concours éléments analytiques : 2e classe : Rendu : façade phare',\n",
       " 'Concours émulation - 2e classe - Esquisse : chambre coucher princière',\n",
       " 'Concours éléments analytiques : 2e classe : Rendu : détails portique ordre dorique romain',\n",
       " 'Concours émulation - 2e classe - Esquisse : bureau recrutement chef - lieu département',\n",
       " 'Concours école horlogerie Locle',\n",
       " 'Concours restreint bâtiment salles conférences Neuchâtel',\n",
       " 'Concours : Prix Godeboeuf : 1885 : horloge adossée',\n",
       " 'Concours émulation : 1ère classe : Esquisse : entrée principale grand cimetière',\n",
       " \"Concours émulation : 2e classe : Esquisse : banc d'&#339;uvre Eglise paroissiale petite ville\",\n",
       " 'Concours émulation : 2e classe : Rendu : théâtre ville second ordre',\n",
       " 'Concours fontaine monumentale élever Place Neuve',\n",
       " 'Concours : Prix Godeboeuf : 1886 : lampadaire électrique',\n",
       " 'Concours émulation : 1ère classe : Esquisse : monument commémoratif Exposition universelle',\n",
       " 'Concours émulation : 1ère classe : Rendu : odéon Salle concert',\n",
       " 'concours musée beaux - Arts',\n",
       " 'Concours : Prix Godeboeuf : 1887 : pont galerie au-dessus rue',\n",
       " 'Concours émulation : 1ère classe - Rendu : hôtel Préfecture',\n",
       " 'Concours émulation : 1ère classe : Esquisse : amphithéâtre oraisons funèbre',\n",
       " 'Concours émulation : 1ère classe : Rendu : porte ville',\n",
       " 'Concours émulation 6 décembre [ 18]87 : Escalier Henri II Palais Louvre',\n",
       " 'Concours émulation : 1ère classe : Esquisse : distribution hôtel terrain irrégulier',\n",
       " 'Concours émulation : 1ère classe : Esquisse : pavillon Exposition universelle',\n",
       " 'Concours émulation : 1ère classe : Rendu : villa environs Nice , 3.4.1888',\n",
       " 'Concours émulation : 1ère classe : Esquisse : volière jardin hive',\n",
       " 'Concours émulation : 1ère classe : Rendu : bazar grand magasin',\n",
       " 'Concours plans édifice Rumine',\n",
       " 'Concours agrandissement Kursaal Montreux',\n",
       " 'Concours construction école primaire Barre , Lausanne',\n",
       " 'Concours Exposition cantonale vaudoise Vevey',\n",
       " 'Concours Exposition cantonale vaudoise Vevey',\n",
       " 'Concours pénitencier Payerne',\n",
       " 'Concours viaduc Gryonne',\n",
       " 'Concours Musée Art Histoire',\n",
       " 'Concours Eglise évangélique réformée Berne',\n",
       " 'Concours projet reconstitution Pont Mont-Blanc Genève',\n",
       " 'Concours construction viaduc Fenil , Saint-Légier',\n",
       " 'Concours façades',\n",
       " 'Concours collège Tour-de-Peilz',\n",
       " 'Concours bâtiment archives , Neuchâtel',\n",
       " 'Concours bâtiment archives , Neuchâtel',\n",
       " 'Concours construction pont Arve , Genève',\n",
       " 'Concours Kiosque Tramways place St. François , Lausanne',\n",
       " 'Concours Kiosque Tramways , Place St - François , Lausanne , projet AL .',\n",
       " 'Concours monument Philibert Berthelier',\n",
       " 'Concours école , Malleray',\n",
       " 'Concours Maisons ouvrières , Lausanne',\n",
       " 'Concours Maisons ouvrières , Lausanne',\n",
       " 'Concours nouvelle usine transformatrice thermique Eplatures',\n",
       " 'Concours étude Casino élever propriété Matthey , place Montbenon',\n",
       " 'Concours pont Singine , Guggersbach',\n",
       " 'Concours Hôtel Caisse Epargne Neuchâtel , Chaux-de-Fonds',\n",
       " 'Concours Banque Nationale Suisse Berne',\n",
       " 'Concours ( ) façades , Genève',\n",
       " 'Concours avant-projets collège Pully',\n",
       " 'Concours chapelle Tell , Lausanne',\n",
       " 'Concours bâtiment scolaire Villars-sur-Glâne',\n",
       " 'Concours projet bâtiment scolaire Faubourg Sablons , Neuchâtel',\n",
       " 'Concours Ecole primaire Chailly Clarens',\n",
       " 'Concours hôtel destiné destiné Caisse Epargne canton Genève',\n",
       " 'Concours hôtel Banque populaire suisse , Lausanne',\n",
       " 'Concours reconstruction Bâtiment électoral , Genève',\n",
       " 'Concours groupe scolaire primaire quartier Bourg , Fribourg',\n",
       " 'Concours hôpital Cadolles',\n",
       " 'Concours bâtiment crèche , Croix - Bleue Union chrétienne , ä Montreux',\n",
       " 'Concours Grande Salle spectacles immeubles locatifs , Lausanne',\n",
       " 'Concours idées aménagement quais promenade Lac Port Noir',\n",
       " 'Concours idées lotissement domaine Mervelet',\n",
       " 'Concours Internat Ecole supérieure Commerce Gambach',\n",
       " 'Concours villas 1912 , Genève',\n",
       " 'Concours \" Pfrundhausbau \" , Glaris',\n",
       " 'Concours aménagement quai Eaux - vives',\n",
       " 'Concours étude projet Palais Justice Fédéral Lausanne , projet sub lege libertas',\n",
       " 'Concours Musée Beaux - Arts , Bâle',\n",
       " 'Concours bâtiment destiné Ecole filles , Sion',\n",
       " 'Concours bâtiment destiné Ecole filles , Sion',\n",
       " 'Concours restreint Société immobilière ancienne Poste , Lausanne , utilisation terrains ancienne Poste',\n",
       " 'Concours plan extension commune Vevey',\n",
       " 'Concours hôtel District Locle',\n",
       " 'Concours types Salles communales Maisons Commune alcool',\n",
       " 'Concours types Salles communales Maisons Commune alcool',\n",
       " 'Plan extension Bienne . Concours . Projet \" rot und schwarz \"',\n",
       " 'Concours idées utilisation propriété Service cantonal Assurances , Lausanne',\n",
       " 'Concours Synagogue , Zürich',\n",
       " 'Concours bâtiment destiné remplacer \" concierges \" , Cité - , Lausanne',\n",
       " 'Concours banque Aarau',\n",
       " 'Concours érection monument mémoire soldats genevois morts service patrie',\n",
       " 'Concours Cité - jardin , Chaux-de-Fonds',\n",
       " 'Concours étude plans bâtiment scolaire internat Ecole cantonale agriculture Morges',\n",
       " 'Concours reconstruction pont Zaehringen Fribourg',\n",
       " 'Concours Monument Pierre Viret , Lausanne',\n",
       " 'Concours Monument commémoratif Eugène Rambert , Clarens',\n",
       " 'Concours Collège , Noirmont',\n",
       " 'Concours nouvel hôpital district , Bienne',\n",
       " 'Projet concours Société banques suisses Lausanne',\n",
       " 'Concours idées extension ville Monthey-67',\n",
       " 'Concours idées monument soldats suisses morts service , àMontreux',\n",
       " 'Concours utilisation ancien bâtiment Davall ( cour Chantres ) , Vevey',\n",
       " 'Concours plan extension aménagemenz ville Belgrade',\n",
       " 'Concours plan extension aménagemenz ville Belgrade',\n",
       " 'Concours restreint plan extension commune Spiez',\n",
       " 'Concours fondation Geiser ( 4ème ) ( relevés maisons bourgeoises suisses )',\n",
       " 'Concours Musée Beaux - Arts , Chaux-de-Fonds',\n",
       " 'Concours architecture sculpture fontaine décorative place Gare , Vevey-60',\n",
       " 'Concours aménagement quartier Villamont place Faucon',\n",
       " 'Concours étude plans pénitencier Bochuz',\n",
       " 'Concours bâtiment scolaire , Cortaillod',\n",
       " 'Concours idées établissement bains eau , air soleil , Solothurn',\n",
       " 'Concours agrandissement Hôtel Union Banques Suisses , Zürich',\n",
       " 'Concours aménagement terrains ancienne gare Bienne',\n",
       " 'Concours idées salle réunion , Chêne - Bougeries',\n",
       " 'Concours aménagement terrains avenue P. Cérésole rue Madeleine',\n",
       " 'Concours SDN , Genève',\n",
       " 'Concours pan général extension aménagement ville Fribourg',\n",
       " 'Concours stations - abris Place Navigation Rond - Point Plainpalais',\n",
       " 'Concours plans - types nouveaux pavillons hospitalisation aliénés , Hospice cantonal Perreux',\n",
       " 'Concours projet plage , Vevey-375',\n",
       " 'EPFZ , cours Laverrière , concours émulation',\n",
       " 'Concours fondation Geiser ( 6ème )',\n",
       " 'Concours idées plage aménagement port , Nyon-99',\n",
       " 'Concours Crédit Foncier Vaudois reconstruction immeubles rue Petit-Rocher',\n",
       " 'Concours Théâtre Vevey',\n",
       " 'Concours idées projet pont Parcs- Saint-Nicolas , Neuchâtel',\n",
       " 'Concours Ecole cantonale Dessin Art appliqué , 1931',\n",
       " 'Concours hôtel Société Banque Suisse , Zürich',\n",
       " 'Concours idées révision plan extension Lausanne-73',\n",
       " 'Wettbewerb Gewerbeschulhaus und Erweiterung der Lehrwerkstätten ( ~Concours Ecole commerciale ateliers formation ) , Bern',\n",
       " 'Concours fondation Geiser ( 7ème )',\n",
       " 'Concours fondation Geiser ( 7ème )',\n",
       " 'Concours idées : A. place Nations B. place entrée salle assemblées SDN , Genève',\n",
       " 'Concours aménagement décoration terre - plein Notre-Dame , Genève',\n",
       " 'Concours école , Porrentruy-394',\n",
       " 'Concours agrandissement Infirmerie Yverdon',\n",
       " 'Concours aménagement place Vernier',\n",
       " 'Concours petites villas maisons familiales Genève',\n",
       " 'Concours fontaine souvenir Auguste Forel parc Valency-384',\n",
       " 'Concours : attribution prix diplômes meilleures constructions ( 1935 ) , Genève',\n",
       " 'Concours/ attribution prix diplômes meilleures constructions ( 1935 ) , Genève',\n",
       " 'Concours architecture construction immeuble ossature métallique',\n",
       " 'Concours idées nouveaux abattoirs Yverdon',\n",
       " 'Concours idées construction bâtiment administratif aménagement Place Riponne Lausanne',\n",
       " 'Concours idées aménagement bâtiment administratif Riponne aménagement abords',\n",
       " 'Concours idées bâtiment administratif aménagement abords-81',\n",
       " 'Concours aménagement propriété Château Beaulieu , Lausanne',\n",
       " 'Concours aménagement débouché avenue Paix place Albert Thomas , place entrée BIT',\n",
       " 'Concours construction Temple Viller',\n",
       " 'Concours pavillon suisse Exposition internationale Paris , 1937',\n",
       " 'Concours pavillon suisse Exposition internationale Paris , 1937',\n",
       " 'Concours pavillon suisse Exposition internationale Paris , 1937',\n",
       " 'Concours bains Allenmoos , Zürich',\n",
       " 'Concours bâtiment service plateau Champel , Genève',\n",
       " 'Concours bâtiment service plateau Champel , Genève',\n",
       " 'Concours crématoire , Vevey',\n",
       " 'Concours : attribution prix diplômes meilleures façades genevoises',\n",
       " 'Concours/ attribution prix diplômes meilleures façades genevoises',\n",
       " 'Kirchgemeindehaus Rosière ( ~Maison Paroisse Rosière ) , Bienne . Concours',\n",
       " 'Concours architecture édification bâtiment universitaire',\n",
       " 'Concours architecture édification bâtiment universitaire Fribourg',\n",
       " 'Concours école quartier Places , Fribourg',\n",
       " 'Concours école quartier Places , Fribourg',\n",
       " 'Concours suppression passage niveau CFF , Territet , aménagement abords',\n",
       " 'Concours crematorium',\n",
       " 'Concours/ attribution prix diplômes meilleures constructions ( 1935 - 1936 ) , Genève',\n",
       " 'Concours bâtiment communal Epesses',\n",
       " 'Concours annexe Maison Vessy ( Pavillon Galland ) , Genève-378',\n",
       " 'Concours école Genthod',\n",
       " 'Concours/ attribution diplômes meilleures constructions ( 1937 - 1938 ) , Genève',\n",
       " 'Concours idées aménagement haut rue Fontaine',\n",
       " 'Concours temple Rosiaz , Pully-377',\n",
       " 'Concours projet bâtiments scolaires , Bulle',\n",
       " 'Concours agrandissement église St. Martin construction Maison commune Viège',\n",
       " 'Concours maisons familiales , Neuchâtel',\n",
       " 'Concours agrandissement cathédrale Sion',\n",
       " 'concours construction groupe scolaire',\n",
       " 'concours reconstruction Abbaye',\n",
       " 'concours restauration hôtel Ville',\n",
       " 'Rendu concours bâtiment fédéral Berne',\n",
       " 'Concours décoration bandeau Pavillon Eynard , Genève',\n",
       " 'Concours cimetière Sierre',\n",
       " 'Concours maison école Orsières',\n",
       " 'Concours captivité',\n",
       " 'Concours aménagement centre civique',\n",
       " 'Concours école fédérale gymnastique sport , Macolin',\n",
       " 'Concours monument mémoire peintre F. Hodler , Genève',\n",
       " 'Concours halle gymnastique sports aménagement terrain jeux Locle',\n",
       " 'Varia , dossiers urbanisme concours',\n",
       " 'Concours idées agrandissement temple Champel , Genève',\n",
       " 'Concours agrandissement restauration église abbatiale cathédrale Saint-Maurice exhaussement Abbaye',\n",
       " 'concours hôpital cantonal',\n",
       " 'Concours étude bâtiment destiné Ecole supérieure jeunes filles , Lausannee',\n",
       " 'Concours bâtiment gare Glion',\n",
       " 'Concours centre touristique Montreux',\n",
       " 'Concours monument mémoire Girardet fontaines publiques',\n",
       " 'Concours bâtiment administratif ( préfecture ) Berne',\n",
       " 'concours auberge couronne',\n",
       " 'Concours bâtiment école Ascona',\n",
       " 'Concours bâtiment école Ascona',\n",
       " 'Concours terrain sports Cully',\n",
       " 'Concours restreint hangar avions halle montage aérodrome Cointrin ( Genève )',\n",
       " 'Concours idées raccordement Canal transhelvétique lac Léman - v1',\n",
       " 'Concours idées raccordement Canal transhélvétique lac Léman - v2',\n",
       " 'Concours nouveaux bâtiments Laboratoire fédéral essais matériaux ETH , Altstetten - Schlieren',\n",
       " 'Concours nouveaux bâtiments Laboratoire fédéral essais matériaux ETH , Zürich',\n",
       " 'Concours bâtiment scolaire Moutier ( Jura bernois )',\n",
       " 'Concours Museum Histoire Naturelle',\n",
       " 'Concours bâtiment Crédit foncier vaudois , Aigle',\n",
       " 'Concours école secondaire jeunes filles Bienne',\n",
       " 'Concours salle réunion mairie Plan - Ouates ( Genève )',\n",
       " 'Concours restreint centre paroissial Plan-les-Ouates , Genève',\n",
       " 'Concours église Bozingen / Boujean',\n",
       " 'Concours buffet gare Sion',\n",
       " 'Concours halles véhicules moteur',\n",
       " 'Concours école primaire Geyisried , Bienne',\n",
       " 'Concours grande salle restaurant Gare , Granges',\n",
       " 'Concours école , Langnau',\n",
       " 'Concours sculpture',\n",
       " 'Concours Ecole Médecine',\n",
       " 'Concours ( 1er degré ) décoration oeuvre sculpture entrée Clinique ophtalmologique Genève',\n",
       " 'Concours international projet reconstruction ville Izmir ( Turquie )',\n",
       " 'Concours international clinique Istanboul',\n",
       " 'Concours Banque populaire Viège , appartements',\n",
       " 'Concours groupe scolaire commune Glis ( Haut-Valais )',\n",
       " 'Concours groupe scolaire pavillon école enfantine , Tour-de-Peilz',\n",
       " 'Concours ( 1er degré ) construction hôpital suisse Paris',\n",
       " 'Concours ( 1er degré ) bâtiment usage Banque cantonale Valais , Sion',\n",
       " 'Concours nouvelle église San Salvador',\n",
       " 'Concours international aménagement urbain abords installations ferroviaires gares Schifflange Esch/ Belval - Usines',\n",
       " 'Concours école Hinterriedli , Bienne',\n",
       " 'Concours chapelle funéraire , Lengnau',\n",
       " 'Concours école primaire Pieterlen',\n",
       " 'Ecole Secondaire Malleray , Concours',\n",
       " 'Concours école secondaire Bözingen / Boujean , Bienne',\n",
       " 'Concours idées vue aménagement voies circulation rue Mont-Blanc Grand-Quai , Genève',\n",
       " 'Concours international plan extension Ankara',\n",
       " 'Concours magasin Globus , Bienne',\n",
       " 'Concours centre touristique Saut-du-Doubs',\n",
       " 'Concours collège secondaire mixte Béthusy , Lausanne',\n",
       " 'Concours Pont-route Rhin',\n",
       " 'Concours grande salle locaux annexes Boudry ( Neuchâtel )',\n",
       " 'Concours nouvelle Clinique infantile Genève',\n",
       " 'Concours salle réunion , Cologny , Genève',\n",
       " 'Concours restreint construction collège Tramelan',\n",
       " 'Concours idées aménagement terrains Pavement Hermitage , Lausanne',\n",
       " 'Concours bâtiments scolaires Saint-Maurice ( Valais )',\n",
       " 'Concours aménagement place Nations , Genève',\n",
       " 'Concours aménagement propriété \" Bois Croisettes \" , Lausanne',\n",
       " 'Concours aménagement quartiers Jeannerets Jaluse',\n",
       " 'Concours école agriculture Viège ( Valais )',\n",
       " 'Concours étude immeubles communaux Tour-de-Peilz ( Vaud )',\n",
       " 'Concours groupe scolaire Pierrefleur',\n",
       " 'Concours bâtiment destiné Ecole complémentaire professionelle , Ecole supérieure commerce Ecole complémentaire commerciale ville Delémont',\n",
       " 'Concours hôpital asile vieillards Tavel ( Fribourg )',\n",
       " 'Concours nouvelle école primaire construire Marronniers , Yverdon',\n",
       " 'Concours piscine bâtiment administratif Bienne',\n",
       " 'Concours usine Fabriques assortiments réunies , Bienne',\n",
       " 'Concours villas',\n",
       " 'Concours ( 1er degré ) groupe scolaire école cantonale Beaux - Arts art appliqué avenue Elysée , Lausanne',\n",
       " 'Concours aménagement terrains Aargauerstalden Viktoriastrasse construction bâtiments administratifs , Berne',\n",
       " 'Concours aménagement \" Communal \" piscine patinoire',\n",
       " 'Concours aménagement centre Locle',\n",
       " 'Concours aménagement quartier Monts',\n",
       " 'Concours Institut vétérinaire Berne',\n",
       " 'Concours gare Berne',\n",
       " 'Concours réalisation cuisine modèle organisé Novelectric',\n",
       " 'Concours centre paroissial Montbrillant',\n",
       " 'Concours centre paroissial Montbrillant , Genève',\n",
       " 'Concours collège Corcelles - Cormondrèche ( Neuchâtel )',\n",
       " 'Concours grande salle Avenches',\n",
       " 'Concours succursale SBG ( Schweizerische Bankgeselschaft ) , Bienne',\n",
       " 'Concours Centre paroissial \" Forges \" , Chaux-de-Fonds',\n",
       " 'Concours nouvelles écoles professionelles Sion',\n",
       " 'Concours construction maison congrès , Genève',\n",
       " 'Concours construction école commerce , Genève',\n",
       " 'Concours bâtiment administratif dépôt central Compagnie Vaudoise Electricité , Morges',\n",
       " 'Concours bâtiment scolaire Montreux - centre',\n",
       " 'Concours bâtiment scolaire Montreux - Clarens',\n",
       " 'Concours Centre paroissial quartier Forges , Chaux-de-Fonds',\n",
       " 'Concours collège secondaire Saint-Imier',\n",
       " 'Concours école Commerce Genève',\n",
       " 'Concours Palazzo dei Congressi Vita Sett , Ascona',\n",
       " 'Concours Autoroute Genève - Lausanne : pont Boiron Nyon pont Asse',\n",
       " 'Concours Autoroute Genève - Lausanne : pont Boiron Nyon pont Asse',\n",
       " 'Concours étude groupe scolaire , Pully',\n",
       " 'Concours utilisation terrain ouest parc Mon-Repos , Lausanne',\n",
       " 'Concours Banque cantonale , Fribourg',\n",
       " 'Concours idées aménagement quais , Bienne',\n",
       " 'Concours aménagement centre paroissial scolaire Planta - - , Sion',\n",
       " 'Concours aménagement quartier Chamblandes',\n",
       " 'Concours Autoroute Genève - Lausanne : pont Venoge RC n° 76',\n",
       " 'Concours bâtiment Gymnase cantonal',\n",
       " 'Concours bâtiment Gymnase cantonal , Neuchâtel',\n",
       " 'Concours Centre études Trevano , Locarno',\n",
       " 'Concours Centre études Trevano , Locarno',\n",
       " 'Concours groupe scolaire Charmettes , Neuchâtel',\n",
       " 'Concours immeuble Organisation mondiale Santé / OMS , Genève',\n",
       " 'Concours plan quartier Eplatures Chaux-de-Fonds',\n",
       " 'Concours étude aménagement Tunis',\n",
       " 'Concours ferme colonisation type Bevaix',\n",
       " 'Concours ( 1er degré)pour salle manifestations théâtre Neuchâtel',\n",
       " 'Concours idée aménagement terrains S.I. Monteiron Préverenges',\n",
       " 'Concours aménagement rive Saint-Blaise , Neuchâtel',\n",
       " 'Concours aménagement quartier Verger',\n",
       " 'Concours Centre paroissial Saint-Matthieu , Lausanne',\n",
       " 'Concours temple Saint-Jacques locaux scolaires , Chissiez , Lausanne',\n",
       " 'Concours groupe scolaire salle gymnastique Guin ( Fribourg )',\n",
       " 'Concours maison communale école Pregassona , Tessin',\n",
       " 'Concours Ecole normale Porrentruy',\n",
       " 'Concours gare Zurich',\n",
       " 'Concours groupe scolaire Pully',\n",
       " 'Concours groupe scolaire secondaire Orbe',\n",
       " 'Concours gymnase , Bienne',\n",
       " 'Concours groupe scolaire primaire Chaux-de-Fonds',\n",
       " 'Concours / Expertises Projets',\n",
       " 'Concours gymnase Bienne',\n",
       " 'Concours Maison européenne 1963',\n",
       " 'Concours Ecole , Chêne - Bourg',\n",
       " 'Concours Palazzo dei Congressi , Lugano',\n",
       " 'Concours Eglise Notre-Dame Paix , Chaux-de-Fonds',\n",
       " 'Concours home aveugles âgés , Ecublens',\n",
       " 'Concours école normale , Porrentruy',\n",
       " 'Concours église Gland',\n",
       " 'Concours nouvelle école secondaire ménagère Viège',\n",
       " 'Concours station épuration eaux concours idées aménagement quartier Aviron , Vevey',\n",
       " 'Concours Nuovo Ospedale Civico di Lugano',\n",
       " 'Concours aménagement place Marché Montreux',\n",
       " 'Concours aménagement place Halles - Hôtel Ville , Lutry',\n",
       " 'Concours Institut Sainte-Croix , Tour-de-Trême',\n",
       " 'Concours groupe scolaire Wünnewyl',\n",
       " 'Concours Temple Servette',\n",
       " 'Concours temple Servette',\n",
       " 'Concours ensemble paroissial catholique Locle',\n",
       " 'Concours école normale instituteurs Porrentruy',\n",
       " 'Projet Concours Mount Olympus : 3 résidences Hollywood',\n",
       " 'Concours Marina ( Uni 2 ) , Genève',\n",
       " 'Concours école secondaire régionale Colombier ( Neuchâtel )',\n",
       " 'Concours Centre professionnel , Genève',\n",
       " 'Concours centre scolaire Lucens',\n",
       " 'Concours Projets construction Piscine , Prilly',\n",
       " 'Concours bâtiment personnel hôpital district Martigny',\n",
       " 'Concours centre paroissial Saint-Joseph Delémont',\n",
       " 'Concours gymnase cantonal Chaux-de-Fonds',\n",
       " 'concours gymnase cantonal Chaux Fonds : projet Sophie',\n",
       " 'Concours Gymnase cantonal Montagnes , Chaux-de-Fonds',\n",
       " 'Concours transformations Hôtel Alpha - Palmiers , Lausanne',\n",
       " 'Concours nouvelle clinique pédiatrique Hôpital Ile Berne',\n",
       " 'Jury concours centre communal , Wetzikon',\n",
       " 'Concours idées centre civique , Chêne - Bougeries',\n",
       " 'concours église catholique St. Etienne ( Sallaz)Lausanne : projet Adieu Berthe',\n",
       " 'Concours église protestante Sion',\n",
       " 'Concours intégration oeuvres art collège secondaire Nyon',\n",
       " 'Concours future église catholique Saint-Etienne ( Sallaz ) Lausanne',\n",
       " 'concours paroisse protestante , Sion : projet Aglae',\n",
       " 'Concours piscine Prilly',\n",
       " 'Concours Collège secondaire , Locle',\n",
       " 'Concours groupe scolaire Bergières',\n",
       " 'Concours Musée horlogerie ville Chaux-de-Fonds',\n",
       " 'Concours pont Bahyse autoroute Léman ( N9 )',\n",
       " 'Concours collège secondaire Locle',\n",
       " 'Jury concours sélection école Kleinfeld , Lengnau',\n",
       " 'Concours idées Ecole polytechnique fédérale Lausanne',\n",
       " 'Concours reconstruction siège Genevoise , Genève',\n",
       " 'Concours pont Chandelard ( autoroute Léman N9 )',\n",
       " 'Concours - soumission halles usages multiples places armes',\n",
       " 'Jury concours centre sportif , Zollikon',\n",
       " 'Concours idées aménagement quartier Planta , Sion',\n",
       " 'Concours projets nouvelle Ecole secondaire Naters',\n",
       " 'Concours projets centre scolaire Salvan',\n",
       " 'Concours projets centre scolaire Verbier',\n",
       " 'Concours Ecole Belvédère , Chêne - Bougeries',\n",
       " 'concours école secondaire Naters : projet Flexibel',\n",
       " 'concours centre scolaire Verbier : projet Monzeur',\n",
       " 'Concours centre scolaire sportif Saint-Aubin ( FR )',\n",
       " 'Concours pont Felsenau , tronçon Brünnen - Wankdorf autoroute N1 , Berne',\n",
       " 'Concours centre scolaire secondaire , Monthey',\n",
       " 'Concours - soumission ponts Lutrive autoroute Léman N9',\n",
       " 'Concours aménagement Veyrier',\n",
       " 'Concours international Université Florence',\n",
       " 'Concours international Foire Dakar',\n",
       " 'Concours international Foire Dakar',\n",
       " 'Concours aménagement noyau historique nouvelle Station fédérale recherche génie rural Tänikon',\n",
       " 'concours place Planta',\n",
       " 'Concours centre technique rurale nouvelle Station fédérale recherche génie rural Tänikon',\n",
       " 'Concours entrepôt poste atelier - garage centrale téléphonique Nidau , Bienne',\n",
       " 'Concours projets vue aménagement domaine Viktoria , Köniz - Wabern',\n",
       " 'Concours - soumission viaduc lac Gruyère ( Autoroute N 12 Vevey - Berne )',\n",
       " 'Concours - soumission viaduc accès jonction Aigle autoroute Léman N9',\n",
       " 'Jury concours école secondaire Neuenegg',\n",
       " 'Concours idées Centre enseignement secondaire supérieur vaudois ( CESSEV )',\n",
       " 'Concours projets Collège primaire halle gymnastique Cornaux',\n",
       " 'Concours appel avant-projets relatifs bâtimenbts places armes Chamblon-sur-Yverdon Moudon',\n",
       " 'Concours appel avant-projets relatifs bâtimenbts places armes Chamblon-sur-Yverdon Moudon',\n",
       " 'concours centre scolaire Saint-Nicolas : projet Stägu',\n",
       " 'Concours Groupe scolaire Arnold Reymond bâtiment administratif communal',\n",
       " 'Concours viaduc Piota Negra , zone Piottino autoroute Chiasso-Saint-Gothard',\n",
       " 'Concours Centre régional scolaire Gampel',\n",
       " 'Concours Collège régional Loèche',\n",
       " 'Concours International Hotel , Abu Dhabi',\n",
       " 'Jury concours centre formation CFF Loewenberg , Morat',\n",
       " 'Concours projet nouvelle école douanes Liestal',\n",
       " 'Concours aménagement Valsainte',\n",
       " 'concours centre scolaire Grimisuat : projet TOP',\n",
       " 'Concours idée aménagement site Casino , Morges',\n",
       " 'Concours idées aménagement centre village Gland',\n",
       " 'Concours projet Conservatoire musique Lausanne',\n",
       " 'Concours projets centre diocésain Fribourg',\n",
       " 'concours école commerce Martigny',\n",
       " 'Concours Banque Etat Fribourg',\n",
       " 'Concours viaduc Ruina ( autoroute N2 , Chiasso-Saint-Gothard )',\n",
       " 'Concours - soumission pont Veveyse Fégire ( autoroute N 12 Vevey - Fribourg - Berne )',\n",
       " 'Concours - soumission ponts Talent ( autoroute N1 Lausanne - Berne )',\n",
       " 'Jury concours école douaniers , Liestal',\n",
       " 'Concours centre instruction Protection civile , Lausanne',\n",
       " 'Concours bâtiment \" Poste \" Rivaz',\n",
       " 'Concours institut formation professionnelle',\n",
       " 'Concours \" Hôtel Ouchy - Antares \" , Lausanne',\n",
       " 'Concours Mobilière Suisse , Berne',\n",
       " 'Concours Agence centrale recherches Comité international Croix - Rouge ( CICR ) , Genève',\n",
       " 'Concours complexe \" Beausobre \" Morges',\n",
       " 'Jury concours bâtiment administratif Mobilière , Berne',\n",
       " 'Jury concours complexe sportif Jeunes - Rives , Neuchâtel',\n",
       " 'Concours ( 1er degré ) Etablissement médico-social \" Baumettes \" Renens environs',\n",
       " 'Concours EPFL Ecublens ( étape , secteur Ouest )',\n",
       " 'Concours CESSNOV Yverdon',\n",
       " 'Concours bâtiment personnes âgées Orbe',\n",
       " 'Concours complexe sportif Crans-près-Céligny',\n",
       " 'Jury concours agrandissement Ecole supérieure Commerce , Neuchâtel',\n",
       " 'Concours bâtiment administratif , Bienne : Bâtiment administratif district',\n",
       " 'Concours Lancy - Sud , Lancy',\n",
       " 'Concours Musée Croix - Rouge , Genève',\n",
       " 'Concours EPFL , 2ème phase',\n",
       " 'Concours bâtiments universitaires Neuchâtel',\n",
       " 'Concours centre scolaire sud Chavannes-près-Renens',\n",
       " 'Concours tribunal cantonal Hermitage Lausanne',\n",
       " 'Concours Archives cantonales vaudoises',\n",
       " 'Concours bâtiment communal Duillier',\n",
       " 'Concours bâtiment communal Duillier',\n",
       " 'Concours bâtiment police , Monthey',\n",
       " 'Concours centre scolaire Montana - Village',\n",
       " 'Jury concours concstruction bâtiments universitaires Jeunes - Rives , Neuchâtel',\n",
       " 'concours centre scolaire Montana : projet 31546',\n",
       " 'Concours idées logements Grangette',\n",
       " 'Concours idées logements Praz Séchaud',\n",
       " 'Concours Home \" Repos \" , Neuveville',\n",
       " 'Concours ancien Palais Expositions , Genève',\n",
       " 'concours école primaire Loèche-les-Bains : projet 100001',\n",
       " 'Concours Cité Suchard Neuchâtel',\n",
       " 'Concours nouvelle affectation Caserne Lausanne',\n",
       " 'Concours hôptital régional Bienne',\n",
       " 'Concours salle communale Estavayer-le-Lac',\n",
       " 'Concours salle polyvalente Auvernier',\n",
       " 'Jury concours aménagement centre localité Boll - Sinneringen , Vechigen',\n",
       " 'Jury concours Ecole professionnelle Oberland - Ost , Interlaken',\n",
       " 'Jury concours extension Ecole cantonale Luegeten , Zug',\n",
       " 'Jury concours bâtiment polyvalent , Aarburg',\n",
       " 'Jury concours salle sport polyvalente , Däniken',\n",
       " 'Concours bâtiment administration district , Bienne',\n",
       " 'Concours technikum cantonal , St - Imier',\n",
       " 'Concours logements Préverenges',\n",
       " 'concours école Arbaz : projet 130143',\n",
       " 'Concours Ecole construction Fédération vaudoise entrepreneurs ( FVE ) Tolochenaz',\n",
       " 'Concours école Bouveret',\n",
       " 'concours école Bouveret : projet 645013',\n",
       " 'Concours Maison Commune Lavigny',\n",
       " 'Concours salle polyvalente Evouettes',\n",
       " 'Concours Prieuré Perroy',\n",
       " 'Concours Théâtre Monthey',\n",
       " 'Concours bâtiment Services Industriels logements',\n",
       " 'Concours centre sport , Berne Wankdorf',\n",
       " 'Concours groupe scolaire salle gymnastique Forel - Lavaux',\n",
       " 'Concours Ecole professionelle Lausanne',\n",
       " 'concours salle spectacle Monthey : projet 123123',\n",
       " 'Concours salle spectacles Monthey',\n",
       " 'Concours salle polyvalente Etoy',\n",
       " 'Concours - Commune Lausanne',\n",
       " 'Jury concours hangar bus Kreuzzelg , Wettingen',\n",
       " 'Jury concours invitation EMS Roggwil',\n",
       " 'Concours bâtiments publics Aran - Villette',\n",
       " 'Concours locaux service logements Ballaigues',\n",
       " 'Concours gares Saignelégier+Le Noirmont',\n",
       " 'Concours logements jeunes Lausanne',\n",
       " 'Concours Gare Bulle',\n",
       " 'concours restauration église Mase',\n",
       " 'concours Werkhof 9 : projet 921021',\n",
       " 'Concours collège Ruettes , Nyon',\n",
       " 'Concours quartier Crochetan - Cotterg Monthey',\n",
       " 'Concours Werkhof N9 , Simplon - Dorf',\n",
       " 'Concours Centre communal scolaire Arzier - Muids',\n",
       " 'Concours Centre vie enfantine Valency',\n",
       " 'Concours Centre scolaire , sportif logements Chéserex',\n",
       " 'Concours centre sportif loisir Crans',\n",
       " 'Concours Gymnase Ecole supérieure commerce Nyon',\n",
       " 'Concours Ecole supérieure commerce Sierre',\n",
       " 'Jury concours bâtiment paroissial , Wanden an der Aare',\n",
       " 'Concours Can Pallet , Mataro',\n",
       " 'Concours logements Yverdon-les-Bains',\n",
       " 'Concours salles classe logements Giez',\n",
       " 'Concours Ecole professionelle commerciale Chablais Aigle',\n",
       " 'Concours Ecole professionnelle commerciale Chablais , Aigle',\n",
       " 'Concours Home personnes âgées vallée Tavannes Reconvilier',\n",
       " 'Concours Centre culturel communal Viège',\n",
       " 'Concours Centre sportif Sentier',\n",
       " 'Concours collège secondaire Gland',\n",
       " 'Concours collège secondaire Gland',\n",
       " 'Concours Home personnes âgées malades chroniques Moûtier',\n",
       " 'Concours immeuble services industriels techniques Martigny',\n",
       " 'Programme concours Home , district Moutier',\n",
       " 'Concours réaffectation centre pénitencier Santa Verdiana , Florence',\n",
       " 'concours Genève - Cointrin : Halle frêt aéroport',\n",
       " 'Concours aménagement intérieur halle sport Sierre',\n",
       " 'concours hôpital Sierre : projet 837480',\n",
       " 'Concours maison arrêts préventive Côte',\n",
       " 'Concours logements sociaux \" Toises \" , Coppet',\n",
       " 'Concours Vignettes Montana',\n",
       " 'Concours centre commercial Sion',\n",
       " 'Concours centre paroissial église St - Marcel , Delémont',\n",
       " 'Concours collège Chavornay',\n",
       " 'Concours collège Renens',\n",
       " 'Concours parking , route Clémenty , Nyon',\n",
       " 'Concours construction administrative communale Mont-sur-Lausanne',\n",
       " 'Concours grande salle centre tennis Martigny',\n",
       " 'Concours piscine salle gymnastique Porrentruy',\n",
       " 'Jury concours centre cours sport , Wohlen',\n",
       " 'Jury concours centre loisirs sports Rheinau , Thusis',\n",
       " 'Jury concours centre loisirs sports , Klosters',\n",
       " 'Jury concours salle sport terrain Grendelmatte , Riehen',\n",
       " 'Concours Chauderon Nord Lausanne',\n",
       " 'Concours bâtiments service Villars - Sainte - Croix',\n",
       " 'Concours locaux service Chexbres',\n",
       " 'Concours salles gymnastique spectacle Landeron',\n",
       " 'Concours salles gymnastique locaux Protection civile Corcelles - Cormondrèche',\n",
       " 'Concours ancienne papeterie Bulle',\n",
       " 'Concours Centre police cantonale Mont-sur-Lausanne',\n",
       " 'Concours collège secondaire \" Terre Sainte \" , Coppet',\n",
       " 'Concours Pavillon architecture Lausanne',\n",
       " 'Concours réaménagement secteur gare , Nidau',\n",
       " 'Concours collège Corsier-sur-Vevey',\n",
       " 'Concours habitat industriel Givisiez',\n",
       " 'Concours grande salle Corsier-sur-Vevey',\n",
       " 'Jury concours habitat industriel Faye , Givisiez',\n",
       " 'Jury concours aménagement plateau Pérolle',\n",
       " 'Jury concours installations sportives Trottacher , Kloten',\n",
       " 'Jury concours école secondaire salle gymnastique , Riggisberg',\n",
       " 'Concours habitations Aubonne',\n",
       " 'Concours ilôt Riponne - Tunnel Lausanne',\n",
       " 'Concours construction place Sans-Nom Chaux - de- Fonds',\n",
       " 'Concours musée archéologie Neuchâtel',\n",
       " 'Concours bâtiment Société banque suisse ( SBS ) , Renens',\n",
       " 'Concours centre Pré-Formation Rolle',\n",
       " 'Concours centre rencontres , spectacles loisirs , Moutier',\n",
       " 'Concours Centre scolaire Collombey - Muraz',\n",
       " 'Concours nouvel Hôpital Montreux',\n",
       " 'Concours parking gare Montreux',\n",
       " 'Concours aménagement ancienne cité chemins fer , Conakry',\n",
       " 'Concours \" Gare Flon \" Lausanne',\n",
       " 'Concours place Hôtel Ville bâtiment administratif Monthey',\n",
       " 'Concours concept aménagement Viège - Ouest',\n",
       " 'Concours réaménagement gare place gare , Olten',\n",
       " 'Concours ateliers Stuag , Studen',\n",
       " 'Concours portails tunnel autoroute Transjurane N 16',\n",
       " 'Concours théâtre Neuchâtel',\n",
       " 'Concours école secondaire Porrentruy',\n",
       " 'Concours salle spectacle locaux protection civile Colombier',\n",
       " 'Concours , Barcelone',\n",
       " 'Jury concours idée château Köniz',\n",
       " 'Concours extension école supérieure commerce Lausanne',\n",
       " 'Concours construction 4 portails tunnel transjurane N16',\n",
       " 'Concours maison étudiants équipements sportifs \" Cèdres \" Lausanne',\n",
       " 'Concours place Marché Bex',\n",
       " 'Concours bâtiment postal Sion 1',\n",
       " 'Concours centre entretien administration Delémont autoroute N 16',\n",
       " 'Concours relais autoroutier Bursins',\n",
       " 'Concours Ouchy - Front lac Lausanne',\n",
       " 'Concours bâtiment administratif cantonal Chaux-de-Fonds',\n",
       " 'Concours centre communal Ecublens',\n",
       " 'Concours centre primaire scolaire Orsières',\n",
       " 'Jury concours exension siège SBS / SBV ( Société banque Suisse ) , Bienne',\n",
       " 'Concours architecture centre Vuillermet Lausanne',\n",
       " 'Concours mobilier urbain',\n",
       " 'Concours Cité - Lausanne',\n",
       " 'Concours aménagement site Géronde Sierre',\n",
       " 'Concours gare Morges',\n",
       " 'Concours \" Murtenhof \" Morat',\n",
       " 'Concours \" Pendule Foucault \" , Lycée cantonal Porrentruy',\n",
       " 'Concours Centre entretien autoroute N 5 Boudry',\n",
       " 'Concours centre scolaire Hermitage Lausanne',\n",
       " 'Concours Centre professionnel Delémont',\n",
       " 'Concours centre scolaire locaux service feu , Monthey',\n",
       " 'Concours passerelle Rhône Sion',\n",
       " 'Jury concours invitation bâtiment Sandoz / Wander Monbijoustrasse , Berne',\n",
       " 'Projet concours réaménagement centre Samarcande , Ouzbékistan',\n",
       " 'Concours agrandissement entreprise \" CORUM \" Chaux-de-Fonds',\n",
       " 'Concours aménagement centre village Founex',\n",
       " 'Concours école stations agricoles Grange - Verney Moudon',\n",
       " 'Concours hôpital Gruyère Riaz',\n",
       " 'Concours bâtiment corporatif AVE Sion',\n",
       " 'Concours centre sportif centre protection civile Couvet',\n",
       " 'Concours jardin Pérolles Fribourg',\n",
       " 'Concours centre sportif communal \" Iles \" Yverdon-les-Bains',\n",
       " 'Jury concours centre sportif centre protection civile , Couvet',\n",
       " 'Concours ( 2e degré ) centre sportif centre protection civile Couvet',\n",
       " 'Concours habitation personnel poste gardes-frontière Villeneuve',\n",
       " 'Concours bâtiment administration cantonale BAC Morges',\n",
       " 'Concours bâtiment Police Sûreté- CB3 Mont-sur-Lausanne',\n",
       " 'Concours centre communal \" Grand Pré \" Cheseaux',\n",
       " 'Concours Centre entretien autoroute Sierre',\n",
       " 'Concours concept aménagement secteur \" Praz \" Cugy',\n",
       " 'Concours Quartier Nord Ecole Polytechnique fédérale ( EPFL )',\n",
       " 'Concours centre administratif Cortaillod',\n",
       " 'Concours maison feu Crans - Montana',\n",
       " 'Concours international musée Prado , Madrid',\n",
       " 'Concours Paroisse catholique St - Amédée , Lausanne',\n",
       " 'Concours centre scolaire sportif Prehl , Morat',\n",
       " 'Concours idées réorganisation Place Château Lausanne',\n",
       " 'Concours foyer personnes polyhandicapées , Malleray : Pimpinière',\n",
       " 'Concours église , Rome',\n",
       " 'Projet concours complexe paroissial Rome',\n",
       " 'Concours centre enseignement secondaire supérieur formation professionnelle , Morges',\n",
       " 'Concours centre enseignement secondaire supérieur centre enseignement professionnel Marcelin , Morges',\n",
       " 'Concours salle gymnastique Tannay',\n",
       " 'Concours requalification environnementale aire ancienne fonderie , Susa',\n",
       " 'Concours centre scolaire Bresse Vétroz',\n",
       " 'Concours musée éthnographie Genève',\n",
       " 'Concours école cantonale degré diplôme Fribourg',\n",
       " 'Concours nouvelle clinique établissement thermal Lavey-les-Bains',\n",
       " 'Concours centre scolaire ( cycle orientation ) Collombey - Muraz',\n",
       " 'Jeux Olympiques Sion 2006 : Concours patinoire Martigny',\n",
       " 'Jury concours extension hotel ESSM , Macolin',\n",
       " 'Concours pont Rhône Souste , Loèche',\n",
       " 'Exposition nationale suisse 2002 : Concours Arteplage Morat',\n",
       " 'Concours Lausanne Jardins 2000',\n",
       " 'Concours Centre exploitation routes nationales ( CeRN ) , Bursins',\n",
       " 'Concours collège Tombay II , Bussigny-près-Lausanne',\n",
       " 'Concours cycle orientation Gruyère , Tour-de-Trême',\n",
       " 'Concours école technique \" CIFOM \" , Locle',\n",
       " 'Concours groupe scolaire économique Ouches , Genève',\n",
       " 'Concours Gymnase intercantonal Broye , Payerne',\n",
       " 'Concours équipements collectifs communaux \" Pommier \" , Grand-Saconnex',\n",
       " 'Concours bâtiment service incendie secours , police cantonale juges instruction , Chaux-de-Fonds',\n",
       " 'Concours halle atelier place armes Bure',\n",
       " 'Concours amphithéâtre Nyon ( mise valeur vestiges archéologiques construction lieu visite spectacle )',\n",
       " 'Concours extension Gymnase Burier , Tour-de-Peilz',\n",
       " 'Concours transformation agrandissement stade olympique Pontaise , Lausanne',\n",
       " 'Concours bâtiment scolaire , Porrentruy',\n",
       " 'Concours bâtiment place armes Bière',\n",
       " 'Concours salle sport gymnase Beaulieu , Lausanne',\n",
       " 'Concours cération portail sud tunnel Glion , Montreux',\n",
       " 'Concours école culture générale commerce post-obligatoire \" Rolliet \" , Plan-les-Ouates',\n",
       " 'Concours reconstruction ville Chauny',\n",
       " 'Concours centre touristique Montreux',\n",
       " 'Concours Pénitencier Bochuz ( Plaine Orbe )',\n",
       " 'Concours Société amélioration logement ( section romande )',\n",
       " 'Concours aménagement terrains ancienne gare Bienne',\n",
       " 'Concours auberge communale grande salle Echandens',\n",
       " 'Concours restreint architecture pavillon Suisse exposition internationale \" Arts techniques vie moderne \" Paris 1937',\n",
       " 'Concours idées Centre civique Chênes - Bougeries ( Genève )',\n",
       " 'Concours projets Centre paroissial oecuménique Ittigen',\n",
       " 'Concours aménagement nouvelle plage Lausanne',\n",
       " 'Concours architecture construction bâtiments administration fédéraux , Berne , concours',\n",
       " 'Concours architecture construction bâtiments administration fédéraux , Berne , concours B',\n",
       " 'Concours bâtiments administration Berne',\n",
       " 'Concours monument commémoratif fondation Union postale universelle',\n",
       " 'Concours idées révision plan extension ville Lausanne',\n",
       " 'Concours idées grande salle Maison peuple',\n",
       " 'Concours hôtel Banque Populaire Suisse , Zürich',\n",
       " 'Concours garderie enfants classes enfantines aménagement place jeux enfants , Montelly , Lausanne',\n",
       " 'Concours aménagement place gare , Berne',\n",
       " 'Concours agrandissement asile St - Josefsheim , Souste(Loèche )',\n",
       " 'Concours aménagement usine gaz , Sion',\n",
       " 'Concours école quartier Auge , Fribourg',\n",
       " 'Concours aménagement général construction tribunes couvertes Parc Sports , Pontaise , Lausanne',\n",
       " 'Concours petites villas maisons familiales Genève',\n",
       " 'Concours étude nouvel hôtel postes Neuchâtel',\n",
       " 'Concours Hôtel Postes Télégraphes Berne',\n",
       " 'Concours Hôtel Postes Télégraphes Schaffhausen',\n",
       " 'Concours Banque Populaire Suisse Fribourg',\n",
       " 'Concours Hospice Ed . Sandoz - David , Lausanne',\n",
       " 'Concours bâtiment Société Romande Electricité , Vevey',\n",
       " 'concours construction collège Renens',\n",
       " 'Concours Ecole Cantonale Agriculture Cernier',\n",
       " 'Concours école enfantine Tour-de-Peilz',\n",
       " 'Concours usine Coulouvrenière , Genève',\n",
       " 'Concours parlement fédéral bâtiments administratifs Berne',\n",
       " 'Concours Ecole cantonale agriculture , Moudon',\n",
       " 'Concours projets Centre régional sud district Brigue',\n",
       " 'concours école régionale sud district Brig - Glis : projet PEP',\n",
       " 'Concours Hôtel communal , Locle',\n",
       " 'Concours aménagement place \" Prés Ville \"',\n",
       " 'Concours collège classique Lausanne',\n",
       " 'Concours centre sportif municipal Diekirch ( Luxembourg )',\n",
       " 'Concours immeuble administratif Saudi Arabian Airlines Corporation , Dejddah ( Arabie Saoudite )',\n",
       " 'Concours art funéraire',\n",
       " 'Concours émulation - 2e classe - Esquisse : lavoir abreuvoir publics',\n",
       " 'Concours Palais Tribunal fédéral Lausanne',\n",
       " 'Concours monument commémoratif fondation République Neuchâtel',\n",
       " 'Concours exécution Pont Chauderon - Montbenon',\n",
       " 'concours idées village Bönigen',\n",
       " 'Concours constructions élever terrains M. E. Decker , place Chauderon , Lausanne',\n",
       " 'Concours projet plage , Vevey-374',\n",
       " 'Concours Centre secondaire supérieur Nord vaudois , Yverdon',\n",
       " 'Concours émulation : 1ère classe : Esquisse : plafond galerie',\n",
       " 'Concours bâtiment école cantonale , Winterthur',\n",
       " 'Concours bâtiment école garçons , Sion',\n",
       " 'Concours Société amélioration logement ( section romande : types habitations économiques )',\n",
       " 'Concours théâtre Winterthour',\n",
       " 'Concours construction centre communal , Confignon',\n",
       " 'Concours idées étude plans nouvel hôtel Banque Populaire Suisse Fribourg',\n",
       " 'Concours Ecole agriculture',\n",
       " 'Concours idées plage aménagement port , Nyon-98',\n",
       " 'Concours caserne pompiers garage municipal Plainpalais , Genève',\n",
       " 'Concours émulation - 1ère classe - Rendu : hôtel Ministre Guerre',\n",
       " 'Concours école primaire Sion',\n",
       " 'Concours école cantonale Lugano',\n",
       " 'Concours école secondaire jeunes Berne ; ;',\n",
       " 'Concours fontaines publiques',\n",
       " 'Concours projet fontaine Genève',\n",
       " 'Concours reconstruction clocher Temple Nyon',\n",
       " 'Concours église Fontenay , Yverdon',\n",
       " 'Eglise Fontenay , Yverdon . Projet concours',\n",
       " 'Concours idées extension ville Monthey-65',\n",
       " 'Concours idées extension ville Monthey-66',\n",
       " 'Concours monument mémoire Nicolas Chenaux',\n",
       " 'Concours groupe scolaire , mairie aménagement place village Meyrin',\n",
       " 'Concours aménagement quartier Bellevaux , Lausanne',\n",
       " 'Concours aménagement quartier habitation Moutier',\n",
       " 'Concours émulation - 1ère classe - Rendu : école Ponts Chaussées',\n",
       " 'Concours plan extension voies communication Ville Lausanne',\n",
       " 'Concours idées aménagement place Überbiel , Viège',\n",
       " 'Concours idées plan aménagement quartier Lancy Onex',\n",
       " 'Concours idées plan extension Lenzburg',\n",
       " 'Concours architecture groupe scolaire Pully - N',\n",
       " 'Concours plan rectification , embellissement assainissement ville Genève',\n",
       " 'Concours international Siège organisations Internationales Centre Conférences Vienne',\n",
       " 'Concours hôpital cantonal Zürich instituts Faculté médecine',\n",
       " 'Concours voie navigable reliant Rhône lac Genève',\n",
       " 'Concours ornement ajustement - 1ère classe - Rendu - Prix Rougevin : 1886 : catafalque honneur Paul Baudry , Membre Institut France , Commandeur Légion honneur',\n",
       " 'Concours Banque Cantonale Vaudoise , Lausanne',\n",
       " 'Concours Centre professionnel Genève',\n",
       " 'Concours cité paroissiale Pérolles - Fribourg',\n",
       " 'Concours école chimie Genève',\n",
       " 'Concours agrandissement café restaurant Rotonde , Neuchâtel',\n",
       " 'Concours monument commémoratif victoire Playa Giron , Cuba',\n",
       " 'Concours émulation - 2e classe - rendu : asile nuit hommes',\n",
       " 'Concours Société contrôle Bienne',\n",
       " 'Concours fondation Geiser ( 8eme ) , règlement concours',\n",
       " 'Concours nouvelle école chimie pharmacie Genève',\n",
       " 'concours centre adm . tech . Sion(SICAT ): projet 031163',\n",
       " 'Concours émulation - 2e classe - esquisse : fontaine',\n",
       " 'concours maison tourisme Verbier',\n",
       " 'Concours émulation : 1ère classe : Esquisse : salle séances assemblées ordinaires Académie Beaux - Arts Institut France',\n",
       " 'Concours bâtiment administratif fédéral Bern',\n",
       " 'Concours hotel postes Lausanne',\n",
       " 'Concours pont routier Broye Salavaux',\n",
       " 'Concours émulation - 1ère classe - rendu : Faculté droit',\n",
       " 'Concours émulation - 2e classe - Rendu : école botanique',\n",
       " 'Concours plan extension Renens',\n",
       " 'Concours construction résidences Hollywood , USA',\n",
       " 'Concours construction pont-route chemin fer funiculaire Territet - Glion',\n",
       " 'Concours casernement place armes Génie , Bremgarten ( Argovie )',\n",
       " 'Concours Types architecture permettant donner caractère ensemble constructions élever front quais Arve , Plainpalais ( Genève )',\n",
       " 'Concours bâtiment fédéral postes Lucerne',\n",
       " 'Concours aménagement décoration terre - plein Notre-Dame , Genève',\n",
       " 'Concours aménagement Place Saint-François Lausanne',\n",
       " 'Concours nouvelle église di Cristo Risorto , Lugano',\n",
       " 'Concours collège St - Jean , Genève',\n",
       " 'concours église , Ins',\n",
       " 'Concours émulation - 1ère classe - Rendu : hippodrome',\n",
       " 'Concours habitations rurales , Genève',\n",
       " 'Concours principal animation aménagement touristique baie Tanger',\n",
       " 'Concours bâtiment administration ( Policlinique universitaire ) , Lausanne',\n",
       " 'Concours groupe scolaire Chêne - Bourg',\n",
       " 'Concours liaison économique usines Serrières chemin fer Suisse occidentale',\n",
       " 'Concours façades Usine Verbois , Genève',\n",
       " 'Concours cité ouvrière Usines Tornos , Moutier',\n",
       " 'Concours aménagement rives lac Lugano',\n",
       " 'Concours idées plan extension Commune Viège-78',\n",
       " 'Concours idées plan extension Commune Viège-79',\n",
       " 'Concours idées équipements collectifs Praz - Queron , Romanel-sur-Lausanne',\n",
       " 'Concours école supérieure jeunes filles Lausanne',\n",
       " 'Concours Centre affaires Fontivegge - Bellochio',\n",
       " 'Concours idées poour bâtiment Musée beaux - arts , Bâle',\n",
       " 'Concours idées bâtiment administratif aménagement abords-80',\n",
       " 'Concours idées bâtiment administratif aménagement abords-82',\n",
       " 'Concours décoration panneaux cage escalier Palais fédéral justice , Lausanne',\n",
       " 'Concours maison européenne 1965',\n",
       " 'Concours pont Rhin Bâle',\n",
       " 'Concours annexe Maison Vessy ( Pavillon Galland ) , Genève-379',\n",
       " 'Concours idées Grande Salle , Tour-de-Peilz',\n",
       " 'Concours temple Rosiaz , Pully-376',\n",
       " 'Concours établissements pénitentiaires , Rolle',\n",
       " 'Concours établissements pénitentiaires , Rolle',\n",
       " 'Concours temple Mathod - Suscévaz',\n",
       " 'Concours temple Mathod - Suscévaz',\n",
       " 'concours église , Langnau',\n",
       " 'Concours monument Davel Lausanne',\n",
       " 'Concours asainissement vieille ville Bellinzone',\n",
       " 'Concours idées maisons bois',\n",
       " 'Concours plan général extension Ville Berne communes suburbaines',\n",
       " 'concours halle fret Cointrin',\n",
       " 'Concours maisons bon marché , Lyon',\n",
       " 'Concours Banque Cantonale Thurgovienne',\n",
       " 'Concours Banque Cantonale Thurgovienne',\n",
       " 'Concours gymnase , Berne',\n",
       " 'Concours gymnase , Berne',\n",
       " 'Concours Centre Begnins Begnins',\n",
       " 'Concours Hospice Vieillesse Genève',\n",
       " 'Concours exécution Pont Chauderon - Montbenon , projet AL',\n",
       " 'Concours aménagement propriété Château Beaulieu , Lausanne',\n",
       " 'Concours aménagement propriété Château Beaulieu , Lausanne',\n",
       " 'Concours agrandissement école supérieure commerce , Neuchâtel',\n",
       " 'Concours nouvelles prisons district élever Bois-Mermet',\n",
       " 'Concours ( 1er degré ) pénitencier cantonal Payerne',\n",
       " 'Concours Hôtel Ville Baulmes',\n",
       " 'Concours bâtiment scolaire Coudre ( Neuchâtel )',\n",
       " 'Concours immeuble administratif Place Château Nyon',\n",
       " 'Concours projets bâtiments exploitation compagnie gardes-fortifications Lavey',\n",
       " 'Concours projets bâtiment administratif Saint-Maurice',\n",
       " 'Concours bâtiment administratif Saint-Maurice : projet MIL',\n",
       " 'concours salle polyvalente Evouettes : projet polyvalence',\n",
       " 'Concours projets Station - Abris construire Chantepoulet , place Longemalle , Genève',\n",
       " 'Concours museum histoire naturelle , Genève',\n",
       " 'Concours bâtiment école primaire salle gymnastique , Vallorbe',\n",
       " 'Concours Ecole Commerce Chaux - - Fonds-380',\n",
       " 'Concours Ecole Commerce Chaux - - Fonds-381',\n",
       " 'Concours Bürgerspital , Soleure',\n",
       " 'Concours centre paroissial Riddes',\n",
       " 'concours centre paroissial Riddes : projet Oriscus',\n",
       " 'Concours Bâtiment école Eaux - Vives ( Genève )',\n",
       " 'Concours Groupe Grütli Palais fédéral',\n",
       " 'Concours maisons rapport Fribourg',\n",
       " 'Concours maisons rapport Fribourg',\n",
       " 'Concours Maisons ouvrières , Lausanne , projet AL',\n",
       " 'Concours église Arosa',\n",
       " 'Concours construction grande salle réunions jardin anglais , ( concours ) , Neuchâtel',\n",
       " 'Concours construction restaurant été , bord lac ( concours ) , Neuchâtel',\n",
       " 'Concours construction grande salle réunions , emplacement laissé libre choix concurrents ( second concours ) , Neuchâtel',\n",
       " 'Concours bâtiments Maternité Pédiatrie , Lausanne',\n",
       " 'Concours bâtiments Maternité Pédiatrie , Lausanne',\n",
       " 'Concours international Architecture , Paris ( Olympie moderne )',\n",
       " 'Concours Société immobilière Bellevue , Neuchâtel ( cité Suchard Serrières )',\n",
       " 'Concours Bâtiment école salle gymnastique Courtelary',\n",
       " 'Concours présentation projets réalisant meilleures conditions utiliser force Rhône Plaine ( Usine n° 3 )',\n",
       " 'Concours bâtiment école primaire salle gymnastique Planches - Montreux',\n",
       " \"Concours idées plan lotissement mise valeur propriétés réunies , Hohliebe , Spiegelet Lochgut Gurten Berne , surface 300'000 m2\",\n",
       " 'Concours Bâtiment école Herisau',\n",
       " \"Concours l ' Eglise Spiez\",\n",
       " \"Concours l ' Eglise Spiez\",\n",
       " 'Concours Eglise catholique , Cure Grande Salle , Lausanne , avenue Rumine',\n",
       " 'Concours Hospice Vieillards Invalides Delémont',\n",
       " 'Concours projet bâtiment écoles primaires secondaires , Fribourg',\n",
       " 'Concours international Monument Réformation , Genève',\n",
       " 'Concours Pavillon musique Promenade lac , Genève',\n",
       " 'Concours étude pont Rhin , Rheinfelden',\n",
       " 'Concours construcions Société suisse assurances générales vie humaine , Zürich',\n",
       " 'Concours constructions Société suisse assurances générales vie humaine , Zürich',\n",
       " 'Concours marché couvert Vevey',\n",
       " 'Concours hôtel ville Lutry',\n",
       " 'Concours décoration façade Musée art histoire , Genève',\n",
       " 'Concours construction nouvelles écoles Tavannes',\n",
       " 'Concours bâtiment scolaire Monthey',\n",
       " 'Concours fondation Geiser ( pont Rhin )',\n",
       " 'Concours raccordement Ville Neuchâtel RN 5',\n",
       " 'Concours reconstruction \" Château roi Christian \" , Copenhagen',\n",
       " 'Concours idées école supérieure jeunes filles , Genève',\n",
       " 'Concours Musée Beaux - Arts , Bâle ( Elisabethenschanze )',\n",
       " 'Concours idées plan aménagement Interlaken',\n",
       " 'Concours général bâtiment administration Lucerne',\n",
       " 'Concours façades gare Bienne',\n",
       " 'Concours façades gare Bienne',\n",
       " 'Concours aménagement Ecoles quartier Milchbuck Zürich',\n",
       " 'Concours idées bâtiment Banque cantonale , Soleure',\n",
       " 'Concours pont , Stockholm',\n",
       " 'Concours Palais Congrès , Lugano',\n",
       " 'Concours international centre télévision Tunis',\n",
       " 'Concours Collège suburbain Vauseyon , Neuchâtel',\n",
       " 'Concours Asyle Montevideo',\n",
       " 'Concours aménagement Waidareal , Zürich',\n",
       " 'Concours esquisses modelage décoration sculpturale portail Gare Lucerne',\n",
       " 'Concours esquisses modelage décoration sculpturale portail Gare Lucerne',\n",
       " 'Concours construction ligne chemin fer travers Cordilière Andes',\n",
       " 'Concours transformation Grand-Hôtel , Paris',\n",
       " 'Concours bâtiment bourse Bâle',\n",
       " 'Concours Bâtiment Bourse , Bâle',\n",
       " 'Concours Chalets construire Mont-Soleil , St - Imier',\n",
       " 'Concours Chalets construire Mont-Soleil , St - Imier',\n",
       " 'Concours Palais Parlement Confédération australienne',\n",
       " 'Concours Hôtel Postes Télégraphes , Chaux-de-Fonds',\n",
       " 'Concours maison école primaire bâtiment usage halle gymnastique grande salle réunion , Peseux',\n",
       " 'Concours construction ponts Nil , Caire',\n",
       " 'Concours Bâtiment scolaire Colombier',\n",
       " 'Concours élaboration projets ensemble hôtel Banque Nationale bâtiment Administration fédérale , Berne',\n",
       " 'Concours Hôtel Banque cantonale neuchâteloise , Neuchâtel',\n",
       " 'Concours Hôtel Banque cantonale neuchâteloise , Neuchâtel',\n",
       " 'Concours Hôtel Ville , Soleure',\n",
       " 'Concours Maison Vaudoise ( )',\n",
       " 'Concours pont Chancy ( Genève )',\n",
       " 'Concours aménagement centre Renens - Gare',\n",
       " 'concours musée Croix - Rouge , Genève',\n",
       " 'Concours bâtiment administration Bienne',\n",
       " 'Concours fondation Geiser ( 3eme )',\n",
       " 'Concours fondation Geiser ( 3eme )',\n",
       " 'Concours Crédit Foncier Vaudois reconstruction immeubles rue Petit-Rocher',\n",
       " 'Concours plan urbanisation Lutry',\n",
       " 'Concours ornement ajustement - 1ère classe - Rendu - Prix Rougevin : 1888 : tribune orgues église',\n",
       " 'Concours bâtiment scolaire , Faoug',\n",
       " 'Concours bâtiment scolaire , Faoug',\n",
       " 'Concours hôpital régional Sion environs',\n",
       " 'Concours aménagement Communs Clarens',\n",
       " 'Concours immeuble Crédit Foncier vaudois Yverdon',\n",
       " 'Concours idées plan directeur aménagement extension Commune Payerne-95',\n",
       " 'Concours suppression passage niveau CFF , Territet , aménagement abords',\n",
       " 'Concours éléments analytiques : 2e classe : Rendu : étude ordre ionique grec',\n",
       " 'Concours international Plan Général vue organisation Parc Etat Topchider Belgrade',\n",
       " 'Concours bâtiment voyageurs Genève - Cornavin',\n",
       " 'Concours idées Centre sportif polyvalent Verbier',\n",
       " 'Concours méthodes pratiques construction maisons béton coulé',\n",
       " 'concours centre paroissial Vernayaz',\n",
       " 'Concours nouvelle maison école quartier Neuveville Fribourg',\n",
       " 'Concours poste central pompiers , Lausanne',\n",
       " 'Concours projets aménagement Bas-Perron , Genève',\n",
       " 'Concours hôpital Lugano',\n",
       " 'Concours idées aménagement quartier Bourg , Sierre',\n",
       " 'Concours idées abattoir , Nyon',\n",
       " 'Concours Bibliothèque nationale , Bureau fédéral propriété intellectuelle Bureau fédéral statistique',\n",
       " 'Concours international logements éléments préfabriqués',\n",
       " 'Concours monument Français Genève Volontaires suisses morts France',\n",
       " 'Concours Monument Pierre Viret , Lausanne',\n",
       " 'Concours plan aménagement Langenthal-372',\n",
       " 'Concours plan aménagement Langenthal-373',\n",
       " 'Concours Station fédérale recherches agronomiques Changins',\n",
       " 'Concours nouveaux abattoirs Lausanne',\n",
       " 'Concours maisons destinées logement personnel usine Verbois',\n",
       " 'Concours chapelle crématoire cimetière Bois-de-Vaux , Lausanne',\n",
       " 'Concours idées : gestion énergie bâtiment',\n",
       " 'Concours monument Rinaldo Simen , Bellinzona',\n",
       " 'Concours synagoge Chaux-de-Fonds',\n",
       " 'Concours Casino Berne',\n",
       " 'Concours bâtiments administration Câbleries Tréfileries Cossonay - Gare',\n",
       " 'Concours bâtiment école sis quartiers Perolles - Beauregard - Vignettaz , Fribourg',\n",
       " 'Concours gare Sion',\n",
       " 'Concours gare Sion',\n",
       " 'Concours maison paroisse presbytère réformés Sierre',\n",
       " 'Concours bâtiment scolaire Morges',\n",
       " 'Concours construction collège Ecublens ( Vaud )',\n",
       " 'Concours Technicum Brugg - Windisch',\n",
       " 'concours centre communal paroissial Hérémence : projet Tzéna',\n",
       " 'Concours ensemble paroissial communal Hérémence , Valais',\n",
       " 'Concours projets groupe scolaire communes Penthalaz Penthaz',\n",
       " 'concours police Brigue',\n",
       " 'Concours idées bâtiment administration Assurance immobilière canton Berne',\n",
       " 'concours centre culturel POSTE',\n",
       " 'Concours passages souterrains destinés amélioration circulation',\n",
       " 'Concours Architecture Sculpture Fontaine décorative Place Gare , Vevey-59',\n",
       " 'Concours aménagement terrains Aargauerstalden Viktoriastrasse construction bâtiments administratifs , Berne',\n",
       " 'Concours église réformée française , Bienne',\n",
       " 'Concours urbanisation Varna',\n",
       " 'Concours Banque populaire Broye : projet A.L.',\n",
       " 'Concours Banque Populaire Broye , Payerne',\n",
       " 'Concours Plan alignement construction',\n",
       " 'Concours Banque populaire Broye',\n",
       " 'Concours ( 2e degré ) parlement fédéral Berne',\n",
       " 'Concours Hospice orthopédique Suisse Romande , Lausanne',\n",
       " 'concours collège Sion : projet talis qualis',\n",
       " 'Concours collège classique , Lausanne-362',\n",
       " 'Concours design mobilier gares',\n",
       " 'Concours aménagement Cimetière Bois Vaux',\n",
       " 'Concours idées bâtiment administratif Société Romande Electricité , Clarens-75',\n",
       " 'Concours idées bâtiment administratif Société Romande Electricité , Clarens-74',\n",
       " 'Concours idées aménagement rue Calvin',\n",
       " 'Concours économiquement faibles Genève',\n",
       " 'concours bâtiment police Brig - Glis',\n",
       " 'concours atelier handicapés',\n",
       " 'Concours bijouterie an 2000',\n",
       " 'Concours plan extension ville Genève',\n",
       " 'Concours Eglise Chailly , Lausanne',\n",
       " 'Concours idées étude pont Pérolles , Fribourg',\n",
       " 'Concours Temple Clarens',\n",
       " 'Concours hôtel Banque cantonale neuchâteloise , Chaux-de-Fonds',\n",
       " 'Concours idées aménagement urbain abords Palais Justice Bruxelles',\n",
       " 'Concours Temple centre paroissial Châtelaine , Genève',\n",
       " 'Concours Locle II',\n",
       " 'Concours utilisation terrains Cercle Beau-Séjour , Lausanne',\n",
       " 'Concours plan extension ville Lille',\n",
       " 'Concours aménagement place Nations , Genève , jugemet',\n",
       " 'Concours nouveaux bureaux Union nationale africaine Tanganyika ( TANU )',\n",
       " 'concours centre scolaire Viège : projet saagi',\n",
       " 'Concours centre scolaire Viège',\n",
       " 'Concours nouvelle infirmerie Rolle',\n",
       " 'Concours bains lavoir Lausanne',\n",
       " 'Concours Temple Saint-Marc , Lausanne',\n",
       " 'Concours maison congrès',\n",
       " 'concours hôme personnes agées , Savièse ; ; ; ;',\n",
       " 'concours hôme personnes agées Vétroz',\n",
       " 'Concours restauration monument Duc Brauschweig',\n",
       " 'Concours gare Sofia',\n",
       " 'Concours Hôtel Postes Genève',\n",
       " 'Concours Ecole Cantonale Agriculture Morges',\n",
       " 'Concours aménagement immeubles Société immobilière Faucon-Saint-Pierre , Lausanne',\n",
       " 'Concours fontaine souvenir Auguste Forel parc Valency -382',\n",
       " 'Concours fontaine souvenir Auguste Forel parc Valency -383',\n",
       " ...]"
      ]
     },
     "execution_count": 11,
     "metadata": {},
     "output_type": "execute_result"
    }
   ],
   "source": [
    "texts"
   ]
  },
  {
   "cell_type": "code",
   "execution_count": 12,
   "metadata": {},
   "outputs": [
    {
     "data": {
      "text/plain": [
       "['bâtiment écoles filles Vevey',\n",
       " '( 1er degré ) monument général Dufour',\n",
       " 'éléments analytiques : 2e classe : Rendu : façade phare',\n",
       " 'émulation - 2e classe - Esquisse : chambre coucher princière',\n",
       " 'éléments analytiques : 2e classe : Rendu : détails portique ordre dorique romain',\n",
       " 'émulation - 2e classe - Esquisse : bureau recrutement chef - lieu département',\n",
       " 'école horlogerie Locle',\n",
       " 'restreint bâtiment salles conférences Neuchâtel',\n",
       " ': Prix Godeboeuf : 1885 : horloge adossée',\n",
       " 'émulation : 1ère classe : Esquisse : entrée principale grand cimetière',\n",
       " \"émulation : 2e classe : Esquisse : banc d'&#339;uvre Eglise paroissiale petite ville\",\n",
       " 'émulation : 2e classe : Rendu : théâtre ville second ordre',\n",
       " 'fontaine monumentale élever Place Neuve',\n",
       " ': Prix Godeboeuf : 1886 : lampadaire électrique',\n",
       " 'émulation : 1ère classe : Esquisse : monument commémoratif Exposition universelle',\n",
       " 'émulation : 1ère classe : Rendu : odéon Salle concert',\n",
       " 'musée beaux - Arts',\n",
       " ': Prix Godeboeuf : 1887 : pont galerie au-dessus rue',\n",
       " 'émulation : 1ère classe - Rendu : hôtel Préfecture',\n",
       " 'émulation : 1ère classe : Esquisse : amphithéâtre oraisons funèbre',\n",
       " 'émulation : 1ère classe : Rendu : porte ville',\n",
       " 'émulation 6 décembre [ 18]87 : Escalier Henri II Palais Louvre',\n",
       " 'émulation : 1ère classe : Esquisse : distribution hôtel terrain irrégulier',\n",
       " 'émulation : 1ère classe : Esquisse : pavillon Exposition universelle',\n",
       " 'émulation : 1ère classe : Rendu : villa environs Nice , 3.4.1888',\n",
       " 'émulation : 1ère classe : Esquisse : volière jardin hive',\n",
       " 'émulation : 1ère classe : Rendu : bazar grand magasin',\n",
       " 'plans édifice Rumine',\n",
       " 'agrandissement Kursaal Montreux',\n",
       " 'construction école primaire Barre , Lausanne',\n",
       " 'Exposition cantonale vaudoise Vevey',\n",
       " 'Exposition cantonale vaudoise Vevey',\n",
       " 'pénitencier Payerne',\n",
       " 'viaduc Gryonne',\n",
       " 'Musée Art Histoire',\n",
       " 'Eglise évangélique réformée Berne',\n",
       " 'projet reconstitution Pont Mont-Blanc Genève',\n",
       " 'construction viaduc Fenil , Saint-Légier',\n",
       " 'façades',\n",
       " 'collège Tour-de-Peilz',\n",
       " 'bâtiment archives , Neuchâtel',\n",
       " 'bâtiment archives , Neuchâtel',\n",
       " 'construction pont Arve , Genève',\n",
       " 'Kiosque Tramways place St. François , Lausanne',\n",
       " 'Kiosque Tramways , Place St - François , Lausanne , projet AL .',\n",
       " 'monument Philibert Berthelier',\n",
       " 'école , Malleray',\n",
       " 'Maisons ouvrières , Lausanne',\n",
       " 'Maisons ouvrières , Lausanne',\n",
       " 'nouvelle usine transformatrice thermique Eplatures',\n",
       " 'étude Casino élever propriété Matthey , place Montbenon',\n",
       " 'pont Singine , Guggersbach',\n",
       " 'Hôtel Caisse Epargne Neuchâtel , Chaux-de-Fonds',\n",
       " 'Banque Nationale Suisse Berne',\n",
       " '( ) façades , Genève',\n",
       " 'avant-projets collège Pully',\n",
       " 'chapelle Tell , Lausanne',\n",
       " 'bâtiment scolaire Villars-sur-Glâne',\n",
       " 'projet bâtiment scolaire Faubourg Sablons , Neuchâtel',\n",
       " 'Ecole primaire Chailly Clarens',\n",
       " 'hôtel destiné destiné Caisse Epargne canton Genève',\n",
       " 'hôtel Banque populaire suisse , Lausanne',\n",
       " 'reconstruction Bâtiment électoral , Genève',\n",
       " 'groupe scolaire primaire quartier Bourg , Fribourg',\n",
       " 'hôpital Cadolles',\n",
       " 'bâtiment crèche , Croix - Bleue Union chrétienne , ä Montreux',\n",
       " 'Grande Salle spectacles immeubles locatifs , Lausanne',\n",
       " 'idées aménagement quais promenade Lac Port Noir',\n",
       " 'idées lotissement domaine Mervelet',\n",
       " 'Internat Ecole supérieure Commerce Gambach',\n",
       " 'villas 1912 , Genève',\n",
       " '\" Pfrundhausbau \" , Glaris',\n",
       " 'aménagement quai Eaux - vives',\n",
       " 'étude projet Palais Justice Fédéral Lausanne , projet sub lege libertas',\n",
       " 'Musée Beaux - Arts , Bâle',\n",
       " 'bâtiment destiné Ecole filles , Sion',\n",
       " 'bâtiment destiné Ecole filles , Sion',\n",
       " 'restreint Société immobilière ancienne Poste , Lausanne , utilisation terrains ancienne Poste',\n",
       " 'plan extension commune Vevey',\n",
       " 'hôtel District Locle',\n",
       " 'types Salles communales Maisons Commune alcool',\n",
       " 'types Salles communales Maisons Commune alcool',\n",
       " 'Plan extension Bienne . . Projet \" rot und schwarz \"',\n",
       " 'idées utilisation propriété Service cantonal Assurances , Lausanne',\n",
       " 'Synagogue , Zürich',\n",
       " 'bâtiment destiné remplacer \" concierges \" , Cité - , Lausanne',\n",
       " 'banque Aarau',\n",
       " 'érection monument mémoire soldats genevois morts service patrie',\n",
       " 'Cité - jardin , Chaux-de-Fonds',\n",
       " 'étude plans bâtiment scolaire internat Ecole cantonale agriculture Morges',\n",
       " 'reconstruction pont Zaehringen Fribourg',\n",
       " 'Monument Pierre Viret , Lausanne',\n",
       " 'Monument commémoratif Eugène Rambert , Clarens',\n",
       " 'Collège , Noirmont',\n",
       " 'nouvel hôpital district , Bienne',\n",
       " 'Projet Société banques suisses Lausanne',\n",
       " 'idées extension ville Monthey-67',\n",
       " 'idées monument soldats suisses morts service , àMontreux',\n",
       " 'utilisation ancien bâtiment Davall ( cour Chantres ) , Vevey',\n",
       " 'plan extension aménagemenz ville Belgrade',\n",
       " 'plan extension aménagemenz ville Belgrade',\n",
       " 'restreint plan extension commune Spiez',\n",
       " 'fondation Geiser ( 4ème ) ( relevés maisons bourgeoises suisses )',\n",
       " 'Musée Beaux - Arts , Chaux-de-Fonds',\n",
       " 'architecture sculpture fontaine décorative place Gare , Vevey-60',\n",
       " 'aménagement quartier Villamont place Faucon',\n",
       " 'étude plans pénitencier Bochuz',\n",
       " 'bâtiment scolaire , Cortaillod',\n",
       " 'idées établissement bains eau , air soleil , Solothurn',\n",
       " 'agrandissement Hôtel Union Banques Suisses , Zürich',\n",
       " 'aménagement terrains ancienne gare Bienne',\n",
       " 'idées salle réunion , Chêne - Bougeries',\n",
       " 'aménagement terrains avenue P. Cérésole rue Madeleine',\n",
       " 'SDN , Genève',\n",
       " 'pan général extension aménagement ville Fribourg',\n",
       " 'stations - abris Place Navigation Rond - Point Plainpalais',\n",
       " 'plans - types nouveaux pavillons hospitalisation aliénés , Hospice cantonal Perreux',\n",
       " 'projet plage , Vevey-375',\n",
       " 'EPFZ , cours Laverrière , émulation',\n",
       " 'fondation Geiser ( 6ème )',\n",
       " 'idées plage aménagement port , Nyon-99',\n",
       " 'Crédit Foncier Vaudois reconstruction immeubles rue Petit-Rocher',\n",
       " 'Théâtre Vevey',\n",
       " 'idées projet pont Parcs- Saint-Nicolas , Neuchâtel',\n",
       " 'Ecole cantonale Dessin Art appliqué , 1931',\n",
       " 'hôtel Société Banque Suisse , Zürich',\n",
       " 'idées révision plan extension Lausanne-73',\n",
       " 'Wettbewerb Gewerbeschulhaus und Erweiterung der Lehrwerkstätten ( ~Ecole commerciale ateliers formation ) , Bern',\n",
       " 'fondation Geiser ( 7ème )',\n",
       " 'fondation Geiser ( 7ème )',\n",
       " 'idées : A. place Nations B. place entrée salle assemblées SDN , Genève',\n",
       " 'aménagement décoration terre - plein Notre-Dame , Genève',\n",
       " 'école , Porrentruy-394',\n",
       " 'agrandissement Infirmerie Yverdon',\n",
       " 'aménagement place Vernier',\n",
       " 'petites villas maisons familiales Genève',\n",
       " 'fontaine souvenir Auguste Forel parc Valency-384',\n",
       " ': attribution prix diplômes meilleures constructions ( 1935 ) , Genève',\n",
       " 'Concours/ attribution prix diplômes meilleures constructions ( 1935 ) , Genève',\n",
       " 'architecture construction immeuble ossature métallique',\n",
       " 'idées nouveaux abattoirs Yverdon',\n",
       " 'idées construction bâtiment administratif aménagement Place Riponne Lausanne',\n",
       " 'idées aménagement bâtiment administratif Riponne aménagement abords',\n",
       " 'idées bâtiment administratif aménagement abords-81',\n",
       " 'aménagement propriété Château Beaulieu , Lausanne',\n",
       " 'aménagement débouché avenue Paix place Albert Thomas , place entrée BIT',\n",
       " 'construction Temple Viller',\n",
       " 'pavillon suisse Exposition internationale Paris , 1937',\n",
       " 'pavillon suisse Exposition internationale Paris , 1937',\n",
       " 'pavillon suisse Exposition internationale Paris , 1937',\n",
       " 'bains Allenmoos , Zürich',\n",
       " 'bâtiment service plateau Champel , Genève',\n",
       " 'bâtiment service plateau Champel , Genève',\n",
       " 'crématoire , Vevey',\n",
       " ': attribution prix diplômes meilleures façades genevoises',\n",
       " 'Concours/ attribution prix diplômes meilleures façades genevoises',\n",
       " 'Kirchgemeindehaus Rosière ( ~Maison Paroisse Rosière ) , Bienne . Concours',\n",
       " 'architecture édification bâtiment universitaire',\n",
       " 'architecture édification bâtiment universitaire Fribourg',\n",
       " 'école quartier Places , Fribourg',\n",
       " 'école quartier Places , Fribourg',\n",
       " 'suppression passage niveau CFF , Territet , aménagement abords',\n",
       " 'crematorium',\n",
       " 'Concours/ attribution prix diplômes meilleures constructions ( 1935 - 1936 ) , Genève',\n",
       " 'bâtiment communal Epesses',\n",
       " 'annexe Maison Vessy ( Pavillon Galland ) , Genève-378',\n",
       " 'école Genthod',\n",
       " 'Concours/ attribution diplômes meilleures constructions ( 1937 - 1938 ) , Genève',\n",
       " 'idées aménagement haut rue Fontaine',\n",
       " 'temple Rosiaz , Pully-377',\n",
       " 'projet bâtiments scolaires , Bulle',\n",
       " 'agrandissement église St. Martin construction Maison commune Viège',\n",
       " 'maisons familiales , Neuchâtel',\n",
       " 'agrandissement cathédrale Sion',\n",
       " 'construction groupe scolaire',\n",
       " 'reconstruction Abbaye',\n",
       " 'restauration hôtel Ville',\n",
       " 'Rendu bâtiment fédéral Berne',\n",
       " 'décoration bandeau Pavillon Eynard , Genève',\n",
       " 'cimetière Sierre',\n",
       " 'maison école Orsières',\n",
       " 'captivité',\n",
       " 'aménagement centre civique',\n",
       " 'école fédérale gymnastique sport , Macolin',\n",
       " 'monument mémoire peintre F. Hodler , Genève',\n",
       " 'halle gymnastique sports aménagement terrain jeux Locle',\n",
       " 'Varia , dossiers urbanisme concours',\n",
       " 'idées agrandissement temple Champel , Genève',\n",
       " 'agrandissement restauration église abbatiale cathédrale Saint-Maurice exhaussement Abbaye',\n",
       " 'hôpital cantonal',\n",
       " 'étude bâtiment destiné Ecole supérieure jeunes filles , Lausannee',\n",
       " 'bâtiment gare Glion',\n",
       " 'centre touristique Montreux',\n",
       " 'monument mémoire Girardet fontaines publiques',\n",
       " 'bâtiment administratif ( préfecture ) Berne',\n",
       " 'auberge couronne',\n",
       " 'bâtiment école Ascona',\n",
       " 'bâtiment école Ascona',\n",
       " 'terrain sports Cully',\n",
       " 'restreint hangar avions halle montage aérodrome Cointrin ( Genève )',\n",
       " 'idées raccordement Canal transhelvétique lac Léman - v1',\n",
       " 'idées raccordement Canal transhélvétique lac Léman - v2',\n",
       " 'nouveaux bâtiments Laboratoire fédéral essais matériaux ETH , Altstetten - Schlieren',\n",
       " 'nouveaux bâtiments Laboratoire fédéral essais matériaux ETH , Zürich',\n",
       " 'bâtiment scolaire Moutier ( Jura bernois )',\n",
       " 'Museum Histoire Naturelle',\n",
       " 'bâtiment Crédit foncier vaudois , Aigle',\n",
       " 'école secondaire jeunes filles Bienne',\n",
       " 'salle réunion mairie Plan - Ouates ( Genève )',\n",
       " 'restreint centre paroissial Plan-les-Ouates , Genève',\n",
       " 'église Bozingen / Boujean',\n",
       " 'buffet gare Sion',\n",
       " 'halles véhicules moteur',\n",
       " 'école primaire Geyisried , Bienne',\n",
       " 'grande salle restaurant Gare , Granges',\n",
       " 'école , Langnau',\n",
       " 'sculpture',\n",
       " 'Ecole Médecine',\n",
       " '( 1er degré ) décoration oeuvre sculpture entrée Clinique ophtalmologique Genève',\n",
       " 'international projet reconstruction ville Izmir ( Turquie )',\n",
       " 'international clinique Istanboul',\n",
       " 'Banque populaire Viège , appartements',\n",
       " 'groupe scolaire commune Glis ( Haut-Valais )',\n",
       " 'groupe scolaire pavillon école enfantine , Tour-de-Peilz',\n",
       " '( 1er degré ) construction hôpital suisse Paris',\n",
       " '( 1er degré ) bâtiment usage Banque cantonale Valais , Sion',\n",
       " 'nouvelle église San Salvador',\n",
       " 'international aménagement urbain abords installations ferroviaires gares Schifflange Esch/ Belval - Usines',\n",
       " 'école Hinterriedli , Bienne',\n",
       " 'chapelle funéraire , Lengnau',\n",
       " 'école primaire Pieterlen',\n",
       " 'Ecole Secondaire Malleray , Concours',\n",
       " 'école secondaire Bözingen / Boujean , Bienne',\n",
       " 'idées vue aménagement voies circulation rue Mont-Blanc Grand-Quai , Genève',\n",
       " 'international plan extension Ankara',\n",
       " 'magasin Globus , Bienne',\n",
       " 'centre touristique Saut-du-Doubs',\n",
       " 'collège secondaire mixte Béthusy , Lausanne',\n",
       " 'Pont-route Rhin',\n",
       " 'grande salle locaux annexes Boudry ( Neuchâtel )',\n",
       " 'nouvelle Clinique infantile Genève',\n",
       " 'salle réunion , Cologny , Genève',\n",
       " 'restreint construction collège Tramelan',\n",
       " 'idées aménagement terrains Pavement Hermitage , Lausanne',\n",
       " 'bâtiments scolaires Saint-Maurice ( Valais )',\n",
       " 'aménagement place Nations , Genève',\n",
       " 'aménagement propriété \" Bois Croisettes \" , Lausanne',\n",
       " 'aménagement quartiers Jeannerets Jaluse',\n",
       " 'école agriculture Viège ( Valais )',\n",
       " 'étude immeubles communaux Tour-de-Peilz ( Vaud )',\n",
       " 'groupe scolaire Pierrefleur',\n",
       " 'bâtiment destiné Ecole complémentaire professionelle , Ecole supérieure commerce Ecole complémentaire commerciale ville Delémont',\n",
       " 'hôpital asile vieillards Tavel ( Fribourg )',\n",
       " 'nouvelle école primaire construire Marronniers , Yverdon',\n",
       " 'piscine bâtiment administratif Bienne',\n",
       " 'usine Fabriques assortiments réunies , Bienne',\n",
       " 'villas',\n",
       " '( 1er degré ) groupe scolaire école cantonale Beaux - Arts art appliqué avenue Elysée , Lausanne',\n",
       " 'aménagement terrains Aargauerstalden Viktoriastrasse construction bâtiments administratifs , Berne',\n",
       " 'aménagement \" Communal \" piscine patinoire',\n",
       " 'aménagement centre Locle',\n",
       " 'aménagement quartier Monts',\n",
       " 'Institut vétérinaire Berne',\n",
       " 'gare Berne',\n",
       " 'réalisation cuisine modèle organisé Novelectric',\n",
       " 'centre paroissial Montbrillant',\n",
       " 'centre paroissial Montbrillant , Genève',\n",
       " 'collège Corcelles - Cormondrèche ( Neuchâtel )',\n",
       " 'grande salle Avenches',\n",
       " 'succursale SBG ( Schweizerische Bankgeselschaft ) , Bienne',\n",
       " 'Centre paroissial \" Forges \" , Chaux-de-Fonds',\n",
       " 'nouvelles écoles professionelles Sion',\n",
       " 'construction maison congrès , Genève',\n",
       " 'construction école commerce , Genève',\n",
       " 'bâtiment administratif dépôt central Compagnie Vaudoise Electricité , Morges',\n",
       " 'bâtiment scolaire Montreux - centre',\n",
       " 'bâtiment scolaire Montreux - Clarens',\n",
       " 'Centre paroissial quartier Forges , Chaux-de-Fonds',\n",
       " 'collège secondaire Saint-Imier',\n",
       " 'école Commerce Genève',\n",
       " 'Palazzo dei Congressi Vita Sett , Ascona',\n",
       " 'Autoroute Genève - Lausanne : pont Boiron Nyon pont Asse',\n",
       " 'Autoroute Genève - Lausanne : pont Boiron Nyon pont Asse',\n",
       " 'étude groupe scolaire , Pully',\n",
       " 'utilisation terrain ouest parc Mon-Repos , Lausanne',\n",
       " 'Banque cantonale , Fribourg',\n",
       " 'idées aménagement quais , Bienne',\n",
       " 'aménagement centre paroissial scolaire Planta - - , Sion',\n",
       " 'aménagement quartier Chamblandes',\n",
       " 'Autoroute Genève - Lausanne : pont Venoge RC n° 76',\n",
       " 'bâtiment Gymnase cantonal',\n",
       " 'bâtiment Gymnase cantonal , Neuchâtel',\n",
       " 'Centre études Trevano , Locarno',\n",
       " 'Centre études Trevano , Locarno',\n",
       " 'groupe scolaire Charmettes , Neuchâtel',\n",
       " 'immeuble Organisation mondiale Santé / OMS , Genève',\n",
       " 'plan quartier Eplatures Chaux-de-Fonds',\n",
       " 'étude aménagement Tunis',\n",
       " 'ferme colonisation type Bevaix',\n",
       " '( 1er degré)pour salle manifestations théâtre Neuchâtel',\n",
       " 'idée aménagement terrains S.I. Monteiron Préverenges',\n",
       " 'aménagement rive Saint-Blaise , Neuchâtel',\n",
       " 'aménagement quartier Verger',\n",
       " 'Centre paroissial Saint-Matthieu , Lausanne',\n",
       " 'temple Saint-Jacques locaux scolaires , Chissiez , Lausanne',\n",
       " 'groupe scolaire salle gymnastique Guin ( Fribourg )',\n",
       " 'maison communale école Pregassona , Tessin',\n",
       " 'Ecole normale Porrentruy',\n",
       " 'gare Zurich',\n",
       " 'groupe scolaire Pully',\n",
       " 'groupe scolaire secondaire Orbe',\n",
       " 'gymnase , Bienne',\n",
       " 'groupe scolaire primaire Chaux-de-Fonds',\n",
       " '/ Expertises Projets',\n",
       " 'gymnase Bienne',\n",
       " 'Maison européenne 1963',\n",
       " 'Ecole , Chêne - Bourg',\n",
       " 'Palazzo dei Congressi , Lugano',\n",
       " 'Eglise Notre-Dame Paix , Chaux-de-Fonds',\n",
       " 'home aveugles âgés , Ecublens',\n",
       " 'école normale , Porrentruy',\n",
       " 'église Gland',\n",
       " 'nouvelle école secondaire ménagère Viège',\n",
       " 'station épuration eaux idées aménagement quartier Aviron , Vevey',\n",
       " 'Nuovo Ospedale Civico di Lugano',\n",
       " 'aménagement place Marché Montreux',\n",
       " 'aménagement place Halles - Hôtel Ville , Lutry',\n",
       " 'Institut Sainte-Croix , Tour-de-Trême',\n",
       " 'groupe scolaire Wünnewyl',\n",
       " 'Temple Servette',\n",
       " 'temple Servette',\n",
       " 'ensemble paroissial catholique Locle',\n",
       " 'école normale instituteurs Porrentruy',\n",
       " 'Projet Mount Olympus : 3 résidences Hollywood',\n",
       " 'Marina ( Uni 2 ) , Genève',\n",
       " 'école secondaire régionale Colombier ( Neuchâtel )',\n",
       " 'Centre professionnel , Genève',\n",
       " 'centre scolaire Lucens',\n",
       " 'Projets construction Piscine , Prilly',\n",
       " 'bâtiment personnel hôpital district Martigny',\n",
       " 'centre paroissial Saint-Joseph Delémont',\n",
       " 'gymnase cantonal Chaux-de-Fonds',\n",
       " 'gymnase cantonal Chaux Fonds : projet Sophie',\n",
       " 'Gymnase cantonal Montagnes , Chaux-de-Fonds',\n",
       " 'transformations Hôtel Alpha - Palmiers , Lausanne',\n",
       " 'nouvelle clinique pédiatrique Hôpital Ile Berne',\n",
       " 'Jury centre communal , Wetzikon',\n",
       " 'idées centre civique , Chêne - Bougeries',\n",
       " 'église catholique St. Etienne ( Sallaz)Lausanne : projet Adieu Berthe',\n",
       " 'église protestante Sion',\n",
       " 'intégration oeuvres art collège secondaire Nyon',\n",
       " 'future église catholique Saint-Etienne ( Sallaz ) Lausanne',\n",
       " 'paroisse protestante , Sion : projet Aglae',\n",
       " 'piscine Prilly',\n",
       " 'Collège secondaire , Locle',\n",
       " 'groupe scolaire Bergières',\n",
       " 'Musée horlogerie ville Chaux-de-Fonds',\n",
       " 'pont Bahyse autoroute Léman ( N9 )',\n",
       " 'collège secondaire Locle',\n",
       " 'Jury sélection école Kleinfeld , Lengnau',\n",
       " 'idées Ecole polytechnique fédérale Lausanne',\n",
       " 'reconstruction siège Genevoise , Genève',\n",
       " 'pont Chandelard ( autoroute Léman N9 )',\n",
       " '- soumission halles usages multiples places armes',\n",
       " 'Jury centre sportif , Zollikon',\n",
       " 'idées aménagement quartier Planta , Sion',\n",
       " 'projets nouvelle Ecole secondaire Naters',\n",
       " 'projets centre scolaire Salvan',\n",
       " 'projets centre scolaire Verbier',\n",
       " 'Ecole Belvédère , Chêne - Bougeries',\n",
       " 'école secondaire Naters : projet Flexibel',\n",
       " 'centre scolaire Verbier : projet Monzeur',\n",
       " 'centre scolaire sportif Saint-Aubin ( FR )',\n",
       " 'pont Felsenau , tronçon Brünnen - Wankdorf autoroute N1 , Berne',\n",
       " 'centre scolaire secondaire , Monthey',\n",
       " '- soumission ponts Lutrive autoroute Léman N9',\n",
       " 'aménagement Veyrier',\n",
       " 'international Université Florence',\n",
       " 'international Foire Dakar',\n",
       " 'international Foire Dakar',\n",
       " 'aménagement noyau historique nouvelle Station fédérale recherche génie rural Tänikon',\n",
       " 'place Planta',\n",
       " 'centre technique rurale nouvelle Station fédérale recherche génie rural Tänikon',\n",
       " 'entrepôt poste atelier - garage centrale téléphonique Nidau , Bienne',\n",
       " 'projets vue aménagement domaine Viktoria , Köniz - Wabern',\n",
       " '- soumission viaduc lac Gruyère ( Autoroute N 12 Vevey - Berne )',\n",
       " '- soumission viaduc accès jonction Aigle autoroute Léman N9',\n",
       " 'Jury école secondaire Neuenegg',\n",
       " 'idées Centre enseignement secondaire supérieur vaudois ( CESSEV )',\n",
       " 'projets Collège primaire halle gymnastique Cornaux',\n",
       " 'appel avant-projets relatifs bâtimenbts places armes Chamblon-sur-Yverdon Moudon',\n",
       " 'appel avant-projets relatifs bâtimenbts places armes Chamblon-sur-Yverdon Moudon',\n",
       " 'centre scolaire Saint-Nicolas : projet Stägu',\n",
       " 'Groupe scolaire Arnold Reymond bâtiment administratif communal',\n",
       " 'viaduc Piota Negra , zone Piottino autoroute Chiasso-Saint-Gothard',\n",
       " 'Centre régional scolaire Gampel',\n",
       " 'Collège régional Loèche',\n",
       " 'International Hotel , Abu Dhabi',\n",
       " 'Jury centre formation CFF Loewenberg , Morat',\n",
       " 'projet nouvelle école douanes Liestal',\n",
       " 'aménagement Valsainte',\n",
       " 'centre scolaire Grimisuat : projet TOP',\n",
       " 'idée aménagement site Casino , Morges',\n",
       " 'idées aménagement centre village Gland',\n",
       " 'projet Conservatoire musique Lausanne',\n",
       " 'projets centre diocésain Fribourg',\n",
       " 'école commerce Martigny',\n",
       " 'Banque Etat Fribourg',\n",
       " 'viaduc Ruina ( autoroute N2 , Chiasso-Saint-Gothard )',\n",
       " '- soumission pont Veveyse Fégire ( autoroute N 12 Vevey - Fribourg - Berne )',\n",
       " '- soumission ponts Talent ( autoroute N1 Lausanne - Berne )',\n",
       " 'Jury école douaniers , Liestal',\n",
       " 'centre instruction Protection civile , Lausanne',\n",
       " 'bâtiment \" Poste \" Rivaz',\n",
       " 'institut formation professionnelle',\n",
       " '\" Hôtel Ouchy - Antares \" , Lausanne',\n",
       " 'Mobilière Suisse , Berne',\n",
       " 'Agence centrale recherches Comité international Croix - Rouge ( CICR ) , Genève',\n",
       " 'complexe \" Beausobre \" Morges',\n",
       " 'Jury bâtiment administratif Mobilière , Berne',\n",
       " 'Jury complexe sportif Jeunes - Rives , Neuchâtel',\n",
       " '( 1er degré ) Etablissement médico-social \" Baumettes \" Renens environs',\n",
       " 'EPFL Ecublens ( étape , secteur Ouest )',\n",
       " 'CESSNOV Yverdon',\n",
       " 'bâtiment personnes âgées Orbe',\n",
       " 'complexe sportif Crans-près-Céligny',\n",
       " 'Jury agrandissement Ecole supérieure Commerce , Neuchâtel',\n",
       " 'bâtiment administratif , Bienne : Bâtiment administratif district',\n",
       " 'Lancy - Sud , Lancy',\n",
       " 'Musée Croix - Rouge , Genève',\n",
       " 'EPFL , 2ème phase',\n",
       " 'bâtiments universitaires Neuchâtel',\n",
       " 'centre scolaire sud Chavannes-près-Renens',\n",
       " 'tribunal cantonal Hermitage Lausanne',\n",
       " 'Archives cantonales vaudoises',\n",
       " 'bâtiment communal Duillier',\n",
       " 'bâtiment communal Duillier',\n",
       " 'bâtiment police , Monthey',\n",
       " 'centre scolaire Montana - Village',\n",
       " 'Jury concstruction bâtiments universitaires Jeunes - Rives , Neuchâtel',\n",
       " 'centre scolaire Montana : projet 31546',\n",
       " 'idées logements Grangette',\n",
       " 'idées logements Praz Séchaud',\n",
       " 'Home \" Repos \" , Neuveville',\n",
       " 'ancien Palais Expositions , Genève',\n",
       " 'école primaire Loèche-les-Bains : projet 100001',\n",
       " 'Cité Suchard Neuchâtel',\n",
       " 'nouvelle affectation Caserne Lausanne',\n",
       " 'hôptital régional Bienne',\n",
       " 'salle communale Estavayer-le-Lac',\n",
       " 'salle polyvalente Auvernier',\n",
       " 'Jury aménagement centre localité Boll - Sinneringen , Vechigen',\n",
       " 'Jury Ecole professionnelle Oberland - Ost , Interlaken',\n",
       " 'Jury extension Ecole cantonale Luegeten , Zug',\n",
       " 'Jury bâtiment polyvalent , Aarburg',\n",
       " 'Jury salle sport polyvalente , Däniken',\n",
       " 'bâtiment administration district , Bienne',\n",
       " 'technikum cantonal , St - Imier',\n",
       " 'logements Préverenges',\n",
       " 'école Arbaz : projet 130143',\n",
       " 'Ecole construction Fédération vaudoise entrepreneurs ( FVE ) Tolochenaz',\n",
       " 'école Bouveret',\n",
       " 'école Bouveret : projet 645013',\n",
       " 'Maison Commune Lavigny',\n",
       " 'salle polyvalente Evouettes',\n",
       " 'Prieuré Perroy',\n",
       " 'Théâtre Monthey',\n",
       " 'bâtiment Services Industriels logements',\n",
       " 'centre sport , Berne Wankdorf',\n",
       " 'groupe scolaire salle gymnastique Forel - Lavaux',\n",
       " 'Ecole professionelle Lausanne',\n",
       " 'salle spectacle Monthey : projet 123123',\n",
       " 'salle spectacles Monthey',\n",
       " 'salle polyvalente Etoy',\n",
       " '- Commune Lausanne',\n",
       " 'Jury hangar bus Kreuzzelg , Wettingen',\n",
       " 'Jury invitation EMS Roggwil',\n",
       " 'bâtiments publics Aran - Villette',\n",
       " 'locaux service logements Ballaigues',\n",
       " 'gares Saignelégier+Le Noirmont',\n",
       " 'logements jeunes Lausanne',\n",
       " 'Gare Bulle',\n",
       " 'restauration église Mase',\n",
       " 'Werkhof 9 : projet 921021',\n",
       " 'collège Ruettes , Nyon',\n",
       " 'quartier Crochetan - Cotterg Monthey',\n",
       " 'Werkhof N9 , Simplon - Dorf',\n",
       " 'Centre communal scolaire Arzier - Muids',\n",
       " 'Centre vie enfantine Valency',\n",
       " 'Centre scolaire , sportif logements Chéserex',\n",
       " 'centre sportif loisir Crans',\n",
       " 'Gymnase Ecole supérieure commerce Nyon',\n",
       " 'Ecole supérieure commerce Sierre',\n",
       " 'Jury bâtiment paroissial , Wanden an der Aare',\n",
       " 'Can Pallet , Mataro',\n",
       " 'logements Yverdon-les-Bains',\n",
       " 'salles classe logements Giez',\n",
       " 'Ecole professionelle commerciale Chablais Aigle',\n",
       " 'Ecole professionnelle commerciale Chablais , Aigle',\n",
       " 'Home personnes âgées vallée Tavannes Reconvilier',\n",
       " 'Centre culturel communal Viège',\n",
       " 'Centre sportif Sentier',\n",
       " 'collège secondaire Gland',\n",
       " 'collège secondaire Gland',\n",
       " 'Home personnes âgées malades chroniques Moûtier',\n",
       " 'immeuble services industriels techniques Martigny',\n",
       " 'Programme Home , district Moutier',\n",
       " 'réaffectation centre pénitencier Santa Verdiana , Florence',\n",
       " 'Genève - Cointrin : Halle frêt aéroport',\n",
       " 'aménagement intérieur halle sport Sierre',\n",
       " 'hôpital Sierre : projet 837480',\n",
       " 'maison arrêts préventive Côte',\n",
       " 'logements sociaux \" Toises \" , Coppet',\n",
       " 'Vignettes Montana',\n",
       " 'centre commercial Sion',\n",
       " 'centre paroissial église St - Marcel , Delémont',\n",
       " 'collège Chavornay',\n",
       " 'collège Renens',\n",
       " 'parking , route Clémenty , Nyon',\n",
       " 'construction administrative communale Mont-sur-Lausanne',\n",
       " 'grande salle centre tennis Martigny',\n",
       " 'piscine salle gymnastique Porrentruy',\n",
       " 'Jury centre cours sport , Wohlen',\n",
       " 'Jury centre loisirs sports Rheinau , Thusis',\n",
       " 'Jury centre loisirs sports , Klosters',\n",
       " 'Jury salle sport terrain Grendelmatte , Riehen',\n",
       " 'Chauderon Nord Lausanne',\n",
       " 'bâtiments service Villars - Sainte - Croix',\n",
       " 'locaux service Chexbres',\n",
       " 'salles gymnastique spectacle Landeron',\n",
       " 'salles gymnastique locaux Protection civile Corcelles - Cormondrèche',\n",
       " 'ancienne papeterie Bulle',\n",
       " 'Centre police cantonale Mont-sur-Lausanne',\n",
       " 'collège secondaire \" Terre Sainte \" , Coppet',\n",
       " 'Pavillon architecture Lausanne',\n",
       " 'réaménagement secteur gare , Nidau',\n",
       " 'collège Corsier-sur-Vevey',\n",
       " 'habitat industriel Givisiez',\n",
       " 'grande salle Corsier-sur-Vevey',\n",
       " 'Jury habitat industriel Faye , Givisiez',\n",
       " 'Jury aménagement plateau Pérolle',\n",
       " 'Jury installations sportives Trottacher , Kloten',\n",
       " 'Jury école secondaire salle gymnastique , Riggisberg',\n",
       " 'habitations Aubonne',\n",
       " 'ilôt Riponne - Tunnel Lausanne',\n",
       " 'construction place Sans-Nom Chaux - de- Fonds',\n",
       " 'musée archéologie Neuchâtel',\n",
       " 'bâtiment Société banque suisse ( SBS ) , Renens',\n",
       " 'centre Pré-Formation Rolle',\n",
       " 'centre rencontres , spectacles loisirs , Moutier',\n",
       " 'Centre scolaire Collombey - Muraz',\n",
       " 'nouvel Hôpital Montreux',\n",
       " 'parking gare Montreux',\n",
       " 'aménagement ancienne cité chemins fer , Conakry',\n",
       " '\" Gare Flon \" Lausanne',\n",
       " 'place Hôtel Ville bâtiment administratif Monthey',\n",
       " 'concept aménagement Viège - Ouest',\n",
       " 'réaménagement gare place gare , Olten',\n",
       " 'ateliers Stuag , Studen',\n",
       " 'portails tunnel autoroute Transjurane N 16',\n",
       " 'théâtre Neuchâtel',\n",
       " 'école secondaire Porrentruy',\n",
       " 'salle spectacle locaux protection civile Colombier',\n",
       " ', Barcelone',\n",
       " 'Jury idée château Köniz',\n",
       " 'extension école supérieure commerce Lausanne',\n",
       " 'construction 4 portails tunnel transjurane N16',\n",
       " 'maison étudiants équipements sportifs \" Cèdres \" Lausanne',\n",
       " 'place Marché Bex',\n",
       " 'bâtiment postal Sion 1',\n",
       " 'centre entretien administration Delémont autoroute N 16',\n",
       " 'relais autoroutier Bursins',\n",
       " 'Ouchy - Front lac Lausanne',\n",
       " 'bâtiment administratif cantonal Chaux-de-Fonds',\n",
       " 'centre communal Ecublens',\n",
       " 'centre primaire scolaire Orsières',\n",
       " 'Jury exension siège SBS / SBV ( Société banque Suisse ) , Bienne',\n",
       " 'architecture centre Vuillermet Lausanne',\n",
       " 'mobilier urbain',\n",
       " 'Cité - Lausanne',\n",
       " 'aménagement site Géronde Sierre',\n",
       " 'gare Morges',\n",
       " '\" Murtenhof \" Morat',\n",
       " '\" Pendule Foucault \" , Lycée cantonal Porrentruy',\n",
       " 'Centre entretien autoroute N 5 Boudry',\n",
       " 'centre scolaire Hermitage Lausanne',\n",
       " 'Centre professionnel Delémont',\n",
       " 'centre scolaire locaux service feu , Monthey',\n",
       " 'passerelle Rhône Sion',\n",
       " 'Jury invitation bâtiment Sandoz / Wander Monbijoustrasse , Berne',\n",
       " 'Projet réaménagement centre Samarcande , Ouzbékistan',\n",
       " 'agrandissement entreprise \" CORUM \" Chaux-de-Fonds',\n",
       " 'aménagement centre village Founex',\n",
       " 'école stations agricoles Grange - Verney Moudon',\n",
       " 'hôpital Gruyère Riaz',\n",
       " 'bâtiment corporatif AVE Sion',\n",
       " 'centre sportif centre protection civile Couvet',\n",
       " 'jardin Pérolles Fribourg',\n",
       " 'centre sportif communal \" Iles \" Yverdon-les-Bains',\n",
       " 'Jury centre sportif centre protection civile , Couvet',\n",
       " '( 2e degré ) centre sportif centre protection civile Couvet',\n",
       " 'habitation personnel poste gardes-frontière Villeneuve',\n",
       " 'bâtiment administration cantonale BAC Morges',\n",
       " 'bâtiment Police Sûreté- CB3 Mont-sur-Lausanne',\n",
       " 'centre communal \" Grand Pré \" Cheseaux',\n",
       " 'Centre entretien autoroute Sierre',\n",
       " 'concept aménagement secteur \" Praz \" Cugy',\n",
       " 'Quartier Nord Ecole Polytechnique fédérale ( EPFL )',\n",
       " 'centre administratif Cortaillod',\n",
       " 'maison feu Crans - Montana',\n",
       " 'international musée Prado , Madrid',\n",
       " 'Paroisse catholique St - Amédée , Lausanne',\n",
       " 'centre scolaire sportif Prehl , Morat',\n",
       " 'idées réorganisation Place Château Lausanne',\n",
       " 'foyer personnes polyhandicapées , Malleray : Pimpinière',\n",
       " 'église , Rome',\n",
       " 'Projet complexe paroissial Rome',\n",
       " 'centre enseignement secondaire supérieur formation professionnelle , Morges',\n",
       " 'centre enseignement secondaire supérieur centre enseignement professionnel Marcelin , Morges',\n",
       " 'salle gymnastique Tannay',\n",
       " 'requalification environnementale aire ancienne fonderie , Susa',\n",
       " 'centre scolaire Bresse Vétroz',\n",
       " 'musée éthnographie Genève',\n",
       " 'école cantonale degré diplôme Fribourg',\n",
       " 'nouvelle clinique établissement thermal Lavey-les-Bains',\n",
       " 'centre scolaire ( cycle orientation ) Collombey - Muraz',\n",
       " 'Jeux Olympiques Sion 2006 : patinoire Martigny',\n",
       " 'Jury extension hotel ESSM , Macolin',\n",
       " 'pont Rhône Souste , Loèche',\n",
       " 'Exposition nationale suisse 2002 : Arteplage Morat',\n",
       " 'Lausanne Jardins 2000',\n",
       " 'Centre exploitation routes nationales ( CeRN ) , Bursins',\n",
       " 'collège Tombay II , Bussigny-près-Lausanne',\n",
       " 'cycle orientation Gruyère , Tour-de-Trême',\n",
       " 'école technique \" CIFOM \" , Locle',\n",
       " 'groupe scolaire économique Ouches , Genève',\n",
       " 'Gymnase intercantonal Broye , Payerne',\n",
       " 'équipements collectifs communaux \" Pommier \" , Grand-Saconnex',\n",
       " 'bâtiment service incendie secours , police cantonale juges instruction , Chaux-de-Fonds',\n",
       " 'halle atelier place armes Bure',\n",
       " 'amphithéâtre Nyon ( mise valeur vestiges archéologiques construction lieu visite spectacle )',\n",
       " 'extension Gymnase Burier , Tour-de-Peilz',\n",
       " 'transformation agrandissement stade olympique Pontaise , Lausanne',\n",
       " 'bâtiment scolaire , Porrentruy',\n",
       " 'bâtiment place armes Bière',\n",
       " 'salle sport gymnase Beaulieu , Lausanne',\n",
       " 'cération portail sud tunnel Glion , Montreux',\n",
       " 'école culture générale commerce post-obligatoire \" Rolliet \" , Plan-les-Ouates',\n",
       " 'reconstruction ville Chauny',\n",
       " 'centre touristique Montreux',\n",
       " 'Pénitencier Bochuz ( Plaine Orbe )',\n",
       " 'Société amélioration logement ( section romande )',\n",
       " 'aménagement terrains ancienne gare Bienne',\n",
       " 'auberge communale grande salle Echandens',\n",
       " 'restreint architecture pavillon Suisse exposition internationale \" Arts techniques vie moderne \" Paris 1937',\n",
       " 'idées Centre civique Chênes - Bougeries ( Genève )',\n",
       " 'projets Centre paroissial oecuménique Ittigen',\n",
       " 'aménagement nouvelle plage Lausanne',\n",
       " 'architecture construction bâtiments administration fédéraux , Berne , concours',\n",
       " 'architecture construction bâtiments administration fédéraux , Berne , B',\n",
       " 'bâtiments administration Berne',\n",
       " 'monument commémoratif fondation Union postale universelle',\n",
       " 'idées révision plan extension ville Lausanne',\n",
       " 'idées grande salle Maison peuple',\n",
       " 'hôtel Banque Populaire Suisse , Zürich',\n",
       " 'garderie enfants classes enfantines aménagement place jeux enfants , Montelly , Lausanne',\n",
       " 'aménagement place gare , Berne',\n",
       " 'agrandissement asile St - Josefsheim , Souste(Loèche )',\n",
       " 'aménagement usine gaz , Sion',\n",
       " 'école quartier Auge , Fribourg',\n",
       " 'aménagement général construction tribunes couvertes Parc Sports , Pontaise , Lausanne',\n",
       " 'petites villas maisons familiales Genève',\n",
       " 'étude nouvel hôtel postes Neuchâtel',\n",
       " 'Hôtel Postes Télégraphes Berne',\n",
       " 'Hôtel Postes Télégraphes Schaffhausen',\n",
       " 'Banque Populaire Suisse Fribourg',\n",
       " 'Hospice Ed . Sandoz - David , Lausanne',\n",
       " 'bâtiment Société Romande Electricité , Vevey',\n",
       " 'construction collège Renens',\n",
       " 'Ecole Cantonale Agriculture Cernier',\n",
       " 'école enfantine Tour-de-Peilz',\n",
       " 'usine Coulouvrenière , Genève',\n",
       " 'parlement fédéral bâtiments administratifs Berne',\n",
       " 'Ecole cantonale agriculture , Moudon',\n",
       " 'projets Centre régional sud district Brigue',\n",
       " 'école régionale sud district Brig - Glis : projet PEP',\n",
       " 'Hôtel communal , Locle',\n",
       " 'aménagement place \" Prés Ville \"',\n",
       " 'collège classique Lausanne',\n",
       " 'centre sportif municipal Diekirch ( Luxembourg )',\n",
       " 'immeuble administratif Saudi Arabian Airlines Corporation , Dejddah ( Arabie Saoudite )',\n",
       " 'art funéraire',\n",
       " 'émulation - 2e classe - Esquisse : lavoir abreuvoir publics',\n",
       " 'Palais Tribunal fédéral Lausanne',\n",
       " 'monument commémoratif fondation République Neuchâtel',\n",
       " 'exécution Pont Chauderon - Montbenon',\n",
       " 'idées village Bönigen',\n",
       " 'constructions élever terrains M. E. Decker , place Chauderon , Lausanne',\n",
       " 'projet plage , Vevey-374',\n",
       " 'Centre secondaire supérieur Nord vaudois , Yverdon',\n",
       " 'émulation : 1ère classe : Esquisse : plafond galerie',\n",
       " 'bâtiment école cantonale , Winterthur',\n",
       " 'bâtiment école garçons , Sion',\n",
       " 'Société amélioration logement ( section romande : types habitations économiques )',\n",
       " 'théâtre Winterthour',\n",
       " 'construction centre communal , Confignon',\n",
       " 'idées étude plans nouvel hôtel Banque Populaire Suisse Fribourg',\n",
       " 'Ecole agriculture',\n",
       " 'idées plage aménagement port , Nyon-98',\n",
       " 'caserne pompiers garage municipal Plainpalais , Genève',\n",
       " 'émulation - 1ère classe - Rendu : hôtel Ministre Guerre',\n",
       " 'école primaire Sion',\n",
       " 'école cantonale Lugano',\n",
       " 'école secondaire jeunes Berne ; ;',\n",
       " 'fontaines publiques',\n",
       " 'projet fontaine Genève',\n",
       " 'reconstruction clocher Temple Nyon',\n",
       " 'église Fontenay , Yverdon',\n",
       " 'Eglise Fontenay , Yverdon . Projet concours',\n",
       " 'idées extension ville Monthey-65',\n",
       " 'idées extension ville Monthey-66',\n",
       " 'monument mémoire Nicolas Chenaux',\n",
       " 'groupe scolaire , mairie aménagement place village Meyrin',\n",
       " 'aménagement quartier Bellevaux , Lausanne',\n",
       " 'aménagement quartier habitation Moutier',\n",
       " 'émulation - 1ère classe - Rendu : école Ponts Chaussées',\n",
       " 'plan extension voies communication Ville Lausanne',\n",
       " 'idées aménagement place Überbiel , Viège',\n",
       " 'idées plan aménagement quartier Lancy Onex',\n",
       " 'idées plan extension Lenzburg',\n",
       " 'architecture groupe scolaire Pully - N',\n",
       " 'plan rectification , embellissement assainissement ville Genève',\n",
       " 'international Siège organisations Internationales Centre Conférences Vienne',\n",
       " 'hôpital cantonal Zürich instituts Faculté médecine',\n",
       " 'voie navigable reliant Rhône lac Genève',\n",
       " 'ornement ajustement - 1ère classe - Rendu - Prix Rougevin : 1886 : catafalque honneur Paul Baudry , Membre Institut France , Commandeur Légion honneur',\n",
       " 'Banque Cantonale Vaudoise , Lausanne',\n",
       " 'Centre professionnel Genève',\n",
       " 'cité paroissiale Pérolles - Fribourg',\n",
       " 'école chimie Genève',\n",
       " 'agrandissement café restaurant Rotonde , Neuchâtel',\n",
       " 'monument commémoratif victoire Playa Giron , Cuba',\n",
       " 'émulation - 2e classe - rendu : asile nuit hommes',\n",
       " 'Société contrôle Bienne',\n",
       " 'fondation Geiser ( 8eme ) , règlement concours',\n",
       " 'nouvelle école chimie pharmacie Genève',\n",
       " 'centre adm . tech . Sion(SICAT ): projet 031163',\n",
       " 'émulation - 2e classe - esquisse : fontaine',\n",
       " 'maison tourisme Verbier',\n",
       " 'émulation : 1ère classe : Esquisse : salle séances assemblées ordinaires Académie Beaux - Arts Institut France',\n",
       " 'bâtiment administratif fédéral Bern',\n",
       " 'hotel postes Lausanne',\n",
       " 'pont routier Broye Salavaux',\n",
       " 'émulation - 1ère classe - rendu : Faculté droit',\n",
       " 'émulation - 2e classe - Rendu : école botanique',\n",
       " 'plan extension Renens',\n",
       " 'construction résidences Hollywood , USA',\n",
       " 'construction pont-route chemin fer funiculaire Territet - Glion',\n",
       " 'casernement place armes Génie , Bremgarten ( Argovie )',\n",
       " 'Types architecture permettant donner caractère ensemble constructions élever front quais Arve , Plainpalais ( Genève )',\n",
       " 'bâtiment fédéral postes Lucerne',\n",
       " 'aménagement décoration terre - plein Notre-Dame , Genève',\n",
       " 'aménagement Place Saint-François Lausanne',\n",
       " 'nouvelle église di Cristo Risorto , Lugano',\n",
       " 'collège St - Jean , Genève',\n",
       " 'église , Ins',\n",
       " 'émulation - 1ère classe - Rendu : hippodrome',\n",
       " 'habitations rurales , Genève',\n",
       " 'principal animation aménagement touristique baie Tanger',\n",
       " 'bâtiment administration ( Policlinique universitaire ) , Lausanne',\n",
       " 'groupe scolaire Chêne - Bourg',\n",
       " 'liaison économique usines Serrières chemin fer Suisse occidentale',\n",
       " 'façades Usine Verbois , Genève',\n",
       " 'cité ouvrière Usines Tornos , Moutier',\n",
       " 'aménagement rives lac Lugano',\n",
       " 'idées plan extension Commune Viège-78',\n",
       " 'idées plan extension Commune Viège-79',\n",
       " 'idées équipements collectifs Praz - Queron , Romanel-sur-Lausanne',\n",
       " 'école supérieure jeunes filles Lausanne',\n",
       " 'Centre affaires Fontivegge - Bellochio',\n",
       " 'idées poour bâtiment Musée beaux - arts , Bâle',\n",
       " 'idées bâtiment administratif aménagement abords-80',\n",
       " 'idées bâtiment administratif aménagement abords-82',\n",
       " 'décoration panneaux cage escalier Palais fédéral justice , Lausanne',\n",
       " 'maison européenne 1965',\n",
       " 'pont Rhin Bâle',\n",
       " 'annexe Maison Vessy ( Pavillon Galland ) , Genève-379',\n",
       " 'idées Grande Salle , Tour-de-Peilz',\n",
       " 'temple Rosiaz , Pully-376',\n",
       " 'établissements pénitentiaires , Rolle',\n",
       " 'établissements pénitentiaires , Rolle',\n",
       " 'temple Mathod - Suscévaz',\n",
       " 'temple Mathod - Suscévaz',\n",
       " 'église , Langnau',\n",
       " 'monument Davel Lausanne',\n",
       " 'asainissement vieille ville Bellinzone',\n",
       " 'idées maisons bois',\n",
       " 'plan général extension Ville Berne communes suburbaines',\n",
       " 'halle fret Cointrin',\n",
       " 'maisons bon marché , Lyon',\n",
       " 'Banque Cantonale Thurgovienne',\n",
       " 'Banque Cantonale Thurgovienne',\n",
       " 'gymnase , Berne',\n",
       " 'gymnase , Berne',\n",
       " 'Centre Begnins Begnins',\n",
       " 'Hospice Vieillesse Genève',\n",
       " 'exécution Pont Chauderon - Montbenon , projet AL',\n",
       " 'aménagement propriété Château Beaulieu , Lausanne',\n",
       " 'aménagement propriété Château Beaulieu , Lausanne',\n",
       " 'agrandissement école supérieure commerce , Neuchâtel',\n",
       " 'nouvelles prisons district élever Bois-Mermet',\n",
       " '( 1er degré ) pénitencier cantonal Payerne',\n",
       " 'Hôtel Ville Baulmes',\n",
       " 'bâtiment scolaire Coudre ( Neuchâtel )',\n",
       " 'immeuble administratif Place Château Nyon',\n",
       " 'projets bâtiments exploitation compagnie gardes-fortifications Lavey',\n",
       " 'projets bâtiment administratif Saint-Maurice',\n",
       " 'bâtiment administratif Saint-Maurice : projet MIL',\n",
       " 'salle polyvalente Evouettes : projet polyvalence',\n",
       " 'projets Station - Abris construire Chantepoulet , place Longemalle , Genève',\n",
       " 'museum histoire naturelle , Genève',\n",
       " 'bâtiment école primaire salle gymnastique , Vallorbe',\n",
       " 'Ecole Commerce Chaux - - Fonds-380',\n",
       " 'Ecole Commerce Chaux - - Fonds-381',\n",
       " 'Bürgerspital , Soleure',\n",
       " 'centre paroissial Riddes',\n",
       " 'centre paroissial Riddes : projet Oriscus',\n",
       " 'Bâtiment école Eaux - Vives ( Genève )',\n",
       " 'Groupe Grütli Palais fédéral',\n",
       " 'maisons rapport Fribourg',\n",
       " 'maisons rapport Fribourg',\n",
       " 'Maisons ouvrières , Lausanne , projet AL',\n",
       " 'église Arosa',\n",
       " 'construction grande salle réunions jardin anglais , ( ) , Neuchâtel',\n",
       " 'construction restaurant été , bord lac ( ) , Neuchâtel',\n",
       " 'construction grande salle réunions , emplacement laissé libre choix concurrents ( second ) , Neuchâtel',\n",
       " 'bâtiments Maternité Pédiatrie , Lausanne',\n",
       " 'bâtiments Maternité Pédiatrie , Lausanne',\n",
       " 'international Architecture , Paris ( Olympie moderne )',\n",
       " 'Société immobilière Bellevue , Neuchâtel ( cité Suchard Serrières )',\n",
       " 'Bâtiment école salle gymnastique Courtelary',\n",
       " 'présentation projets réalisant meilleures conditions utiliser force Rhône Plaine ( Usine n° 3 )',\n",
       " 'bâtiment école primaire salle gymnastique Planches - Montreux',\n",
       " \"idées plan lotissement mise valeur propriétés réunies , Hohliebe , Spiegelet Lochgut Gurten Berne , surface 300'000 m2\",\n",
       " 'Bâtiment école Herisau',\n",
       " \"l ' Eglise Spiez\",\n",
       " \"l ' Eglise Spiez\",\n",
       " 'Eglise catholique , Cure Grande Salle , Lausanne , avenue Rumine',\n",
       " 'Hospice Vieillards Invalides Delémont',\n",
       " 'projet bâtiment écoles primaires secondaires , Fribourg',\n",
       " 'international Monument Réformation , Genève',\n",
       " 'Pavillon musique Promenade lac , Genève',\n",
       " 'étude pont Rhin , Rheinfelden',\n",
       " 'construcions Société suisse assurances générales vie humaine , Zürich',\n",
       " 'constructions Société suisse assurances générales vie humaine , Zürich',\n",
       " 'marché couvert Vevey',\n",
       " 'hôtel ville Lutry',\n",
       " 'décoration façade Musée art histoire , Genève',\n",
       " 'construction nouvelles écoles Tavannes',\n",
       " 'bâtiment scolaire Monthey',\n",
       " 'fondation Geiser ( pont Rhin )',\n",
       " 'raccordement Ville Neuchâtel RN 5',\n",
       " 'reconstruction \" Château roi Christian \" , Copenhagen',\n",
       " 'idées école supérieure jeunes filles , Genève',\n",
       " 'Musée Beaux - Arts , Bâle ( Elisabethenschanze )',\n",
       " 'idées plan aménagement Interlaken',\n",
       " 'général bâtiment administration Lucerne',\n",
       " 'façades gare Bienne',\n",
       " 'façades gare Bienne',\n",
       " 'aménagement Ecoles quartier Milchbuck Zürich',\n",
       " 'idées bâtiment Banque cantonale , Soleure',\n",
       " 'pont , Stockholm',\n",
       " 'Palais Congrès , Lugano',\n",
       " 'international centre télévision Tunis',\n",
       " 'Collège suburbain Vauseyon , Neuchâtel',\n",
       " 'Asyle Montevideo',\n",
       " 'aménagement Waidareal , Zürich',\n",
       " 'esquisses modelage décoration sculpturale portail Gare Lucerne',\n",
       " 'esquisses modelage décoration sculpturale portail Gare Lucerne',\n",
       " 'construction ligne chemin fer travers Cordilière Andes',\n",
       " 'transformation Grand-Hôtel , Paris',\n",
       " 'bâtiment bourse Bâle',\n",
       " 'Bâtiment Bourse , Bâle',\n",
       " 'Chalets construire Mont-Soleil , St - Imier',\n",
       " 'Chalets construire Mont-Soleil , St - Imier',\n",
       " 'Palais Parlement Confédération australienne',\n",
       " 'Hôtel Postes Télégraphes , Chaux-de-Fonds',\n",
       " 'maison école primaire bâtiment usage halle gymnastique grande salle réunion , Peseux',\n",
       " 'construction ponts Nil , Caire',\n",
       " 'Bâtiment scolaire Colombier',\n",
       " 'élaboration projets ensemble hôtel Banque Nationale bâtiment Administration fédérale , Berne',\n",
       " 'Hôtel Banque cantonale neuchâteloise , Neuchâtel',\n",
       " 'Hôtel Banque cantonale neuchâteloise , Neuchâtel',\n",
       " 'Hôtel Ville , Soleure',\n",
       " 'Maison Vaudoise ( )',\n",
       " 'pont Chancy ( Genève )',\n",
       " 'aménagement centre Renens - Gare',\n",
       " 'musée Croix - Rouge , Genève',\n",
       " 'bâtiment administration Bienne',\n",
       " 'fondation Geiser ( 3eme )',\n",
       " 'fondation Geiser ( 3eme )',\n",
       " 'Crédit Foncier Vaudois reconstruction immeubles rue Petit-Rocher',\n",
       " 'plan urbanisation Lutry',\n",
       " 'ornement ajustement - 1ère classe - Rendu - Prix Rougevin : 1888 : tribune orgues église',\n",
       " 'bâtiment scolaire , Faoug',\n",
       " 'bâtiment scolaire , Faoug',\n",
       " 'hôpital régional Sion environs',\n",
       " 'aménagement Communs Clarens',\n",
       " 'immeuble Crédit Foncier vaudois Yverdon',\n",
       " 'idées plan directeur aménagement extension Commune Payerne-95',\n",
       " 'suppression passage niveau CFF , Territet , aménagement abords',\n",
       " 'éléments analytiques : 2e classe : Rendu : étude ordre ionique grec',\n",
       " 'international Plan Général vue organisation Parc Etat Topchider Belgrade',\n",
       " 'bâtiment voyageurs Genève - Cornavin',\n",
       " 'idées Centre sportif polyvalent Verbier',\n",
       " 'méthodes pratiques construction maisons béton coulé',\n",
       " 'centre paroissial Vernayaz',\n",
       " 'nouvelle maison école quartier Neuveville Fribourg',\n",
       " 'poste central pompiers , Lausanne',\n",
       " 'projets aménagement Bas-Perron , Genève',\n",
       " 'hôpital Lugano',\n",
       " 'idées aménagement quartier Bourg , Sierre',\n",
       " 'idées abattoir , Nyon',\n",
       " 'Bibliothèque nationale , Bureau fédéral propriété intellectuelle Bureau fédéral statistique',\n",
       " 'international logements éléments préfabriqués',\n",
       " 'monument Français Genève Volontaires suisses morts France',\n",
       " 'Monument Pierre Viret , Lausanne',\n",
       " 'plan aménagement Langenthal-372',\n",
       " 'plan aménagement Langenthal-373',\n",
       " 'Station fédérale recherches agronomiques Changins',\n",
       " 'nouveaux abattoirs Lausanne',\n",
       " 'maisons destinées logement personnel usine Verbois',\n",
       " 'chapelle crématoire cimetière Bois-de-Vaux , Lausanne',\n",
       " 'idées : gestion énergie bâtiment',\n",
       " 'monument Rinaldo Simen , Bellinzona',\n",
       " 'synagoge Chaux-de-Fonds',\n",
       " 'Casino Berne',\n",
       " 'bâtiments administration Câbleries Tréfileries Cossonay - Gare',\n",
       " 'bâtiment école sis quartiers Perolles - Beauregard - Vignettaz , Fribourg',\n",
       " 'gare Sion',\n",
       " 'gare Sion',\n",
       " 'maison paroisse presbytère réformés Sierre',\n",
       " 'bâtiment scolaire Morges',\n",
       " 'construction collège Ecublens ( Vaud )',\n",
       " 'Technicum Brugg - Windisch',\n",
       " 'centre communal paroissial Hérémence : projet Tzéna',\n",
       " 'ensemble paroissial communal Hérémence , Valais',\n",
       " 'projets groupe scolaire communes Penthalaz Penthaz',\n",
       " 'police Brigue',\n",
       " 'idées bâtiment administration Assurance immobilière canton Berne',\n",
       " 'centre culturel POSTE',\n",
       " 'passages souterrains destinés amélioration circulation',\n",
       " 'Architecture Sculpture Fontaine décorative Place Gare , Vevey-59',\n",
       " 'aménagement terrains Aargauerstalden Viktoriastrasse construction bâtiments administratifs , Berne',\n",
       " 'église réformée française , Bienne',\n",
       " 'urbanisation Varna',\n",
       " 'Banque populaire Broye : projet A.L.',\n",
       " 'Banque Populaire Broye , Payerne',\n",
       " 'Plan alignement construction',\n",
       " 'Banque populaire Broye',\n",
       " '( 2e degré ) parlement fédéral Berne',\n",
       " 'Hospice orthopédique Suisse Romande , Lausanne',\n",
       " 'collège Sion : projet talis qualis',\n",
       " 'collège classique , Lausanne-362',\n",
       " 'design mobilier gares',\n",
       " 'aménagement Cimetière Bois Vaux',\n",
       " 'idées bâtiment administratif Société Romande Electricité , Clarens-75',\n",
       " 'idées bâtiment administratif Société Romande Electricité , Clarens-74',\n",
       " 'idées aménagement rue Calvin',\n",
       " 'économiquement faibles Genève',\n",
       " 'bâtiment police Brig - Glis',\n",
       " 'atelier handicapés',\n",
       " 'bijouterie an 2000',\n",
       " 'plan extension ville Genève',\n",
       " 'Eglise Chailly , Lausanne',\n",
       " 'idées étude pont Pérolles , Fribourg',\n",
       " 'Temple Clarens',\n",
       " 'hôtel Banque cantonale neuchâteloise , Chaux-de-Fonds',\n",
       " 'idées aménagement urbain abords Palais Justice Bruxelles',\n",
       " 'Temple centre paroissial Châtelaine , Genève',\n",
       " 'Locle II',\n",
       " 'utilisation terrains Cercle Beau-Séjour , Lausanne',\n",
       " 'plan extension ville Lille',\n",
       " 'aménagement place Nations , Genève , jugemet',\n",
       " 'nouveaux bureaux Union nationale africaine Tanganyika ( TANU )',\n",
       " 'centre scolaire Viège : projet saagi',\n",
       " 'centre scolaire Viège',\n",
       " 'nouvelle infirmerie Rolle',\n",
       " 'bains lavoir Lausanne',\n",
       " 'Temple Saint-Marc , Lausanne',\n",
       " 'maison congrès',\n",
       " 'hôme personnes agées , Savièse ; ; ; ;',\n",
       " 'hôme personnes agées Vétroz',\n",
       " 'restauration monument Duc Brauschweig',\n",
       " 'gare Sofia',\n",
       " 'Hôtel Postes Genève',\n",
       " 'Ecole Cantonale Agriculture Morges',\n",
       " 'aménagement immeubles Société immobilière Faucon-Saint-Pierre , Lausanne',\n",
       " 'fontaine souvenir Auguste Forel parc Valency -382',\n",
       " 'fontaine souvenir Auguste Forel parc Valency -383',\n",
       " ...]"
      ]
     },
     "execution_count": 12,
     "metadata": {},
     "output_type": "execute_result"
    }
   ],
   "source": [
    "texts = [text.replace(\"concours \", \"\").strip() for text in texts]\n",
    "texts = [text.replace(\"Concours \", \"\").strip() for text in texts]\n",
    "texts"
   ]
  },
  {
   "cell_type": "code",
   "execution_count": 13,
   "metadata": {},
   "outputs": [
    {
     "name": "stderr",
     "output_type": "stream",
     "text": [
      "/home/cfoye/.pyenv/versions/impresso/lib/python3.11/site-packages/numba/np/ufunc/parallel.py:371: NumbaWarning: The TBB threading layer requires TBB version 2021 update 6 or later i.e., TBB_INTERFACE_VERSION >= 12060. Found TBB_INTERFACE_VERSION = 12050. The TBB threading layer is disabled.\n",
      "  warnings.warn(problem)\n"
     ]
    }
   ],
   "source": [
    "topics, probs = topic_model.fit_transform(texts)"
   ]
  },
  {
   "cell_type": "code",
   "execution_count": 14,
   "metadata": {},
   "outputs": [
    {
     "data": {
      "text/html": [
       "<div>\n",
       "<style scoped>\n",
       "    .dataframe tbody tr th:only-of-type {\n",
       "        vertical-align: middle;\n",
       "    }\n",
       "\n",
       "    .dataframe tbody tr th {\n",
       "        vertical-align: top;\n",
       "    }\n",
       "\n",
       "    .dataframe thead th {\n",
       "        text-align: right;\n",
       "    }\n",
       "</style>\n",
       "<table border=\"1\" class=\"dataframe\">\n",
       "  <thead>\n",
       "    <tr style=\"text-align: right;\">\n",
       "      <th></th>\n",
       "      <th>Topic</th>\n",
       "      <th>Count</th>\n",
       "      <th>Name</th>\n",
       "      <th>Representation</th>\n",
       "      <th>Representative_Docs</th>\n",
       "    </tr>\n",
       "  </thead>\n",
       "  <tbody>\n",
       "    <tr>\n",
       "      <th>0</th>\n",
       "      <td>-1</td>\n",
       "      <td>225</td>\n",
       "      <td>-1_société_meilleures_constructions_honneur</td>\n",
       "      <td>[société, meilleures, constructions, honneur, ...</td>\n",
       "      <td>[constructions Société suisse assurances génér...</td>\n",
       "    </tr>\n",
       "    <tr>\n",
       "      <th>1</th>\n",
       "      <td>0</td>\n",
       "      <td>149</td>\n",
       "      <td>0_école_ecole_écoles_institut</td>\n",
       "      <td>[école, ecole, écoles, institut, université, u...</td>\n",
       "      <td>[école secondaire Porrentruy, construction éco...</td>\n",
       "    </tr>\n",
       "    <tr>\n",
       "      <th>2</th>\n",
       "      <td>1</td>\n",
       "      <td>137</td>\n",
       "      <td>1_lausanne_zürich_palais_institut</td>\n",
       "      <td>[lausanne, zürich, palais, institut, ecole, éc...</td>\n",
       "      <td>[école supérieure jeunes filles Lausanne, Pala...</td>\n",
       "    </tr>\n",
       "    <tr>\n",
       "      <th>3</th>\n",
       "      <td>2</td>\n",
       "      <td>106</td>\n",
       "      <td>2_aménagement_villamont_touristique_quais</td>\n",
       "      <td>[aménagement, villamont, touristique, quais, a...</td>\n",
       "      <td>[aménagement quartier Villamont place Faucon, ...</td>\n",
       "    </tr>\n",
       "    <tr>\n",
       "      <th>4</th>\n",
       "      <td>3</td>\n",
       "      <td>61</td>\n",
       "      <td>3_bâtiment_bâtiments_bâtimenbts_coudre</td>\n",
       "      <td>[bâtiment, bâtiments, bâtimenbts, coudre, scol...</td>\n",
       "      <td>[appel avant-projets relatifs bâtimenbts place...</td>\n",
       "    </tr>\n",
       "    <tr>\n",
       "      <th>5</th>\n",
       "      <td>4</td>\n",
       "      <td>55</td>\n",
       "      <td>4_maison_maisons_congrès_villas</td>\n",
       "      <td>[maison, maisons, congrès, villas, européenne,...</td>\n",
       "      <td>[maison Congrès , Genève, Maison congrès , [ G...</td>\n",
       "    </tr>\n",
       "    <tr>\n",
       "      <th>6</th>\n",
       "      <td>5</td>\n",
       "      <td>53</td>\n",
       "      <td>5_centre_scolaire_viège_tunis</td>\n",
       "      <td>[centre, scolaire, viège, tunis, bresse, saagi...</td>\n",
       "      <td>[centre scolaire ( cycle orientation ) Collomb...</td>\n",
       "    </tr>\n",
       "    <tr>\n",
       "      <th>7</th>\n",
       "      <td>6</td>\n",
       "      <td>43</td>\n",
       "      <td>6_autoroute_lausanne_pont_ponts</td>\n",
       "      <td>[autoroute, lausanne, pont, ponts, autoroutier...</td>\n",
       "      <td>[autoroute Lausanne-Saint-Maurice N9 Pont Veve...</td>\n",
       "    </tr>\n",
       "    <tr>\n",
       "      <th>8</th>\n",
       "      <td>7</td>\n",
       "      <td>40</td>\n",
       "      <td>7_ville_extension_lille_morat</td>\n",
       "      <td>[ville, extension, lille, morat, suburbaines, ...</td>\n",
       "      <td>[plan extension ville Bienne, plan extension v...</td>\n",
       "    </tr>\n",
       "    <tr>\n",
       "      <th>9</th>\n",
       "      <td>8</td>\n",
       "      <td>39</td>\n",
       "      <td>8_musée_muséum_museum_histoire</td>\n",
       "      <td>[musée, muséum, museum, histoire, sculpture, a...</td>\n",
       "      <td>[Musée Beaux - Arts , Bâle, décoration façade ...</td>\n",
       "    </tr>\n",
       "    <tr>\n",
       "      <th>10</th>\n",
       "      <td>9</td>\n",
       "      <td>31</td>\n",
       "      <td>9_émulation_classe_académie_eglise</td>\n",
       "      <td>[émulation, classe, académie, eglise, passerel...</td>\n",
       "      <td>[émulation : 1ère classe : Esquisse : pavillon...</td>\n",
       "    </tr>\n",
       "    <tr>\n",
       "      <th>11</th>\n",
       "      <td>10</td>\n",
       "      <td>29</td>\n",
       "      <td>10_salle_salles_martigny_lausanne</td>\n",
       "      <td>[salle, salles, martigny, lausanne, constructi...</td>\n",
       "      <td>[idées : A. place Nations B. place entrée sall...</td>\n",
       "    </tr>\n",
       "    <tr>\n",
       "      <th>12</th>\n",
       "      <td>11</td>\n",
       "      <td>27</td>\n",
       "      <td>11_bâtiment_bâtiments_fédérale_administratif</td>\n",
       "      <td>[bâtiment, bâtiments, fédérale, administratif,...</td>\n",
       "      <td>[bâtiment administration Bienne, bâtiment admi...</td>\n",
       "    </tr>\n",
       "    <tr>\n",
       "      <th>13</th>\n",
       "      <td>12</td>\n",
       "      <td>27</td>\n",
       "      <td>12_jury_sportives_agrandissement_centre</td>\n",
       "      <td>[jury, sportives, agrandissement, centre, supé...</td>\n",
       "      <td>[Jury centre sportif , Zollikon, Jury agrandis...</td>\n",
       "    </tr>\n",
       "    <tr>\n",
       "      <th>14</th>\n",
       "      <td>13</td>\n",
       "      <td>26</td>\n",
       "      <td>13_église_eglise_sainte_protestante</td>\n",
       "      <td>[église, eglise, sainte, protestante, peseux, ...</td>\n",
       "      <td>[église Fontenay , Yverdon, église Sainte-Croi...</td>\n",
       "    </tr>\n",
       "    <tr>\n",
       "      <th>15</th>\n",
       "      <td>14</td>\n",
       "      <td>25</td>\n",
       "      <td>14_hôtel_postes_de_berne</td>\n",
       "      <td>[hôtel, postes, de, berne, café, restaurant, z...</td>\n",
       "      <td>[Hôtel Postes Télégraphes , Chaux-de-Fonds, Hô...</td>\n",
       "    </tr>\n",
       "    <tr>\n",
       "      <th>16</th>\n",
       "      <td>15</td>\n",
       "      <td>24</td>\n",
       "      <td>15_société_bureau_bureaux_nationale</td>\n",
       "      <td>[société, bureau, bureaux, nationale, statisti...</td>\n",
       "      <td>[Société amélioration logement ( section roman...</td>\n",
       "    </tr>\n",
       "    <tr>\n",
       "      <th>17</th>\n",
       "      <td>16</td>\n",
       "      <td>23</td>\n",
       "      <td>16_chaux_fonds_paroissiale_primaire</td>\n",
       "      <td>[chaux, fonds, paroissiale, primaire, de, ches...</td>\n",
       "      <td>[groupe scolaire primaire Chaux-de-Fonds, idée...</td>\n",
       "    </tr>\n",
       "    <tr>\n",
       "      <th>18</th>\n",
       "      <td>17</td>\n",
       "      <td>20</td>\n",
       "      <td>17_gare_gares_berne_sion</td>\n",
       "      <td>[gare, gares, berne, sion, ile, eglise, nation...</td>\n",
       "      <td>[gare Sion, gare Berne, gare Berne]</td>\n",
       "    </tr>\n",
       "    <tr>\n",
       "      <th>19</th>\n",
       "      <td>18</td>\n",
       "      <td>20</td>\n",
       "      <td>18_gymnastique_salle_salles_école</td>\n",
       "      <td>[gymnastique, salle, salles, école, gym, montr...</td>\n",
       "      <td>[maison école primaire bâtiment usage halle gy...</td>\n",
       "    </tr>\n",
       "    <tr>\n",
       "      <th>20</th>\n",
       "      <td>19</td>\n",
       "      <td>18</td>\n",
       "      <td>19_monument_rambert_fondation_clarens</td>\n",
       "      <td>[monument, rambert, fondation, clarens, àmontr...</td>\n",
       "      <td>[érection monument mémoire soldats genevois mo...</td>\n",
       "    </tr>\n",
       "    <tr>\n",
       "      <th>21</th>\n",
       "      <td>20</td>\n",
       "      <td>18</td>\n",
       "      <td>20_cantonal_cantonale_gymnase_canton</td>\n",
       "      <td>[cantonal, cantonale, gymnase, canton, chaux, ...</td>\n",
       "      <td>[bâtiment Gymnase cantonal , Neuchâtel, gymnas...</td>\n",
       "    </tr>\n",
       "    <tr>\n",
       "      <th>22</th>\n",
       "      <td>21</td>\n",
       "      <td>18</td>\n",
       "      <td>21_hôpital_hopital_bürgerspital_montreux</td>\n",
       "      <td>[hôpital, hopital, bürgerspital, montreux, bie...</td>\n",
       "      <td>[Hôpital Montreux, nouvel Hôpital Montreux, no...</td>\n",
       "    </tr>\n",
       "    <tr>\n",
       "      <th>23</th>\n",
       "      <td>22</td>\n",
       "      <td>17</td>\n",
       "      <td>22_façades_façade_constructions_classe</td>\n",
       "      <td>[façades, façade, constructions, classe, meill...</td>\n",
       "      <td>[: attribution prix diplômes meilleures façade...</td>\n",
       "    </tr>\n",
       "    <tr>\n",
       "      <th>24</th>\n",
       "      <td>23</td>\n",
       "      <td>15</td>\n",
       "      <td>23_temple_clarens_renens_national</td>\n",
       "      <td>[temple, clarens, renens, national, servette, ...</td>\n",
       "      <td>[Temple Clarens, reconstruction Temple nationa...</td>\n",
       "    </tr>\n",
       "    <tr>\n",
       "      <th>25</th>\n",
       "      <td>24</td>\n",
       "      <td>15</td>\n",
       "      <td>24_paroissial_centre_catholique_caractère</td>\n",
       "      <td>[paroissial, centre, catholique, caractère, de...</td>\n",
       "      <td>[centre paroissial Riddes, centre paroissial M...</td>\n",
       "    </tr>\n",
       "    <tr>\n",
       "      <th>26</th>\n",
       "      <td>25</td>\n",
       "      <td>15</td>\n",
       "      <td>25_vaudois_reconstruction_abbaye_foncier</td>\n",
       "      <td>[vaudois, reconstruction, abbaye, foncier, cré...</td>\n",
       "      <td>[bâtiment Crédit foncier vaudois , Aigle, Créd...</td>\n",
       "    </tr>\n",
       "    <tr>\n",
       "      <th>27</th>\n",
       "      <td>26</td>\n",
       "      <td>15</td>\n",
       "      <td>26_scolaire_groupe_pully_chêne</td>\n",
       "      <td>[scolaire, groupe, pully, chêne, architecture,...</td>\n",
       "      <td>[étude groupe scolaire , Pully, construction g...</td>\n",
       "    </tr>\n",
       "    <tr>\n",
       "      <th>28</th>\n",
       "      <td>27</td>\n",
       "      <td>14</td>\n",
       "      <td>27_hôtel_hotel_ville_district</td>\n",
       "      <td>[hôtel, hotel, ville, district, vallorbe, plac...</td>\n",
       "      <td>[Hôtel Ville Vallorbe, Hôtel Ville Vallorbe, h...</td>\n",
       "    </tr>\n",
       "    <tr>\n",
       "      <th>29</th>\n",
       "      <td>28</td>\n",
       "      <td>13</td>\n",
       "      <td>28_internationale_expositions_internationales_...</td>\n",
       "      <td>[internationale, expositions, internationales,...</td>\n",
       "      <td>[pavillon suisse Exposition internationale Par...</td>\n",
       "    </tr>\n",
       "    <tr>\n",
       "      <th>30</th>\n",
       "      <td>29</td>\n",
       "      <td>13</td>\n",
       "      <td>29_populaire_banque_broye_barcelone</td>\n",
       "      <td>[populaire, banque, broye, barcelone, projet, ...</td>\n",
       "      <td>[Banque populaire Broye : projet A.L., Banque ...</td>\n",
       "    </tr>\n",
       "  </tbody>\n",
       "</table>\n",
       "</div>"
      ],
      "text/plain": [
       "    Topic  Count                                               Name  \\\n",
       "0      -1    225        -1_société_meilleures_constructions_honneur   \n",
       "1       0    149                      0_école_ecole_écoles_institut   \n",
       "2       1    137                  1_lausanne_zürich_palais_institut   \n",
       "3       2    106          2_aménagement_villamont_touristique_quais   \n",
       "4       3     61             3_bâtiment_bâtiments_bâtimenbts_coudre   \n",
       "5       4     55                    4_maison_maisons_congrès_villas   \n",
       "6       5     53                      5_centre_scolaire_viège_tunis   \n",
       "7       6     43                    6_autoroute_lausanne_pont_ponts   \n",
       "8       7     40                      7_ville_extension_lille_morat   \n",
       "9       8     39                     8_musée_muséum_museum_histoire   \n",
       "10      9     31                 9_émulation_classe_académie_eglise   \n",
       "11     10     29                  10_salle_salles_martigny_lausanne   \n",
       "12     11     27       11_bâtiment_bâtiments_fédérale_administratif   \n",
       "13     12     27            12_jury_sportives_agrandissement_centre   \n",
       "14     13     26                13_église_eglise_sainte_protestante   \n",
       "15     14     25                           14_hôtel_postes_de_berne   \n",
       "16     15     24                15_société_bureau_bureaux_nationale   \n",
       "17     16     23                16_chaux_fonds_paroissiale_primaire   \n",
       "18     17     20                           17_gare_gares_berne_sion   \n",
       "19     18     20                  18_gymnastique_salle_salles_école   \n",
       "20     19     18              19_monument_rambert_fondation_clarens   \n",
       "21     20     18               20_cantonal_cantonale_gymnase_canton   \n",
       "22     21     18           21_hôpital_hopital_bürgerspital_montreux   \n",
       "23     22     17             22_façades_façade_constructions_classe   \n",
       "24     23     15                  23_temple_clarens_renens_national   \n",
       "25     24     15          24_paroissial_centre_catholique_caractère   \n",
       "26     25     15           25_vaudois_reconstruction_abbaye_foncier   \n",
       "27     26     15                     26_scolaire_groupe_pully_chêne   \n",
       "28     27     14                      27_hôtel_hotel_ville_district   \n",
       "29     28     13  28_internationale_expositions_internationales_...   \n",
       "30     29     13                29_populaire_banque_broye_barcelone   \n",
       "\n",
       "                                       Representation  \\\n",
       "0   [société, meilleures, constructions, honneur, ...   \n",
       "1   [école, ecole, écoles, institut, université, u...   \n",
       "2   [lausanne, zürich, palais, institut, ecole, éc...   \n",
       "3   [aménagement, villamont, touristique, quais, a...   \n",
       "4   [bâtiment, bâtiments, bâtimenbts, coudre, scol...   \n",
       "5   [maison, maisons, congrès, villas, européenne,...   \n",
       "6   [centre, scolaire, viège, tunis, bresse, saagi...   \n",
       "7   [autoroute, lausanne, pont, ponts, autoroutier...   \n",
       "8   [ville, extension, lille, morat, suburbaines, ...   \n",
       "9   [musée, muséum, museum, histoire, sculpture, a...   \n",
       "10  [émulation, classe, académie, eglise, passerel...   \n",
       "11  [salle, salles, martigny, lausanne, constructi...   \n",
       "12  [bâtiment, bâtiments, fédérale, administratif,...   \n",
       "13  [jury, sportives, agrandissement, centre, supé...   \n",
       "14  [église, eglise, sainte, protestante, peseux, ...   \n",
       "15  [hôtel, postes, de, berne, café, restaurant, z...   \n",
       "16  [société, bureau, bureaux, nationale, statisti...   \n",
       "17  [chaux, fonds, paroissiale, primaire, de, ches...   \n",
       "18  [gare, gares, berne, sion, ile, eglise, nation...   \n",
       "19  [gymnastique, salle, salles, école, gym, montr...   \n",
       "20  [monument, rambert, fondation, clarens, àmontr...   \n",
       "21  [cantonal, cantonale, gymnase, canton, chaux, ...   \n",
       "22  [hôpital, hopital, bürgerspital, montreux, bie...   \n",
       "23  [façades, façade, constructions, classe, meill...   \n",
       "24  [temple, clarens, renens, national, servette, ...   \n",
       "25  [paroissial, centre, catholique, caractère, de...   \n",
       "26  [vaudois, reconstruction, abbaye, foncier, cré...   \n",
       "27  [scolaire, groupe, pully, chêne, architecture,...   \n",
       "28  [hôtel, hotel, ville, district, vallorbe, plac...   \n",
       "29  [internationale, expositions, internationales,...   \n",
       "30  [populaire, banque, broye, barcelone, projet, ...   \n",
       "\n",
       "                                  Representative_Docs  \n",
       "0   [constructions Société suisse assurances génér...  \n",
       "1   [école secondaire Porrentruy, construction éco...  \n",
       "2   [école supérieure jeunes filles Lausanne, Pala...  \n",
       "3   [aménagement quartier Villamont place Faucon, ...  \n",
       "4   [appel avant-projets relatifs bâtimenbts place...  \n",
       "5   [maison Congrès , Genève, Maison congrès , [ G...  \n",
       "6   [centre scolaire ( cycle orientation ) Collomb...  \n",
       "7   [autoroute Lausanne-Saint-Maurice N9 Pont Veve...  \n",
       "8   [plan extension ville Bienne, plan extension v...  \n",
       "9   [Musée Beaux - Arts , Bâle, décoration façade ...  \n",
       "10  [émulation : 1ère classe : Esquisse : pavillon...  \n",
       "11  [idées : A. place Nations B. place entrée sall...  \n",
       "12  [bâtiment administration Bienne, bâtiment admi...  \n",
       "13  [Jury centre sportif , Zollikon, Jury agrandis...  \n",
       "14  [église Fontenay , Yverdon, église Sainte-Croi...  \n",
       "15  [Hôtel Postes Télégraphes , Chaux-de-Fonds, Hô...  \n",
       "16  [Société amélioration logement ( section roman...  \n",
       "17  [groupe scolaire primaire Chaux-de-Fonds, idée...  \n",
       "18                [gare Sion, gare Berne, gare Berne]  \n",
       "19  [maison école primaire bâtiment usage halle gy...  \n",
       "20  [érection monument mémoire soldats genevois mo...  \n",
       "21  [bâtiment Gymnase cantonal , Neuchâtel, gymnas...  \n",
       "22  [Hôpital Montreux, nouvel Hôpital Montreux, no...  \n",
       "23  [: attribution prix diplômes meilleures façade...  \n",
       "24  [Temple Clarens, reconstruction Temple nationa...  \n",
       "25  [centre paroissial Riddes, centre paroissial M...  \n",
       "26  [bâtiment Crédit foncier vaudois , Aigle, Créd...  \n",
       "27  [étude groupe scolaire , Pully, construction g...  \n",
       "28  [Hôtel Ville Vallorbe, Hôtel Ville Vallorbe, h...  \n",
       "29  [pavillon suisse Exposition internationale Par...  \n",
       "30  [Banque populaire Broye : projet A.L., Banque ...  "
      ]
     },
     "execution_count": 14,
     "metadata": {},
     "output_type": "execute_result"
    }
   ],
   "source": [
    "topic_model.get_topic_info()"
   ]
  },
  {
   "cell_type": "code",
   "execution_count": 15,
   "metadata": {},
   "outputs": [],
   "source": [
    "doc_topic_df = topic_model.get_document_info(texts)\n"
   ]
  },
  {
   "cell_type": "code",
   "execution_count": 26,
   "metadata": {},
   "outputs": [
    {
     "data": {
      "application/vnd.plotly.v1+json": {
       "config": {
        "plotlyServerURL": "https://plot.ly"
       },
       "data": [
        {
         "customdata": [
          [
           0,
           "école | ecole | écoles | institut | université",
           149
          ],
          [
           1,
           "lausanne | zürich | palais | institut | ecole",
           137
          ],
          [
           2,
           "aménagement | villamont | touristique | quais | agrandissement",
           106
          ],
          [
           3,
           "bâtiment | bâtiments | bâtimenbts | coudre | scolaire",
           61
          ],
          [
           4,
           "maison | maisons | congrès | villas | européenne",
           55
          ],
          [
           5,
           "centre | scolaire | viège | tunis | bresse",
           53
          ],
          [
           6,
           "autoroute | lausanne | pont | ponts | autoroutier",
           43
          ],
          [
           7,
           "ville | extension | lille | morat | suburbaines",
           40
          ],
          [
           8,
           "musée | muséum | museum | histoire | sculpture",
           39
          ],
          [
           9,
           "émulation | classe | académie | eglise | passerelle",
           31
          ],
          [
           10,
           "salle | salles | martigny | lausanne | construction",
           29
          ],
          [
           11,
           "bâtiment | bâtiments | fédérale | administratif | berne",
           27
          ],
          [
           12,
           "jury | sportives | agrandissement | centre | supérieure",
           27
          ],
          [
           13,
           "église | eglise | sainte | protestante | peseux",
           26
          ],
          [
           14,
           "hôtel | postes | de | berne | café",
           25
          ],
          [
           15,
           "société | bureau | bureaux | nationale | statistique",
           24
          ],
          [
           16,
           "chaux | fonds | paroissiale | primaire | de",
           23
          ],
          [
           17,
           "gare | gares | berne | sion | ile",
           20
          ],
          [
           18,
           "gymnastique | salle | salles | école | gym",
           20
          ],
          [
           19,
           "monument | rambert | fondation | clarens | àmontreux",
           18
          ],
          [
           20,
           "cantonal | cantonale | gymnase | canton | chaux",
           18
          ],
          [
           21,
           "hôpital | hopital | bürgerspital | montreux | bienne",
           18
          ],
          [
           22,
           "façades | façade | constructions | classe | meilleures",
           17
          ],
          [
           23,
           "temple | clarens | renens | national | servette",
           15
          ],
          [
           24,
           "paroissial | centre | catholique | caractère | delémont",
           15
          ],
          [
           25,
           "vaudois | reconstruction | abbaye | foncier | crédit",
           15
          ],
          [
           26,
           "scolaire | groupe | pully | chêne | architecture",
           15
          ],
          [
           27,
           "hôtel | hotel | ville | district | vallorbe",
           14
          ],
          [
           28,
           "internationale | expositions | internationales | exposition | 1937",
           13
          ],
          [
           29,
           "populaire | banque | broye | barcelone | projet",
           13
          ]
         ],
         "hovertemplate": "<b>Topic %{customdata[0]}</b><br>%{customdata[1]}<br>Size: %{customdata[2]}",
         "legendgroup": "",
         "marker": {
          "color": "#B0BEC5",
          "line": {
           "color": "DarkSlateGrey",
           "width": 2
          },
          "size": [
           149,
           137,
           106,
           61,
           55,
           53,
           43,
           40,
           39,
           31,
           29,
           27,
           27,
           26,
           25,
           24,
           23,
           20,
           20,
           18,
           18,
           18,
           17,
           15,
           15,
           15,
           15,
           14,
           13,
           13
          ],
          "sizemode": "area",
          "sizeref": 0.093125,
          "symbol": "circle"
         },
         "mode": "markers",
         "name": "",
         "orientation": "v",
         "showlegend": false,
         "type": "scatter",
         "x": [
          10.054759979248047,
          10.198004722595215,
          7.140793800354004,
          23.880809783935547,
          -8.542680740356445,
          8.987777709960938,
          5.97606086730957,
          6.921853065490723,
          -3.2610204219818115,
          10.454397201538086,
          8.500090599060059,
          23.79176902770996,
          23.606403350830078,
          10.538626670837402,
          -8.25168228149414,
          10.140216827392578,
          8.23412799835205,
          10.748316764831543,
          8.528154373168945,
          -2.79970121383667,
          10.303189277648926,
          5.7199835777282715,
          -3.448277711868286,
          -2.6539783477783203,
          8.570350646972656,
          6.941815376281738,
          8.81309700012207,
          -8.159192085266113,
          -3.2767417430877686,
          7.994849681854248
         ],
         "xaxis": "x",
         "y": [
          -1.2212421894073486,
          -2.038663148880005,
          -1.47347891330719,
          -0.312472939491272,
          14.158570289611816,
          -1.1516754627227783,
          -1.0597764253616333,
          -1.1753976345062256,
          4.006193161010742,
          -1.4702609777450562,
          -11.053521156311035,
          -0.22331397235393524,
          -0.03795310854911804,
          -0.8349749445915222,
          13.86768913269043,
          -1.2874542474746704,
          -0.5219553112983704,
          -0.6621504426002502,
          -11.0244779586792,
          4.136442184448242,
          -2.283510208129883,
          -0.8595761656761169,
          4.29855489730835,
          4.000555992126465,
          -0.8929930329322815,
          -1.233036994934082,
          -1.5014779567718506,
          13.77518367767334,
          4.005987644195557,
          -0.3079145550727844
         ],
         "yaxis": "y"
        }
       ],
       "layout": {
        "annotations": [
         {
          "showarrow": false,
          "text": "D1",
          "x": -9.824082851409912,
          "y": 1.7854032516479492,
          "yshift": 10
         },
         {
          "showarrow": false,
          "text": "D2",
          "x": 8.819424200057984,
          "xshift": 10,
          "y": 16.28235583305359
         }
        ],
        "height": 650,
        "hoverlabel": {
         "bgcolor": "white",
         "font": {
          "family": "Rockwell",
          "size": 16
         }
        },
        "legend": {
         "itemsizing": "constant",
         "tracegroupgap": 0
        },
        "margin": {
         "t": 60
        },
        "shapes": [
         {
          "line": {
           "color": "#CFD8DC",
           "width": 2
          },
          "type": "line",
          "x0": 8.819424200057984,
          "x1": 8.819424200057984,
          "y0": -12.711549329757691,
          "y1": 16.28235583305359
         },
         {
          "line": {
           "color": "#9E9E9E",
           "width": 2
          },
          "type": "line",
          "x0": -9.824082851409912,
          "x1": 27.46293125152588,
          "y0": 1.7854032516479492,
          "y1": 1.7854032516479492
         }
        ],
        "sliders": [
         {
          "active": 0,
          "pad": {
           "t": 50
          },
          "steps": [
           {
            "args": [
             {
              "marker.color": [
               [
                "red",
                "#B0BEC5",
                "#B0BEC5",
                "#B0BEC5",
                "#B0BEC5",
                "#B0BEC5",
                "#B0BEC5",
                "#B0BEC5",
                "#B0BEC5",
                "#B0BEC5",
                "#B0BEC5",
                "#B0BEC5",
                "#B0BEC5",
                "#B0BEC5",
                "#B0BEC5",
                "#B0BEC5",
                "#B0BEC5",
                "#B0BEC5",
                "#B0BEC5",
                "#B0BEC5",
                "#B0BEC5",
                "#B0BEC5",
                "#B0BEC5",
                "#B0BEC5",
                "#B0BEC5",
                "#B0BEC5",
                "#B0BEC5",
                "#B0BEC5",
                "#B0BEC5",
                "#B0BEC5"
               ]
              ]
             }
            ],
            "label": "Topic 0",
            "method": "update"
           },
           {
            "args": [
             {
              "marker.color": [
               [
                "#B0BEC5",
                "red",
                "#B0BEC5",
                "#B0BEC5",
                "#B0BEC5",
                "#B0BEC5",
                "#B0BEC5",
                "#B0BEC5",
                "#B0BEC5",
                "#B0BEC5",
                "#B0BEC5",
                "#B0BEC5",
                "#B0BEC5",
                "#B0BEC5",
                "#B0BEC5",
                "#B0BEC5",
                "#B0BEC5",
                "#B0BEC5",
                "#B0BEC5",
                "#B0BEC5",
                "#B0BEC5",
                "#B0BEC5",
                "#B0BEC5",
                "#B0BEC5",
                "#B0BEC5",
                "#B0BEC5",
                "#B0BEC5",
                "#B0BEC5",
                "#B0BEC5",
                "#B0BEC5"
               ]
              ]
             }
            ],
            "label": "Topic 1",
            "method": "update"
           },
           {
            "args": [
             {
              "marker.color": [
               [
                "#B0BEC5",
                "#B0BEC5",
                "red",
                "#B0BEC5",
                "#B0BEC5",
                "#B0BEC5",
                "#B0BEC5",
                "#B0BEC5",
                "#B0BEC5",
                "#B0BEC5",
                "#B0BEC5",
                "#B0BEC5",
                "#B0BEC5",
                "#B0BEC5",
                "#B0BEC5",
                "#B0BEC5",
                "#B0BEC5",
                "#B0BEC5",
                "#B0BEC5",
                "#B0BEC5",
                "#B0BEC5",
                "#B0BEC5",
                "#B0BEC5",
                "#B0BEC5",
                "#B0BEC5",
                "#B0BEC5",
                "#B0BEC5",
                "#B0BEC5",
                "#B0BEC5",
                "#B0BEC5"
               ]
              ]
             }
            ],
            "label": "Topic 2",
            "method": "update"
           },
           {
            "args": [
             {
              "marker.color": [
               [
                "#B0BEC5",
                "#B0BEC5",
                "#B0BEC5",
                "red",
                "#B0BEC5",
                "#B0BEC5",
                "#B0BEC5",
                "#B0BEC5",
                "#B0BEC5",
                "#B0BEC5",
                "#B0BEC5",
                "#B0BEC5",
                "#B0BEC5",
                "#B0BEC5",
                "#B0BEC5",
                "#B0BEC5",
                "#B0BEC5",
                "#B0BEC5",
                "#B0BEC5",
                "#B0BEC5",
                "#B0BEC5",
                "#B0BEC5",
                "#B0BEC5",
                "#B0BEC5",
                "#B0BEC5",
                "#B0BEC5",
                "#B0BEC5",
                "#B0BEC5",
                "#B0BEC5",
                "#B0BEC5"
               ]
              ]
             }
            ],
            "label": "Topic 3",
            "method": "update"
           },
           {
            "args": [
             {
              "marker.color": [
               [
                "#B0BEC5",
                "#B0BEC5",
                "#B0BEC5",
                "#B0BEC5",
                "red",
                "#B0BEC5",
                "#B0BEC5",
                "#B0BEC5",
                "#B0BEC5",
                "#B0BEC5",
                "#B0BEC5",
                "#B0BEC5",
                "#B0BEC5",
                "#B0BEC5",
                "#B0BEC5",
                "#B0BEC5",
                "#B0BEC5",
                "#B0BEC5",
                "#B0BEC5",
                "#B0BEC5",
                "#B0BEC5",
                "#B0BEC5",
                "#B0BEC5",
                "#B0BEC5",
                "#B0BEC5",
                "#B0BEC5",
                "#B0BEC5",
                "#B0BEC5",
                "#B0BEC5",
                "#B0BEC5"
               ]
              ]
             }
            ],
            "label": "Topic 4",
            "method": "update"
           },
           {
            "args": [
             {
              "marker.color": [
               [
                "#B0BEC5",
                "#B0BEC5",
                "#B0BEC5",
                "#B0BEC5",
                "#B0BEC5",
                "red",
                "#B0BEC5",
                "#B0BEC5",
                "#B0BEC5",
                "#B0BEC5",
                "#B0BEC5",
                "#B0BEC5",
                "#B0BEC5",
                "#B0BEC5",
                "#B0BEC5",
                "#B0BEC5",
                "#B0BEC5",
                "#B0BEC5",
                "#B0BEC5",
                "#B0BEC5",
                "#B0BEC5",
                "#B0BEC5",
                "#B0BEC5",
                "#B0BEC5",
                "#B0BEC5",
                "#B0BEC5",
                "#B0BEC5",
                "#B0BEC5",
                "#B0BEC5",
                "#B0BEC5"
               ]
              ]
             }
            ],
            "label": "Topic 5",
            "method": "update"
           },
           {
            "args": [
             {
              "marker.color": [
               [
                "#B0BEC5",
                "#B0BEC5",
                "#B0BEC5",
                "#B0BEC5",
                "#B0BEC5",
                "#B0BEC5",
                "red",
                "#B0BEC5",
                "#B0BEC5",
                "#B0BEC5",
                "#B0BEC5",
                "#B0BEC5",
                "#B0BEC5",
                "#B0BEC5",
                "#B0BEC5",
                "#B0BEC5",
                "#B0BEC5",
                "#B0BEC5",
                "#B0BEC5",
                "#B0BEC5",
                "#B0BEC5",
                "#B0BEC5",
                "#B0BEC5",
                "#B0BEC5",
                "#B0BEC5",
                "#B0BEC5",
                "#B0BEC5",
                "#B0BEC5",
                "#B0BEC5",
                "#B0BEC5"
               ]
              ]
             }
            ],
            "label": "Topic 6",
            "method": "update"
           },
           {
            "args": [
             {
              "marker.color": [
               [
                "#B0BEC5",
                "#B0BEC5",
                "#B0BEC5",
                "#B0BEC5",
                "#B0BEC5",
                "#B0BEC5",
                "#B0BEC5",
                "red",
                "#B0BEC5",
                "#B0BEC5",
                "#B0BEC5",
                "#B0BEC5",
                "#B0BEC5",
                "#B0BEC5",
                "#B0BEC5",
                "#B0BEC5",
                "#B0BEC5",
                "#B0BEC5",
                "#B0BEC5",
                "#B0BEC5",
                "#B0BEC5",
                "#B0BEC5",
                "#B0BEC5",
                "#B0BEC5",
                "#B0BEC5",
                "#B0BEC5",
                "#B0BEC5",
                "#B0BEC5",
                "#B0BEC5",
                "#B0BEC5"
               ]
              ]
             }
            ],
            "label": "Topic 7",
            "method": "update"
           },
           {
            "args": [
             {
              "marker.color": [
               [
                "#B0BEC5",
                "#B0BEC5",
                "#B0BEC5",
                "#B0BEC5",
                "#B0BEC5",
                "#B0BEC5",
                "#B0BEC5",
                "#B0BEC5",
                "red",
                "#B0BEC5",
                "#B0BEC5",
                "#B0BEC5",
                "#B0BEC5",
                "#B0BEC5",
                "#B0BEC5",
                "#B0BEC5",
                "#B0BEC5",
                "#B0BEC5",
                "#B0BEC5",
                "#B0BEC5",
                "#B0BEC5",
                "#B0BEC5",
                "#B0BEC5",
                "#B0BEC5",
                "#B0BEC5",
                "#B0BEC5",
                "#B0BEC5",
                "#B0BEC5",
                "#B0BEC5",
                "#B0BEC5"
               ]
              ]
             }
            ],
            "label": "Topic 8",
            "method": "update"
           },
           {
            "args": [
             {
              "marker.color": [
               [
                "#B0BEC5",
                "#B0BEC5",
                "#B0BEC5",
                "#B0BEC5",
                "#B0BEC5",
                "#B0BEC5",
                "#B0BEC5",
                "#B0BEC5",
                "#B0BEC5",
                "red",
                "#B0BEC5",
                "#B0BEC5",
                "#B0BEC5",
                "#B0BEC5",
                "#B0BEC5",
                "#B0BEC5",
                "#B0BEC5",
                "#B0BEC5",
                "#B0BEC5",
                "#B0BEC5",
                "#B0BEC5",
                "#B0BEC5",
                "#B0BEC5",
                "#B0BEC5",
                "#B0BEC5",
                "#B0BEC5",
                "#B0BEC5",
                "#B0BEC5",
                "#B0BEC5",
                "#B0BEC5"
               ]
              ]
             }
            ],
            "label": "Topic 9",
            "method": "update"
           },
           {
            "args": [
             {
              "marker.color": [
               [
                "#B0BEC5",
                "#B0BEC5",
                "#B0BEC5",
                "#B0BEC5",
                "#B0BEC5",
                "#B0BEC5",
                "#B0BEC5",
                "#B0BEC5",
                "#B0BEC5",
                "#B0BEC5",
                "red",
                "#B0BEC5",
                "#B0BEC5",
                "#B0BEC5",
                "#B0BEC5",
                "#B0BEC5",
                "#B0BEC5",
                "#B0BEC5",
                "#B0BEC5",
                "#B0BEC5",
                "#B0BEC5",
                "#B0BEC5",
                "#B0BEC5",
                "#B0BEC5",
                "#B0BEC5",
                "#B0BEC5",
                "#B0BEC5",
                "#B0BEC5",
                "#B0BEC5",
                "#B0BEC5"
               ]
              ]
             }
            ],
            "label": "Topic 10",
            "method": "update"
           },
           {
            "args": [
             {
              "marker.color": [
               [
                "#B0BEC5",
                "#B0BEC5",
                "#B0BEC5",
                "#B0BEC5",
                "#B0BEC5",
                "#B0BEC5",
                "#B0BEC5",
                "#B0BEC5",
                "#B0BEC5",
                "#B0BEC5",
                "#B0BEC5",
                "red",
                "#B0BEC5",
                "#B0BEC5",
                "#B0BEC5",
                "#B0BEC5",
                "#B0BEC5",
                "#B0BEC5",
                "#B0BEC5",
                "#B0BEC5",
                "#B0BEC5",
                "#B0BEC5",
                "#B0BEC5",
                "#B0BEC5",
                "#B0BEC5",
                "#B0BEC5",
                "#B0BEC5",
                "#B0BEC5",
                "#B0BEC5",
                "#B0BEC5"
               ]
              ]
             }
            ],
            "label": "Topic 11",
            "method": "update"
           },
           {
            "args": [
             {
              "marker.color": [
               [
                "#B0BEC5",
                "#B0BEC5",
                "#B0BEC5",
                "#B0BEC5",
                "#B0BEC5",
                "#B0BEC5",
                "#B0BEC5",
                "#B0BEC5",
                "#B0BEC5",
                "#B0BEC5",
                "#B0BEC5",
                "#B0BEC5",
                "red",
                "#B0BEC5",
                "#B0BEC5",
                "#B0BEC5",
                "#B0BEC5",
                "#B0BEC5",
                "#B0BEC5",
                "#B0BEC5",
                "#B0BEC5",
                "#B0BEC5",
                "#B0BEC5",
                "#B0BEC5",
                "#B0BEC5",
                "#B0BEC5",
                "#B0BEC5",
                "#B0BEC5",
                "#B0BEC5",
                "#B0BEC5"
               ]
              ]
             }
            ],
            "label": "Topic 12",
            "method": "update"
           },
           {
            "args": [
             {
              "marker.color": [
               [
                "#B0BEC5",
                "#B0BEC5",
                "#B0BEC5",
                "#B0BEC5",
                "#B0BEC5",
                "#B0BEC5",
                "#B0BEC5",
                "#B0BEC5",
                "#B0BEC5",
                "#B0BEC5",
                "#B0BEC5",
                "#B0BEC5",
                "#B0BEC5",
                "red",
                "#B0BEC5",
                "#B0BEC5",
                "#B0BEC5",
                "#B0BEC5",
                "#B0BEC5",
                "#B0BEC5",
                "#B0BEC5",
                "#B0BEC5",
                "#B0BEC5",
                "#B0BEC5",
                "#B0BEC5",
                "#B0BEC5",
                "#B0BEC5",
                "#B0BEC5",
                "#B0BEC5",
                "#B0BEC5"
               ]
              ]
             }
            ],
            "label": "Topic 13",
            "method": "update"
           },
           {
            "args": [
             {
              "marker.color": [
               [
                "#B0BEC5",
                "#B0BEC5",
                "#B0BEC5",
                "#B0BEC5",
                "#B0BEC5",
                "#B0BEC5",
                "#B0BEC5",
                "#B0BEC5",
                "#B0BEC5",
                "#B0BEC5",
                "#B0BEC5",
                "#B0BEC5",
                "#B0BEC5",
                "#B0BEC5",
                "red",
                "#B0BEC5",
                "#B0BEC5",
                "#B0BEC5",
                "#B0BEC5",
                "#B0BEC5",
                "#B0BEC5",
                "#B0BEC5",
                "#B0BEC5",
                "#B0BEC5",
                "#B0BEC5",
                "#B0BEC5",
                "#B0BEC5",
                "#B0BEC5",
                "#B0BEC5",
                "#B0BEC5"
               ]
              ]
             }
            ],
            "label": "Topic 14",
            "method": "update"
           },
           {
            "args": [
             {
              "marker.color": [
               [
                "#B0BEC5",
                "#B0BEC5",
                "#B0BEC5",
                "#B0BEC5",
                "#B0BEC5",
                "#B0BEC5",
                "#B0BEC5",
                "#B0BEC5",
                "#B0BEC5",
                "#B0BEC5",
                "#B0BEC5",
                "#B0BEC5",
                "#B0BEC5",
                "#B0BEC5",
                "#B0BEC5",
                "red",
                "#B0BEC5",
                "#B0BEC5",
                "#B0BEC5",
                "#B0BEC5",
                "#B0BEC5",
                "#B0BEC5",
                "#B0BEC5",
                "#B0BEC5",
                "#B0BEC5",
                "#B0BEC5",
                "#B0BEC5",
                "#B0BEC5",
                "#B0BEC5",
                "#B0BEC5"
               ]
              ]
             }
            ],
            "label": "Topic 15",
            "method": "update"
           },
           {
            "args": [
             {
              "marker.color": [
               [
                "#B0BEC5",
                "#B0BEC5",
                "#B0BEC5",
                "#B0BEC5",
                "#B0BEC5",
                "#B0BEC5",
                "#B0BEC5",
                "#B0BEC5",
                "#B0BEC5",
                "#B0BEC5",
                "#B0BEC5",
                "#B0BEC5",
                "#B0BEC5",
                "#B0BEC5",
                "#B0BEC5",
                "#B0BEC5",
                "red",
                "#B0BEC5",
                "#B0BEC5",
                "#B0BEC5",
                "#B0BEC5",
                "#B0BEC5",
                "#B0BEC5",
                "#B0BEC5",
                "#B0BEC5",
                "#B0BEC5",
                "#B0BEC5",
                "#B0BEC5",
                "#B0BEC5",
                "#B0BEC5"
               ]
              ]
             }
            ],
            "label": "Topic 16",
            "method": "update"
           },
           {
            "args": [
             {
              "marker.color": [
               [
                "#B0BEC5",
                "#B0BEC5",
                "#B0BEC5",
                "#B0BEC5",
                "#B0BEC5",
                "#B0BEC5",
                "#B0BEC5",
                "#B0BEC5",
                "#B0BEC5",
                "#B0BEC5",
                "#B0BEC5",
                "#B0BEC5",
                "#B0BEC5",
                "#B0BEC5",
                "#B0BEC5",
                "#B0BEC5",
                "#B0BEC5",
                "red",
                "#B0BEC5",
                "#B0BEC5",
                "#B0BEC5",
                "#B0BEC5",
                "#B0BEC5",
                "#B0BEC5",
                "#B0BEC5",
                "#B0BEC5",
                "#B0BEC5",
                "#B0BEC5",
                "#B0BEC5",
                "#B0BEC5"
               ]
              ]
             }
            ],
            "label": "Topic 17",
            "method": "update"
           },
           {
            "args": [
             {
              "marker.color": [
               [
                "#B0BEC5",
                "#B0BEC5",
                "#B0BEC5",
                "#B0BEC5",
                "#B0BEC5",
                "#B0BEC5",
                "#B0BEC5",
                "#B0BEC5",
                "#B0BEC5",
                "#B0BEC5",
                "#B0BEC5",
                "#B0BEC5",
                "#B0BEC5",
                "#B0BEC5",
                "#B0BEC5",
                "#B0BEC5",
                "#B0BEC5",
                "#B0BEC5",
                "red",
                "#B0BEC5",
                "#B0BEC5",
                "#B0BEC5",
                "#B0BEC5",
                "#B0BEC5",
                "#B0BEC5",
                "#B0BEC5",
                "#B0BEC5",
                "#B0BEC5",
                "#B0BEC5",
                "#B0BEC5"
               ]
              ]
             }
            ],
            "label": "Topic 18",
            "method": "update"
           },
           {
            "args": [
             {
              "marker.color": [
               [
                "#B0BEC5",
                "#B0BEC5",
                "#B0BEC5",
                "#B0BEC5",
                "#B0BEC5",
                "#B0BEC5",
                "#B0BEC5",
                "#B0BEC5",
                "#B0BEC5",
                "#B0BEC5",
                "#B0BEC5",
                "#B0BEC5",
                "#B0BEC5",
                "#B0BEC5",
                "#B0BEC5",
                "#B0BEC5",
                "#B0BEC5",
                "#B0BEC5",
                "#B0BEC5",
                "red",
                "#B0BEC5",
                "#B0BEC5",
                "#B0BEC5",
                "#B0BEC5",
                "#B0BEC5",
                "#B0BEC5",
                "#B0BEC5",
                "#B0BEC5",
                "#B0BEC5",
                "#B0BEC5"
               ]
              ]
             }
            ],
            "label": "Topic 19",
            "method": "update"
           },
           {
            "args": [
             {
              "marker.color": [
               [
                "#B0BEC5",
                "#B0BEC5",
                "#B0BEC5",
                "#B0BEC5",
                "#B0BEC5",
                "#B0BEC5",
                "#B0BEC5",
                "#B0BEC5",
                "#B0BEC5",
                "#B0BEC5",
                "#B0BEC5",
                "#B0BEC5",
                "#B0BEC5",
                "#B0BEC5",
                "#B0BEC5",
                "#B0BEC5",
                "#B0BEC5",
                "#B0BEC5",
                "#B0BEC5",
                "#B0BEC5",
                "red",
                "#B0BEC5",
                "#B0BEC5",
                "#B0BEC5",
                "#B0BEC5",
                "#B0BEC5",
                "#B0BEC5",
                "#B0BEC5",
                "#B0BEC5",
                "#B0BEC5"
               ]
              ]
             }
            ],
            "label": "Topic 20",
            "method": "update"
           },
           {
            "args": [
             {
              "marker.color": [
               [
                "#B0BEC5",
                "#B0BEC5",
                "#B0BEC5",
                "#B0BEC5",
                "#B0BEC5",
                "#B0BEC5",
                "#B0BEC5",
                "#B0BEC5",
                "#B0BEC5",
                "#B0BEC5",
                "#B0BEC5",
                "#B0BEC5",
                "#B0BEC5",
                "#B0BEC5",
                "#B0BEC5",
                "#B0BEC5",
                "#B0BEC5",
                "#B0BEC5",
                "#B0BEC5",
                "#B0BEC5",
                "#B0BEC5",
                "red",
                "#B0BEC5",
                "#B0BEC5",
                "#B0BEC5",
                "#B0BEC5",
                "#B0BEC5",
                "#B0BEC5",
                "#B0BEC5",
                "#B0BEC5"
               ]
              ]
             }
            ],
            "label": "Topic 21",
            "method": "update"
           },
           {
            "args": [
             {
              "marker.color": [
               [
                "#B0BEC5",
                "#B0BEC5",
                "#B0BEC5",
                "#B0BEC5",
                "#B0BEC5",
                "#B0BEC5",
                "#B0BEC5",
                "#B0BEC5",
                "#B0BEC5",
                "#B0BEC5",
                "#B0BEC5",
                "#B0BEC5",
                "#B0BEC5",
                "#B0BEC5",
                "#B0BEC5",
                "#B0BEC5",
                "#B0BEC5",
                "#B0BEC5",
                "#B0BEC5",
                "#B0BEC5",
                "#B0BEC5",
                "#B0BEC5",
                "red",
                "#B0BEC5",
                "#B0BEC5",
                "#B0BEC5",
                "#B0BEC5",
                "#B0BEC5",
                "#B0BEC5",
                "#B0BEC5"
               ]
              ]
             }
            ],
            "label": "Topic 22",
            "method": "update"
           },
           {
            "args": [
             {
              "marker.color": [
               [
                "#B0BEC5",
                "#B0BEC5",
                "#B0BEC5",
                "#B0BEC5",
                "#B0BEC5",
                "#B0BEC5",
                "#B0BEC5",
                "#B0BEC5",
                "#B0BEC5",
                "#B0BEC5",
                "#B0BEC5",
                "#B0BEC5",
                "#B0BEC5",
                "#B0BEC5",
                "#B0BEC5",
                "#B0BEC5",
                "#B0BEC5",
                "#B0BEC5",
                "#B0BEC5",
                "#B0BEC5",
                "#B0BEC5",
                "#B0BEC5",
                "#B0BEC5",
                "red",
                "#B0BEC5",
                "#B0BEC5",
                "#B0BEC5",
                "#B0BEC5",
                "#B0BEC5",
                "#B0BEC5"
               ]
              ]
             }
            ],
            "label": "Topic 23",
            "method": "update"
           },
           {
            "args": [
             {
              "marker.color": [
               [
                "#B0BEC5",
                "#B0BEC5",
                "#B0BEC5",
                "#B0BEC5",
                "#B0BEC5",
                "#B0BEC5",
                "#B0BEC5",
                "#B0BEC5",
                "#B0BEC5",
                "#B0BEC5",
                "#B0BEC5",
                "#B0BEC5",
                "#B0BEC5",
                "#B0BEC5",
                "#B0BEC5",
                "#B0BEC5",
                "#B0BEC5",
                "#B0BEC5",
                "#B0BEC5",
                "#B0BEC5",
                "#B0BEC5",
                "#B0BEC5",
                "#B0BEC5",
                "#B0BEC5",
                "red",
                "#B0BEC5",
                "#B0BEC5",
                "#B0BEC5",
                "#B0BEC5",
                "#B0BEC5"
               ]
              ]
             }
            ],
            "label": "Topic 24",
            "method": "update"
           },
           {
            "args": [
             {
              "marker.color": [
               [
                "#B0BEC5",
                "#B0BEC5",
                "#B0BEC5",
                "#B0BEC5",
                "#B0BEC5",
                "#B0BEC5",
                "#B0BEC5",
                "#B0BEC5",
                "#B0BEC5",
                "#B0BEC5",
                "#B0BEC5",
                "#B0BEC5",
                "#B0BEC5",
                "#B0BEC5",
                "#B0BEC5",
                "#B0BEC5",
                "#B0BEC5",
                "#B0BEC5",
                "#B0BEC5",
                "#B0BEC5",
                "#B0BEC5",
                "#B0BEC5",
                "#B0BEC5",
                "#B0BEC5",
                "#B0BEC5",
                "red",
                "#B0BEC5",
                "#B0BEC5",
                "#B0BEC5",
                "#B0BEC5"
               ]
              ]
             }
            ],
            "label": "Topic 25",
            "method": "update"
           },
           {
            "args": [
             {
              "marker.color": [
               [
                "#B0BEC5",
                "#B0BEC5",
                "#B0BEC5",
                "#B0BEC5",
                "#B0BEC5",
                "#B0BEC5",
                "#B0BEC5",
                "#B0BEC5",
                "#B0BEC5",
                "#B0BEC5",
                "#B0BEC5",
                "#B0BEC5",
                "#B0BEC5",
                "#B0BEC5",
                "#B0BEC5",
                "#B0BEC5",
                "#B0BEC5",
                "#B0BEC5",
                "#B0BEC5",
                "#B0BEC5",
                "#B0BEC5",
                "#B0BEC5",
                "#B0BEC5",
                "#B0BEC5",
                "#B0BEC5",
                "#B0BEC5",
                "red",
                "#B0BEC5",
                "#B0BEC5",
                "#B0BEC5"
               ]
              ]
             }
            ],
            "label": "Topic 26",
            "method": "update"
           },
           {
            "args": [
             {
              "marker.color": [
               [
                "#B0BEC5",
                "#B0BEC5",
                "#B0BEC5",
                "#B0BEC5",
                "#B0BEC5",
                "#B0BEC5",
                "#B0BEC5",
                "#B0BEC5",
                "#B0BEC5",
                "#B0BEC5",
                "#B0BEC5",
                "#B0BEC5",
                "#B0BEC5",
                "#B0BEC5",
                "#B0BEC5",
                "#B0BEC5",
                "#B0BEC5",
                "#B0BEC5",
                "#B0BEC5",
                "#B0BEC5",
                "#B0BEC5",
                "#B0BEC5",
                "#B0BEC5",
                "#B0BEC5",
                "#B0BEC5",
                "#B0BEC5",
                "#B0BEC5",
                "red",
                "#B0BEC5",
                "#B0BEC5"
               ]
              ]
             }
            ],
            "label": "Topic 27",
            "method": "update"
           },
           {
            "args": [
             {
              "marker.color": [
               [
                "#B0BEC5",
                "#B0BEC5",
                "#B0BEC5",
                "#B0BEC5",
                "#B0BEC5",
                "#B0BEC5",
                "#B0BEC5",
                "#B0BEC5",
                "#B0BEC5",
                "#B0BEC5",
                "#B0BEC5",
                "#B0BEC5",
                "#B0BEC5",
                "#B0BEC5",
                "#B0BEC5",
                "#B0BEC5",
                "#B0BEC5",
                "#B0BEC5",
                "#B0BEC5",
                "#B0BEC5",
                "#B0BEC5",
                "#B0BEC5",
                "#B0BEC5",
                "#B0BEC5",
                "#B0BEC5",
                "#B0BEC5",
                "#B0BEC5",
                "#B0BEC5",
                "red",
                "#B0BEC5"
               ]
              ]
             }
            ],
            "label": "Topic 28",
            "method": "update"
           },
           {
            "args": [
             {
              "marker.color": [
               [
                "#B0BEC5",
                "#B0BEC5",
                "#B0BEC5",
                "#B0BEC5",
                "#B0BEC5",
                "#B0BEC5",
                "#B0BEC5",
                "#B0BEC5",
                "#B0BEC5",
                "#B0BEC5",
                "#B0BEC5",
                "#B0BEC5",
                "#B0BEC5",
                "#B0BEC5",
                "#B0BEC5",
                "#B0BEC5",
                "#B0BEC5",
                "#B0BEC5",
                "#B0BEC5",
                "#B0BEC5",
                "#B0BEC5",
                "#B0BEC5",
                "#B0BEC5",
                "#B0BEC5",
                "#B0BEC5",
                "#B0BEC5",
                "#B0BEC5",
                "#B0BEC5",
                "#B0BEC5",
                "red"
               ]
              ]
             }
            ],
            "label": "Topic 29",
            "method": "update"
           }
          ]
         }
        ],
        "template": {
         "data": {
          "bar": [
           {
            "error_x": {
             "color": "rgb(36,36,36)"
            },
            "error_y": {
             "color": "rgb(36,36,36)"
            },
            "marker": {
             "line": {
              "color": "white",
              "width": 0.5
             },
             "pattern": {
              "fillmode": "overlay",
              "size": 10,
              "solidity": 0.2
             }
            },
            "type": "bar"
           }
          ],
          "barpolar": [
           {
            "marker": {
             "line": {
              "color": "white",
              "width": 0.5
             },
             "pattern": {
              "fillmode": "overlay",
              "size": 10,
              "solidity": 0.2
             }
            },
            "type": "barpolar"
           }
          ],
          "carpet": [
           {
            "aaxis": {
             "endlinecolor": "rgb(36,36,36)",
             "gridcolor": "white",
             "linecolor": "white",
             "minorgridcolor": "white",
             "startlinecolor": "rgb(36,36,36)"
            },
            "baxis": {
             "endlinecolor": "rgb(36,36,36)",
             "gridcolor": "white",
             "linecolor": "white",
             "minorgridcolor": "white",
             "startlinecolor": "rgb(36,36,36)"
            },
            "type": "carpet"
           }
          ],
          "choropleth": [
           {
            "colorbar": {
             "outlinewidth": 1,
             "tickcolor": "rgb(36,36,36)",
             "ticks": "outside"
            },
            "type": "choropleth"
           }
          ],
          "contour": [
           {
            "colorbar": {
             "outlinewidth": 1,
             "tickcolor": "rgb(36,36,36)",
             "ticks": "outside"
            },
            "colorscale": [
             [
              0,
              "#440154"
             ],
             [
              0.1111111111111111,
              "#482878"
             ],
             [
              0.2222222222222222,
              "#3e4989"
             ],
             [
              0.3333333333333333,
              "#31688e"
             ],
             [
              0.4444444444444444,
              "#26828e"
             ],
             [
              0.5555555555555556,
              "#1f9e89"
             ],
             [
              0.6666666666666666,
              "#35b779"
             ],
             [
              0.7777777777777778,
              "#6ece58"
             ],
             [
              0.8888888888888888,
              "#b5de2b"
             ],
             [
              1,
              "#fde725"
             ]
            ],
            "type": "contour"
           }
          ],
          "contourcarpet": [
           {
            "colorbar": {
             "outlinewidth": 1,
             "tickcolor": "rgb(36,36,36)",
             "ticks": "outside"
            },
            "type": "contourcarpet"
           }
          ],
          "heatmap": [
           {
            "colorbar": {
             "outlinewidth": 1,
             "tickcolor": "rgb(36,36,36)",
             "ticks": "outside"
            },
            "colorscale": [
             [
              0,
              "#440154"
             ],
             [
              0.1111111111111111,
              "#482878"
             ],
             [
              0.2222222222222222,
              "#3e4989"
             ],
             [
              0.3333333333333333,
              "#31688e"
             ],
             [
              0.4444444444444444,
              "#26828e"
             ],
             [
              0.5555555555555556,
              "#1f9e89"
             ],
             [
              0.6666666666666666,
              "#35b779"
             ],
             [
              0.7777777777777778,
              "#6ece58"
             ],
             [
              0.8888888888888888,
              "#b5de2b"
             ],
             [
              1,
              "#fde725"
             ]
            ],
            "type": "heatmap"
           }
          ],
          "heatmapgl": [
           {
            "colorbar": {
             "outlinewidth": 1,
             "tickcolor": "rgb(36,36,36)",
             "ticks": "outside"
            },
            "colorscale": [
             [
              0,
              "#440154"
             ],
             [
              0.1111111111111111,
              "#482878"
             ],
             [
              0.2222222222222222,
              "#3e4989"
             ],
             [
              0.3333333333333333,
              "#31688e"
             ],
             [
              0.4444444444444444,
              "#26828e"
             ],
             [
              0.5555555555555556,
              "#1f9e89"
             ],
             [
              0.6666666666666666,
              "#35b779"
             ],
             [
              0.7777777777777778,
              "#6ece58"
             ],
             [
              0.8888888888888888,
              "#b5de2b"
             ],
             [
              1,
              "#fde725"
             ]
            ],
            "type": "heatmapgl"
           }
          ],
          "histogram": [
           {
            "marker": {
             "line": {
              "color": "white",
              "width": 0.6
             }
            },
            "type": "histogram"
           }
          ],
          "histogram2d": [
           {
            "colorbar": {
             "outlinewidth": 1,
             "tickcolor": "rgb(36,36,36)",
             "ticks": "outside"
            },
            "colorscale": [
             [
              0,
              "#440154"
             ],
             [
              0.1111111111111111,
              "#482878"
             ],
             [
              0.2222222222222222,
              "#3e4989"
             ],
             [
              0.3333333333333333,
              "#31688e"
             ],
             [
              0.4444444444444444,
              "#26828e"
             ],
             [
              0.5555555555555556,
              "#1f9e89"
             ],
             [
              0.6666666666666666,
              "#35b779"
             ],
             [
              0.7777777777777778,
              "#6ece58"
             ],
             [
              0.8888888888888888,
              "#b5de2b"
             ],
             [
              1,
              "#fde725"
             ]
            ],
            "type": "histogram2d"
           }
          ],
          "histogram2dcontour": [
           {
            "colorbar": {
             "outlinewidth": 1,
             "tickcolor": "rgb(36,36,36)",
             "ticks": "outside"
            },
            "colorscale": [
             [
              0,
              "#440154"
             ],
             [
              0.1111111111111111,
              "#482878"
             ],
             [
              0.2222222222222222,
              "#3e4989"
             ],
             [
              0.3333333333333333,
              "#31688e"
             ],
             [
              0.4444444444444444,
              "#26828e"
             ],
             [
              0.5555555555555556,
              "#1f9e89"
             ],
             [
              0.6666666666666666,
              "#35b779"
             ],
             [
              0.7777777777777778,
              "#6ece58"
             ],
             [
              0.8888888888888888,
              "#b5de2b"
             ],
             [
              1,
              "#fde725"
             ]
            ],
            "type": "histogram2dcontour"
           }
          ],
          "mesh3d": [
           {
            "colorbar": {
             "outlinewidth": 1,
             "tickcolor": "rgb(36,36,36)",
             "ticks": "outside"
            },
            "type": "mesh3d"
           }
          ],
          "parcoords": [
           {
            "line": {
             "colorbar": {
              "outlinewidth": 1,
              "tickcolor": "rgb(36,36,36)",
              "ticks": "outside"
             }
            },
            "type": "parcoords"
           }
          ],
          "pie": [
           {
            "automargin": true,
            "type": "pie"
           }
          ],
          "scatter": [
           {
            "fillpattern": {
             "fillmode": "overlay",
             "size": 10,
             "solidity": 0.2
            },
            "type": "scatter"
           }
          ],
          "scatter3d": [
           {
            "line": {
             "colorbar": {
              "outlinewidth": 1,
              "tickcolor": "rgb(36,36,36)",
              "ticks": "outside"
             }
            },
            "marker": {
             "colorbar": {
              "outlinewidth": 1,
              "tickcolor": "rgb(36,36,36)",
              "ticks": "outside"
             }
            },
            "type": "scatter3d"
           }
          ],
          "scattercarpet": [
           {
            "marker": {
             "colorbar": {
              "outlinewidth": 1,
              "tickcolor": "rgb(36,36,36)",
              "ticks": "outside"
             }
            },
            "type": "scattercarpet"
           }
          ],
          "scattergeo": [
           {
            "marker": {
             "colorbar": {
              "outlinewidth": 1,
              "tickcolor": "rgb(36,36,36)",
              "ticks": "outside"
             }
            },
            "type": "scattergeo"
           }
          ],
          "scattergl": [
           {
            "marker": {
             "colorbar": {
              "outlinewidth": 1,
              "tickcolor": "rgb(36,36,36)",
              "ticks": "outside"
             }
            },
            "type": "scattergl"
           }
          ],
          "scattermapbox": [
           {
            "marker": {
             "colorbar": {
              "outlinewidth": 1,
              "tickcolor": "rgb(36,36,36)",
              "ticks": "outside"
             }
            },
            "type": "scattermapbox"
           }
          ],
          "scatterpolar": [
           {
            "marker": {
             "colorbar": {
              "outlinewidth": 1,
              "tickcolor": "rgb(36,36,36)",
              "ticks": "outside"
             }
            },
            "type": "scatterpolar"
           }
          ],
          "scatterpolargl": [
           {
            "marker": {
             "colorbar": {
              "outlinewidth": 1,
              "tickcolor": "rgb(36,36,36)",
              "ticks": "outside"
             }
            },
            "type": "scatterpolargl"
           }
          ],
          "scatterternary": [
           {
            "marker": {
             "colorbar": {
              "outlinewidth": 1,
              "tickcolor": "rgb(36,36,36)",
              "ticks": "outside"
             }
            },
            "type": "scatterternary"
           }
          ],
          "surface": [
           {
            "colorbar": {
             "outlinewidth": 1,
             "tickcolor": "rgb(36,36,36)",
             "ticks": "outside"
            },
            "colorscale": [
             [
              0,
              "#440154"
             ],
             [
              0.1111111111111111,
              "#482878"
             ],
             [
              0.2222222222222222,
              "#3e4989"
             ],
             [
              0.3333333333333333,
              "#31688e"
             ],
             [
              0.4444444444444444,
              "#26828e"
             ],
             [
              0.5555555555555556,
              "#1f9e89"
             ],
             [
              0.6666666666666666,
              "#35b779"
             ],
             [
              0.7777777777777778,
              "#6ece58"
             ],
             [
              0.8888888888888888,
              "#b5de2b"
             ],
             [
              1,
              "#fde725"
             ]
            ],
            "type": "surface"
           }
          ],
          "table": [
           {
            "cells": {
             "fill": {
              "color": "rgb(237,237,237)"
             },
             "line": {
              "color": "white"
             }
            },
            "header": {
             "fill": {
              "color": "rgb(217,217,217)"
             },
             "line": {
              "color": "white"
             }
            },
            "type": "table"
           }
          ]
         },
         "layout": {
          "annotationdefaults": {
           "arrowhead": 0,
           "arrowwidth": 1
          },
          "autotypenumbers": "strict",
          "coloraxis": {
           "colorbar": {
            "outlinewidth": 1,
            "tickcolor": "rgb(36,36,36)",
            "ticks": "outside"
           }
          },
          "colorscale": {
           "diverging": [
            [
             0,
             "rgb(103,0,31)"
            ],
            [
             0.1,
             "rgb(178,24,43)"
            ],
            [
             0.2,
             "rgb(214,96,77)"
            ],
            [
             0.3,
             "rgb(244,165,130)"
            ],
            [
             0.4,
             "rgb(253,219,199)"
            ],
            [
             0.5,
             "rgb(247,247,247)"
            ],
            [
             0.6,
             "rgb(209,229,240)"
            ],
            [
             0.7,
             "rgb(146,197,222)"
            ],
            [
             0.8,
             "rgb(67,147,195)"
            ],
            [
             0.9,
             "rgb(33,102,172)"
            ],
            [
             1,
             "rgb(5,48,97)"
            ]
           ],
           "sequential": [
            [
             0,
             "#440154"
            ],
            [
             0.1111111111111111,
             "#482878"
            ],
            [
             0.2222222222222222,
             "#3e4989"
            ],
            [
             0.3333333333333333,
             "#31688e"
            ],
            [
             0.4444444444444444,
             "#26828e"
            ],
            [
             0.5555555555555556,
             "#1f9e89"
            ],
            [
             0.6666666666666666,
             "#35b779"
            ],
            [
             0.7777777777777778,
             "#6ece58"
            ],
            [
             0.8888888888888888,
             "#b5de2b"
            ],
            [
             1,
             "#fde725"
            ]
           ],
           "sequentialminus": [
            [
             0,
             "#440154"
            ],
            [
             0.1111111111111111,
             "#482878"
            ],
            [
             0.2222222222222222,
             "#3e4989"
            ],
            [
             0.3333333333333333,
             "#31688e"
            ],
            [
             0.4444444444444444,
             "#26828e"
            ],
            [
             0.5555555555555556,
             "#1f9e89"
            ],
            [
             0.6666666666666666,
             "#35b779"
            ],
            [
             0.7777777777777778,
             "#6ece58"
            ],
            [
             0.8888888888888888,
             "#b5de2b"
            ],
            [
             1,
             "#fde725"
            ]
           ]
          },
          "colorway": [
           "#1F77B4",
           "#FF7F0E",
           "#2CA02C",
           "#D62728",
           "#9467BD",
           "#8C564B",
           "#E377C2",
           "#7F7F7F",
           "#BCBD22",
           "#17BECF"
          ],
          "font": {
           "color": "rgb(36,36,36)"
          },
          "geo": {
           "bgcolor": "white",
           "lakecolor": "white",
           "landcolor": "white",
           "showlakes": true,
           "showland": true,
           "subunitcolor": "white"
          },
          "hoverlabel": {
           "align": "left"
          },
          "hovermode": "closest",
          "mapbox": {
           "style": "light"
          },
          "paper_bgcolor": "white",
          "plot_bgcolor": "white",
          "polar": {
           "angularaxis": {
            "gridcolor": "rgb(232,232,232)",
            "linecolor": "rgb(36,36,36)",
            "showgrid": false,
            "showline": true,
            "ticks": "outside"
           },
           "bgcolor": "white",
           "radialaxis": {
            "gridcolor": "rgb(232,232,232)",
            "linecolor": "rgb(36,36,36)",
            "showgrid": false,
            "showline": true,
            "ticks": "outside"
           }
          },
          "scene": {
           "xaxis": {
            "backgroundcolor": "white",
            "gridcolor": "rgb(232,232,232)",
            "gridwidth": 2,
            "linecolor": "rgb(36,36,36)",
            "showbackground": true,
            "showgrid": false,
            "showline": true,
            "ticks": "outside",
            "zeroline": false,
            "zerolinecolor": "rgb(36,36,36)"
           },
           "yaxis": {
            "backgroundcolor": "white",
            "gridcolor": "rgb(232,232,232)",
            "gridwidth": 2,
            "linecolor": "rgb(36,36,36)",
            "showbackground": true,
            "showgrid": false,
            "showline": true,
            "ticks": "outside",
            "zeroline": false,
            "zerolinecolor": "rgb(36,36,36)"
           },
           "zaxis": {
            "backgroundcolor": "white",
            "gridcolor": "rgb(232,232,232)",
            "gridwidth": 2,
            "linecolor": "rgb(36,36,36)",
            "showbackground": true,
            "showgrid": false,
            "showline": true,
            "ticks": "outside",
            "zeroline": false,
            "zerolinecolor": "rgb(36,36,36)"
           }
          },
          "shapedefaults": {
           "fillcolor": "black",
           "line": {
            "width": 0
           },
           "opacity": 0.3
          },
          "ternary": {
           "aaxis": {
            "gridcolor": "rgb(232,232,232)",
            "linecolor": "rgb(36,36,36)",
            "showgrid": false,
            "showline": true,
            "ticks": "outside"
           },
           "baxis": {
            "gridcolor": "rgb(232,232,232)",
            "linecolor": "rgb(36,36,36)",
            "showgrid": false,
            "showline": true,
            "ticks": "outside"
           },
           "bgcolor": "white",
           "caxis": {
            "gridcolor": "rgb(232,232,232)",
            "linecolor": "rgb(36,36,36)",
            "showgrid": false,
            "showline": true,
            "ticks": "outside"
           }
          },
          "title": {
           "x": 0.05
          },
          "xaxis": {
           "automargin": true,
           "gridcolor": "rgb(232,232,232)",
           "linecolor": "rgb(36,36,36)",
           "showgrid": false,
           "showline": true,
           "ticks": "outside",
           "title": {
            "standoff": 15
           },
           "zeroline": false,
           "zerolinecolor": "rgb(36,36,36)"
          },
          "yaxis": {
           "automargin": true,
           "gridcolor": "rgb(232,232,232)",
           "linecolor": "rgb(36,36,36)",
           "showgrid": false,
           "showline": true,
           "ticks": "outside",
           "title": {
            "standoff": 15
           },
           "zeroline": false,
           "zerolinecolor": "rgb(36,36,36)"
          }
         }
        },
        "title": {
         "font": {
          "color": "Black",
          "size": 22
         },
         "text": "<b>Intertopic Distance Map</b>",
         "x": 0.5,
         "xanchor": "center",
         "y": 0.95,
         "yanchor": "top"
        },
        "width": 650,
        "xaxis": {
         "anchor": "y",
         "domain": [
          0,
          1
         ],
         "range": [
          -9.824082851409912,
          27.46293125152588
         ],
         "title": {
          "text": ""
         },
         "visible": false
        },
        "yaxis": {
         "anchor": "x",
         "domain": [
          0,
          1
         ],
         "range": [
          -12.711549329757691,
          16.28235583305359
         ],
         "title": {
          "text": ""
         },
         "visible": false
        }
       }
      },
      "text/html": [
       "<div>                            <div id=\"65a6e0a8-a7cc-4b41-9735-44dde935e9c1\" class=\"plotly-graph-div\" style=\"height:650px; width:650px;\"></div>            <script type=\"text/javascript\">                require([\"plotly\"], function(Plotly) {                    window.PLOTLYENV=window.PLOTLYENV || {};                                    if (document.getElementById(\"65a6e0a8-a7cc-4b41-9735-44dde935e9c1\")) {                    Plotly.newPlot(                        \"65a6e0a8-a7cc-4b41-9735-44dde935e9c1\",                        [{\"customdata\":[[0,\"\\u00e9cole | ecole | \\u00e9coles | institut | universit\\u00e9\",149],[1,\"lausanne | z\\u00fcrich | palais | institut | ecole\",137],[2,\"am\\u00e9nagement | villamont | touristique | quais | agrandissement\",106],[3,\"b\\u00e2timent | b\\u00e2timents | b\\u00e2timenbts | coudre | scolaire\",61],[4,\"maison | maisons | congr\\u00e8s | villas | europ\\u00e9enne\",55],[5,\"centre | scolaire | vi\\u00e8ge | tunis | bresse\",53],[6,\"autoroute | lausanne | pont | ponts | autoroutier\",43],[7,\"ville | extension | lille | morat | suburbaines\",40],[8,\"mus\\u00e9e | mus\\u00e9um | museum | histoire | sculpture\",39],[9,\"\\u00e9mulation | classe | acad\\u00e9mie | eglise | passerelle\",31],[10,\"salle | salles | martigny | lausanne | construction\",29],[11,\"b\\u00e2timent | b\\u00e2timents | f\\u00e9d\\u00e9rale | administratif | berne\",27],[12,\"jury | sportives | agrandissement | centre | sup\\u00e9rieure\",27],[13,\"\\u00e9glise | eglise | sainte | protestante | peseux\",26],[14,\"h\\u00f4tel | postes | de | berne | caf\\u00e9\",25],[15,\"soci\\u00e9t\\u00e9 | bureau | bureaux | nationale | statistique\",24],[16,\"chaux | fonds | paroissiale | primaire | de\",23],[17,\"gare | gares | berne | sion | ile\",20],[18,\"gymnastique | salle | salles | \\u00e9cole | gym\",20],[19,\"monument | rambert | fondation | clarens | \\u00e0montreux\",18],[20,\"cantonal | cantonale | gymnase | canton | chaux\",18],[21,\"h\\u00f4pital | hopital | b\\u00fcrgerspital | montreux | bienne\",18],[22,\"fa\\u00e7ades | fa\\u00e7ade | constructions | classe | meilleures\",17],[23,\"temple | clarens | renens | national | servette\",15],[24,\"paroissial | centre | catholique | caract\\u00e8re | del\\u00e9mont\",15],[25,\"vaudois | reconstruction | abbaye | foncier | cr\\u00e9dit\",15],[26,\"scolaire | groupe | pully | ch\\u00eane | architecture\",15],[27,\"h\\u00f4tel | hotel | ville | district | vallorbe\",14],[28,\"internationale | expositions | internationales | exposition | 1937\",13],[29,\"populaire | banque | broye | barcelone | projet\",13]],\"hovertemplate\":\"\\u003cb\\u003eTopic %{customdata[0]}\\u003c\\u002fb\\u003e\\u003cbr\\u003e%{customdata[1]}\\u003cbr\\u003eSize: %{customdata[2]}\",\"legendgroup\":\"\",\"marker\":{\"color\":\"#B0BEC5\",\"size\":[149,137,106,61,55,53,43,40,39,31,29,27,27,26,25,24,23,20,20,18,18,18,17,15,15,15,15,14,13,13],\"sizemode\":\"area\",\"sizeref\":0.093125,\"symbol\":\"circle\",\"line\":{\"color\":\"DarkSlateGrey\",\"width\":2}},\"mode\":\"markers\",\"name\":\"\",\"orientation\":\"v\",\"showlegend\":false,\"x\":[10.054759979248047,10.198004722595215,7.140793800354004,23.880809783935547,-8.542680740356445,8.987777709960938,5.97606086730957,6.921853065490723,-3.2610204219818115,10.454397201538086,8.500090599060059,23.79176902770996,23.606403350830078,10.538626670837402,-8.25168228149414,10.140216827392578,8.23412799835205,10.748316764831543,8.528154373168945,-2.79970121383667,10.303189277648926,5.7199835777282715,-3.448277711868286,-2.6539783477783203,8.570350646972656,6.941815376281738,8.81309700012207,-8.159192085266113,-3.2767417430877686,7.994849681854248],\"xaxis\":\"x\",\"y\":[-1.2212421894073486,-2.038663148880005,-1.47347891330719,-0.312472939491272,14.158570289611816,-1.1516754627227783,-1.0597764253616333,-1.1753976345062256,4.006193161010742,-1.4702609777450562,-11.053521156311035,-0.22331397235393524,-0.03795310854911804,-0.8349749445915222,13.86768913269043,-1.2874542474746704,-0.5219553112983704,-0.6621504426002502,-11.0244779586792,4.136442184448242,-2.283510208129883,-0.8595761656761169,4.29855489730835,4.000555992126465,-0.8929930329322815,-1.233036994934082,-1.5014779567718506,13.77518367767334,4.005987644195557,-0.3079145550727844],\"yaxis\":\"y\",\"type\":\"scatter\"}],                        {\"template\":{\"data\":{\"barpolar\":[{\"marker\":{\"line\":{\"color\":\"white\",\"width\":0.5},\"pattern\":{\"fillmode\":\"overlay\",\"size\":10,\"solidity\":0.2}},\"type\":\"barpolar\"}],\"bar\":[{\"error_x\":{\"color\":\"rgb(36,36,36)\"},\"error_y\":{\"color\":\"rgb(36,36,36)\"},\"marker\":{\"line\":{\"color\":\"white\",\"width\":0.5},\"pattern\":{\"fillmode\":\"overlay\",\"size\":10,\"solidity\":0.2}},\"type\":\"bar\"}],\"carpet\":[{\"aaxis\":{\"endlinecolor\":\"rgb(36,36,36)\",\"gridcolor\":\"white\",\"linecolor\":\"white\",\"minorgridcolor\":\"white\",\"startlinecolor\":\"rgb(36,36,36)\"},\"baxis\":{\"endlinecolor\":\"rgb(36,36,36)\",\"gridcolor\":\"white\",\"linecolor\":\"white\",\"minorgridcolor\":\"white\",\"startlinecolor\":\"rgb(36,36,36)\"},\"type\":\"carpet\"}],\"choropleth\":[{\"colorbar\":{\"outlinewidth\":1,\"tickcolor\":\"rgb(36,36,36)\",\"ticks\":\"outside\"},\"type\":\"choropleth\"}],\"contourcarpet\":[{\"colorbar\":{\"outlinewidth\":1,\"tickcolor\":\"rgb(36,36,36)\",\"ticks\":\"outside\"},\"type\":\"contourcarpet\"}],\"contour\":[{\"colorbar\":{\"outlinewidth\":1,\"tickcolor\":\"rgb(36,36,36)\",\"ticks\":\"outside\"},\"colorscale\":[[0.0,\"#440154\"],[0.1111111111111111,\"#482878\"],[0.2222222222222222,\"#3e4989\"],[0.3333333333333333,\"#31688e\"],[0.4444444444444444,\"#26828e\"],[0.5555555555555556,\"#1f9e89\"],[0.6666666666666666,\"#35b779\"],[0.7777777777777778,\"#6ece58\"],[0.8888888888888888,\"#b5de2b\"],[1.0,\"#fde725\"]],\"type\":\"contour\"}],\"heatmapgl\":[{\"colorbar\":{\"outlinewidth\":1,\"tickcolor\":\"rgb(36,36,36)\",\"ticks\":\"outside\"},\"colorscale\":[[0.0,\"#440154\"],[0.1111111111111111,\"#482878\"],[0.2222222222222222,\"#3e4989\"],[0.3333333333333333,\"#31688e\"],[0.4444444444444444,\"#26828e\"],[0.5555555555555556,\"#1f9e89\"],[0.6666666666666666,\"#35b779\"],[0.7777777777777778,\"#6ece58\"],[0.8888888888888888,\"#b5de2b\"],[1.0,\"#fde725\"]],\"type\":\"heatmapgl\"}],\"heatmap\":[{\"colorbar\":{\"outlinewidth\":1,\"tickcolor\":\"rgb(36,36,36)\",\"ticks\":\"outside\"},\"colorscale\":[[0.0,\"#440154\"],[0.1111111111111111,\"#482878\"],[0.2222222222222222,\"#3e4989\"],[0.3333333333333333,\"#31688e\"],[0.4444444444444444,\"#26828e\"],[0.5555555555555556,\"#1f9e89\"],[0.6666666666666666,\"#35b779\"],[0.7777777777777778,\"#6ece58\"],[0.8888888888888888,\"#b5de2b\"],[1.0,\"#fde725\"]],\"type\":\"heatmap\"}],\"histogram2dcontour\":[{\"colorbar\":{\"outlinewidth\":1,\"tickcolor\":\"rgb(36,36,36)\",\"ticks\":\"outside\"},\"colorscale\":[[0.0,\"#440154\"],[0.1111111111111111,\"#482878\"],[0.2222222222222222,\"#3e4989\"],[0.3333333333333333,\"#31688e\"],[0.4444444444444444,\"#26828e\"],[0.5555555555555556,\"#1f9e89\"],[0.6666666666666666,\"#35b779\"],[0.7777777777777778,\"#6ece58\"],[0.8888888888888888,\"#b5de2b\"],[1.0,\"#fde725\"]],\"type\":\"histogram2dcontour\"}],\"histogram2d\":[{\"colorbar\":{\"outlinewidth\":1,\"tickcolor\":\"rgb(36,36,36)\",\"ticks\":\"outside\"},\"colorscale\":[[0.0,\"#440154\"],[0.1111111111111111,\"#482878\"],[0.2222222222222222,\"#3e4989\"],[0.3333333333333333,\"#31688e\"],[0.4444444444444444,\"#26828e\"],[0.5555555555555556,\"#1f9e89\"],[0.6666666666666666,\"#35b779\"],[0.7777777777777778,\"#6ece58\"],[0.8888888888888888,\"#b5de2b\"],[1.0,\"#fde725\"]],\"type\":\"histogram2d\"}],\"histogram\":[{\"marker\":{\"line\":{\"color\":\"white\",\"width\":0.6}},\"type\":\"histogram\"}],\"mesh3d\":[{\"colorbar\":{\"outlinewidth\":1,\"tickcolor\":\"rgb(36,36,36)\",\"ticks\":\"outside\"},\"type\":\"mesh3d\"}],\"parcoords\":[{\"line\":{\"colorbar\":{\"outlinewidth\":1,\"tickcolor\":\"rgb(36,36,36)\",\"ticks\":\"outside\"}},\"type\":\"parcoords\"}],\"pie\":[{\"automargin\":true,\"type\":\"pie\"}],\"scatter3d\":[{\"line\":{\"colorbar\":{\"outlinewidth\":1,\"tickcolor\":\"rgb(36,36,36)\",\"ticks\":\"outside\"}},\"marker\":{\"colorbar\":{\"outlinewidth\":1,\"tickcolor\":\"rgb(36,36,36)\",\"ticks\":\"outside\"}},\"type\":\"scatter3d\"}],\"scattercarpet\":[{\"marker\":{\"colorbar\":{\"outlinewidth\":1,\"tickcolor\":\"rgb(36,36,36)\",\"ticks\":\"outside\"}},\"type\":\"scattercarpet\"}],\"scattergeo\":[{\"marker\":{\"colorbar\":{\"outlinewidth\":1,\"tickcolor\":\"rgb(36,36,36)\",\"ticks\":\"outside\"}},\"type\":\"scattergeo\"}],\"scattergl\":[{\"marker\":{\"colorbar\":{\"outlinewidth\":1,\"tickcolor\":\"rgb(36,36,36)\",\"ticks\":\"outside\"}},\"type\":\"scattergl\"}],\"scattermapbox\":[{\"marker\":{\"colorbar\":{\"outlinewidth\":1,\"tickcolor\":\"rgb(36,36,36)\",\"ticks\":\"outside\"}},\"type\":\"scattermapbox\"}],\"scatterpolargl\":[{\"marker\":{\"colorbar\":{\"outlinewidth\":1,\"tickcolor\":\"rgb(36,36,36)\",\"ticks\":\"outside\"}},\"type\":\"scatterpolargl\"}],\"scatterpolar\":[{\"marker\":{\"colorbar\":{\"outlinewidth\":1,\"tickcolor\":\"rgb(36,36,36)\",\"ticks\":\"outside\"}},\"type\":\"scatterpolar\"}],\"scatter\":[{\"fillpattern\":{\"fillmode\":\"overlay\",\"size\":10,\"solidity\":0.2},\"type\":\"scatter\"}],\"scatterternary\":[{\"marker\":{\"colorbar\":{\"outlinewidth\":1,\"tickcolor\":\"rgb(36,36,36)\",\"ticks\":\"outside\"}},\"type\":\"scatterternary\"}],\"surface\":[{\"colorbar\":{\"outlinewidth\":1,\"tickcolor\":\"rgb(36,36,36)\",\"ticks\":\"outside\"},\"colorscale\":[[0.0,\"#440154\"],[0.1111111111111111,\"#482878\"],[0.2222222222222222,\"#3e4989\"],[0.3333333333333333,\"#31688e\"],[0.4444444444444444,\"#26828e\"],[0.5555555555555556,\"#1f9e89\"],[0.6666666666666666,\"#35b779\"],[0.7777777777777778,\"#6ece58\"],[0.8888888888888888,\"#b5de2b\"],[1.0,\"#fde725\"]],\"type\":\"surface\"}],\"table\":[{\"cells\":{\"fill\":{\"color\":\"rgb(237,237,237)\"},\"line\":{\"color\":\"white\"}},\"header\":{\"fill\":{\"color\":\"rgb(217,217,217)\"},\"line\":{\"color\":\"white\"}},\"type\":\"table\"}]},\"layout\":{\"annotationdefaults\":{\"arrowhead\":0,\"arrowwidth\":1},\"autotypenumbers\":\"strict\",\"coloraxis\":{\"colorbar\":{\"outlinewidth\":1,\"tickcolor\":\"rgb(36,36,36)\",\"ticks\":\"outside\"}},\"colorscale\":{\"diverging\":[[0.0,\"rgb(103,0,31)\"],[0.1,\"rgb(178,24,43)\"],[0.2,\"rgb(214,96,77)\"],[0.3,\"rgb(244,165,130)\"],[0.4,\"rgb(253,219,199)\"],[0.5,\"rgb(247,247,247)\"],[0.6,\"rgb(209,229,240)\"],[0.7,\"rgb(146,197,222)\"],[0.8,\"rgb(67,147,195)\"],[0.9,\"rgb(33,102,172)\"],[1.0,\"rgb(5,48,97)\"]],\"sequential\":[[0.0,\"#440154\"],[0.1111111111111111,\"#482878\"],[0.2222222222222222,\"#3e4989\"],[0.3333333333333333,\"#31688e\"],[0.4444444444444444,\"#26828e\"],[0.5555555555555556,\"#1f9e89\"],[0.6666666666666666,\"#35b779\"],[0.7777777777777778,\"#6ece58\"],[0.8888888888888888,\"#b5de2b\"],[1.0,\"#fde725\"]],\"sequentialminus\":[[0.0,\"#440154\"],[0.1111111111111111,\"#482878\"],[0.2222222222222222,\"#3e4989\"],[0.3333333333333333,\"#31688e\"],[0.4444444444444444,\"#26828e\"],[0.5555555555555556,\"#1f9e89\"],[0.6666666666666666,\"#35b779\"],[0.7777777777777778,\"#6ece58\"],[0.8888888888888888,\"#b5de2b\"],[1.0,\"#fde725\"]]},\"colorway\":[\"#1F77B4\",\"#FF7F0E\",\"#2CA02C\",\"#D62728\",\"#9467BD\",\"#8C564B\",\"#E377C2\",\"#7F7F7F\",\"#BCBD22\",\"#17BECF\"],\"font\":{\"color\":\"rgb(36,36,36)\"},\"geo\":{\"bgcolor\":\"white\",\"lakecolor\":\"white\",\"landcolor\":\"white\",\"showlakes\":true,\"showland\":true,\"subunitcolor\":\"white\"},\"hoverlabel\":{\"align\":\"left\"},\"hovermode\":\"closest\",\"mapbox\":{\"style\":\"light\"},\"paper_bgcolor\":\"white\",\"plot_bgcolor\":\"white\",\"polar\":{\"angularaxis\":{\"gridcolor\":\"rgb(232,232,232)\",\"linecolor\":\"rgb(36,36,36)\",\"showgrid\":false,\"showline\":true,\"ticks\":\"outside\"},\"bgcolor\":\"white\",\"radialaxis\":{\"gridcolor\":\"rgb(232,232,232)\",\"linecolor\":\"rgb(36,36,36)\",\"showgrid\":false,\"showline\":true,\"ticks\":\"outside\"}},\"scene\":{\"xaxis\":{\"backgroundcolor\":\"white\",\"gridcolor\":\"rgb(232,232,232)\",\"gridwidth\":2,\"linecolor\":\"rgb(36,36,36)\",\"showbackground\":true,\"showgrid\":false,\"showline\":true,\"ticks\":\"outside\",\"zeroline\":false,\"zerolinecolor\":\"rgb(36,36,36)\"},\"yaxis\":{\"backgroundcolor\":\"white\",\"gridcolor\":\"rgb(232,232,232)\",\"gridwidth\":2,\"linecolor\":\"rgb(36,36,36)\",\"showbackground\":true,\"showgrid\":false,\"showline\":true,\"ticks\":\"outside\",\"zeroline\":false,\"zerolinecolor\":\"rgb(36,36,36)\"},\"zaxis\":{\"backgroundcolor\":\"white\",\"gridcolor\":\"rgb(232,232,232)\",\"gridwidth\":2,\"linecolor\":\"rgb(36,36,36)\",\"showbackground\":true,\"showgrid\":false,\"showline\":true,\"ticks\":\"outside\",\"zeroline\":false,\"zerolinecolor\":\"rgb(36,36,36)\"}},\"shapedefaults\":{\"fillcolor\":\"black\",\"line\":{\"width\":0},\"opacity\":0.3},\"ternary\":{\"aaxis\":{\"gridcolor\":\"rgb(232,232,232)\",\"linecolor\":\"rgb(36,36,36)\",\"showgrid\":false,\"showline\":true,\"ticks\":\"outside\"},\"baxis\":{\"gridcolor\":\"rgb(232,232,232)\",\"linecolor\":\"rgb(36,36,36)\",\"showgrid\":false,\"showline\":true,\"ticks\":\"outside\"},\"bgcolor\":\"white\",\"caxis\":{\"gridcolor\":\"rgb(232,232,232)\",\"linecolor\":\"rgb(36,36,36)\",\"showgrid\":false,\"showline\":true,\"ticks\":\"outside\"}},\"title\":{\"x\":0.05},\"xaxis\":{\"automargin\":true,\"gridcolor\":\"rgb(232,232,232)\",\"linecolor\":\"rgb(36,36,36)\",\"showgrid\":false,\"showline\":true,\"ticks\":\"outside\",\"title\":{\"standoff\":15},\"zeroline\":false,\"zerolinecolor\":\"rgb(36,36,36)\"},\"yaxis\":{\"automargin\":true,\"gridcolor\":\"rgb(232,232,232)\",\"linecolor\":\"rgb(36,36,36)\",\"showgrid\":false,\"showline\":true,\"ticks\":\"outside\",\"title\":{\"standoff\":15},\"zeroline\":false,\"zerolinecolor\":\"rgb(36,36,36)\"}}},\"xaxis\":{\"anchor\":\"y\",\"domain\":[0.0,1.0],\"title\":{\"text\":\"\"},\"visible\":false,\"range\":[-9.824082851409912,27.46293125152588]},\"yaxis\":{\"anchor\":\"x\",\"domain\":[0.0,1.0],\"title\":{\"text\":\"\"},\"visible\":false,\"range\":[-12.711549329757691,16.28235583305359]},\"legend\":{\"tracegroupgap\":0,\"itemsizing\":\"constant\"},\"margin\":{\"t\":60},\"title\":{\"font\":{\"size\":22,\"color\":\"Black\"},\"text\":\"\\u003cb\\u003eIntertopic Distance Map\\u003c\\u002fb\\u003e\",\"y\":0.95,\"x\":0.5,\"xanchor\":\"center\",\"yanchor\":\"top\"},\"hoverlabel\":{\"font\":{\"size\":16,\"family\":\"Rockwell\"},\"bgcolor\":\"white\"},\"width\":650,\"height\":650,\"sliders\":[{\"active\":0,\"pad\":{\"t\":50},\"steps\":[{\"args\":[{\"marker.color\":[[\"red\",\"#B0BEC5\",\"#B0BEC5\",\"#B0BEC5\",\"#B0BEC5\",\"#B0BEC5\",\"#B0BEC5\",\"#B0BEC5\",\"#B0BEC5\",\"#B0BEC5\",\"#B0BEC5\",\"#B0BEC5\",\"#B0BEC5\",\"#B0BEC5\",\"#B0BEC5\",\"#B0BEC5\",\"#B0BEC5\",\"#B0BEC5\",\"#B0BEC5\",\"#B0BEC5\",\"#B0BEC5\",\"#B0BEC5\",\"#B0BEC5\",\"#B0BEC5\",\"#B0BEC5\",\"#B0BEC5\",\"#B0BEC5\",\"#B0BEC5\",\"#B0BEC5\",\"#B0BEC5\"]]}],\"label\":\"Topic 0\",\"method\":\"update\"},{\"args\":[{\"marker.color\":[[\"#B0BEC5\",\"red\",\"#B0BEC5\",\"#B0BEC5\",\"#B0BEC5\",\"#B0BEC5\",\"#B0BEC5\",\"#B0BEC5\",\"#B0BEC5\",\"#B0BEC5\",\"#B0BEC5\",\"#B0BEC5\",\"#B0BEC5\",\"#B0BEC5\",\"#B0BEC5\",\"#B0BEC5\",\"#B0BEC5\",\"#B0BEC5\",\"#B0BEC5\",\"#B0BEC5\",\"#B0BEC5\",\"#B0BEC5\",\"#B0BEC5\",\"#B0BEC5\",\"#B0BEC5\",\"#B0BEC5\",\"#B0BEC5\",\"#B0BEC5\",\"#B0BEC5\",\"#B0BEC5\"]]}],\"label\":\"Topic 1\",\"method\":\"update\"},{\"args\":[{\"marker.color\":[[\"#B0BEC5\",\"#B0BEC5\",\"red\",\"#B0BEC5\",\"#B0BEC5\",\"#B0BEC5\",\"#B0BEC5\",\"#B0BEC5\",\"#B0BEC5\",\"#B0BEC5\",\"#B0BEC5\",\"#B0BEC5\",\"#B0BEC5\",\"#B0BEC5\",\"#B0BEC5\",\"#B0BEC5\",\"#B0BEC5\",\"#B0BEC5\",\"#B0BEC5\",\"#B0BEC5\",\"#B0BEC5\",\"#B0BEC5\",\"#B0BEC5\",\"#B0BEC5\",\"#B0BEC5\",\"#B0BEC5\",\"#B0BEC5\",\"#B0BEC5\",\"#B0BEC5\",\"#B0BEC5\"]]}],\"label\":\"Topic 2\",\"method\":\"update\"},{\"args\":[{\"marker.color\":[[\"#B0BEC5\",\"#B0BEC5\",\"#B0BEC5\",\"red\",\"#B0BEC5\",\"#B0BEC5\",\"#B0BEC5\",\"#B0BEC5\",\"#B0BEC5\",\"#B0BEC5\",\"#B0BEC5\",\"#B0BEC5\",\"#B0BEC5\",\"#B0BEC5\",\"#B0BEC5\",\"#B0BEC5\",\"#B0BEC5\",\"#B0BEC5\",\"#B0BEC5\",\"#B0BEC5\",\"#B0BEC5\",\"#B0BEC5\",\"#B0BEC5\",\"#B0BEC5\",\"#B0BEC5\",\"#B0BEC5\",\"#B0BEC5\",\"#B0BEC5\",\"#B0BEC5\",\"#B0BEC5\"]]}],\"label\":\"Topic 3\",\"method\":\"update\"},{\"args\":[{\"marker.color\":[[\"#B0BEC5\",\"#B0BEC5\",\"#B0BEC5\",\"#B0BEC5\",\"red\",\"#B0BEC5\",\"#B0BEC5\",\"#B0BEC5\",\"#B0BEC5\",\"#B0BEC5\",\"#B0BEC5\",\"#B0BEC5\",\"#B0BEC5\",\"#B0BEC5\",\"#B0BEC5\",\"#B0BEC5\",\"#B0BEC5\",\"#B0BEC5\",\"#B0BEC5\",\"#B0BEC5\",\"#B0BEC5\",\"#B0BEC5\",\"#B0BEC5\",\"#B0BEC5\",\"#B0BEC5\",\"#B0BEC5\",\"#B0BEC5\",\"#B0BEC5\",\"#B0BEC5\",\"#B0BEC5\"]]}],\"label\":\"Topic 4\",\"method\":\"update\"},{\"args\":[{\"marker.color\":[[\"#B0BEC5\",\"#B0BEC5\",\"#B0BEC5\",\"#B0BEC5\",\"#B0BEC5\",\"red\",\"#B0BEC5\",\"#B0BEC5\",\"#B0BEC5\",\"#B0BEC5\",\"#B0BEC5\",\"#B0BEC5\",\"#B0BEC5\",\"#B0BEC5\",\"#B0BEC5\",\"#B0BEC5\",\"#B0BEC5\",\"#B0BEC5\",\"#B0BEC5\",\"#B0BEC5\",\"#B0BEC5\",\"#B0BEC5\",\"#B0BEC5\",\"#B0BEC5\",\"#B0BEC5\",\"#B0BEC5\",\"#B0BEC5\",\"#B0BEC5\",\"#B0BEC5\",\"#B0BEC5\"]]}],\"label\":\"Topic 5\",\"method\":\"update\"},{\"args\":[{\"marker.color\":[[\"#B0BEC5\",\"#B0BEC5\",\"#B0BEC5\",\"#B0BEC5\",\"#B0BEC5\",\"#B0BEC5\",\"red\",\"#B0BEC5\",\"#B0BEC5\",\"#B0BEC5\",\"#B0BEC5\",\"#B0BEC5\",\"#B0BEC5\",\"#B0BEC5\",\"#B0BEC5\",\"#B0BEC5\",\"#B0BEC5\",\"#B0BEC5\",\"#B0BEC5\",\"#B0BEC5\",\"#B0BEC5\",\"#B0BEC5\",\"#B0BEC5\",\"#B0BEC5\",\"#B0BEC5\",\"#B0BEC5\",\"#B0BEC5\",\"#B0BEC5\",\"#B0BEC5\",\"#B0BEC5\"]]}],\"label\":\"Topic 6\",\"method\":\"update\"},{\"args\":[{\"marker.color\":[[\"#B0BEC5\",\"#B0BEC5\",\"#B0BEC5\",\"#B0BEC5\",\"#B0BEC5\",\"#B0BEC5\",\"#B0BEC5\",\"red\",\"#B0BEC5\",\"#B0BEC5\",\"#B0BEC5\",\"#B0BEC5\",\"#B0BEC5\",\"#B0BEC5\",\"#B0BEC5\",\"#B0BEC5\",\"#B0BEC5\",\"#B0BEC5\",\"#B0BEC5\",\"#B0BEC5\",\"#B0BEC5\",\"#B0BEC5\",\"#B0BEC5\",\"#B0BEC5\",\"#B0BEC5\",\"#B0BEC5\",\"#B0BEC5\",\"#B0BEC5\",\"#B0BEC5\",\"#B0BEC5\"]]}],\"label\":\"Topic 7\",\"method\":\"update\"},{\"args\":[{\"marker.color\":[[\"#B0BEC5\",\"#B0BEC5\",\"#B0BEC5\",\"#B0BEC5\",\"#B0BEC5\",\"#B0BEC5\",\"#B0BEC5\",\"#B0BEC5\",\"red\",\"#B0BEC5\",\"#B0BEC5\",\"#B0BEC5\",\"#B0BEC5\",\"#B0BEC5\",\"#B0BEC5\",\"#B0BEC5\",\"#B0BEC5\",\"#B0BEC5\",\"#B0BEC5\",\"#B0BEC5\",\"#B0BEC5\",\"#B0BEC5\",\"#B0BEC5\",\"#B0BEC5\",\"#B0BEC5\",\"#B0BEC5\",\"#B0BEC5\",\"#B0BEC5\",\"#B0BEC5\",\"#B0BEC5\"]]}],\"label\":\"Topic 8\",\"method\":\"update\"},{\"args\":[{\"marker.color\":[[\"#B0BEC5\",\"#B0BEC5\",\"#B0BEC5\",\"#B0BEC5\",\"#B0BEC5\",\"#B0BEC5\",\"#B0BEC5\",\"#B0BEC5\",\"#B0BEC5\",\"red\",\"#B0BEC5\",\"#B0BEC5\",\"#B0BEC5\",\"#B0BEC5\",\"#B0BEC5\",\"#B0BEC5\",\"#B0BEC5\",\"#B0BEC5\",\"#B0BEC5\",\"#B0BEC5\",\"#B0BEC5\",\"#B0BEC5\",\"#B0BEC5\",\"#B0BEC5\",\"#B0BEC5\",\"#B0BEC5\",\"#B0BEC5\",\"#B0BEC5\",\"#B0BEC5\",\"#B0BEC5\"]]}],\"label\":\"Topic 9\",\"method\":\"update\"},{\"args\":[{\"marker.color\":[[\"#B0BEC5\",\"#B0BEC5\",\"#B0BEC5\",\"#B0BEC5\",\"#B0BEC5\",\"#B0BEC5\",\"#B0BEC5\",\"#B0BEC5\",\"#B0BEC5\",\"#B0BEC5\",\"red\",\"#B0BEC5\",\"#B0BEC5\",\"#B0BEC5\",\"#B0BEC5\",\"#B0BEC5\",\"#B0BEC5\",\"#B0BEC5\",\"#B0BEC5\",\"#B0BEC5\",\"#B0BEC5\",\"#B0BEC5\",\"#B0BEC5\",\"#B0BEC5\",\"#B0BEC5\",\"#B0BEC5\",\"#B0BEC5\",\"#B0BEC5\",\"#B0BEC5\",\"#B0BEC5\"]]}],\"label\":\"Topic 10\",\"method\":\"update\"},{\"args\":[{\"marker.color\":[[\"#B0BEC5\",\"#B0BEC5\",\"#B0BEC5\",\"#B0BEC5\",\"#B0BEC5\",\"#B0BEC5\",\"#B0BEC5\",\"#B0BEC5\",\"#B0BEC5\",\"#B0BEC5\",\"#B0BEC5\",\"red\",\"#B0BEC5\",\"#B0BEC5\",\"#B0BEC5\",\"#B0BEC5\",\"#B0BEC5\",\"#B0BEC5\",\"#B0BEC5\",\"#B0BEC5\",\"#B0BEC5\",\"#B0BEC5\",\"#B0BEC5\",\"#B0BEC5\",\"#B0BEC5\",\"#B0BEC5\",\"#B0BEC5\",\"#B0BEC5\",\"#B0BEC5\",\"#B0BEC5\"]]}],\"label\":\"Topic 11\",\"method\":\"update\"},{\"args\":[{\"marker.color\":[[\"#B0BEC5\",\"#B0BEC5\",\"#B0BEC5\",\"#B0BEC5\",\"#B0BEC5\",\"#B0BEC5\",\"#B0BEC5\",\"#B0BEC5\",\"#B0BEC5\",\"#B0BEC5\",\"#B0BEC5\",\"#B0BEC5\",\"red\",\"#B0BEC5\",\"#B0BEC5\",\"#B0BEC5\",\"#B0BEC5\",\"#B0BEC5\",\"#B0BEC5\",\"#B0BEC5\",\"#B0BEC5\",\"#B0BEC5\",\"#B0BEC5\",\"#B0BEC5\",\"#B0BEC5\",\"#B0BEC5\",\"#B0BEC5\",\"#B0BEC5\",\"#B0BEC5\",\"#B0BEC5\"]]}],\"label\":\"Topic 12\",\"method\":\"update\"},{\"args\":[{\"marker.color\":[[\"#B0BEC5\",\"#B0BEC5\",\"#B0BEC5\",\"#B0BEC5\",\"#B0BEC5\",\"#B0BEC5\",\"#B0BEC5\",\"#B0BEC5\",\"#B0BEC5\",\"#B0BEC5\",\"#B0BEC5\",\"#B0BEC5\",\"#B0BEC5\",\"red\",\"#B0BEC5\",\"#B0BEC5\",\"#B0BEC5\",\"#B0BEC5\",\"#B0BEC5\",\"#B0BEC5\",\"#B0BEC5\",\"#B0BEC5\",\"#B0BEC5\",\"#B0BEC5\",\"#B0BEC5\",\"#B0BEC5\",\"#B0BEC5\",\"#B0BEC5\",\"#B0BEC5\",\"#B0BEC5\"]]}],\"label\":\"Topic 13\",\"method\":\"update\"},{\"args\":[{\"marker.color\":[[\"#B0BEC5\",\"#B0BEC5\",\"#B0BEC5\",\"#B0BEC5\",\"#B0BEC5\",\"#B0BEC5\",\"#B0BEC5\",\"#B0BEC5\",\"#B0BEC5\",\"#B0BEC5\",\"#B0BEC5\",\"#B0BEC5\",\"#B0BEC5\",\"#B0BEC5\",\"red\",\"#B0BEC5\",\"#B0BEC5\",\"#B0BEC5\",\"#B0BEC5\",\"#B0BEC5\",\"#B0BEC5\",\"#B0BEC5\",\"#B0BEC5\",\"#B0BEC5\",\"#B0BEC5\",\"#B0BEC5\",\"#B0BEC5\",\"#B0BEC5\",\"#B0BEC5\",\"#B0BEC5\"]]}],\"label\":\"Topic 14\",\"method\":\"update\"},{\"args\":[{\"marker.color\":[[\"#B0BEC5\",\"#B0BEC5\",\"#B0BEC5\",\"#B0BEC5\",\"#B0BEC5\",\"#B0BEC5\",\"#B0BEC5\",\"#B0BEC5\",\"#B0BEC5\",\"#B0BEC5\",\"#B0BEC5\",\"#B0BEC5\",\"#B0BEC5\",\"#B0BEC5\",\"#B0BEC5\",\"red\",\"#B0BEC5\",\"#B0BEC5\",\"#B0BEC5\",\"#B0BEC5\",\"#B0BEC5\",\"#B0BEC5\",\"#B0BEC5\",\"#B0BEC5\",\"#B0BEC5\",\"#B0BEC5\",\"#B0BEC5\",\"#B0BEC5\",\"#B0BEC5\",\"#B0BEC5\"]]}],\"label\":\"Topic 15\",\"method\":\"update\"},{\"args\":[{\"marker.color\":[[\"#B0BEC5\",\"#B0BEC5\",\"#B0BEC5\",\"#B0BEC5\",\"#B0BEC5\",\"#B0BEC5\",\"#B0BEC5\",\"#B0BEC5\",\"#B0BEC5\",\"#B0BEC5\",\"#B0BEC5\",\"#B0BEC5\",\"#B0BEC5\",\"#B0BEC5\",\"#B0BEC5\",\"#B0BEC5\",\"red\",\"#B0BEC5\",\"#B0BEC5\",\"#B0BEC5\",\"#B0BEC5\",\"#B0BEC5\",\"#B0BEC5\",\"#B0BEC5\",\"#B0BEC5\",\"#B0BEC5\",\"#B0BEC5\",\"#B0BEC5\",\"#B0BEC5\",\"#B0BEC5\"]]}],\"label\":\"Topic 16\",\"method\":\"update\"},{\"args\":[{\"marker.color\":[[\"#B0BEC5\",\"#B0BEC5\",\"#B0BEC5\",\"#B0BEC5\",\"#B0BEC5\",\"#B0BEC5\",\"#B0BEC5\",\"#B0BEC5\",\"#B0BEC5\",\"#B0BEC5\",\"#B0BEC5\",\"#B0BEC5\",\"#B0BEC5\",\"#B0BEC5\",\"#B0BEC5\",\"#B0BEC5\",\"#B0BEC5\",\"red\",\"#B0BEC5\",\"#B0BEC5\",\"#B0BEC5\",\"#B0BEC5\",\"#B0BEC5\",\"#B0BEC5\",\"#B0BEC5\",\"#B0BEC5\",\"#B0BEC5\",\"#B0BEC5\",\"#B0BEC5\",\"#B0BEC5\"]]}],\"label\":\"Topic 17\",\"method\":\"update\"},{\"args\":[{\"marker.color\":[[\"#B0BEC5\",\"#B0BEC5\",\"#B0BEC5\",\"#B0BEC5\",\"#B0BEC5\",\"#B0BEC5\",\"#B0BEC5\",\"#B0BEC5\",\"#B0BEC5\",\"#B0BEC5\",\"#B0BEC5\",\"#B0BEC5\",\"#B0BEC5\",\"#B0BEC5\",\"#B0BEC5\",\"#B0BEC5\",\"#B0BEC5\",\"#B0BEC5\",\"red\",\"#B0BEC5\",\"#B0BEC5\",\"#B0BEC5\",\"#B0BEC5\",\"#B0BEC5\",\"#B0BEC5\",\"#B0BEC5\",\"#B0BEC5\",\"#B0BEC5\",\"#B0BEC5\",\"#B0BEC5\"]]}],\"label\":\"Topic 18\",\"method\":\"update\"},{\"args\":[{\"marker.color\":[[\"#B0BEC5\",\"#B0BEC5\",\"#B0BEC5\",\"#B0BEC5\",\"#B0BEC5\",\"#B0BEC5\",\"#B0BEC5\",\"#B0BEC5\",\"#B0BEC5\",\"#B0BEC5\",\"#B0BEC5\",\"#B0BEC5\",\"#B0BEC5\",\"#B0BEC5\",\"#B0BEC5\",\"#B0BEC5\",\"#B0BEC5\",\"#B0BEC5\",\"#B0BEC5\",\"red\",\"#B0BEC5\",\"#B0BEC5\",\"#B0BEC5\",\"#B0BEC5\",\"#B0BEC5\",\"#B0BEC5\",\"#B0BEC5\",\"#B0BEC5\",\"#B0BEC5\",\"#B0BEC5\"]]}],\"label\":\"Topic 19\",\"method\":\"update\"},{\"args\":[{\"marker.color\":[[\"#B0BEC5\",\"#B0BEC5\",\"#B0BEC5\",\"#B0BEC5\",\"#B0BEC5\",\"#B0BEC5\",\"#B0BEC5\",\"#B0BEC5\",\"#B0BEC5\",\"#B0BEC5\",\"#B0BEC5\",\"#B0BEC5\",\"#B0BEC5\",\"#B0BEC5\",\"#B0BEC5\",\"#B0BEC5\",\"#B0BEC5\",\"#B0BEC5\",\"#B0BEC5\",\"#B0BEC5\",\"red\",\"#B0BEC5\",\"#B0BEC5\",\"#B0BEC5\",\"#B0BEC5\",\"#B0BEC5\",\"#B0BEC5\",\"#B0BEC5\",\"#B0BEC5\",\"#B0BEC5\"]]}],\"label\":\"Topic 20\",\"method\":\"update\"},{\"args\":[{\"marker.color\":[[\"#B0BEC5\",\"#B0BEC5\",\"#B0BEC5\",\"#B0BEC5\",\"#B0BEC5\",\"#B0BEC5\",\"#B0BEC5\",\"#B0BEC5\",\"#B0BEC5\",\"#B0BEC5\",\"#B0BEC5\",\"#B0BEC5\",\"#B0BEC5\",\"#B0BEC5\",\"#B0BEC5\",\"#B0BEC5\",\"#B0BEC5\",\"#B0BEC5\",\"#B0BEC5\",\"#B0BEC5\",\"#B0BEC5\",\"red\",\"#B0BEC5\",\"#B0BEC5\",\"#B0BEC5\",\"#B0BEC5\",\"#B0BEC5\",\"#B0BEC5\",\"#B0BEC5\",\"#B0BEC5\"]]}],\"label\":\"Topic 21\",\"method\":\"update\"},{\"args\":[{\"marker.color\":[[\"#B0BEC5\",\"#B0BEC5\",\"#B0BEC5\",\"#B0BEC5\",\"#B0BEC5\",\"#B0BEC5\",\"#B0BEC5\",\"#B0BEC5\",\"#B0BEC5\",\"#B0BEC5\",\"#B0BEC5\",\"#B0BEC5\",\"#B0BEC5\",\"#B0BEC5\",\"#B0BEC5\",\"#B0BEC5\",\"#B0BEC5\",\"#B0BEC5\",\"#B0BEC5\",\"#B0BEC5\",\"#B0BEC5\",\"#B0BEC5\",\"red\",\"#B0BEC5\",\"#B0BEC5\",\"#B0BEC5\",\"#B0BEC5\",\"#B0BEC5\",\"#B0BEC5\",\"#B0BEC5\"]]}],\"label\":\"Topic 22\",\"method\":\"update\"},{\"args\":[{\"marker.color\":[[\"#B0BEC5\",\"#B0BEC5\",\"#B0BEC5\",\"#B0BEC5\",\"#B0BEC5\",\"#B0BEC5\",\"#B0BEC5\",\"#B0BEC5\",\"#B0BEC5\",\"#B0BEC5\",\"#B0BEC5\",\"#B0BEC5\",\"#B0BEC5\",\"#B0BEC5\",\"#B0BEC5\",\"#B0BEC5\",\"#B0BEC5\",\"#B0BEC5\",\"#B0BEC5\",\"#B0BEC5\",\"#B0BEC5\",\"#B0BEC5\",\"#B0BEC5\",\"red\",\"#B0BEC5\",\"#B0BEC5\",\"#B0BEC5\",\"#B0BEC5\",\"#B0BEC5\",\"#B0BEC5\"]]}],\"label\":\"Topic 23\",\"method\":\"update\"},{\"args\":[{\"marker.color\":[[\"#B0BEC5\",\"#B0BEC5\",\"#B0BEC5\",\"#B0BEC5\",\"#B0BEC5\",\"#B0BEC5\",\"#B0BEC5\",\"#B0BEC5\",\"#B0BEC5\",\"#B0BEC5\",\"#B0BEC5\",\"#B0BEC5\",\"#B0BEC5\",\"#B0BEC5\",\"#B0BEC5\",\"#B0BEC5\",\"#B0BEC5\",\"#B0BEC5\",\"#B0BEC5\",\"#B0BEC5\",\"#B0BEC5\",\"#B0BEC5\",\"#B0BEC5\",\"#B0BEC5\",\"red\",\"#B0BEC5\",\"#B0BEC5\",\"#B0BEC5\",\"#B0BEC5\",\"#B0BEC5\"]]}],\"label\":\"Topic 24\",\"method\":\"update\"},{\"args\":[{\"marker.color\":[[\"#B0BEC5\",\"#B0BEC5\",\"#B0BEC5\",\"#B0BEC5\",\"#B0BEC5\",\"#B0BEC5\",\"#B0BEC5\",\"#B0BEC5\",\"#B0BEC5\",\"#B0BEC5\",\"#B0BEC5\",\"#B0BEC5\",\"#B0BEC5\",\"#B0BEC5\",\"#B0BEC5\",\"#B0BEC5\",\"#B0BEC5\",\"#B0BEC5\",\"#B0BEC5\",\"#B0BEC5\",\"#B0BEC5\",\"#B0BEC5\",\"#B0BEC5\",\"#B0BEC5\",\"#B0BEC5\",\"red\",\"#B0BEC5\",\"#B0BEC5\",\"#B0BEC5\",\"#B0BEC5\"]]}],\"label\":\"Topic 25\",\"method\":\"update\"},{\"args\":[{\"marker.color\":[[\"#B0BEC5\",\"#B0BEC5\",\"#B0BEC5\",\"#B0BEC5\",\"#B0BEC5\",\"#B0BEC5\",\"#B0BEC5\",\"#B0BEC5\",\"#B0BEC5\",\"#B0BEC5\",\"#B0BEC5\",\"#B0BEC5\",\"#B0BEC5\",\"#B0BEC5\",\"#B0BEC5\",\"#B0BEC5\",\"#B0BEC5\",\"#B0BEC5\",\"#B0BEC5\",\"#B0BEC5\",\"#B0BEC5\",\"#B0BEC5\",\"#B0BEC5\",\"#B0BEC5\",\"#B0BEC5\",\"#B0BEC5\",\"red\",\"#B0BEC5\",\"#B0BEC5\",\"#B0BEC5\"]]}],\"label\":\"Topic 26\",\"method\":\"update\"},{\"args\":[{\"marker.color\":[[\"#B0BEC5\",\"#B0BEC5\",\"#B0BEC5\",\"#B0BEC5\",\"#B0BEC5\",\"#B0BEC5\",\"#B0BEC5\",\"#B0BEC5\",\"#B0BEC5\",\"#B0BEC5\",\"#B0BEC5\",\"#B0BEC5\",\"#B0BEC5\",\"#B0BEC5\",\"#B0BEC5\",\"#B0BEC5\",\"#B0BEC5\",\"#B0BEC5\",\"#B0BEC5\",\"#B0BEC5\",\"#B0BEC5\",\"#B0BEC5\",\"#B0BEC5\",\"#B0BEC5\",\"#B0BEC5\",\"#B0BEC5\",\"#B0BEC5\",\"red\",\"#B0BEC5\",\"#B0BEC5\"]]}],\"label\":\"Topic 27\",\"method\":\"update\"},{\"args\":[{\"marker.color\":[[\"#B0BEC5\",\"#B0BEC5\",\"#B0BEC5\",\"#B0BEC5\",\"#B0BEC5\",\"#B0BEC5\",\"#B0BEC5\",\"#B0BEC5\",\"#B0BEC5\",\"#B0BEC5\",\"#B0BEC5\",\"#B0BEC5\",\"#B0BEC5\",\"#B0BEC5\",\"#B0BEC5\",\"#B0BEC5\",\"#B0BEC5\",\"#B0BEC5\",\"#B0BEC5\",\"#B0BEC5\",\"#B0BEC5\",\"#B0BEC5\",\"#B0BEC5\",\"#B0BEC5\",\"#B0BEC5\",\"#B0BEC5\",\"#B0BEC5\",\"#B0BEC5\",\"red\",\"#B0BEC5\"]]}],\"label\":\"Topic 28\",\"method\":\"update\"},{\"args\":[{\"marker.color\":[[\"#B0BEC5\",\"#B0BEC5\",\"#B0BEC5\",\"#B0BEC5\",\"#B0BEC5\",\"#B0BEC5\",\"#B0BEC5\",\"#B0BEC5\",\"#B0BEC5\",\"#B0BEC5\",\"#B0BEC5\",\"#B0BEC5\",\"#B0BEC5\",\"#B0BEC5\",\"#B0BEC5\",\"#B0BEC5\",\"#B0BEC5\",\"#B0BEC5\",\"#B0BEC5\",\"#B0BEC5\",\"#B0BEC5\",\"#B0BEC5\",\"#B0BEC5\",\"#B0BEC5\",\"#B0BEC5\",\"#B0BEC5\",\"#B0BEC5\",\"#B0BEC5\",\"#B0BEC5\",\"red\"]]}],\"label\":\"Topic 29\",\"method\":\"update\"}]}],\"shapes\":[{\"line\":{\"color\":\"#CFD8DC\",\"width\":2},\"type\":\"line\",\"x0\":8.819424200057984,\"x1\":8.819424200057984,\"y0\":-12.711549329757691,\"y1\":16.28235583305359},{\"line\":{\"color\":\"#9E9E9E\",\"width\":2},\"type\":\"line\",\"x0\":-9.824082851409912,\"x1\":27.46293125152588,\"y0\":1.7854032516479492,\"y1\":1.7854032516479492}],\"annotations\":[{\"showarrow\":false,\"text\":\"D1\",\"x\":-9.824082851409912,\"y\":1.7854032516479492,\"yshift\":10},{\"showarrow\":false,\"text\":\"D2\",\"x\":8.819424200057984,\"xshift\":10,\"y\":16.28235583305359}]},                        {\"responsive\": true}                    ).then(function(){\n",
       "                            \n",
       "var gd = document.getElementById('65a6e0a8-a7cc-4b41-9735-44dde935e9c1');\n",
       "var x = new MutationObserver(function (mutations, observer) {{\n",
       "        var display = window.getComputedStyle(gd).display;\n",
       "        if (!display || display === 'none') {{\n",
       "            console.log([gd, 'removed!']);\n",
       "            Plotly.purge(gd);\n",
       "            observer.disconnect();\n",
       "        }}\n",
       "}});\n",
       "\n",
       "// Listen for the removal of the full notebook cells\n",
       "var notebookContainer = gd.closest('#notebook-container');\n",
       "if (notebookContainer) {{\n",
       "    x.observe(notebookContainer, {childList: true});\n",
       "}}\n",
       "\n",
       "// Listen for the clearing of the current output cell\n",
       "var outputEl = gd.closest('.output');\n",
       "if (outputEl) {{\n",
       "    x.observe(outputEl, {childList: true});\n",
       "}}\n",
       "\n",
       "                        })                };                });            </script>        </div>"
      ]
     },
     "metadata": {},
     "output_type": "display_data"
    }
   ],
   "source": [
    "fig = topic_model.visualize_topics()\n",
    "fig.show()"
   ]
  },
  {
   "cell_type": "code",
   "execution_count": 17,
   "metadata": {},
   "outputs": [
    {
     "data": {
      "text/plain": [
       "Localité\n",
       "Lausanne                156\n",
       "Genève                  115\n",
       "Neuchâtel                37\n",
       "Bern                     34\n",
       "Fribourg                 33\n",
       "                       ... \n",
       "Thusis                    1\n",
       "Klosters                  1\n",
       "Villars-Sainte-Croix      1\n",
       "Chexbres                  1\n",
       "Vollèges                  1\n",
       "Name: count, Length: 357, dtype: int64"
      ]
     },
     "execution_count": 17,
     "metadata": {},
     "output_type": "execute_result"
    }
   ],
   "source": [
    "acm_competitions[\"Localité\"].value_counts()"
   ]
  },
  {
   "cell_type": "code",
   "execution_count": 18,
   "metadata": {},
   "outputs": [
    {
     "data": {
      "text/html": [
       "<div>\n",
       "<style scoped>\n",
       "    .dataframe tbody tr th:only-of-type {\n",
       "        vertical-align: middle;\n",
       "    }\n",
       "\n",
       "    .dataframe tbody tr th {\n",
       "        vertical-align: top;\n",
       "    }\n",
       "\n",
       "    .dataframe thead th {\n",
       "        text-align: right;\n",
       "    }\n",
       "</style>\n",
       "<table border=\"1\" class=\"dataframe\">\n",
       "  <thead>\n",
       "    <tr style=\"text-align: right;\">\n",
       "      <th></th>\n",
       "      <th>orig_index</th>\n",
       "      <th>Nom de l'objet</th>\n",
       "      <th>Programme</th>\n",
       "      <th>Adresse 1</th>\n",
       "      <th>Adresse 2</th>\n",
       "      <th>Adresse 3</th>\n",
       "      <th>Numéro postal</th>\n",
       "      <th>Localité</th>\n",
       "      <th>Canton - Département</th>\n",
       "      <th>Pays</th>\n",
       "      <th>...</th>\n",
       "      <th>Concours ouvert à</th>\n",
       "      <th>Notes de l'objet</th>\n",
       "      <th>Auteurs</th>\n",
       "      <th>Rôle de l'auteur</th>\n",
       "      <th>Dossiers reliés</th>\n",
       "      <th>Pièces reliées</th>\n",
       "      <th>CombinedArtists</th>\n",
       "      <th>is_jury</th>\n",
       "      <th>paired_competitons</th>\n",
       "      <th>comp_id</th>\n",
       "    </tr>\n",
       "  </thead>\n",
       "  <tbody>\n",
       "    <tr>\n",
       "      <th>0</th>\n",
       "      <td>0</td>\n",
       "      <td>Concours pour le nouveau bâtiment des écoles d...</td>\n",
       "      <td>None</td>\n",
       "      <td>None</td>\n",
       "      <td>None</td>\n",
       "      <td>None</td>\n",
       "      <td>NaN</td>\n",
       "      <td>Vevey</td>\n",
       "      <td>None</td>\n",
       "      <td>Vaud</td>\n",
       "      <td>...</td>\n",
       "      <td>A. national</td>\n",
       "      <td>Ouvert par la Municipalité sur décret du 15 ma...</td>\n",
       "      <td>None</td>\n",
       "      <td>None</td>\n",
       "      <td>None</td>\n",
       "      <td>None</td>\n",
       "      <td>None</td>\n",
       "      <td>False</td>\n",
       "      <td>[1]</td>\n",
       "      <td>0</td>\n",
       "    </tr>\n",
       "    <tr>\n",
       "      <th>2</th>\n",
       "      <td>2</td>\n",
       "      <td>Concours (1er degré) pour le monument du génér...</td>\n",
       "      <td>None</td>\n",
       "      <td>None</td>\n",
       "      <td>None</td>\n",
       "      <td>None</td>\n",
       "      <td>NaN</td>\n",
       "      <td>Genève</td>\n",
       "      <td>None</td>\n",
       "      <td>Suisse</td>\n",
       "      <td>...</td>\n",
       "      <td>National</td>\n",
       "      <td>Chercher dans Eisenbahn vol. V une annonce d'o...</td>\n",
       "      <td>Thomas, Jules;Cain, Auguste-Nicolas;Rothpletz,...</td>\n",
       "      <td>Juré;Juré;Juré;Juré;Juré;Juré;Juré;Juré;Juré;J...</td>\n",
       "      <td>None</td>\n",
       "      <td>None</td>\n",
       "      <td>[[Thomas, Jules], [Cain, Auguste-Nicolas], [Ro...</td>\n",
       "      <td>False</td>\n",
       "      <td>[1540]</td>\n",
       "      <td>2</td>\n",
       "    </tr>\n",
       "    <tr>\n",
       "      <th>4</th>\n",
       "      <td>4</td>\n",
       "      <td>Concours d'éléments analytiques : 2e classe : ...</td>\n",
       "      <td>None</td>\n",
       "      <td>None</td>\n",
       "      <td>None</td>\n",
       "      <td>None</td>\n",
       "      <td>NaN</td>\n",
       "      <td>None</td>\n",
       "      <td>None</td>\n",
       "      <td>None</td>\n",
       "      <td>...</td>\n",
       "      <td>None</td>\n",
       "      <td>None</td>\n",
       "      <td>None</td>\n",
       "      <td>None</td>\n",
       "      <td>None</td>\n",
       "      <td>0138.04.0001/262</td>\n",
       "      <td>None</td>\n",
       "      <td>False</td>\n",
       "      <td>[]</td>\n",
       "      <td>4</td>\n",
       "    </tr>\n",
       "    <tr>\n",
       "      <th>5</th>\n",
       "      <td>5</td>\n",
       "      <td>Concours d'émulation - 2e classe - Esquisse: U...</td>\n",
       "      <td>None</td>\n",
       "      <td>None</td>\n",
       "      <td>None</td>\n",
       "      <td>None</td>\n",
       "      <td>NaN</td>\n",
       "      <td>Paris</td>\n",
       "      <td>None</td>\n",
       "      <td>France</td>\n",
       "      <td>...</td>\n",
       "      <td>None</td>\n",
       "      <td>\"Dans les grands palais, la chambre  coucher d...</td>\n",
       "      <td>Lesueur, Jean-Baptiste-Cicéron</td>\n",
       "      <td>None</td>\n",
       "      <td>None</td>\n",
       "      <td>0138.04.0001/71</td>\n",
       "      <td>[[Lesueur, Jean-Baptiste-Cicéron]]</td>\n",
       "      <td>False</td>\n",
       "      <td>[]</td>\n",
       "      <td>5</td>\n",
       "    </tr>\n",
       "    <tr>\n",
       "      <th>7</th>\n",
       "      <td>7</td>\n",
       "      <td>Concours d'éléments analytiques : 2e classe : ...</td>\n",
       "      <td>None</td>\n",
       "      <td>None</td>\n",
       "      <td>None</td>\n",
       "      <td>None</td>\n",
       "      <td>NaN</td>\n",
       "      <td>None</td>\n",
       "      <td>None</td>\n",
       "      <td>None</td>\n",
       "      <td>...</td>\n",
       "      <td>None</td>\n",
       "      <td>None</td>\n",
       "      <td>None</td>\n",
       "      <td>None</td>\n",
       "      <td>None</td>\n",
       "      <td>0138.04.0001/204 ; 0138.04.0001/268</td>\n",
       "      <td>None</td>\n",
       "      <td>False</td>\n",
       "      <td>[]</td>\n",
       "      <td>7</td>\n",
       "    </tr>\n",
       "    <tr>\n",
       "      <th>...</th>\n",
       "      <td>...</td>\n",
       "      <td>...</td>\n",
       "      <td>...</td>\n",
       "      <td>...</td>\n",
       "      <td>...</td>\n",
       "      <td>...</td>\n",
       "      <td>...</td>\n",
       "      <td>...</td>\n",
       "      <td>...</td>\n",
       "      <td>...</td>\n",
       "      <td>...</td>\n",
       "      <td>...</td>\n",
       "      <td>...</td>\n",
       "      <td>...</td>\n",
       "      <td>...</td>\n",
       "      <td>...</td>\n",
       "      <td>...</td>\n",
       "      <td>...</td>\n",
       "      <td>...</td>\n",
       "      <td>...</td>\n",
       "      <td>...</td>\n",
       "    </tr>\n",
       "    <tr>\n",
       "      <th>2145</th>\n",
       "      <td>2145</td>\n",
       "      <td>Concours pour l'agrandissement de la Faculté d...</td>\n",
       "      <td>None</td>\n",
       "      <td>None</td>\n",
       "      <td>None</td>\n",
       "      <td>None</td>\n",
       "      <td>NaN</td>\n",
       "      <td>Fribourg</td>\n",
       "      <td>None</td>\n",
       "      <td>Suisse</td>\n",
       "      <td>...</td>\n",
       "      <td>A. cantonal</td>\n",
       "      <td>Ouvert par la Fondation pour le développement ...</td>\n",
       "      <td>None</td>\n",
       "      <td>None</td>\n",
       "      <td>None</td>\n",
       "      <td>None</td>\n",
       "      <td>None</td>\n",
       "      <td>False</td>\n",
       "      <td>[2076]</td>\n",
       "      <td>2145</td>\n",
       "    </tr>\n",
       "    <tr>\n",
       "      <th>2146</th>\n",
       "      <td>2146</td>\n",
       "      <td>concours pour le restaurant des Iles: projet L...</td>\n",
       "      <td>Hôtellerie et tourisme : restaurant</td>\n",
       "      <td>None</td>\n",
       "      <td>None</td>\n",
       "      <td>None</td>\n",
       "      <td>1950.0</td>\n",
       "      <td>Sion</td>\n",
       "      <td>None</td>\n",
       "      <td>Suisse</td>\n",
       "      <td>...</td>\n",
       "      <td>None</td>\n",
       "      <td>concours ouvert aux architectes ayant leur dom...</td>\n",
       "      <td>Morisod, Paul;Bourgeoisie de Sion;Furrer, Edou...</td>\n",
       "      <td>Architecte;Maître de l'ouvrage;Architecte</td>\n",
       "      <td>0076.04.0138 ; 0076.02.0064 ; 0076.03.0022</td>\n",
       "      <td>None</td>\n",
       "      <td>[[Morisod, Paul], [Bourgeoisie de Sion], [Furr...</td>\n",
       "      <td>False</td>\n",
       "      <td>[]</td>\n",
       "      <td>2146</td>\n",
       "    </tr>\n",
       "    <tr>\n",
       "      <th>2147</th>\n",
       "      <td>2147</td>\n",
       "      <td>Concours d'ornement et d'ajustement - 1ère cla...</td>\n",
       "      <td>Monument</td>\n",
       "      <td>None</td>\n",
       "      <td>None</td>\n",
       "      <td>None</td>\n",
       "      <td>NaN</td>\n",
       "      <td>None</td>\n",
       "      <td>None</td>\n",
       "      <td>None</td>\n",
       "      <td>...</td>\n",
       "      <td>None</td>\n",
       "      <td>None</td>\n",
       "      <td>None</td>\n",
       "      <td>None</td>\n",
       "      <td>None</td>\n",
       "      <td>0138.04.0001/182 ; 0138.04.0001/181</td>\n",
       "      <td>None</td>\n",
       "      <td>False</td>\n",
       "      <td>[]</td>\n",
       "      <td>2147</td>\n",
       "    </tr>\n",
       "    <tr>\n",
       "      <th>2157</th>\n",
       "      <td>2157</td>\n",
       "      <td>Concours d'idées pour la construction d'un Pal...</td>\n",
       "      <td>Culture et vie sociale</td>\n",
       "      <td>None</td>\n",
       "      <td>None</td>\n",
       "      <td>None</td>\n",
       "      <td>NaN</td>\n",
       "      <td>Genève</td>\n",
       "      <td>None</td>\n",
       "      <td>Suisse</td>\n",
       "      <td>...</td>\n",
       "      <td>None</td>\n",
       "      <td>Projet nommé Centric. Bâtiment de plan carré, ...</td>\n",
       "      <td>Gaillard, André;Gaillard, Francis</td>\n",
       "      <td>Architecte;Architecte</td>\n",
       "      <td>0143.04.0360</td>\n",
       "      <td>None</td>\n",
       "      <td>[[Gaillard, André], [Gaillard, Francis]]</td>\n",
       "      <td>False</td>\n",
       "      <td>[]</td>\n",
       "      <td>2157</td>\n",
       "    </tr>\n",
       "    <tr>\n",
       "      <th>2158</th>\n",
       "      <td>2158</td>\n",
       "      <td>concours pour une salle de gym et un abri PC à...</td>\n",
       "      <td>Sport,  loisirs et hygiène</td>\n",
       "      <td>None</td>\n",
       "      <td>None</td>\n",
       "      <td>None</td>\n",
       "      <td>1941.0</td>\n",
       "      <td>Vollèges</td>\n",
       "      <td>None</td>\n",
       "      <td>Suisse</td>\n",
       "      <td>...</td>\n",
       "      <td>None</td>\n",
       "      <td>None</td>\n",
       "      <td>Morisod, Paul</td>\n",
       "      <td>Architecte</td>\n",
       "      <td>0076.03.0058</td>\n",
       "      <td>None</td>\n",
       "      <td>[[Morisod, Paul]]</td>\n",
       "      <td>False</td>\n",
       "      <td>[]</td>\n",
       "      <td>2158</td>\n",
       "    </tr>\n",
       "  </tbody>\n",
       "</table>\n",
       "<p>1331 rows × 22 columns</p>\n",
       "</div>"
      ],
      "text/plain": [
       "      orig_index                                     Nom de l'objet  \\\n",
       "0              0  Concours pour le nouveau bâtiment des écoles d...   \n",
       "2              2  Concours (1er degré) pour le monument du génér...   \n",
       "4              4  Concours d'éléments analytiques : 2e classe : ...   \n",
       "5              5  Concours d'émulation - 2e classe - Esquisse: U...   \n",
       "7              7  Concours d'éléments analytiques : 2e classe : ...   \n",
       "...          ...                                                ...   \n",
       "2145        2145  Concours pour l'agrandissement de la Faculté d...   \n",
       "2146        2146  concours pour le restaurant des Iles: projet L...   \n",
       "2147        2147  Concours d'ornement et d'ajustement - 1ère cla...   \n",
       "2157        2157  Concours d'idées pour la construction d'un Pal...   \n",
       "2158        2158  concours pour une salle de gym et un abri PC à...   \n",
       "\n",
       "                                Programme Adresse 1 Adresse 2 Adresse 3  \\\n",
       "0                                    None      None      None      None   \n",
       "2                                    None      None      None      None   \n",
       "4                                    None      None      None      None   \n",
       "5                                    None      None      None      None   \n",
       "7                                    None      None      None      None   \n",
       "...                                   ...       ...       ...       ...   \n",
       "2145                                 None      None      None      None   \n",
       "2146  Hôtellerie et tourisme : restaurant      None      None      None   \n",
       "2147                             Monument      None      None      None   \n",
       "2157               Culture et vie sociale      None      None      None   \n",
       "2158           Sport,  loisirs et hygiène      None      None      None   \n",
       "\n",
       "      Numéro postal  Localité Canton - Département    Pays  ...  \\\n",
       "0               NaN     Vevey                 None    Vaud  ...   \n",
       "2               NaN    Genève                 None  Suisse  ...   \n",
       "4               NaN      None                 None    None  ...   \n",
       "5               NaN     Paris                 None  France  ...   \n",
       "7               NaN      None                 None    None  ...   \n",
       "...             ...       ...                  ...     ...  ...   \n",
       "2145            NaN  Fribourg                 None  Suisse  ...   \n",
       "2146         1950.0      Sion                 None  Suisse  ...   \n",
       "2147            NaN      None                 None    None  ...   \n",
       "2157            NaN    Genève                 None  Suisse  ...   \n",
       "2158         1941.0  Vollèges                 None  Suisse  ...   \n",
       "\n",
       "     Concours ouvert à                                   Notes de l'objet  \\\n",
       "0          A. national  Ouvert par la Municipalité sur décret du 15 ma...   \n",
       "2             National  Chercher dans Eisenbahn vol. V une annonce d'o...   \n",
       "4                 None                                               None   \n",
       "5                 None  \"Dans les grands palais, la chambre  coucher d...   \n",
       "7                 None                                               None   \n",
       "...                ...                                                ...   \n",
       "2145       A. cantonal  Ouvert par la Fondation pour le développement ...   \n",
       "2146              None  concours ouvert aux architectes ayant leur dom...   \n",
       "2147              None                                               None   \n",
       "2157              None  Projet nommé Centric. Bâtiment de plan carré, ...   \n",
       "2158              None                                               None   \n",
       "\n",
       "                                                Auteurs  \\\n",
       "0                                                  None   \n",
       "2     Thomas, Jules;Cain, Auguste-Nicolas;Rothpletz,...   \n",
       "4                                                  None   \n",
       "5                        Lesueur, Jean-Baptiste-Cicéron   \n",
       "7                                                  None   \n",
       "...                                                 ...   \n",
       "2145                                               None   \n",
       "2146  Morisod, Paul;Bourgeoisie de Sion;Furrer, Edou...   \n",
       "2147                                               None   \n",
       "2157                  Gaillard, André;Gaillard, Francis   \n",
       "2158                                      Morisod, Paul   \n",
       "\n",
       "                                       Rôle de l'auteur  \\\n",
       "0                                                  None   \n",
       "2     Juré;Juré;Juré;Juré;Juré;Juré;Juré;Juré;Juré;J...   \n",
       "4                                                  None   \n",
       "5                                                  None   \n",
       "7                                                  None   \n",
       "...                                                 ...   \n",
       "2145                                               None   \n",
       "2146          Architecte;Maître de l'ouvrage;Architecte   \n",
       "2147                                               None   \n",
       "2157                              Architecte;Architecte   \n",
       "2158                                         Architecte   \n",
       "\n",
       "                                 Dossiers reliés  \\\n",
       "0                                           None   \n",
       "2                                           None   \n",
       "4                                           None   \n",
       "5                                           None   \n",
       "7                                           None   \n",
       "...                                          ...   \n",
       "2145                                        None   \n",
       "2146  0076.04.0138 ; 0076.02.0064 ; 0076.03.0022   \n",
       "2147                                        None   \n",
       "2157                                0143.04.0360   \n",
       "2158                                0076.03.0058   \n",
       "\n",
       "                           Pièces reliées  \\\n",
       "0                                    None   \n",
       "2                                    None   \n",
       "4                        0138.04.0001/262   \n",
       "5                         0138.04.0001/71   \n",
       "7     0138.04.0001/204 ; 0138.04.0001/268   \n",
       "...                                   ...   \n",
       "2145                                 None   \n",
       "2146                                 None   \n",
       "2147  0138.04.0001/182 ; 0138.04.0001/181   \n",
       "2157                                 None   \n",
       "2158                                 None   \n",
       "\n",
       "                                        CombinedArtists is_jury  \\\n",
       "0                                                  None   False   \n",
       "2     [[Thomas, Jules], [Cain, Auguste-Nicolas], [Ro...   False   \n",
       "4                                                  None   False   \n",
       "5                    [[Lesueur, Jean-Baptiste-Cicéron]]   False   \n",
       "7                                                  None   False   \n",
       "...                                                 ...     ...   \n",
       "2145                                               None   False   \n",
       "2146  [[Morisod, Paul], [Bourgeoisie de Sion], [Furr...   False   \n",
       "2147                                               None   False   \n",
       "2157           [[Gaillard, André], [Gaillard, Francis]]   False   \n",
       "2158                                  [[Morisod, Paul]]   False   \n",
       "\n",
       "     paired_competitons  comp_id  \n",
       "0                   [1]        0  \n",
       "2                [1540]        2  \n",
       "4                    []        4  \n",
       "5                    []        5  \n",
       "7                    []        7  \n",
       "...                 ...      ...  \n",
       "2145             [2076]     2145  \n",
       "2146                 []     2146  \n",
       "2147                 []     2147  \n",
       "2157                 []     2157  \n",
       "2158                 []     2158  \n",
       "\n",
       "[1331 rows x 22 columns]"
      ]
     },
     "execution_count": 18,
     "metadata": {},
     "output_type": "execute_result"
    }
   ],
   "source": [
    "acm_competitions"
   ]
  },
  {
   "cell_type": "code",
   "execution_count": 19,
   "metadata": {},
   "outputs": [
    {
     "data": {
      "text/plain": [
       "0       1872\n",
       "2       1877\n",
       "4       1882\n",
       "5       1883\n",
       "7       1884\n",
       "        ... \n",
       "2145    1959\n",
       "2146    1978\n",
       "2147    1887\n",
       "2157    1969\n",
       "2158    1981\n",
       "Name: Date de début de l'objet, Length: 1331, dtype: int32"
      ]
     },
     "execution_count": 19,
     "metadata": {},
     "output_type": "execute_result"
    }
   ],
   "source": [
    "acm_competitions['Date de début de l\\'objet'].dt.year"
   ]
  },
  {
   "cell_type": "code",
   "execution_count": 20,
   "metadata": {},
   "outputs": [],
   "source": [
    "topics_over_time = topic_model.topics_over_time(texts, acm_competitions['Date de début de l\\'objet'].dt.year, nr_bins=20)"
   ]
  },
  {
   "cell_type": "code",
   "execution_count": 27,
   "metadata": {},
   "outputs": [
    {
     "data": {
      "text/html": [
       "<div>\n",
       "<style scoped>\n",
       "    .dataframe tbody tr th:only-of-type {\n",
       "        vertical-align: middle;\n",
       "    }\n",
       "\n",
       "    .dataframe tbody tr th {\n",
       "        vertical-align: top;\n",
       "    }\n",
       "\n",
       "    .dataframe thead th {\n",
       "        text-align: right;\n",
       "    }\n",
       "</style>\n",
       "<table border=\"1\" class=\"dataframe\">\n",
       "  <thead>\n",
       "    <tr style=\"text-align: right;\">\n",
       "      <th></th>\n",
       "      <th>Topic</th>\n",
       "      <th>Words</th>\n",
       "      <th>Frequency</th>\n",
       "      <th>Timestamp</th>\n",
       "      <th>Name</th>\n",
       "    </tr>\n",
       "  </thead>\n",
       "  <tbody>\n",
       "    <tr>\n",
       "      <th>0</th>\n",
       "      <td>0</td>\n",
       "      <td>ecole, école, écoles, institut, université</td>\n",
       "      <td>1</td>\n",
       "      <td>1871.868</td>\n",
       "      <td>0_école_ecole_écoles_institut</td>\n",
       "    </tr>\n",
       "    <tr>\n",
       "      <th>1</th>\n",
       "      <td>1</td>\n",
       "      <td>lausanne, vieillesse, palais, hospice, tribunal</td>\n",
       "      <td>2</td>\n",
       "      <td>1871.868</td>\n",
       "      <td>1_lausanne_zürich_palais_institut</td>\n",
       "    </tr>\n",
       "    <tr>\n",
       "      <th>2</th>\n",
       "      <td>19</td>\n",
       "      <td>monument, dufour, de, degré, peintre</td>\n",
       "      <td>1</td>\n",
       "      <td>1871.868</td>\n",
       "      <td>19_monument_rambert_fondation_clarens</td>\n",
       "    </tr>\n",
       "    <tr>\n",
       "      <th>3</th>\n",
       "      <td>-1</td>\n",
       "      <td>coulouvrenière, monumentale, fontaine, godeboe...</td>\n",
       "      <td>3</td>\n",
       "      <td>1878.600</td>\n",
       "      <td>-1_société_meilleures_constructions_honn...</td>\n",
       "    </tr>\n",
       "    <tr>\n",
       "      <th>4</th>\n",
       "      <td>0</td>\n",
       "      <td>école, ecole, écoles, horlogerie, institut</td>\n",
       "      <td>1</td>\n",
       "      <td>1878.600</td>\n",
       "      <td>0_école_ecole_écoles_institut</td>\n",
       "    </tr>\n",
       "    <tr>\n",
       "      <th>...</th>\n",
       "      <td>...</td>\n",
       "      <td>...</td>\n",
       "      <td>...</td>\n",
       "      <td>...</td>\n",
       "      <td>...</td>\n",
       "    </tr>\n",
       "    <tr>\n",
       "      <th>340</th>\n",
       "      <td>5</td>\n",
       "      <td>routes, nationales, tour, orientation, centre</td>\n",
       "      <td>2</td>\n",
       "      <td>1997.400</td>\n",
       "      <td>5_centre_scolaire_viège_tunis</td>\n",
       "    </tr>\n",
       "    <tr>\n",
       "      <th>341</th>\n",
       "      <td>6</td>\n",
       "      <td>rhône, pont, tunnel, montreux, souste</td>\n",
       "      <td>2</td>\n",
       "      <td>1997.400</td>\n",
       "      <td>6_autoroute_lausanne_pont_ponts</td>\n",
       "    </tr>\n",
       "    <tr>\n",
       "      <th>342</th>\n",
       "      <td>18</td>\n",
       "      <td>cifom, école, technique, locle, salle</td>\n",
       "      <td>1</td>\n",
       "      <td>1997.400</td>\n",
       "      <td>18_gymnastique_salle_salles_école</td>\n",
       "    </tr>\n",
       "    <tr>\n",
       "      <th>343</th>\n",
       "      <td>20</td>\n",
       "      <td>gymnase, payerne, broye, montagnes, intercantonal</td>\n",
       "      <td>1</td>\n",
       "      <td>1997.400</td>\n",
       "      <td>20_cantonal_cantonale_gymnase_canton</td>\n",
       "    </tr>\n",
       "    <tr>\n",
       "      <th>344</th>\n",
       "      <td>28</td>\n",
       "      <td>arteplage, expositions, exposition, nationale,...</td>\n",
       "      <td>1</td>\n",
       "      <td>1997.400</td>\n",
       "      <td>28_internationale_expositions_internatio...</td>\n",
       "    </tr>\n",
       "  </tbody>\n",
       "</table>\n",
       "<p>345 rows × 5 columns</p>\n",
       "</div>"
      ],
      "text/plain": [
       "     Topic                                              Words  Frequency  \\\n",
       "0        0         ecole, école, écoles, institut, université          1   \n",
       "1        1    lausanne, vieillesse, palais, hospice, tribunal          2   \n",
       "2       19               monument, dufour, de, degré, peintre          1   \n",
       "3       -1  coulouvrenière, monumentale, fontaine, godeboe...          3   \n",
       "4        0         école, ecole, écoles, horlogerie, institut          1   \n",
       "..     ...                                                ...        ...   \n",
       "340      5      routes, nationales, tour, orientation, centre          2   \n",
       "341      6              rhône, pont, tunnel, montreux, souste          2   \n",
       "342     18              cifom, école, technique, locle, salle          1   \n",
       "343     20  gymnase, payerne, broye, montagnes, intercantonal          1   \n",
       "344     28  arteplage, expositions, exposition, nationale,...          1   \n",
       "\n",
       "     Timestamp                                         Name  \n",
       "0     1871.868                0_école_ecole_écoles_institut  \n",
       "1     1871.868            1_lausanne_zürich_palais_institut  \n",
       "2     1871.868        19_monument_rambert_fondation_clarens  \n",
       "3     1878.600  -1_société_meilleures_constructions_honn...  \n",
       "4     1878.600                0_école_ecole_écoles_institut  \n",
       "..         ...                                          ...  \n",
       "340   1997.400                5_centre_scolaire_viège_tunis  \n",
       "341   1997.400              6_autoroute_lausanne_pont_ponts  \n",
       "342   1997.400            18_gymnastique_salle_salles_école  \n",
       "343   1997.400         20_cantonal_cantonale_gymnase_canton  \n",
       "344   1997.400  28_internationale_expositions_internatio...  \n",
       "\n",
       "[345 rows x 5 columns]"
      ]
     },
     "execution_count": 27,
     "metadata": {},
     "output_type": "execute_result"
    }
   ],
   "source": [
    "topics_over_time"
   ]
  },
  {
   "cell_type": "code",
   "execution_count": 23,
   "metadata": {},
   "outputs": [
    {
     "data": {
      "application/vnd.plotly.v1+json": {
       "config": {
        "plotlyServerURL": "https://plot.ly"
       },
       "data": [
        {
         "hoverinfo": "text",
         "hovertext": [
          "<b>Topic 0</b><br>Words: ecole, école, écoles, institut, université",
          "<b>Topic 0</b><br>Words: école, ecole, écoles, horlogerie, institut",
          "<b>Topic 0</b><br>Words: école, ecole, écoles, université, berkeley",
          "<b>Topic 0</b><br>Words: école, ecole, écoles, institut, primaire",
          "<b>Topic 0</b><br>Words: ecole, école, écoles, institut, université",
          "<b>Topic 0</b><br>Words: école, ecole, écoles, institut, université",
          "<b>Topic 0</b><br>Words: école, ecole, écoles, agriculture, institut",
          "<b>Topic 0</b><br>Words: école, ecole, écoles, institut, université",
          "<b>Topic 0</b><br>Words: ecole, école, écoles, universitaire, universitaires",
          "<b>Topic 0</b><br>Words: ecole, école, écoles, institut, professionnelle",
          "<b>Topic 0</b><br>Words: école, ecole, écoles, supérieure, institut",
          "<b>Topic 0</b><br>Words: école, ecole, écoles, bankgeselschaft, supérieure",
          "<b>Topic 0</b><br>Words: école, ecole, écoles, institut, normale",
          "<b>Topic 0</b><br>Words: école, ecole, écoles, secondaire, universitaire",
          "<b>Topic 0</b><br>Words: école, ecole, écoles, régionale, université",
          "<b>Topic 0</b><br>Words: école, ecole, écoles, supérieure, commerciale",
          "<b>Topic 0</b><br>Words: collège, universitaire, universitaires, université, renens",
          "<b>Topic 0</b><br>Words: école, ecole, écoles, institut, supérieure",
          "<b>Topic 0</b><br>Words: ecole, école, écoles, économique, commerciale"
         ],
         "marker": {
          "color": "#E69F00"
         },
         "mode": "lines",
         "name": "0_école_ecole_écoles_institut",
         "type": "scatter",
         "x": [
          1871.868,
          1878.6,
          1891.8,
          1898.4,
          1905,
          1911.6,
          1918.2,
          1924.8,
          1931.4,
          1938,
          1944.6,
          1951.2,
          1957.8,
          1964.4,
          1971,
          1977.6,
          1984.2,
          1990.8,
          1997.4
         ],
         "y": [
          1,
          1,
          2,
          14,
          8,
          9,
          9,
          6,
          5,
          4,
          11,
          14,
          20,
          9,
          9,
          16,
          7,
          2,
          2
         ]
        },
        {
         "hoverinfo": "text",
         "hovertext": [
          "<b>Topic 1</b><br>Words: lausanne, vieillesse, palais, hospice, tribunal",
          "<b>Topic 1</b><br>Words: lausanne, zürich, institut, ecole, école",
          "<b>Topic 1</b><br>Words: lausanne, zürich, cantonal, ecole, école",
          "<b>Topic 1</b><br>Words: lausanne, zürich, palais, monument, cantonal",
          "<b>Topic 1</b><br>Words: lausanne, zürich, tramways, cantonal, cantonale",
          "<b>Topic 1</b><br>Words: lausanne, zürich, construction, cathédrale, ecole",
          "<b>Topic 1</b><br>Words: lausanne, palais, zürich, etienne, pontaise",
          "<b>Topic 1</b><br>Words: lausanne, zürich, institut, palais, société",
          "<b>Topic 1</b><br>Words: lausanne, hospice, zürich, palais, société",
          "<b>Topic 1</b><br>Words: lausanne, zürich, institut, cantonal, instituts",
          "<b>Topic 1</b><br>Words: lausanne, zürich, nouveaux, cantonal, cantonale",
          "<b>Topic 1</b><br>Words: lausannee, lausanne, zürich, école, ecole",
          "<b>Topic 1</b><br>Words: lausanne, zürich, etienne, école, ecole",
          "<b>Topic 1</b><br>Words: lausanne, zürich, zurich, école, ecole",
          "<b>Topic 1</b><br>Words: lausanne, zürich, ecole, école, urbanisme",
          "<b>Topic 1</b><br>Words: lausanne, conservatoire, musique, zürich, ecole",
          "<b>Topic 1</b><br>Words: lausanne, zürich, werkhof, cantonal, cantonales",
          "<b>Topic 1</b><br>Words: lausanne, zürich, cantonal, cantonale, palais",
          "<b>Topic 1</b><br>Words: lausanne, zürich, institut, etienne, école",
          "<b>Topic 1</b><br>Words: lausanne, zürich, école, ecole, palais"
         ],
         "marker": {
          "color": "#56B4E9"
         },
         "mode": "lines",
         "name": "1_lausanne_zürich_palais_institut",
         "type": "scatter",
         "x": [
          1871.868,
          1878.6,
          1885.2,
          1891.8,
          1898.4,
          1905,
          1911.6,
          1918.2,
          1924.8,
          1931.4,
          1938,
          1944.6,
          1951.2,
          1957.8,
          1964.4,
          1971,
          1977.6,
          1984.2,
          1990.8,
          1997.4
         ],
         "y": [
          2,
          2,
          2,
          6,
          13,
          12,
          13,
          6,
          6,
          15,
          1,
          9,
          4,
          9,
          7,
          4,
          8,
          11,
          4,
          3
         ]
        },
        {
         "hoverinfo": "text",
         "hovertext": [
          "<b>Topic 2</b><br>Words: rumine, édifice, campine, plans, lochgut",
          "<b>Topic 2</b><br>Words: agrandissement, kursaal, montreux, eaux, quais",
          "<b>Topic 2</b><br>Words: canal, danube, agrandissement, interlaken, kursaal",
          "<b>Topic 2</b><br>Words: aménagement, touristique, agrandissement, zürich, cantonale",
          "<b>Topic 2</b><br>Words: quais, mervelet, lotissement, touristique, agrandissement",
          "<b>Topic 2</b><br>Words: aménagement, agrandissement, touristique, quais, villamont",
          "<b>Topic 2</b><br>Words: aménagement, touristique, madeleine, cérésole, agrandissement",
          "<b>Topic 2</b><br>Words: aménagement, agrandissement, touristique, vernier, couvert",
          "<b>Topic 2</b><br>Words: aménagement, touristique, centre, agrandissement, village",
          "<b>Topic 2</b><br>Words: canal, lac, touristique, raccordement, transhélvétique",
          "<b>Topic 2</b><br>Words: aménagement, touristique, agrandissement, construction, montreux",
          "<b>Topic 2</b><br>Words: aménagement, agrandissement, aargauerstalden, perron, raccordement",
          "<b>Topic 2</b><br>Words: station, centrale, rurale, nouvelle, téléphonique",
          "<b>Topic 2</b><br>Words: aménagement, touristique, agrandissement, aargauerstalden, village",
          "<b>Topic 2</b><br>Words: quartier, quais, crochetan, sierre, bourg",
          "<b>Topic 2</b><br>Words: agrandissement, aménagement, réaménagement, touristique, parking",
          "<b>Topic 2</b><br>Words: aménagement, touristique, village, agrandissement, environnementale"
         ],
         "marker": {
          "color": "#009E73"
         },
         "mode": "lines",
         "name": "2_aménagement_villamont_touristique_quai...",
         "type": "scatter",
         "x": [
          1885.2,
          1891.8,
          1898.4,
          1905,
          1911.6,
          1918.2,
          1924.8,
          1931.4,
          1938,
          1944.6,
          1951.2,
          1957.8,
          1964.4,
          1971,
          1977.6,
          1984.2,
          1990.8
         ],
         "y": [
          1,
          1,
          3,
          5,
          8,
          8,
          12,
          7,
          3,
          5,
          12,
          14,
          9,
          6,
          2,
          7,
          3
         ]
        },
        {
         "hoverinfo": "text",
         "hovertext": [
          "<b>Topic 3</b><br>Words: bâtiment, bâtiments, bâtimenbts, bâle, mustermesse",
          "<b>Topic 3</b><br>Words: bâtiment, scolaire, bâtiments, bâtimenbts, scolaires",
          "<b>Topic 3</b><br>Words: échantillons, mustermesse, bâtiments, bâtimenbts, bâle",
          "<b>Topic 3</b><br>Words: bâtiments, bâtiment, bâtimenbts, scolaire, scolaires",
          "<b>Topic 3</b><br>Words: bâtiment, bâtiments, bâtimenbts, voyageurs, coudre",
          "<b>Topic 3</b><br>Words: roche, scolaire, scolaires, bâtiment, bâtimenbts",
          "<b>Topic 3</b><br>Words: bâtiments, bâtiment, scolaire, scolaires, bâtimenbts",
          "<b>Topic 3</b><br>Words: coudre, bâtiment, neuchâtel, cormondrèche, bâtiments",
          "<b>Topic 3</b><br>Words: cormondrèche, coudre, scolaire, chapelle, funéraire",
          "<b>Topic 3</b><br>Words: scolaire, montreux, scolaires, bâtiment, bâtiments",
          "<b>Topic 3</b><br>Words: bâtiments, bâtiment, bâtimenbts, coudre, mustermesse",
          "<b>Topic 3</b><br>Words: bâtiments, bâtiment, bâtimenbts, police, monthey",
          "<b>Topic 3</b><br>Words: murtenhof, papeterie, fipoi, morat, ancienne",
          "<b>Topic 3</b><br>Words: corporatif, bâtiment, bâtiments, bâtimenbts, sion",
          "<b>Topic 3</b><br>Words: bâtiment, bâtiments, porrentruy, bâtimenbts, scolaire"
         ],
         "marker": {
          "color": "#F0E442"
         },
         "mode": "lines",
         "name": "3_bâtiment_bâtiments_bâtimenbts_coudre",
         "type": "scatter",
         "x": [
          1898.4,
          1905,
          1911.6,
          1918.2,
          1924.8,
          1931.4,
          1938,
          1944.6,
          1951.2,
          1957.8,
          1971,
          1977.6,
          1984.2,
          1990.8,
          1997.4
         ],
         "y": [
          8,
          8,
          1,
          7,
          6,
          2,
          4,
          5,
          4,
          2,
          6,
          2,
          3,
          1,
          2
         ]
        },
        {
         "hoverinfo": "text",
         "hovertext": [
          "<b>Topic 4</b><br>Words: maison, maisons, école, montreux, commune",
          "<b>Topic 4</b><br>Words: maison, maisons, construction, villas, ouvrières",
          "<b>Topic 4</b><br>Words: maisons, maison, crèche, villas, campagne",
          "<b>Topic 4</b><br>Words: villas, maison, maisons, vaudoise, village",
          "<b>Topic 4</b><br>Words: maison, maisons, villas, crèche, lyon",
          "<b>Topic 4</b><br>Words: maisons, maison, villas, annexe, tourisme",
          "<b>Topic 4</b><br>Words: maison, maisons, école, crèche, villas",
          "<b>Topic 4</b><br>Words: maison, maisons, pratiques, sierre, villas",
          "<b>Topic 4</b><br>Words: villas, clinique, maisons, infantile, village",
          "<b>Topic 4</b><br>Words: maison, maisons, congrès, villas, communale",
          "<b>Topic 4</b><br>Words: européenne, maison, maisons, kirchgemeindehaus, tourisme",
          "<b>Topic 4</b><br>Words: maisons, maison, préfabriquées, pregassona, presbytère",
          "<b>Topic 4</b><br>Words: maison, maisons, personnes, communale, lavigny",
          "<b>Topic 4</b><br>Words: maison, maisons, tourisme, personnes, agées",
          "<b>Topic 4</b><br>Words: maison, maisons, crans, montana, feu"
         ],
         "marker": {
          "color": "#D55E00"
         },
         "mode": "lines",
         "name": "4_maison_maisons_congrès_villas",
         "type": "scatter",
         "x": [
          1891.8,
          1898.4,
          1905,
          1911.6,
          1918.2,
          1931.4,
          1938,
          1944.6,
          1951.2,
          1957.8,
          1964.4,
          1971,
          1977.6,
          1984.2,
          1990.8
         ],
         "y": [
          1,
          2,
          4,
          2,
          3,
          6,
          5,
          2,
          2,
          11,
          2,
          1,
          7,
          6,
          1
         ]
        }
       ],
       "layout": {
        "height": 450,
        "hoverlabel": {
         "bgcolor": "white",
         "font": {
          "family": "Rockwell",
          "size": 16
         }
        },
        "legend": {
         "title": {
          "text": "<b>Global Topic Representation"
         }
        },
        "template": {
         "data": {
          "bar": [
           {
            "error_x": {
             "color": "rgb(36,36,36)"
            },
            "error_y": {
             "color": "rgb(36,36,36)"
            },
            "marker": {
             "line": {
              "color": "white",
              "width": 0.5
             },
             "pattern": {
              "fillmode": "overlay",
              "size": 10,
              "solidity": 0.2
             }
            },
            "type": "bar"
           }
          ],
          "barpolar": [
           {
            "marker": {
             "line": {
              "color": "white",
              "width": 0.5
             },
             "pattern": {
              "fillmode": "overlay",
              "size": 10,
              "solidity": 0.2
             }
            },
            "type": "barpolar"
           }
          ],
          "carpet": [
           {
            "aaxis": {
             "endlinecolor": "rgb(36,36,36)",
             "gridcolor": "white",
             "linecolor": "white",
             "minorgridcolor": "white",
             "startlinecolor": "rgb(36,36,36)"
            },
            "baxis": {
             "endlinecolor": "rgb(36,36,36)",
             "gridcolor": "white",
             "linecolor": "white",
             "minorgridcolor": "white",
             "startlinecolor": "rgb(36,36,36)"
            },
            "type": "carpet"
           }
          ],
          "choropleth": [
           {
            "colorbar": {
             "outlinewidth": 1,
             "tickcolor": "rgb(36,36,36)",
             "ticks": "outside"
            },
            "type": "choropleth"
           }
          ],
          "contour": [
           {
            "colorbar": {
             "outlinewidth": 1,
             "tickcolor": "rgb(36,36,36)",
             "ticks": "outside"
            },
            "colorscale": [
             [
              0,
              "#440154"
             ],
             [
              0.1111111111111111,
              "#482878"
             ],
             [
              0.2222222222222222,
              "#3e4989"
             ],
             [
              0.3333333333333333,
              "#31688e"
             ],
             [
              0.4444444444444444,
              "#26828e"
             ],
             [
              0.5555555555555556,
              "#1f9e89"
             ],
             [
              0.6666666666666666,
              "#35b779"
             ],
             [
              0.7777777777777778,
              "#6ece58"
             ],
             [
              0.8888888888888888,
              "#b5de2b"
             ],
             [
              1,
              "#fde725"
             ]
            ],
            "type": "contour"
           }
          ],
          "contourcarpet": [
           {
            "colorbar": {
             "outlinewidth": 1,
             "tickcolor": "rgb(36,36,36)",
             "ticks": "outside"
            },
            "type": "contourcarpet"
           }
          ],
          "heatmap": [
           {
            "colorbar": {
             "outlinewidth": 1,
             "tickcolor": "rgb(36,36,36)",
             "ticks": "outside"
            },
            "colorscale": [
             [
              0,
              "#440154"
             ],
             [
              0.1111111111111111,
              "#482878"
             ],
             [
              0.2222222222222222,
              "#3e4989"
             ],
             [
              0.3333333333333333,
              "#31688e"
             ],
             [
              0.4444444444444444,
              "#26828e"
             ],
             [
              0.5555555555555556,
              "#1f9e89"
             ],
             [
              0.6666666666666666,
              "#35b779"
             ],
             [
              0.7777777777777778,
              "#6ece58"
             ],
             [
              0.8888888888888888,
              "#b5de2b"
             ],
             [
              1,
              "#fde725"
             ]
            ],
            "type": "heatmap"
           }
          ],
          "heatmapgl": [
           {
            "colorbar": {
             "outlinewidth": 1,
             "tickcolor": "rgb(36,36,36)",
             "ticks": "outside"
            },
            "colorscale": [
             [
              0,
              "#440154"
             ],
             [
              0.1111111111111111,
              "#482878"
             ],
             [
              0.2222222222222222,
              "#3e4989"
             ],
             [
              0.3333333333333333,
              "#31688e"
             ],
             [
              0.4444444444444444,
              "#26828e"
             ],
             [
              0.5555555555555556,
              "#1f9e89"
             ],
             [
              0.6666666666666666,
              "#35b779"
             ],
             [
              0.7777777777777778,
              "#6ece58"
             ],
             [
              0.8888888888888888,
              "#b5de2b"
             ],
             [
              1,
              "#fde725"
             ]
            ],
            "type": "heatmapgl"
           }
          ],
          "histogram": [
           {
            "marker": {
             "line": {
              "color": "white",
              "width": 0.6
             }
            },
            "type": "histogram"
           }
          ],
          "histogram2d": [
           {
            "colorbar": {
             "outlinewidth": 1,
             "tickcolor": "rgb(36,36,36)",
             "ticks": "outside"
            },
            "colorscale": [
             [
              0,
              "#440154"
             ],
             [
              0.1111111111111111,
              "#482878"
             ],
             [
              0.2222222222222222,
              "#3e4989"
             ],
             [
              0.3333333333333333,
              "#31688e"
             ],
             [
              0.4444444444444444,
              "#26828e"
             ],
             [
              0.5555555555555556,
              "#1f9e89"
             ],
             [
              0.6666666666666666,
              "#35b779"
             ],
             [
              0.7777777777777778,
              "#6ece58"
             ],
             [
              0.8888888888888888,
              "#b5de2b"
             ],
             [
              1,
              "#fde725"
             ]
            ],
            "type": "histogram2d"
           }
          ],
          "histogram2dcontour": [
           {
            "colorbar": {
             "outlinewidth": 1,
             "tickcolor": "rgb(36,36,36)",
             "ticks": "outside"
            },
            "colorscale": [
             [
              0,
              "#440154"
             ],
             [
              0.1111111111111111,
              "#482878"
             ],
             [
              0.2222222222222222,
              "#3e4989"
             ],
             [
              0.3333333333333333,
              "#31688e"
             ],
             [
              0.4444444444444444,
              "#26828e"
             ],
             [
              0.5555555555555556,
              "#1f9e89"
             ],
             [
              0.6666666666666666,
              "#35b779"
             ],
             [
              0.7777777777777778,
              "#6ece58"
             ],
             [
              0.8888888888888888,
              "#b5de2b"
             ],
             [
              1,
              "#fde725"
             ]
            ],
            "type": "histogram2dcontour"
           }
          ],
          "mesh3d": [
           {
            "colorbar": {
             "outlinewidth": 1,
             "tickcolor": "rgb(36,36,36)",
             "ticks": "outside"
            },
            "type": "mesh3d"
           }
          ],
          "parcoords": [
           {
            "line": {
             "colorbar": {
              "outlinewidth": 1,
              "tickcolor": "rgb(36,36,36)",
              "ticks": "outside"
             }
            },
            "type": "parcoords"
           }
          ],
          "pie": [
           {
            "automargin": true,
            "type": "pie"
           }
          ],
          "scatter": [
           {
            "fillpattern": {
             "fillmode": "overlay",
             "size": 10,
             "solidity": 0.2
            },
            "type": "scatter"
           }
          ],
          "scatter3d": [
           {
            "line": {
             "colorbar": {
              "outlinewidth": 1,
              "tickcolor": "rgb(36,36,36)",
              "ticks": "outside"
             }
            },
            "marker": {
             "colorbar": {
              "outlinewidth": 1,
              "tickcolor": "rgb(36,36,36)",
              "ticks": "outside"
             }
            },
            "type": "scatter3d"
           }
          ],
          "scattercarpet": [
           {
            "marker": {
             "colorbar": {
              "outlinewidth": 1,
              "tickcolor": "rgb(36,36,36)",
              "ticks": "outside"
             }
            },
            "type": "scattercarpet"
           }
          ],
          "scattergeo": [
           {
            "marker": {
             "colorbar": {
              "outlinewidth": 1,
              "tickcolor": "rgb(36,36,36)",
              "ticks": "outside"
             }
            },
            "type": "scattergeo"
           }
          ],
          "scattergl": [
           {
            "marker": {
             "colorbar": {
              "outlinewidth": 1,
              "tickcolor": "rgb(36,36,36)",
              "ticks": "outside"
             }
            },
            "type": "scattergl"
           }
          ],
          "scattermapbox": [
           {
            "marker": {
             "colorbar": {
              "outlinewidth": 1,
              "tickcolor": "rgb(36,36,36)",
              "ticks": "outside"
             }
            },
            "type": "scattermapbox"
           }
          ],
          "scatterpolar": [
           {
            "marker": {
             "colorbar": {
              "outlinewidth": 1,
              "tickcolor": "rgb(36,36,36)",
              "ticks": "outside"
             }
            },
            "type": "scatterpolar"
           }
          ],
          "scatterpolargl": [
           {
            "marker": {
             "colorbar": {
              "outlinewidth": 1,
              "tickcolor": "rgb(36,36,36)",
              "ticks": "outside"
             }
            },
            "type": "scatterpolargl"
           }
          ],
          "scatterternary": [
           {
            "marker": {
             "colorbar": {
              "outlinewidth": 1,
              "tickcolor": "rgb(36,36,36)",
              "ticks": "outside"
             }
            },
            "type": "scatterternary"
           }
          ],
          "surface": [
           {
            "colorbar": {
             "outlinewidth": 1,
             "tickcolor": "rgb(36,36,36)",
             "ticks": "outside"
            },
            "colorscale": [
             [
              0,
              "#440154"
             ],
             [
              0.1111111111111111,
              "#482878"
             ],
             [
              0.2222222222222222,
              "#3e4989"
             ],
             [
              0.3333333333333333,
              "#31688e"
             ],
             [
              0.4444444444444444,
              "#26828e"
             ],
             [
              0.5555555555555556,
              "#1f9e89"
             ],
             [
              0.6666666666666666,
              "#35b779"
             ],
             [
              0.7777777777777778,
              "#6ece58"
             ],
             [
              0.8888888888888888,
              "#b5de2b"
             ],
             [
              1,
              "#fde725"
             ]
            ],
            "type": "surface"
           }
          ],
          "table": [
           {
            "cells": {
             "fill": {
              "color": "rgb(237,237,237)"
             },
             "line": {
              "color": "white"
             }
            },
            "header": {
             "fill": {
              "color": "rgb(217,217,217)"
             },
             "line": {
              "color": "white"
             }
            },
            "type": "table"
           }
          ]
         },
         "layout": {
          "annotationdefaults": {
           "arrowhead": 0,
           "arrowwidth": 1
          },
          "autotypenumbers": "strict",
          "coloraxis": {
           "colorbar": {
            "outlinewidth": 1,
            "tickcolor": "rgb(36,36,36)",
            "ticks": "outside"
           }
          },
          "colorscale": {
           "diverging": [
            [
             0,
             "rgb(103,0,31)"
            ],
            [
             0.1,
             "rgb(178,24,43)"
            ],
            [
             0.2,
             "rgb(214,96,77)"
            ],
            [
             0.3,
             "rgb(244,165,130)"
            ],
            [
             0.4,
             "rgb(253,219,199)"
            ],
            [
             0.5,
             "rgb(247,247,247)"
            ],
            [
             0.6,
             "rgb(209,229,240)"
            ],
            [
             0.7,
             "rgb(146,197,222)"
            ],
            [
             0.8,
             "rgb(67,147,195)"
            ],
            [
             0.9,
             "rgb(33,102,172)"
            ],
            [
             1,
             "rgb(5,48,97)"
            ]
           ],
           "sequential": [
            [
             0,
             "#440154"
            ],
            [
             0.1111111111111111,
             "#482878"
            ],
            [
             0.2222222222222222,
             "#3e4989"
            ],
            [
             0.3333333333333333,
             "#31688e"
            ],
            [
             0.4444444444444444,
             "#26828e"
            ],
            [
             0.5555555555555556,
             "#1f9e89"
            ],
            [
             0.6666666666666666,
             "#35b779"
            ],
            [
             0.7777777777777778,
             "#6ece58"
            ],
            [
             0.8888888888888888,
             "#b5de2b"
            ],
            [
             1,
             "#fde725"
            ]
           ],
           "sequentialminus": [
            [
             0,
             "#440154"
            ],
            [
             0.1111111111111111,
             "#482878"
            ],
            [
             0.2222222222222222,
             "#3e4989"
            ],
            [
             0.3333333333333333,
             "#31688e"
            ],
            [
             0.4444444444444444,
             "#26828e"
            ],
            [
             0.5555555555555556,
             "#1f9e89"
            ],
            [
             0.6666666666666666,
             "#35b779"
            ],
            [
             0.7777777777777778,
             "#6ece58"
            ],
            [
             0.8888888888888888,
             "#b5de2b"
            ],
            [
             1,
             "#fde725"
            ]
           ]
          },
          "colorway": [
           "#1F77B4",
           "#FF7F0E",
           "#2CA02C",
           "#D62728",
           "#9467BD",
           "#8C564B",
           "#E377C2",
           "#7F7F7F",
           "#BCBD22",
           "#17BECF"
          ],
          "font": {
           "color": "rgb(36,36,36)"
          },
          "geo": {
           "bgcolor": "white",
           "lakecolor": "white",
           "landcolor": "white",
           "showlakes": true,
           "showland": true,
           "subunitcolor": "white"
          },
          "hoverlabel": {
           "align": "left"
          },
          "hovermode": "closest",
          "mapbox": {
           "style": "light"
          },
          "paper_bgcolor": "white",
          "plot_bgcolor": "white",
          "polar": {
           "angularaxis": {
            "gridcolor": "rgb(232,232,232)",
            "linecolor": "rgb(36,36,36)",
            "showgrid": false,
            "showline": true,
            "ticks": "outside"
           },
           "bgcolor": "white",
           "radialaxis": {
            "gridcolor": "rgb(232,232,232)",
            "linecolor": "rgb(36,36,36)",
            "showgrid": false,
            "showline": true,
            "ticks": "outside"
           }
          },
          "scene": {
           "xaxis": {
            "backgroundcolor": "white",
            "gridcolor": "rgb(232,232,232)",
            "gridwidth": 2,
            "linecolor": "rgb(36,36,36)",
            "showbackground": true,
            "showgrid": false,
            "showline": true,
            "ticks": "outside",
            "zeroline": false,
            "zerolinecolor": "rgb(36,36,36)"
           },
           "yaxis": {
            "backgroundcolor": "white",
            "gridcolor": "rgb(232,232,232)",
            "gridwidth": 2,
            "linecolor": "rgb(36,36,36)",
            "showbackground": true,
            "showgrid": false,
            "showline": true,
            "ticks": "outside",
            "zeroline": false,
            "zerolinecolor": "rgb(36,36,36)"
           },
           "zaxis": {
            "backgroundcolor": "white",
            "gridcolor": "rgb(232,232,232)",
            "gridwidth": 2,
            "linecolor": "rgb(36,36,36)",
            "showbackground": true,
            "showgrid": false,
            "showline": true,
            "ticks": "outside",
            "zeroline": false,
            "zerolinecolor": "rgb(36,36,36)"
           }
          },
          "shapedefaults": {
           "fillcolor": "black",
           "line": {
            "width": 0
           },
           "opacity": 0.3
          },
          "ternary": {
           "aaxis": {
            "gridcolor": "rgb(232,232,232)",
            "linecolor": "rgb(36,36,36)",
            "showgrid": false,
            "showline": true,
            "ticks": "outside"
           },
           "baxis": {
            "gridcolor": "rgb(232,232,232)",
            "linecolor": "rgb(36,36,36)",
            "showgrid": false,
            "showline": true,
            "ticks": "outside"
           },
           "bgcolor": "white",
           "caxis": {
            "gridcolor": "rgb(232,232,232)",
            "linecolor": "rgb(36,36,36)",
            "showgrid": false,
            "showline": true,
            "ticks": "outside"
           }
          },
          "title": {
           "x": 0.05
          },
          "xaxis": {
           "automargin": true,
           "gridcolor": "rgb(232,232,232)",
           "linecolor": "rgb(36,36,36)",
           "showgrid": false,
           "showline": true,
           "ticks": "outside",
           "title": {
            "standoff": 15
           },
           "zeroline": false,
           "zerolinecolor": "rgb(36,36,36)"
          },
          "yaxis": {
           "automargin": true,
           "gridcolor": "rgb(232,232,232)",
           "linecolor": "rgb(36,36,36)",
           "showgrid": false,
           "showline": true,
           "ticks": "outside",
           "title": {
            "standoff": 15
           },
           "zeroline": false,
           "zerolinecolor": "rgb(36,36,36)"
          }
         }
        },
        "title": {
         "font": {
          "color": "Black",
          "size": 22
         },
         "text": "<b>Topics over Time</b>",
         "x": 0.4,
         "xanchor": "center",
         "y": 0.95,
         "yanchor": "top"
        },
        "width": 1250,
        "xaxis": {
         "showgrid": true
        },
        "yaxis": {
         "showgrid": true,
         "title": {
          "text": "Frequency"
         }
        }
       }
      },
      "text/html": [
       "<div>                            <div id=\"f436b9e7-e6b5-40e7-897d-1b6bf0a7bf25\" class=\"plotly-graph-div\" style=\"height:450px; width:1250px;\"></div>            <script type=\"text/javascript\">                require([\"plotly\"], function(Plotly) {                    window.PLOTLYENV=window.PLOTLYENV || {};                                    if (document.getElementById(\"f436b9e7-e6b5-40e7-897d-1b6bf0a7bf25\")) {                    Plotly.newPlot(                        \"f436b9e7-e6b5-40e7-897d-1b6bf0a7bf25\",                        [{\"hoverinfo\":\"text\",\"hovertext\":[\"\\u003cb\\u003eTopic 0\\u003c\\u002fb\\u003e\\u003cbr\\u003eWords: ecole, \\u00e9cole, \\u00e9coles, institut, universit\\u00e9\",\"\\u003cb\\u003eTopic 0\\u003c\\u002fb\\u003e\\u003cbr\\u003eWords: \\u00e9cole, ecole, \\u00e9coles, horlogerie, institut\",\"\\u003cb\\u003eTopic 0\\u003c\\u002fb\\u003e\\u003cbr\\u003eWords: \\u00e9cole, ecole, \\u00e9coles, universit\\u00e9, berkeley\",\"\\u003cb\\u003eTopic 0\\u003c\\u002fb\\u003e\\u003cbr\\u003eWords: \\u00e9cole, ecole, \\u00e9coles, institut, primaire\",\"\\u003cb\\u003eTopic 0\\u003c\\u002fb\\u003e\\u003cbr\\u003eWords: ecole, \\u00e9cole, \\u00e9coles, institut, universit\\u00e9\",\"\\u003cb\\u003eTopic 0\\u003c\\u002fb\\u003e\\u003cbr\\u003eWords: \\u00e9cole, ecole, \\u00e9coles, institut, universit\\u00e9\",\"\\u003cb\\u003eTopic 0\\u003c\\u002fb\\u003e\\u003cbr\\u003eWords: \\u00e9cole, ecole, \\u00e9coles, agriculture, institut\",\"\\u003cb\\u003eTopic 0\\u003c\\u002fb\\u003e\\u003cbr\\u003eWords: \\u00e9cole, ecole, \\u00e9coles, institut, universit\\u00e9\",\"\\u003cb\\u003eTopic 0\\u003c\\u002fb\\u003e\\u003cbr\\u003eWords: ecole, \\u00e9cole, \\u00e9coles, universitaire, universitaires\",\"\\u003cb\\u003eTopic 0\\u003c\\u002fb\\u003e\\u003cbr\\u003eWords: ecole, \\u00e9cole, \\u00e9coles, institut, professionnelle\",\"\\u003cb\\u003eTopic 0\\u003c\\u002fb\\u003e\\u003cbr\\u003eWords: \\u00e9cole, ecole, \\u00e9coles, sup\\u00e9rieure, institut\",\"\\u003cb\\u003eTopic 0\\u003c\\u002fb\\u003e\\u003cbr\\u003eWords: \\u00e9cole, ecole, \\u00e9coles, bankgeselschaft, sup\\u00e9rieure\",\"\\u003cb\\u003eTopic 0\\u003c\\u002fb\\u003e\\u003cbr\\u003eWords: \\u00e9cole, ecole, \\u00e9coles, institut, normale\",\"\\u003cb\\u003eTopic 0\\u003c\\u002fb\\u003e\\u003cbr\\u003eWords: \\u00e9cole, ecole, \\u00e9coles, secondaire, universitaire\",\"\\u003cb\\u003eTopic 0\\u003c\\u002fb\\u003e\\u003cbr\\u003eWords: \\u00e9cole, ecole, \\u00e9coles, r\\u00e9gionale, universit\\u00e9\",\"\\u003cb\\u003eTopic 0\\u003c\\u002fb\\u003e\\u003cbr\\u003eWords: \\u00e9cole, ecole, \\u00e9coles, sup\\u00e9rieure, commerciale\",\"\\u003cb\\u003eTopic 0\\u003c\\u002fb\\u003e\\u003cbr\\u003eWords: coll\\u00e8ge, universitaire, universitaires, universit\\u00e9, renens\",\"\\u003cb\\u003eTopic 0\\u003c\\u002fb\\u003e\\u003cbr\\u003eWords: \\u00e9cole, ecole, \\u00e9coles, institut, sup\\u00e9rieure\",\"\\u003cb\\u003eTopic 0\\u003c\\u002fb\\u003e\\u003cbr\\u003eWords: ecole, \\u00e9cole, \\u00e9coles, \\u00e9conomique, commerciale\"],\"marker\":{\"color\":\"#E69F00\"},\"mode\":\"lines\",\"name\":\"0_\\u00e9cole_ecole_\\u00e9coles_institut\",\"x\":[1871.868,1878.6,1891.8,1898.4,1905.0,1911.6,1918.2,1924.8,1931.4,1938.0,1944.6,1951.2,1957.8,1964.4,1971.0,1977.6,1984.2,1990.8,1997.4],\"y\":[1,1,2,14,8,9,9,6,5,4,11,14,20,9,9,16,7,2,2],\"type\":\"scatter\"},{\"hoverinfo\":\"text\",\"hovertext\":[\"\\u003cb\\u003eTopic 1\\u003c\\u002fb\\u003e\\u003cbr\\u003eWords: lausanne, vieillesse, palais, hospice, tribunal\",\"\\u003cb\\u003eTopic 1\\u003c\\u002fb\\u003e\\u003cbr\\u003eWords: lausanne, z\\u00fcrich, institut, ecole, \\u00e9cole\",\"\\u003cb\\u003eTopic 1\\u003c\\u002fb\\u003e\\u003cbr\\u003eWords: lausanne, z\\u00fcrich, cantonal, ecole, \\u00e9cole\",\"\\u003cb\\u003eTopic 1\\u003c\\u002fb\\u003e\\u003cbr\\u003eWords: lausanne, z\\u00fcrich, palais, monument, cantonal\",\"\\u003cb\\u003eTopic 1\\u003c\\u002fb\\u003e\\u003cbr\\u003eWords: lausanne, z\\u00fcrich, tramways, cantonal, cantonale\",\"\\u003cb\\u003eTopic 1\\u003c\\u002fb\\u003e\\u003cbr\\u003eWords: lausanne, z\\u00fcrich, construction, cath\\u00e9drale, ecole\",\"\\u003cb\\u003eTopic 1\\u003c\\u002fb\\u003e\\u003cbr\\u003eWords: lausanne, palais, z\\u00fcrich, etienne, pontaise\",\"\\u003cb\\u003eTopic 1\\u003c\\u002fb\\u003e\\u003cbr\\u003eWords: lausanne, z\\u00fcrich, institut, palais, soci\\u00e9t\\u00e9\",\"\\u003cb\\u003eTopic 1\\u003c\\u002fb\\u003e\\u003cbr\\u003eWords: lausanne, hospice, z\\u00fcrich, palais, soci\\u00e9t\\u00e9\",\"\\u003cb\\u003eTopic 1\\u003c\\u002fb\\u003e\\u003cbr\\u003eWords: lausanne, z\\u00fcrich, institut, cantonal, instituts\",\"\\u003cb\\u003eTopic 1\\u003c\\u002fb\\u003e\\u003cbr\\u003eWords: lausanne, z\\u00fcrich, nouveaux, cantonal, cantonale\",\"\\u003cb\\u003eTopic 1\\u003c\\u002fb\\u003e\\u003cbr\\u003eWords: lausannee, lausanne, z\\u00fcrich, \\u00e9cole, ecole\",\"\\u003cb\\u003eTopic 1\\u003c\\u002fb\\u003e\\u003cbr\\u003eWords: lausanne, z\\u00fcrich, etienne, \\u00e9cole, ecole\",\"\\u003cb\\u003eTopic 1\\u003c\\u002fb\\u003e\\u003cbr\\u003eWords: lausanne, z\\u00fcrich, zurich, \\u00e9cole, ecole\",\"\\u003cb\\u003eTopic 1\\u003c\\u002fb\\u003e\\u003cbr\\u003eWords: lausanne, z\\u00fcrich, ecole, \\u00e9cole, urbanisme\",\"\\u003cb\\u003eTopic 1\\u003c\\u002fb\\u003e\\u003cbr\\u003eWords: lausanne, conservatoire, musique, z\\u00fcrich, ecole\",\"\\u003cb\\u003eTopic 1\\u003c\\u002fb\\u003e\\u003cbr\\u003eWords: lausanne, z\\u00fcrich, werkhof, cantonal, cantonales\",\"\\u003cb\\u003eTopic 1\\u003c\\u002fb\\u003e\\u003cbr\\u003eWords: lausanne, z\\u00fcrich, cantonal, cantonale, palais\",\"\\u003cb\\u003eTopic 1\\u003c\\u002fb\\u003e\\u003cbr\\u003eWords: lausanne, z\\u00fcrich, institut, etienne, \\u00e9cole\",\"\\u003cb\\u003eTopic 1\\u003c\\u002fb\\u003e\\u003cbr\\u003eWords: lausanne, z\\u00fcrich, \\u00e9cole, ecole, palais\"],\"marker\":{\"color\":\"#56B4E9\"},\"mode\":\"lines\",\"name\":\"1_lausanne_z\\u00fcrich_palais_institut\",\"x\":[1871.868,1878.6,1885.2,1891.8,1898.4,1905.0,1911.6,1918.2,1924.8,1931.4,1938.0,1944.6,1951.2,1957.8,1964.4,1971.0,1977.6,1984.2,1990.8,1997.4],\"y\":[2,2,2,6,13,12,13,6,6,15,1,9,4,9,7,4,8,11,4,3],\"type\":\"scatter\"},{\"hoverinfo\":\"text\",\"hovertext\":[\"\\u003cb\\u003eTopic 2\\u003c\\u002fb\\u003e\\u003cbr\\u003eWords: rumine, \\u00e9difice, campine, plans, lochgut\",\"\\u003cb\\u003eTopic 2\\u003c\\u002fb\\u003e\\u003cbr\\u003eWords: agrandissement, kursaal, montreux, eaux, quais\",\"\\u003cb\\u003eTopic 2\\u003c\\u002fb\\u003e\\u003cbr\\u003eWords: canal, danube, agrandissement, interlaken, kursaal\",\"\\u003cb\\u003eTopic 2\\u003c\\u002fb\\u003e\\u003cbr\\u003eWords: am\\u00e9nagement, touristique, agrandissement, z\\u00fcrich, cantonale\",\"\\u003cb\\u003eTopic 2\\u003c\\u002fb\\u003e\\u003cbr\\u003eWords: quais, mervelet, lotissement, touristique, agrandissement\",\"\\u003cb\\u003eTopic 2\\u003c\\u002fb\\u003e\\u003cbr\\u003eWords: am\\u00e9nagement, agrandissement, touristique, quais, villamont\",\"\\u003cb\\u003eTopic 2\\u003c\\u002fb\\u003e\\u003cbr\\u003eWords: am\\u00e9nagement, touristique, madeleine, c\\u00e9r\\u00e9sole, agrandissement\",\"\\u003cb\\u003eTopic 2\\u003c\\u002fb\\u003e\\u003cbr\\u003eWords: am\\u00e9nagement, agrandissement, touristique, vernier, couvert\",\"\\u003cb\\u003eTopic 2\\u003c\\u002fb\\u003e\\u003cbr\\u003eWords: am\\u00e9nagement, touristique, centre, agrandissement, village\",\"\\u003cb\\u003eTopic 2\\u003c\\u002fb\\u003e\\u003cbr\\u003eWords: canal, lac, touristique, raccordement, transh\\u00e9lv\\u00e9tique\",\"\\u003cb\\u003eTopic 2\\u003c\\u002fb\\u003e\\u003cbr\\u003eWords: am\\u00e9nagement, touristique, agrandissement, construction, montreux\",\"\\u003cb\\u003eTopic 2\\u003c\\u002fb\\u003e\\u003cbr\\u003eWords: am\\u00e9nagement, agrandissement, aargauerstalden, perron, raccordement\",\"\\u003cb\\u003eTopic 2\\u003c\\u002fb\\u003e\\u003cbr\\u003eWords: station, centrale, rurale, nouvelle, t\\u00e9l\\u00e9phonique\",\"\\u003cb\\u003eTopic 2\\u003c\\u002fb\\u003e\\u003cbr\\u003eWords: am\\u00e9nagement, touristique, agrandissement, aargauerstalden, village\",\"\\u003cb\\u003eTopic 2\\u003c\\u002fb\\u003e\\u003cbr\\u003eWords: quartier, quais, crochetan, sierre, bourg\",\"\\u003cb\\u003eTopic 2\\u003c\\u002fb\\u003e\\u003cbr\\u003eWords: agrandissement, am\\u00e9nagement, r\\u00e9am\\u00e9nagement, touristique, parking\",\"\\u003cb\\u003eTopic 2\\u003c\\u002fb\\u003e\\u003cbr\\u003eWords: am\\u00e9nagement, touristique, village, agrandissement, environnementale\"],\"marker\":{\"color\":\"#009E73\"},\"mode\":\"lines\",\"name\":\"2_am\\u00e9nagement_villamont_touristique_quai...\",\"x\":[1885.2,1891.8,1898.4,1905.0,1911.6,1918.2,1924.8,1931.4,1938.0,1944.6,1951.2,1957.8,1964.4,1971.0,1977.6,1984.2,1990.8],\"y\":[1,1,3,5,8,8,12,7,3,5,12,14,9,6,2,7,3],\"type\":\"scatter\"},{\"hoverinfo\":\"text\",\"hovertext\":[\"\\u003cb\\u003eTopic 3\\u003c\\u002fb\\u003e\\u003cbr\\u003eWords: b\\u00e2timent, b\\u00e2timents, b\\u00e2timenbts, b\\u00e2le, mustermesse\",\"\\u003cb\\u003eTopic 3\\u003c\\u002fb\\u003e\\u003cbr\\u003eWords: b\\u00e2timent, scolaire, b\\u00e2timents, b\\u00e2timenbts, scolaires\",\"\\u003cb\\u003eTopic 3\\u003c\\u002fb\\u003e\\u003cbr\\u003eWords: \\u00e9chantillons, mustermesse, b\\u00e2timents, b\\u00e2timenbts, b\\u00e2le\",\"\\u003cb\\u003eTopic 3\\u003c\\u002fb\\u003e\\u003cbr\\u003eWords: b\\u00e2timents, b\\u00e2timent, b\\u00e2timenbts, scolaire, scolaires\",\"\\u003cb\\u003eTopic 3\\u003c\\u002fb\\u003e\\u003cbr\\u003eWords: b\\u00e2timent, b\\u00e2timents, b\\u00e2timenbts, voyageurs, coudre\",\"\\u003cb\\u003eTopic 3\\u003c\\u002fb\\u003e\\u003cbr\\u003eWords: roche, scolaire, scolaires, b\\u00e2timent, b\\u00e2timenbts\",\"\\u003cb\\u003eTopic 3\\u003c\\u002fb\\u003e\\u003cbr\\u003eWords: b\\u00e2timents, b\\u00e2timent, scolaire, scolaires, b\\u00e2timenbts\",\"\\u003cb\\u003eTopic 3\\u003c\\u002fb\\u003e\\u003cbr\\u003eWords: coudre, b\\u00e2timent, neuch\\u00e2tel, cormondr\\u00e8che, b\\u00e2timents\",\"\\u003cb\\u003eTopic 3\\u003c\\u002fb\\u003e\\u003cbr\\u003eWords: cormondr\\u00e8che, coudre, scolaire, chapelle, fun\\u00e9raire\",\"\\u003cb\\u003eTopic 3\\u003c\\u002fb\\u003e\\u003cbr\\u003eWords: scolaire, montreux, scolaires, b\\u00e2timent, b\\u00e2timents\",\"\\u003cb\\u003eTopic 3\\u003c\\u002fb\\u003e\\u003cbr\\u003eWords: b\\u00e2timents, b\\u00e2timent, b\\u00e2timenbts, coudre, mustermesse\",\"\\u003cb\\u003eTopic 3\\u003c\\u002fb\\u003e\\u003cbr\\u003eWords: b\\u00e2timents, b\\u00e2timent, b\\u00e2timenbts, police, monthey\",\"\\u003cb\\u003eTopic 3\\u003c\\u002fb\\u003e\\u003cbr\\u003eWords: murtenhof, papeterie, fipoi, morat, ancienne\",\"\\u003cb\\u003eTopic 3\\u003c\\u002fb\\u003e\\u003cbr\\u003eWords: corporatif, b\\u00e2timent, b\\u00e2timents, b\\u00e2timenbts, sion\",\"\\u003cb\\u003eTopic 3\\u003c\\u002fb\\u003e\\u003cbr\\u003eWords: b\\u00e2timent, b\\u00e2timents, porrentruy, b\\u00e2timenbts, scolaire\"],\"marker\":{\"color\":\"#F0E442\"},\"mode\":\"lines\",\"name\":\"3_b\\u00e2timent_b\\u00e2timents_b\\u00e2timenbts_coudre\",\"x\":[1898.4,1905.0,1911.6,1918.2,1924.8,1931.4,1938.0,1944.6,1951.2,1957.8,1971.0,1977.6,1984.2,1990.8,1997.4],\"y\":[8,8,1,7,6,2,4,5,4,2,6,2,3,1,2],\"type\":\"scatter\"},{\"hoverinfo\":\"text\",\"hovertext\":[\"\\u003cb\\u003eTopic 4\\u003c\\u002fb\\u003e\\u003cbr\\u003eWords: maison, maisons, \\u00e9cole, montreux, commune\",\"\\u003cb\\u003eTopic 4\\u003c\\u002fb\\u003e\\u003cbr\\u003eWords: maison, maisons, construction, villas, ouvri\\u00e8res\",\"\\u003cb\\u003eTopic 4\\u003c\\u002fb\\u003e\\u003cbr\\u003eWords: maisons, maison, cr\\u00e8che, villas, campagne\",\"\\u003cb\\u003eTopic 4\\u003c\\u002fb\\u003e\\u003cbr\\u003eWords: villas, maison, maisons, vaudoise, village\",\"\\u003cb\\u003eTopic 4\\u003c\\u002fb\\u003e\\u003cbr\\u003eWords: maison, maisons, villas, cr\\u00e8che, lyon\",\"\\u003cb\\u003eTopic 4\\u003c\\u002fb\\u003e\\u003cbr\\u003eWords: maisons, maison, villas, annexe, tourisme\",\"\\u003cb\\u003eTopic 4\\u003c\\u002fb\\u003e\\u003cbr\\u003eWords: maison, maisons, \\u00e9cole, cr\\u00e8che, villas\",\"\\u003cb\\u003eTopic 4\\u003c\\u002fb\\u003e\\u003cbr\\u003eWords: maison, maisons, pratiques, sierre, villas\",\"\\u003cb\\u003eTopic 4\\u003c\\u002fb\\u003e\\u003cbr\\u003eWords: villas, clinique, maisons, infantile, village\",\"\\u003cb\\u003eTopic 4\\u003c\\u002fb\\u003e\\u003cbr\\u003eWords: maison, maisons, congr\\u00e8s, villas, communale\",\"\\u003cb\\u003eTopic 4\\u003c\\u002fb\\u003e\\u003cbr\\u003eWords: europ\\u00e9enne, maison, maisons, kirchgemeindehaus, tourisme\",\"\\u003cb\\u003eTopic 4\\u003c\\u002fb\\u003e\\u003cbr\\u003eWords: maisons, maison, pr\\u00e9fabriqu\\u00e9es, pregassona, presbyt\\u00e8re\",\"\\u003cb\\u003eTopic 4\\u003c\\u002fb\\u003e\\u003cbr\\u003eWords: maison, maisons, personnes, communale, lavigny\",\"\\u003cb\\u003eTopic 4\\u003c\\u002fb\\u003e\\u003cbr\\u003eWords: maison, maisons, tourisme, personnes, ag\\u00e9es\",\"\\u003cb\\u003eTopic 4\\u003c\\u002fb\\u003e\\u003cbr\\u003eWords: maison, maisons, crans, montana, feu\"],\"marker\":{\"color\":\"#D55E00\"},\"mode\":\"lines\",\"name\":\"4_maison_maisons_congr\\u00e8s_villas\",\"x\":[1891.8,1898.4,1905.0,1911.6,1918.2,1931.4,1938.0,1944.6,1951.2,1957.8,1964.4,1971.0,1977.6,1984.2,1990.8],\"y\":[1,2,4,2,3,6,5,2,2,11,2,1,7,6,1],\"type\":\"scatter\"}],                        {\"template\":{\"data\":{\"barpolar\":[{\"marker\":{\"line\":{\"color\":\"white\",\"width\":0.5},\"pattern\":{\"fillmode\":\"overlay\",\"size\":10,\"solidity\":0.2}},\"type\":\"barpolar\"}],\"bar\":[{\"error_x\":{\"color\":\"rgb(36,36,36)\"},\"error_y\":{\"color\":\"rgb(36,36,36)\"},\"marker\":{\"line\":{\"color\":\"white\",\"width\":0.5},\"pattern\":{\"fillmode\":\"overlay\",\"size\":10,\"solidity\":0.2}},\"type\":\"bar\"}],\"carpet\":[{\"aaxis\":{\"endlinecolor\":\"rgb(36,36,36)\",\"gridcolor\":\"white\",\"linecolor\":\"white\",\"minorgridcolor\":\"white\",\"startlinecolor\":\"rgb(36,36,36)\"},\"baxis\":{\"endlinecolor\":\"rgb(36,36,36)\",\"gridcolor\":\"white\",\"linecolor\":\"white\",\"minorgridcolor\":\"white\",\"startlinecolor\":\"rgb(36,36,36)\"},\"type\":\"carpet\"}],\"choropleth\":[{\"colorbar\":{\"outlinewidth\":1,\"tickcolor\":\"rgb(36,36,36)\",\"ticks\":\"outside\"},\"type\":\"choropleth\"}],\"contourcarpet\":[{\"colorbar\":{\"outlinewidth\":1,\"tickcolor\":\"rgb(36,36,36)\",\"ticks\":\"outside\"},\"type\":\"contourcarpet\"}],\"contour\":[{\"colorbar\":{\"outlinewidth\":1,\"tickcolor\":\"rgb(36,36,36)\",\"ticks\":\"outside\"},\"colorscale\":[[0.0,\"#440154\"],[0.1111111111111111,\"#482878\"],[0.2222222222222222,\"#3e4989\"],[0.3333333333333333,\"#31688e\"],[0.4444444444444444,\"#26828e\"],[0.5555555555555556,\"#1f9e89\"],[0.6666666666666666,\"#35b779\"],[0.7777777777777778,\"#6ece58\"],[0.8888888888888888,\"#b5de2b\"],[1.0,\"#fde725\"]],\"type\":\"contour\"}],\"heatmapgl\":[{\"colorbar\":{\"outlinewidth\":1,\"tickcolor\":\"rgb(36,36,36)\",\"ticks\":\"outside\"},\"colorscale\":[[0.0,\"#440154\"],[0.1111111111111111,\"#482878\"],[0.2222222222222222,\"#3e4989\"],[0.3333333333333333,\"#31688e\"],[0.4444444444444444,\"#26828e\"],[0.5555555555555556,\"#1f9e89\"],[0.6666666666666666,\"#35b779\"],[0.7777777777777778,\"#6ece58\"],[0.8888888888888888,\"#b5de2b\"],[1.0,\"#fde725\"]],\"type\":\"heatmapgl\"}],\"heatmap\":[{\"colorbar\":{\"outlinewidth\":1,\"tickcolor\":\"rgb(36,36,36)\",\"ticks\":\"outside\"},\"colorscale\":[[0.0,\"#440154\"],[0.1111111111111111,\"#482878\"],[0.2222222222222222,\"#3e4989\"],[0.3333333333333333,\"#31688e\"],[0.4444444444444444,\"#26828e\"],[0.5555555555555556,\"#1f9e89\"],[0.6666666666666666,\"#35b779\"],[0.7777777777777778,\"#6ece58\"],[0.8888888888888888,\"#b5de2b\"],[1.0,\"#fde725\"]],\"type\":\"heatmap\"}],\"histogram2dcontour\":[{\"colorbar\":{\"outlinewidth\":1,\"tickcolor\":\"rgb(36,36,36)\",\"ticks\":\"outside\"},\"colorscale\":[[0.0,\"#440154\"],[0.1111111111111111,\"#482878\"],[0.2222222222222222,\"#3e4989\"],[0.3333333333333333,\"#31688e\"],[0.4444444444444444,\"#26828e\"],[0.5555555555555556,\"#1f9e89\"],[0.6666666666666666,\"#35b779\"],[0.7777777777777778,\"#6ece58\"],[0.8888888888888888,\"#b5de2b\"],[1.0,\"#fde725\"]],\"type\":\"histogram2dcontour\"}],\"histogram2d\":[{\"colorbar\":{\"outlinewidth\":1,\"tickcolor\":\"rgb(36,36,36)\",\"ticks\":\"outside\"},\"colorscale\":[[0.0,\"#440154\"],[0.1111111111111111,\"#482878\"],[0.2222222222222222,\"#3e4989\"],[0.3333333333333333,\"#31688e\"],[0.4444444444444444,\"#26828e\"],[0.5555555555555556,\"#1f9e89\"],[0.6666666666666666,\"#35b779\"],[0.7777777777777778,\"#6ece58\"],[0.8888888888888888,\"#b5de2b\"],[1.0,\"#fde725\"]],\"type\":\"histogram2d\"}],\"histogram\":[{\"marker\":{\"line\":{\"color\":\"white\",\"width\":0.6}},\"type\":\"histogram\"}],\"mesh3d\":[{\"colorbar\":{\"outlinewidth\":1,\"tickcolor\":\"rgb(36,36,36)\",\"ticks\":\"outside\"},\"type\":\"mesh3d\"}],\"parcoords\":[{\"line\":{\"colorbar\":{\"outlinewidth\":1,\"tickcolor\":\"rgb(36,36,36)\",\"ticks\":\"outside\"}},\"type\":\"parcoords\"}],\"pie\":[{\"automargin\":true,\"type\":\"pie\"}],\"scatter3d\":[{\"line\":{\"colorbar\":{\"outlinewidth\":1,\"tickcolor\":\"rgb(36,36,36)\",\"ticks\":\"outside\"}},\"marker\":{\"colorbar\":{\"outlinewidth\":1,\"tickcolor\":\"rgb(36,36,36)\",\"ticks\":\"outside\"}},\"type\":\"scatter3d\"}],\"scattercarpet\":[{\"marker\":{\"colorbar\":{\"outlinewidth\":1,\"tickcolor\":\"rgb(36,36,36)\",\"ticks\":\"outside\"}},\"type\":\"scattercarpet\"}],\"scattergeo\":[{\"marker\":{\"colorbar\":{\"outlinewidth\":1,\"tickcolor\":\"rgb(36,36,36)\",\"ticks\":\"outside\"}},\"type\":\"scattergeo\"}],\"scattergl\":[{\"marker\":{\"colorbar\":{\"outlinewidth\":1,\"tickcolor\":\"rgb(36,36,36)\",\"ticks\":\"outside\"}},\"type\":\"scattergl\"}],\"scattermapbox\":[{\"marker\":{\"colorbar\":{\"outlinewidth\":1,\"tickcolor\":\"rgb(36,36,36)\",\"ticks\":\"outside\"}},\"type\":\"scattermapbox\"}],\"scatterpolargl\":[{\"marker\":{\"colorbar\":{\"outlinewidth\":1,\"tickcolor\":\"rgb(36,36,36)\",\"ticks\":\"outside\"}},\"type\":\"scatterpolargl\"}],\"scatterpolar\":[{\"marker\":{\"colorbar\":{\"outlinewidth\":1,\"tickcolor\":\"rgb(36,36,36)\",\"ticks\":\"outside\"}},\"type\":\"scatterpolar\"}],\"scatter\":[{\"fillpattern\":{\"fillmode\":\"overlay\",\"size\":10,\"solidity\":0.2},\"type\":\"scatter\"}],\"scatterternary\":[{\"marker\":{\"colorbar\":{\"outlinewidth\":1,\"tickcolor\":\"rgb(36,36,36)\",\"ticks\":\"outside\"}},\"type\":\"scatterternary\"}],\"surface\":[{\"colorbar\":{\"outlinewidth\":1,\"tickcolor\":\"rgb(36,36,36)\",\"ticks\":\"outside\"},\"colorscale\":[[0.0,\"#440154\"],[0.1111111111111111,\"#482878\"],[0.2222222222222222,\"#3e4989\"],[0.3333333333333333,\"#31688e\"],[0.4444444444444444,\"#26828e\"],[0.5555555555555556,\"#1f9e89\"],[0.6666666666666666,\"#35b779\"],[0.7777777777777778,\"#6ece58\"],[0.8888888888888888,\"#b5de2b\"],[1.0,\"#fde725\"]],\"type\":\"surface\"}],\"table\":[{\"cells\":{\"fill\":{\"color\":\"rgb(237,237,237)\"},\"line\":{\"color\":\"white\"}},\"header\":{\"fill\":{\"color\":\"rgb(217,217,217)\"},\"line\":{\"color\":\"white\"}},\"type\":\"table\"}]},\"layout\":{\"annotationdefaults\":{\"arrowhead\":0,\"arrowwidth\":1},\"autotypenumbers\":\"strict\",\"coloraxis\":{\"colorbar\":{\"outlinewidth\":1,\"tickcolor\":\"rgb(36,36,36)\",\"ticks\":\"outside\"}},\"colorscale\":{\"diverging\":[[0.0,\"rgb(103,0,31)\"],[0.1,\"rgb(178,24,43)\"],[0.2,\"rgb(214,96,77)\"],[0.3,\"rgb(244,165,130)\"],[0.4,\"rgb(253,219,199)\"],[0.5,\"rgb(247,247,247)\"],[0.6,\"rgb(209,229,240)\"],[0.7,\"rgb(146,197,222)\"],[0.8,\"rgb(67,147,195)\"],[0.9,\"rgb(33,102,172)\"],[1.0,\"rgb(5,48,97)\"]],\"sequential\":[[0.0,\"#440154\"],[0.1111111111111111,\"#482878\"],[0.2222222222222222,\"#3e4989\"],[0.3333333333333333,\"#31688e\"],[0.4444444444444444,\"#26828e\"],[0.5555555555555556,\"#1f9e89\"],[0.6666666666666666,\"#35b779\"],[0.7777777777777778,\"#6ece58\"],[0.8888888888888888,\"#b5de2b\"],[1.0,\"#fde725\"]],\"sequentialminus\":[[0.0,\"#440154\"],[0.1111111111111111,\"#482878\"],[0.2222222222222222,\"#3e4989\"],[0.3333333333333333,\"#31688e\"],[0.4444444444444444,\"#26828e\"],[0.5555555555555556,\"#1f9e89\"],[0.6666666666666666,\"#35b779\"],[0.7777777777777778,\"#6ece58\"],[0.8888888888888888,\"#b5de2b\"],[1.0,\"#fde725\"]]},\"colorway\":[\"#1F77B4\",\"#FF7F0E\",\"#2CA02C\",\"#D62728\",\"#9467BD\",\"#8C564B\",\"#E377C2\",\"#7F7F7F\",\"#BCBD22\",\"#17BECF\"],\"font\":{\"color\":\"rgb(36,36,36)\"},\"geo\":{\"bgcolor\":\"white\",\"lakecolor\":\"white\",\"landcolor\":\"white\",\"showlakes\":true,\"showland\":true,\"subunitcolor\":\"white\"},\"hoverlabel\":{\"align\":\"left\"},\"hovermode\":\"closest\",\"mapbox\":{\"style\":\"light\"},\"paper_bgcolor\":\"white\",\"plot_bgcolor\":\"white\",\"polar\":{\"angularaxis\":{\"gridcolor\":\"rgb(232,232,232)\",\"linecolor\":\"rgb(36,36,36)\",\"showgrid\":false,\"showline\":true,\"ticks\":\"outside\"},\"bgcolor\":\"white\",\"radialaxis\":{\"gridcolor\":\"rgb(232,232,232)\",\"linecolor\":\"rgb(36,36,36)\",\"showgrid\":false,\"showline\":true,\"ticks\":\"outside\"}},\"scene\":{\"xaxis\":{\"backgroundcolor\":\"white\",\"gridcolor\":\"rgb(232,232,232)\",\"gridwidth\":2,\"linecolor\":\"rgb(36,36,36)\",\"showbackground\":true,\"showgrid\":false,\"showline\":true,\"ticks\":\"outside\",\"zeroline\":false,\"zerolinecolor\":\"rgb(36,36,36)\"},\"yaxis\":{\"backgroundcolor\":\"white\",\"gridcolor\":\"rgb(232,232,232)\",\"gridwidth\":2,\"linecolor\":\"rgb(36,36,36)\",\"showbackground\":true,\"showgrid\":false,\"showline\":true,\"ticks\":\"outside\",\"zeroline\":false,\"zerolinecolor\":\"rgb(36,36,36)\"},\"zaxis\":{\"backgroundcolor\":\"white\",\"gridcolor\":\"rgb(232,232,232)\",\"gridwidth\":2,\"linecolor\":\"rgb(36,36,36)\",\"showbackground\":true,\"showgrid\":false,\"showline\":true,\"ticks\":\"outside\",\"zeroline\":false,\"zerolinecolor\":\"rgb(36,36,36)\"}},\"shapedefaults\":{\"fillcolor\":\"black\",\"line\":{\"width\":0},\"opacity\":0.3},\"ternary\":{\"aaxis\":{\"gridcolor\":\"rgb(232,232,232)\",\"linecolor\":\"rgb(36,36,36)\",\"showgrid\":false,\"showline\":true,\"ticks\":\"outside\"},\"baxis\":{\"gridcolor\":\"rgb(232,232,232)\",\"linecolor\":\"rgb(36,36,36)\",\"showgrid\":false,\"showline\":true,\"ticks\":\"outside\"},\"bgcolor\":\"white\",\"caxis\":{\"gridcolor\":\"rgb(232,232,232)\",\"linecolor\":\"rgb(36,36,36)\",\"showgrid\":false,\"showline\":true,\"ticks\":\"outside\"}},\"title\":{\"x\":0.05},\"xaxis\":{\"automargin\":true,\"gridcolor\":\"rgb(232,232,232)\",\"linecolor\":\"rgb(36,36,36)\",\"showgrid\":false,\"showline\":true,\"ticks\":\"outside\",\"title\":{\"standoff\":15},\"zeroline\":false,\"zerolinecolor\":\"rgb(36,36,36)\"},\"yaxis\":{\"automargin\":true,\"gridcolor\":\"rgb(232,232,232)\",\"linecolor\":\"rgb(36,36,36)\",\"showgrid\":false,\"showline\":true,\"ticks\":\"outside\",\"title\":{\"standoff\":15},\"zeroline\":false,\"zerolinecolor\":\"rgb(36,36,36)\"}}},\"xaxis\":{\"showgrid\":true},\"yaxis\":{\"showgrid\":true,\"title\":{\"text\":\"Frequency\"}},\"title\":{\"font\":{\"size\":22,\"color\":\"Black\"},\"text\":\"\\u003cb\\u003eTopics over Time\\u003c\\u002fb\\u003e\",\"y\":0.95,\"x\":0.4,\"xanchor\":\"center\",\"yanchor\":\"top\"},\"hoverlabel\":{\"font\":{\"size\":16,\"family\":\"Rockwell\"},\"bgcolor\":\"white\"},\"width\":1250,\"height\":450,\"legend\":{\"title\":{\"text\":\"\\u003cb\\u003eGlobal Topic Representation\"}}},                        {\"responsive\": true}                    ).then(function(){\n",
       "                            \n",
       "var gd = document.getElementById('f436b9e7-e6b5-40e7-897d-1b6bf0a7bf25');\n",
       "var x = new MutationObserver(function (mutations, observer) {{\n",
       "        var display = window.getComputedStyle(gd).display;\n",
       "        if (!display || display === 'none') {{\n",
       "            console.log([gd, 'removed!']);\n",
       "            Plotly.purge(gd);\n",
       "            observer.disconnect();\n",
       "        }}\n",
       "}});\n",
       "\n",
       "// Listen for the removal of the full notebook cells\n",
       "var notebookContainer = gd.closest('#notebook-container');\n",
       "if (notebookContainer) {{\n",
       "    x.observe(notebookContainer, {childList: true});\n",
       "}}\n",
       "\n",
       "// Listen for the clearing of the current output cell\n",
       "var outputEl = gd.closest('.output');\n",
       "if (outputEl) {{\n",
       "    x.observe(outputEl, {childList: true});\n",
       "}}\n",
       "\n",
       "                        })                };                });            </script>        </div>"
      ]
     },
     "metadata": {},
     "output_type": "display_data"
    }
   ],
   "source": [
    "topic_model.visualize_topics_over_time(topics_over_time, top_n_topics=5)\n"
   ]
  },
  {
   "cell_type": "code",
   "execution_count": null,
   "metadata": {},
   "outputs": [],
   "source": []
  }
 ],
 "metadata": {
  "kernelspec": {
   "display_name": "impresso",
   "language": "python",
   "name": "python3"
  },
  "language_info": {
   "codemirror_mode": {
    "name": "ipython",
    "version": 3
   },
   "file_extension": ".py",
   "mimetype": "text/x-python",
   "name": "python",
   "nbconvert_exporter": "python",
   "pygments_lexer": "ipython3",
   "version": "3.11.10"
  }
 },
 "nbformat": 4,
 "nbformat_minor": 2
}

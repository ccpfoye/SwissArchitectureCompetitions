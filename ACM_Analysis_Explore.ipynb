{
 "cells": [
  {
   "cell_type": "code",
   "execution_count": 1,
   "metadata": {},
   "outputs": [
    {
     "name": "stderr",
     "output_type": "stream",
     "text": [
      "/home/cfoye/.pyenv/versions/impresso/lib/python3.11/site-packages/tqdm/auto.py:21: TqdmWarning: IProgress not found. Please update jupyter and ipywidgets. See https://ipywidgets.readthedocs.io/en/stable/user_install.html\n",
      "  from .autonotebook import tqdm as notebook_tqdm\n"
     ]
    }
   ],
   "source": [
    "import pandas as pd\n",
    "import numpy as np\n",
    "import matplotlib.pyplot as plt\n",
    "import spacy\n",
    "from bertopic import BERTopic"
   ]
  },
  {
   "cell_type": "code",
   "execution_count": 2,
   "metadata": {},
   "outputs": [],
   "source": [
    "acm_competitions = pd.read_csv(\"Data/ACM/AcmEPFL_Base_de_donnees_des_concours_annee1990.csv\")"
   ]
  },
  {
   "cell_type": "code",
   "execution_count": 3,
   "metadata": {},
   "outputs": [
    {
     "data": {
      "text/html": [
       "<div>\n",
       "<style scoped>\n",
       "    .dataframe tbody tr th:only-of-type {\n",
       "        vertical-align: middle;\n",
       "    }\n",
       "\n",
       "    .dataframe tbody tr th {\n",
       "        vertical-align: top;\n",
       "    }\n",
       "\n",
       "    .dataframe thead th {\n",
       "        text-align: right;\n",
       "    }\n",
       "</style>\n",
       "<table border=\"1\" class=\"dataframe\">\n",
       "  <thead>\n",
       "    <tr style=\"text-align: right;\">\n",
       "      <th></th>\n",
       "      <th>Nom de l'objet</th>\n",
       "      <th>Programme</th>\n",
       "      <th>Adresse 1</th>\n",
       "      <th>Adresse 2</th>\n",
       "      <th>Adresse 3</th>\n",
       "      <th>Numéro postal</th>\n",
       "      <th>Localité</th>\n",
       "      <th>Canton - Département</th>\n",
       "      <th>Pays</th>\n",
       "      <th>Date de début de l'objet</th>\n",
       "      <th>Date de fin de l'objet</th>\n",
       "      <th>Concours ouvert à</th>\n",
       "      <th>Notes de l'objet</th>\n",
       "      <th>Auteurs</th>\n",
       "      <th>Rôle de l'auteur</th>\n",
       "      <th>Dossiers reliés</th>\n",
       "      <th>Pièces reliées</th>\n",
       "    </tr>\n",
       "  </thead>\n",
       "  <tbody>\n",
       "    <tr>\n",
       "      <th>0</th>\n",
       "      <td>Concours pour le nouveau bâtiment des écoles d...</td>\n",
       "      <td>NaN</td>\n",
       "      <td>NaN</td>\n",
       "      <td>NaN</td>\n",
       "      <td>NaN</td>\n",
       "      <td>NaN</td>\n",
       "      <td>Vevey</td>\n",
       "      <td>NaN</td>\n",
       "      <td>Vaud</td>\n",
       "      <td>1872</td>\n",
       "      <td>1872</td>\n",
       "      <td>A. national</td>\n",
       "      <td>Ouvert par la Municipalité sur décret du 15 ma...</td>\n",
       "      <td>NaN</td>\n",
       "      <td>NaN</td>\n",
       "      <td>NaN</td>\n",
       "      <td>NaN</td>\n",
       "    </tr>\n",
       "    <tr>\n",
       "      <th>1</th>\n",
       "      <td>Concours pour le nouveau bâtiment des écoles d...</td>\n",
       "      <td>NaN</td>\n",
       "      <td>NaN</td>\n",
       "      <td>NaN</td>\n",
       "      <td>NaN</td>\n",
       "      <td>NaN</td>\n",
       "      <td>Vevey</td>\n",
       "      <td>NaN</td>\n",
       "      <td>Vaud</td>\n",
       "      <td>1872</td>\n",
       "      <td>NaN</td>\n",
       "      <td>NaN</td>\n",
       "      <td>Le concours est mentionné en 1878 (Eisenbahn v...</td>\n",
       "      <td>Stadler + Ritscher von Steinbeck + Recordon, B...</td>\n",
       "      <td>3e prix 3e prix Juré, rapporteur Concurrent 2e...</td>\n",
       "      <td>NaN</td>\n",
       "      <td>NaN</td>\n",
       "    </tr>\n",
       "    <tr>\n",
       "      <th>2</th>\n",
       "      <td>Concours (1er degré) pour le monument du génér...</td>\n",
       "      <td>NaN</td>\n",
       "      <td>NaN</td>\n",
       "      <td>NaN</td>\n",
       "      <td>NaN</td>\n",
       "      <td>NaN</td>\n",
       "      <td>Genève</td>\n",
       "      <td>NaN</td>\n",
       "      <td>Suisse</td>\n",
       "      <td>1877</td>\n",
       "      <td>12.1877</td>\n",
       "      <td>National</td>\n",
       "      <td>Chercher dans Eisenbahn vol. V une annonce d'o...</td>\n",
       "      <td>Thomas, Jules Cain, Auguste-Nicolas Rothpletz,...</td>\n",
       "      <td>Juré Juré Juré Juré Juré Juré Juré Juré Juré J...</td>\n",
       "      <td>NaN</td>\n",
       "      <td>NaN</td>\n",
       "    </tr>\n",
       "    <tr>\n",
       "      <th>3</th>\n",
       "      <td>Concours restreint pour le nouveau Musée de la...</td>\n",
       "      <td>NaN</td>\n",
       "      <td>NaN</td>\n",
       "      <td>NaN</td>\n",
       "      <td>NaN</td>\n",
       "      <td>NaN</td>\n",
       "      <td>Mulhouse</td>\n",
       "      <td>NaN</td>\n",
       "      <td>NaN</td>\n",
       "      <td>1879</td>\n",
       "      <td>1879</td>\n",
       "      <td>NaN</td>\n",
       "      <td>\"Par suite d'un concours entre un nombre restr...</td>\n",
       "      <td>Rütti, Ludwig Friedrich von</td>\n",
       "      <td>Concurrent</td>\n",
       "      <td>NaN</td>\n",
       "      <td>NaN</td>\n",
       "    </tr>\n",
       "    <tr>\n",
       "      <th>4</th>\n",
       "      <td>Concours d'éléments analytiques : 2e classe : ...</td>\n",
       "      <td>NaN</td>\n",
       "      <td>NaN</td>\n",
       "      <td>NaN</td>\n",
       "      <td>NaN</td>\n",
       "      <td>NaN</td>\n",
       "      <td>NaN</td>\n",
       "      <td>NaN</td>\n",
       "      <td>NaN</td>\n",
       "      <td>1882</td>\n",
       "      <td>NaN</td>\n",
       "      <td>NaN</td>\n",
       "      <td>NaN</td>\n",
       "      <td>NaN</td>\n",
       "      <td>NaN</td>\n",
       "      <td>NaN</td>\n",
       "      <td>0138.04.0001/262</td>\n",
       "    </tr>\n",
       "    <tr>\n",
       "      <th>...</th>\n",
       "      <td>...</td>\n",
       "      <td>...</td>\n",
       "      <td>...</td>\n",
       "      <td>...</td>\n",
       "      <td>...</td>\n",
       "      <td>...</td>\n",
       "      <td>...</td>\n",
       "      <td>...</td>\n",
       "      <td>...</td>\n",
       "      <td>...</td>\n",
       "      <td>...</td>\n",
       "      <td>...</td>\n",
       "      <td>...</td>\n",
       "      <td>...</td>\n",
       "      <td>...</td>\n",
       "      <td>...</td>\n",
       "      <td>...</td>\n",
       "    </tr>\n",
       "    <tr>\n",
       "      <th>2381</th>\n",
       "      <td>Concours \"Reflet\" hôtel</td>\n",
       "      <td>NaN</td>\n",
       "      <td>NaN</td>\n",
       "      <td>NaN</td>\n",
       "      <td>NaN</td>\n",
       "      <td>NaN</td>\n",
       "      <td>Ouchy</td>\n",
       "      <td>Vaud</td>\n",
       "      <td>Suisse</td>\n",
       "      <td>NaN</td>\n",
       "      <td>NaN</td>\n",
       "      <td>NaN</td>\n",
       "      <td>NaN</td>\n",
       "      <td>NaN</td>\n",
       "      <td>NaN</td>\n",
       "      <td>0133.04.0316</td>\n",
       "      <td>NaN</td>\n",
       "    </tr>\n",
       "    <tr>\n",
       "      <th>2382</th>\n",
       "      <td>SIA, commission des concours-641</td>\n",
       "      <td>NaN</td>\n",
       "      <td>NaN</td>\n",
       "      <td>NaN</td>\n",
       "      <td>NaN</td>\n",
       "      <td>NaN</td>\n",
       "      <td>NaN</td>\n",
       "      <td>NaN</td>\n",
       "      <td>NaN</td>\n",
       "      <td>NaN</td>\n",
       "      <td>NaN</td>\n",
       "      <td>NaN</td>\n",
       "      <td>NaN</td>\n",
       "      <td>NaN</td>\n",
       "      <td>NaN</td>\n",
       "      <td>0011.03.0037 ; 0011.03.0032 ; 0011.03.0034</td>\n",
       "      <td>NaN</td>\n",
       "    </tr>\n",
       "    <tr>\n",
       "      <th>2383</th>\n",
       "      <td>SIA, commission des concours-642</td>\n",
       "      <td>NaN</td>\n",
       "      <td>NaN</td>\n",
       "      <td>NaN</td>\n",
       "      <td>NaN</td>\n",
       "      <td>NaN</td>\n",
       "      <td>NaN</td>\n",
       "      <td>NaN</td>\n",
       "      <td>NaN</td>\n",
       "      <td>NaN</td>\n",
       "      <td>NaN</td>\n",
       "      <td>NaN</td>\n",
       "      <td>NaN</td>\n",
       "      <td>NaN</td>\n",
       "      <td>NaN</td>\n",
       "      <td>0002.03.0102 ; 0002.03.0094 ; 0002.03.0101</td>\n",
       "      <td>NaN</td>\n",
       "    </tr>\n",
       "    <tr>\n",
       "      <th>2384</th>\n",
       "      <td>Temple de Saint-Marc (Lausanne), concours</td>\n",
       "      <td>NaN</td>\n",
       "      <td>Renens, chemin de, Sévery, avenue de</td>\n",
       "      <td>NaN</td>\n",
       "      <td>NaN</td>\n",
       "      <td>NaN</td>\n",
       "      <td>Lausanne</td>\n",
       "      <td>Vaud</td>\n",
       "      <td>Suisse</td>\n",
       "      <td>NaN</td>\n",
       "      <td>NaN</td>\n",
       "      <td>NaN</td>\n",
       "      <td>Jury: Jean Tschumy, Edmond Virieux, arch. cant...</td>\n",
       "      <td>NaN</td>\n",
       "      <td>NaN</td>\n",
       "      <td>0003.04.0059</td>\n",
       "      <td>NaN</td>\n",
       "    </tr>\n",
       "    <tr>\n",
       "      <th>2385</th>\n",
       "      <td>Un bâtiment d'administration, un bâtiment de l...</td>\n",
       "      <td>NaN</td>\n",
       "      <td>NaN</td>\n",
       "      <td>NaN</td>\n",
       "      <td>NaN</td>\n",
       "      <td>NaN</td>\n",
       "      <td>Paris</td>\n",
       "      <td>NaN</td>\n",
       "      <td>France</td>\n",
       "      <td>NaN</td>\n",
       "      <td>NaN</td>\n",
       "      <td>NaN</td>\n",
       "      <td>NaN</td>\n",
       "      <td>NaN</td>\n",
       "      <td>NaN</td>\n",
       "      <td>NaN</td>\n",
       "      <td>0138.04.0001/85</td>\n",
       "    </tr>\n",
       "  </tbody>\n",
       "</table>\n",
       "<p>2386 rows × 17 columns</p>\n",
       "</div>"
      ],
      "text/plain": [
       "                                         Nom de l'objet Programme  \\\n",
       "0     Concours pour le nouveau bâtiment des écoles d...       NaN   \n",
       "1     Concours pour le nouveau bâtiment des écoles d...       NaN   \n",
       "2     Concours (1er degré) pour le monument du génér...       NaN   \n",
       "3     Concours restreint pour le nouveau Musée de la...       NaN   \n",
       "4     Concours d'éléments analytiques : 2e classe : ...       NaN   \n",
       "...                                                 ...       ...   \n",
       "2381                            Concours \"Reflet\" hôtel       NaN   \n",
       "2382                   SIA, commission des concours-641       NaN   \n",
       "2383                   SIA, commission des concours-642       NaN   \n",
       "2384          Temple de Saint-Marc (Lausanne), concours       NaN   \n",
       "2385  Un bâtiment d'administration, un bâtiment de l...       NaN   \n",
       "\n",
       "                                 Adresse 1 Adresse 2 Adresse 3  Numéro postal  \\\n",
       "0                                      NaN       NaN       NaN            NaN   \n",
       "1                                      NaN       NaN       NaN            NaN   \n",
       "2                                      NaN       NaN       NaN            NaN   \n",
       "3                                      NaN       NaN       NaN            NaN   \n",
       "4                                      NaN       NaN       NaN            NaN   \n",
       "...                                    ...       ...       ...            ...   \n",
       "2381                                   NaN       NaN       NaN            NaN   \n",
       "2382                                   NaN       NaN       NaN            NaN   \n",
       "2383                                   NaN       NaN       NaN            NaN   \n",
       "2384  Renens, chemin de, Sévery, avenue de       NaN       NaN            NaN   \n",
       "2385                                   NaN       NaN       NaN            NaN   \n",
       "\n",
       "      Localité Canton - Département    Pays Date de début de l'objet  \\\n",
       "0        Vevey                  NaN    Vaud                     1872   \n",
       "1        Vevey                  NaN    Vaud                     1872   \n",
       "2       Genève                  NaN  Suisse                     1877   \n",
       "3     Mulhouse                  NaN     NaN                     1879   \n",
       "4          NaN                  NaN     NaN                     1882   \n",
       "...        ...                  ...     ...                      ...   \n",
       "2381     Ouchy                 Vaud  Suisse                      NaN   \n",
       "2382       NaN                  NaN     NaN                      NaN   \n",
       "2383       NaN                  NaN     NaN                      NaN   \n",
       "2384  Lausanne                 Vaud  Suisse                      NaN   \n",
       "2385     Paris                  NaN  France                      NaN   \n",
       "\n",
       "     Date de fin de l'objet Concours ouvert à  \\\n",
       "0                      1872       A. national   \n",
       "1                       NaN               NaN   \n",
       "2                   12.1877          National   \n",
       "3                      1879               NaN   \n",
       "4                       NaN               NaN   \n",
       "...                     ...               ...   \n",
       "2381                    NaN               NaN   \n",
       "2382                    NaN               NaN   \n",
       "2383                    NaN               NaN   \n",
       "2384                    NaN               NaN   \n",
       "2385                    NaN               NaN   \n",
       "\n",
       "                                       Notes de l'objet  \\\n",
       "0     Ouvert par la Municipalité sur décret du 15 ma...   \n",
       "1     Le concours est mentionné en 1878 (Eisenbahn v...   \n",
       "2     Chercher dans Eisenbahn vol. V une annonce d'o...   \n",
       "3     \"Par suite d'un concours entre un nombre restr...   \n",
       "4                                                   NaN   \n",
       "...                                                 ...   \n",
       "2381                                                NaN   \n",
       "2382                                                NaN   \n",
       "2383                                                NaN   \n",
       "2384  Jury: Jean Tschumy, Edmond Virieux, arch. cant...   \n",
       "2385                                                NaN   \n",
       "\n",
       "                                                Auteurs  \\\n",
       "0                                                   NaN   \n",
       "1     Stadler + Ritscher von Steinbeck + Recordon, B...   \n",
       "2     Thomas, Jules Cain, Auguste-Nicolas Rothpletz,...   \n",
       "3                           Rütti, Ludwig Friedrich von   \n",
       "4                                                   NaN   \n",
       "...                                                 ...   \n",
       "2381                                                NaN   \n",
       "2382                                                NaN   \n",
       "2383                                                NaN   \n",
       "2384                                                NaN   \n",
       "2385                                                NaN   \n",
       "\n",
       "                                       Rôle de l'auteur  \\\n",
       "0                                                   NaN   \n",
       "1     3e prix 3e prix Juré, rapporteur Concurrent 2e...   \n",
       "2     Juré Juré Juré Juré Juré Juré Juré Juré Juré J...   \n",
       "3                                            Concurrent   \n",
       "4                                                   NaN   \n",
       "...                                                 ...   \n",
       "2381                                                NaN   \n",
       "2382                                                NaN   \n",
       "2383                                                NaN   \n",
       "2384                                                NaN   \n",
       "2385                                                NaN   \n",
       "\n",
       "                                 Dossiers reliés    Pièces reliées  \n",
       "0                                            NaN               NaN  \n",
       "1                                            NaN               NaN  \n",
       "2                                            NaN               NaN  \n",
       "3                                            NaN               NaN  \n",
       "4                                            NaN  0138.04.0001/262  \n",
       "...                                          ...               ...  \n",
       "2381                                0133.04.0316               NaN  \n",
       "2382  0011.03.0037 ; 0011.03.0032 ; 0011.03.0034               NaN  \n",
       "2383  0002.03.0102 ; 0002.03.0094 ; 0002.03.0101               NaN  \n",
       "2384                                0003.04.0059               NaN  \n",
       "2385                                         NaN   0138.04.0001/85  \n",
       "\n",
       "[2386 rows x 17 columns]"
      ]
     },
     "execution_count": 3,
     "metadata": {},
     "output_type": "execute_result"
    }
   ],
   "source": [
    "acm_competitions"
   ]
  },
  {
   "cell_type": "code",
   "execution_count": 10,
   "metadata": {},
   "outputs": [],
   "source": [
    "nlp = spacy.load(\"fr_dep_news_trf\", exclude=['tagger', 'parser', 'ner', 'attribute_ruler', 'lemmatizer'])"
   ]
  },
  {
   "cell_type": "code",
   "execution_count": 11,
   "metadata": {},
   "outputs": [],
   "source": [
    "from bertopic.representation import KeyBERTInspired\n",
    "\n",
    "# Fine-tune your topic representations\n",
    "representation_model = KeyBERTInspired()\n",
    "topic_model = BERTopic(embedding_model=nlp.pipe, representation_model=representation_model)"
   ]
  },
  {
   "cell_type": "code",
   "execution_count": 12,
   "metadata": {},
   "outputs": [],
   "source": [
    "docs = acm_competitions['Nom de l\\'objet'].dropna().to_list()"
   ]
  },
  {
   "cell_type": "code",
   "execution_count": 13,
   "metadata": {},
   "outputs": [
    {
     "name": "stderr",
     "output_type": "stream",
     "text": [
      "Cleaning Progress: 100%|██████████| 2386/2386 [00:51<00:00, 46.07it/s]\n"
     ]
    }
   ],
   "source": [
    "from spacy_cleaner import processing, Cleaner\n",
    "cleaner = Cleaner( \n",
    "    nlp,\n",
    "    processing.remove_stopword_token,\n",
    "    # processing.replace_punctuation_token,\n",
    "    # processing.mutate_lemma_token,\n",
    ")\n",
    "texts = cleaner.clean(docs)"
   ]
  },
  {
   "cell_type": "code",
   "execution_count": 14,
   "metadata": {},
   "outputs": [
    {
     "data": {
      "text/plain": [
       "['Concours bâtiment écoles filles Vevey',\n",
       " 'Concours bâtiment écoles filles Vevey , jugement',\n",
       " 'Concours ( 1er degré ) monument général Dufour',\n",
       " 'Concours restreint Musée Société Industrielle Mulhouse , jugement',\n",
       " 'Concours éléments analytiques : 2e classe : Rendu : façade phare',\n",
       " 'Concours émulation - 2e classe - Esquisse : chambre coucher princière',\n",
       " 'Concours usine Coulouvrenière , Genève , jugement',\n",
       " 'Concours éléments analytiques : 2e classe : Rendu : détails portique ordre dorique romain',\n",
       " 'Concours émulation - 2e classe - Esquisse : bureau recrutement chef - lieu département',\n",
       " 'Concours école horlogerie Locle',\n",
       " 'Concours école horlogerie Locle , jugement',\n",
       " 'Concours restreint bâtiment salles conférences Neuchâtel',\n",
       " 'Concours restreint bâtiment salles conférences Neuchâtel , jugement',\n",
       " 'Concours : Prix Godeboeuf : 1885 : horloge adossée',\n",
       " 'Concours émulation : 1ère classe : Esquisse : entrée principale grand cimetière',\n",
       " \"Concours émulation : 2e classe : Esquisse : banc d'&#339;uvre Eglise paroissiale petite ville\",\n",
       " 'Concours émulation : 2e classe : Rendu : théâtre ville second ordre',\n",
       " 'Concours fontaine monumentale élever Place Neuve',\n",
       " 'Concours : Prix Godeboeuf : 1886 : lampadaire électrique',\n",
       " 'Concours émulation : 1ère classe : Esquisse : monument commémoratif Exposition universelle',\n",
       " 'Concours émulation : 1ère classe : Rendu : odéon Salle concert',\n",
       " 'concours musée beaux - Arts',\n",
       " 'Concours : Prix Godeboeuf : 1887 : pont galerie au-dessus rue',\n",
       " 'Concours émulation : 1ère classe - Rendu : hôtel Préfecture',\n",
       " 'Concours émulation : 1ère classe : Esquisse : amphithéâtre oraisons funèbre',\n",
       " 'Concours émulation : 1ère classe : Rendu : porte ville',\n",
       " 'Concours émulation 6 décembre [ 18]87 : Escalier Henri II Palais Louvre',\n",
       " 'Concours émulation : 1ère classe : Esquisse : distribution hôtel terrain irrégulier',\n",
       " 'Concours émulation : 1ère classe : Esquisse : pavillon Exposition universelle',\n",
       " 'Concours émulation : 1ère classe : Rendu : villa environs Nice , 3.4.1888',\n",
       " 'Concours émulation : 1ère classe : Esquisse : volière jardin hive',\n",
       " 'Concours émulation : 1ère classe : Rendu : bazar grand magasin',\n",
       " 'Concours plans édifice Rumine',\n",
       " 'Concours Banque cantonale vaudoise Lausanne , jugement',\n",
       " 'Concours bâtiment scolaire administration , jugement',\n",
       " 'Concours bâtiment scolaire administration , jugement',\n",
       " 'Concours ( 1er degré ) bas-reliefs vestibule entrée Palais justice fédéral , Lausanne , jugement',\n",
       " 'Concours agrandissement Kursaal Montreux',\n",
       " 'Concours casino Yverdon , jugement',\n",
       " 'Concours ( 2e degré ) bas-reliefs vestibule entrée Palais justice fédéral , Lausanne , jugement',\n",
       " 'Concours construction école primaire Barre , Lausanne',\n",
       " 'Concours ( 1er degré ) Université californienne Berkeley San Francisco , jugement',\n",
       " 'Concours ( 1er degré ) pénitencier cantonal Payerne , jugement',\n",
       " 'Concours ponts Lausanne , jugement',\n",
       " 'Concours Exposition cantonale vaudoise Vevey',\n",
       " 'Concours Exposition cantonale vaudoise Vevey',\n",
       " 'Concours pénitencier Payerne',\n",
       " 'Concours viaduc Gryonne',\n",
       " 'Concours Musée Art Histoire',\n",
       " 'Concours établissement nouvelles prisons district élever Bois-Mermet , jugement',\n",
       " 'Concours Eglise évangélique réformée Berne',\n",
       " 'Concours projet reconstitution Pont Mont-Blanc Genève',\n",
       " 'Concours construction viaduc Fenil , Saint-Légier',\n",
       " 'Concours façades',\n",
       " 'Concours projet reconstitution Pont Mont-Blanc Genève , jugement',\n",
       " 'Concours collège Tour-de-Peilz',\n",
       " 'Concours collège Tour-de-Peilz , jugement',\n",
       " 'Concours bâtiment archives , Neuchâtel',\n",
       " 'Concours bâtiment archives , Neuchâtel',\n",
       " 'Concours kiosque musique élever Esplanade Montbenon , Lausanne , jugement',\n",
       " 'Concours plan rectification , embellissement assainissement ville Genève , jugement',\n",
       " 'Concours construction pont Arve , Genève',\n",
       " 'Concours Kiosque Tramways place St. François , Lausanne',\n",
       " 'Concours Kiosque Tramways place St. François , Lausanne , jugement',\n",
       " 'Concours Kiosque Tramways place St. François , Lausanne , jugement',\n",
       " 'Concours Kiosque Tramways , Place St - François , Lausanne , projet AL .',\n",
       " 'Concours Musée Beaux - Arts Zürich , jugement',\n",
       " 'Concours monument Philibert Berthelier',\n",
       " 'Concours Banque populaire tessinoise , Bellinzone , jugement',\n",
       " 'Concours construction maisons ouvrières Genève , jugement',\n",
       " 'Concours monument Philibert Berthelier , seconde épreuve , jugement',\n",
       " 'Concours bâtiment école Herisau , jugement',\n",
       " 'Concours élévateur bateaux canal Danube Oder , Aujzed , Perau , Moravie , jugement',\n",
       " 'Concours école , Malleray',\n",
       " 'Concours Maisons ouvrières , Lausanne',\n",
       " 'Concours Maisons ouvrières , Lausanne',\n",
       " 'Concours Etablissement bains sulfureux Lauenen , jugement',\n",
       " 'Concours nouvelle usine transformatrice thermique Eplatures',\n",
       " 'Concours pont Chancy ( Genève ) , jugement',\n",
       " 'Concours Maisons ouvrières , Lausanne , jugement',\n",
       " 'Concours Maisons ouvrières , Lausanne , jugement',\n",
       " 'Concours étude Casino élever propriété Matthey , place Montbenon',\n",
       " 'Concours Palais Paix , Haye , jugement',\n",
       " 'Concours pont Singine , Guggersbach',\n",
       " 'Concours Hôtel Caisse Epargne Neuchâtel , Chaux-de-Fonds',\n",
       " 'Concours Banque Nationale Suisse Berne',\n",
       " 'Concours ( ) façades , Genève',\n",
       " 'Concours avant-projets collège Pully',\n",
       " 'Concours bâtiments universitaires Zürich , jugement',\n",
       " 'Concours chapelle Tell , Lausanne',\n",
       " 'Concours bâtiment scolaire Villars-sur-Glâne',\n",
       " 'Concours projet bâtiment scolaire Faubourg Sablons , Neuchâtel',\n",
       " 'Concours Ecole primaire Chailly Clarens',\n",
       " 'Concours ( degré ) chapelle Tell , Lausanne , jugement',\n",
       " 'Concours hôtel destiné destiné Caisse Epargne canton Genève',\n",
       " 'Concours hôtel Banque populaire suisse , Lausanne',\n",
       " 'Concours reconstruction Bâtiment électoral , Genève',\n",
       " 'Concours groupe scolaire primaire quartier Bourg , Fribourg',\n",
       " 'Concours Musée Beaux - Arts , Bâle ( Elisabethenschanze ) , jugement',\n",
       " 'Concours hôpital Cadolles',\n",
       " 'Concours hôtel postes bâtiment communal , Colombier , jugement',\n",
       " \"Concours idées plan lotissement mise valeur propriétés réunies , Hohliebe , Spiegelet Lochgut Gurten Berne , surface 300'000 m2 , jugement\",\n",
       " 'Concours international Architecture , Paris ( Olympie moderne ) , jugement',\n",
       " 'Concours international Architecture , Paris ( Olympie moderne ) , jugement',\n",
       " 'Concours pont Lorraine , Berne , jugement',\n",
       " 'Concours bâtiment crèche , Croix - Bleue Union chrétienne , ä Montreux',\n",
       " 'Concours Grande Salle spectacles immeubles locatifs , Lausanne',\n",
       " 'Concours idées aménagement quais promenade Lac Port Noir',\n",
       " 'Concours idées lotissement domaine Mervelet',\n",
       " 'Concours Internat Ecole supérieure Commerce Gambach',\n",
       " 'Concours villas 1912 , Genève',\n",
       " 'Concours aménagement Waidareal , Zürich , jugement',\n",
       " 'Concours école St. Jean , jugement',\n",
       " 'Concours \" Pfrundhausbau \" , Glaris',\n",
       " 'Concours aménagement quai Eaux - vives',\n",
       " 'Concours étude projet Palais Justice Fédéral Lausanne , projet sub lege libertas',\n",
       " 'Concours Musée Beaux - Arts , Bâle',\n",
       " 'Concours bâtiment destiné Ecole filles , Sion',\n",
       " 'Concours bâtiment destiné Ecole filles , Sion',\n",
       " 'Concours Musée Beaux - Arts , Bâle , jugement',\n",
       " 'Concours Hôtel Ville , Soleure , jugement',\n",
       " 'Concours restreint Société immobilière ancienne Poste , Lausanne , utilisation terrains ancienne Poste',\n",
       " 'Concours restreint Société immobilière ancienne Poste , Lausanne , utilisation terrains ancienne Poste , jugement',\n",
       " 'Concours Bürgerspital , Soleure , jugement',\n",
       " 'Concours plan extension commune Vevey',\n",
       " 'Concours hôtel District Locle',\n",
       " 'Concours idées établissement plan général extension Leysin , jugement',\n",
       " 'Concours idées bâtiment administration Assurance immobilière canton Berne , jugement',\n",
       " 'Concours types Salles communales Maisons Commune alcool',\n",
       " 'Concours types Salles communales Maisons Commune alcool',\n",
       " 'Plan extension Bienne . Concours . Projet \" rot und schwarz \"',\n",
       " 'Concours idées utilisation propriété Service cantonal Assurances , Lausanne',\n",
       " 'Concours international idées plan extension ville faubourgs Zürich , jugement',\n",
       " 'Concours types Salles communales Maisons Commune alcool , jugement',\n",
       " 'Concours aménagement quais plan extension ville Lucerne , jugement',\n",
       " 'Concours Synagogue , Zürich',\n",
       " 'Concours bâtiment destiné remplacer \" concierges \" , Cité - , Lausanne',\n",
       " 'Concours banque Aarau',\n",
       " 'Concours fontaine commémorative ville Zofingue , jugement',\n",
       " 'Concours érection monument mémoire soldats genevois morts service patrie',\n",
       " 'Concours reconstruction ville Chauny , jugement',\n",
       " 'Concours Cité - jardin , Chaux-de-Fonds',\n",
       " 'Concours étude plans bâtiment scolaire internat Ecole cantonale agriculture Morges',\n",
       " 'Concours reconstruction pont Zaehringen Fribourg',\n",
       " 'Concours Monument Pierre Viret , Lausanne',\n",
       " 'Concours Monument commémoratif Eugène Rambert , Clarens',\n",
       " 'Concours Collège , Noirmont',\n",
       " 'Concours nouvel hôpital district , Bienne',\n",
       " 'Projet concours Société banques suisses Lausanne',\n",
       " 'Concours idées extension ville Monthey-67',\n",
       " 'Concours idées monument soldats suisses morts service , àMontreux',\n",
       " 'Concours idées monument soldats suisses morts service , àMontreux , jugement',\n",
       " 'Concours méthodes pratiques construction maisons béton coulé , jugement',\n",
       " 'Concours utilisation ancien bâtiment Davall ( cour Chantres ) , Vevey',\n",
       " 'Concours Banque Populaire Suisse Fribourg , jugement',\n",
       " 'Concours plan extension aménagemenz ville Belgrade',\n",
       " 'Concours plan extension aménagemenz ville Belgrade',\n",
       " 'Concours restreint plan extension commune Spiez',\n",
       " 'Concours fondation Geiser ( 4ème ) ( relevés maisons bourgeoises suisses )',\n",
       " 'Concours monument soldats zurichois morts patrie , jugement',\n",
       " 'Concours plan extension aménagement ville Belgrade , jugement',\n",
       " 'Concours Musée Beaux - Arts , Chaux-de-Fonds',\n",
       " 'Concours architecture sculpture fontaine décorative place Gare , Vevey-60',\n",
       " 'Concours aménagement quartier Villamont place Faucon',\n",
       " 'Concours étude plans pénitencier Bochuz',\n",
       " 'Concours bâtiment scolaire , Cortaillod',\n",
       " 'Concours idées établissement bains eau , air soleil , Solothurn',\n",
       " 'Concours idées établissement bains eau , air soleil , Solothurn , jugement',\n",
       " 'Concours agrandissement Hôtel Union Banques Suisses , Zürich',\n",
       " 'Concours agrandissement Hôtel Union Banques Suisses , Zürich , jugement',\n",
       " 'Concours aménagement terrains ancienne gare Bienne',\n",
       " 'Concours aménagement terrains ancienne gare Bienne , jugement',\n",
       " 'Concours idées salle réunion , Chêne - Bougeries',\n",
       " 'Concours aménagement terrains avenue P. Cérésole rue Madeleine',\n",
       " 'Concours SDN , Genève',\n",
       " 'Concours pan général extension aménagement ville Fribourg',\n",
       " 'Concours stations - abris Place Navigation Rond - Point Plainpalais',\n",
       " 'Concours plans - types nouveaux pavillons hospitalisation aliénés , Hospice cantonal Perreux',\n",
       " 'Concours projet plage , Vevey-375',\n",
       " 'EPFZ , cours Laverrière , concours émulation',\n",
       " 'Concours fondation Geiser ( 6ème )',\n",
       " 'Concours idées plage aménagement port , Nyon-99',\n",
       " 'Concours Crédit Foncier Vaudois reconstruction immeubles rue Petit-Rocher',\n",
       " 'Concours Théâtre Vevey',\n",
       " 'Concours idées projet pont Parcs- Saint-Nicolas , Neuchâtel',\n",
       " 'Concours Ecole cantonale Dessin Art appliqué , 1931',\n",
       " 'Concours Ecole cantonale Dessin Art appliqué , jugement',\n",
       " 'Concours hôtel Société Banque Suisse , Zürich',\n",
       " 'Concours hôtel ville Berne , jugement',\n",
       " 'Concours idées révision plan extension Lausanne-73',\n",
       " 'Concours fondation Geiser ( 6ème ) , jugement',\n",
       " 'Concours fondation Geiser ( 6ème ) , jugement',\n",
       " 'Concours Kollegienhaus Université Bâle , jugement',\n",
       " 'Wettbewerb Gewerbeschulhaus und Erweiterung der Lehrwerkstätten ( ~Concours Ecole commerciale ateliers formation ) , Bern',\n",
       " 'Concours fondation Geiser ( 7ème )',\n",
       " 'Concours fondation Geiser ( 7ème )',\n",
       " 'Concours idées : A. place Nations B. place entrée salle assemblées SDN , Genève',\n",
       " 'Concours aménagement décoration terre - plein Notre-Dame , Genève',\n",
       " 'Concours école , Porrentruy-394',\n",
       " 'Concours fondation Geiser ( 7ème ) , jugement',\n",
       " 'Concours agrandissement Infirmerie Yverdon',\n",
       " 'Concours aménagement place Vernier',\n",
       " 'Concours petites villas maisons familiales Genève',\n",
       " 'Concours fontaine souvenir Auguste Forel parc Valency-384',\n",
       " 'Concours : attribution prix diplômes meilleures constructions ( 1935 ) , Genève',\n",
       " 'Concours/ attribution prix diplômes meilleures constructions ( 1935 ) , Genève',\n",
       " 'Concours architecture construction immeuble ossature métallique',\n",
       " 'Concours idées nouveaux abattoirs Yverdon',\n",
       " 'Concours idées construction bâtiment administratif aménagement Place Riponne Lausanne',\n",
       " 'Concours idées aménagement bâtiment administratif Riponne aménagement abords',\n",
       " 'Concours idées bâtiment administratif aménagement abords-81',\n",
       " 'Concours aménagement propriété Château Beaulieu , Lausanne',\n",
       " 'Concours aménagement débouché avenue Paix place Albert Thomas , place entrée BIT',\n",
       " 'Concours construction Temple Viller',\n",
       " 'Concours pavillon suisse Exposition internationale Paris , 1937',\n",
       " 'Concours pavillon suisse Exposition internationale Paris , 1937',\n",
       " 'Concours pavillon suisse Exposition internationale Paris , 1937',\n",
       " 'Concours bains Allenmoos , Zürich',\n",
       " 'Concours bains Allenmoos , Zürich , jugement',\n",
       " 'Concours bâtiment service plateau Champel , Genève',\n",
       " 'Concours bâtiment service plateau Champel , Genève',\n",
       " 'Concours crématoire , Vevey',\n",
       " 'Concours : attribution prix diplômes meilleures façades genevoises',\n",
       " 'Concours/ attribution prix diplômes meilleures façades genevoises',\n",
       " 'Concours/ attribution prix diplômes meilleures façades genevoises , jugement',\n",
       " 'Kirchgemeindehaus Rosière ( ~Maison Paroisse Rosière ) , Bienne . Concours',\n",
       " 'Concours architecture construction immeuble ossature métallique , jugement',\n",
       " 'Concours architecture édification bâtiment universitaire',\n",
       " 'Concours architecture édification bâtiment universitaire Fribourg',\n",
       " 'Concours école quartier Places , Fribourg',\n",
       " 'Concours école quartier Places , Fribourg',\n",
       " 'Concours suppression passage niveau CFF , Territet , aménagement abords',\n",
       " 'Concours crematorium',\n",
       " 'Concours/ attribution prix diplômes meilleures constructions ( 1935 - 1936 ) , Genève',\n",
       " 'Concours/ attribution prix diplômes meilleures constructions ( 1935 - 1936 ) , Genève , jugement',\n",
       " 'Concours bâtiment communal Epesses',\n",
       " 'Concours bâtiment communal Epesses , jugement',\n",
       " 'Concours annexe Maison Vessy ( Pavillon Galland ) , Genève-378',\n",
       " 'Concours école Genthod',\n",
       " 'Concours/ attribution diplômes meilleures constructions ( 1937 - 1938 ) , Genève',\n",
       " 'Concours/ attribution diplômes meilleures constructions ( 1937 - 1938 ) , Genève , jugement',\n",
       " 'Concours idées aménagement haut rue Fontaine',\n",
       " 'Concours temple Rosiaz , Pully-377',\n",
       " 'Concours projet bâtiments scolaires , Bulle',\n",
       " 'Concours agrandissement église St. Martin construction Maison commune Viège',\n",
       " 'Concours maisons familiales , Neuchâtel',\n",
       " 'Concours agrandissement cathédrale Sion',\n",
       " 'Concours immeuble Crédit Foncier vaudois Yverdon , jugement',\n",
       " 'concours construction groupe scolaire',\n",
       " 'concours reconstruction Abbaye',\n",
       " 'concours restauration hôtel Ville',\n",
       " 'Rendu concours bâtiment fédéral Berne',\n",
       " 'Concours agrandissement cathédrale Sion , jugement',\n",
       " 'Concours décoration bandeau Pavillon Eynard , Genève',\n",
       " 'Concours cimetière Sierre',\n",
       " 'Concours maison école Orsières',\n",
       " 'Concours captivité',\n",
       " 'Concours aménagement centre civique',\n",
       " 'Concours école fédérale gymnastique sport , Macolin',\n",
       " 'Concours monument mémoire peintre F. Hodler , Genève',\n",
       " 'Concours halle gymnastique sports aménagement terrain jeux Locle',\n",
       " 'Varia , dossiers urbanisme concours',\n",
       " 'Concours idées agrandissement temple Champel , Genève',\n",
       " 'Concours aasainissement vieille ville Bellinzone , jugement',\n",
       " 'Concours agrandissement restauration église abbatiale cathédrale Saint-Maurice exhaussement Abbaye',\n",
       " 'concours hôpital cantonal',\n",
       " 'Concours étude bâtiment destiné Ecole supérieure jeunes filles , Lausannee',\n",
       " 'Concours bâtiment gare Glion',\n",
       " 'Concours centre touristique Montreux',\n",
       " 'Concours monument mémoire Girardet fontaines publiques',\n",
       " 'Concours monument mémoire Girardet fontaines publiques , jugement',\n",
       " 'Concours bâtiment administratif ( préfecture ) Berne',\n",
       " 'concours auberge couronne',\n",
       " 'Concours bâtiment école Ascona',\n",
       " 'Concours bâtiment école Ascona',\n",
       " 'Concours terrain sports Cully',\n",
       " 'Concours restreint hangar avions halle montage aérodrome Cointrin ( Genève )',\n",
       " 'Concours bâtiment administratif ( préfecture ) Berne , jugement',\n",
       " 'Concours idées raccordement Canal transhelvétique lac Léman - v1',\n",
       " 'Concours idées raccordement Canal transhélvétique lac Léman - v2',\n",
       " 'Concours nouveaux bâtiments Laboratoire fédéral essais matériaux ETH , Altstetten - Schlieren',\n",
       " 'Concours nouveaux bâtiments Laboratoire fédéral essais matériaux ETH , Altstetten - Schlieren , jugement',\n",
       " 'Concours nouveaux bâtiments Laboratoire fédéral essais matériaux ETH , Zürich',\n",
       " 'Concours bâtiment scolaire Moutier ( Jura bernois )',\n",
       " 'Concours Museum Histoire Naturelle',\n",
       " 'Concours nouveaux bâtiments Laboratoire fédéral essais matériaux ETH , Zürich , jugement',\n",
       " 'Concours bâtiment école Ascona , jugement',\n",
       " 'Concours bâtiment Crédit foncier vaudois , Aigle',\n",
       " 'Concours école secondaire jeunes filles Bienne',\n",
       " 'Concours salle réunion mairie Plan - Ouates ( Genève )',\n",
       " 'Concours restreint centre paroissial Plan-les-Ouates , Genève',\n",
       " 'Concours église Bozingen / Boujean',\n",
       " 'Concours buffet gare Sion',\n",
       " 'Concours halles véhicules moteur',\n",
       " 'Concours halles véhicules moteur , jugement',\n",
       " 'Concours école primaire Geyisried , Bienne',\n",
       " 'Concours grande salle restaurant Gare , Granges',\n",
       " 'Concours grande salle restaurant Gare , Granges , jugement',\n",
       " 'Concours école , Langnau',\n",
       " 'Concours sculpture',\n",
       " 'Concours Ecole Médecine',\n",
       " 'Concours abris protection antiaérienne éléments démontables , jugement',\n",
       " 'Concours ( 1er degré ) décoration oeuvre sculpture entrée Clinique ophtalmologique Genève',\n",
       " 'Concours sculpture , jugement',\n",
       " 'Concours international projet reconstruction ville Izmir ( Turquie )',\n",
       " 'Concours international clinique Istanboul',\n",
       " 'Concours Banque populaire Viège , appartements',\n",
       " 'Concours groupe scolaire commune Glis ( Haut-Valais )',\n",
       " 'Concours groupe scolaire pavillon école enfantine , Tour-de-Peilz',\n",
       " 'Concours ( 1er degré ) construction hôpital suisse Paris',\n",
       " 'Concours ( 1er degré ) construction hôpital suisse Paris , jugement',\n",
       " 'Concours ( 2e degré ) construction hôpital suisse Paris , jugement',\n",
       " 'Concours ( 1er degré ) bâtiment usage Banque cantonale Valais , Sion',\n",
       " 'Concours ( 2e degré ) décoration oeuvre sculpture entrée Clinique phtalmologique Genève , jugement',\n",
       " 'Concours nouvelle église San Salvador',\n",
       " 'Concours international aménagement urbain abords installations ferroviaires gares Schifflange Esch/ Belval - Usines',\n",
       " 'Concours école Hinterriedli , Bienne',\n",
       " 'Concours chapelle funéraire , Lengnau',\n",
       " 'Concours école primaire Pieterlen',\n",
       " 'Ecole Secondaire Malleray , Concours',\n",
       " 'Concours école secondaire Bözingen / Boujean , Bienne',\n",
       " 'Concours idées vue aménagement voies circulation rue Mont-Blanc Grand-Quai , Genève',\n",
       " 'Concours international plan extension Ankara',\n",
       " 'Concours magasin Globus , Bienne',\n",
       " 'Concours centre touristique Saut-du-Doubs',\n",
       " 'Concours international plan extension Ankara , jugement',\n",
       " 'Concours collège secondaire mixte Béthusy , Lausanne',\n",
       " 'Concours Pont-route Rhin',\n",
       " 'Concours Pont-route Rhin , jugement',\n",
       " 'Concours grande salle locaux annexes Boudry ( Neuchâtel )',\n",
       " 'Concours grande salle locaux annexes Boudry ( Neuchâtel ) , jugement',\n",
       " 'Concours nouvelle Clinique infantile Genève',\n",
       " 'Concours salle réunion , Cologny , Genève',\n",
       " 'Concours salle réunion , Cologny , Genève , jugement',\n",
       " 'Concours restreint construction collège Tramelan',\n",
       " 'Concours idées aménagement terrains Pavement Hermitage , Lausanne',\n",
       " 'Concours bâtiments scolaires Saint-Maurice ( Valais )',\n",
       " 'Concours aménagement place Nations , Genève',\n",
       " 'Concours aménagement propriété \" Bois Croisettes \" , Lausanne',\n",
       " 'Concours aménagement propriété \" Bois Croisettes \" , Lausanne , jugement',\n",
       " 'Concours aménagement quartiers Jeannerets Jaluse',\n",
       " 'Concours école agriculture Viège ( Valais )',\n",
       " 'Concours étude immeubles communaux Tour-de-Peilz ( Vaud )',\n",
       " 'Concours groupe scolaire Pierrefleur',\n",
       " 'Concours bâtiment destiné Ecole complémentaire professionelle , Ecole supérieure commerce Ecole complémentaire commerciale ville Delémont',\n",
       " 'Concours bâtiment destiné Ecole complémentaire professionelle , Ecole supérieure commerce Ecole complémentaire commerciale ville Delémont , jugement',\n",
       " 'Concours hôpital asile vieillards Tavel ( Fribourg )',\n",
       " 'Concours hôpital asile vieillards Tavel ( Fribourg ) , jugement',\n",
       " 'Concours nouvelle école primaire construire Marronniers , Yverdon',\n",
       " 'Concours nouvelle école primaire construire Marronniers , Yverdon , jugement',\n",
       " 'Concours piscine bâtiment administratif Bienne',\n",
       " 'Concours piscine bâtiment administratif Bienne , jugement',\n",
       " 'Concours usine Fabriques assortiments réunies , Bienne',\n",
       " 'Concours villas',\n",
       " 'Concours ( 1er degré ) groupe scolaire école cantonale Beaux - Arts art appliqué avenue Elysée , Lausanne',\n",
       " 'Concours aménagement terrains Aargauerstalden Viktoriastrasse construction bâtiments administratifs , Berne',\n",
       " 'Concours aménagement \" Communal \" piscine patinoire',\n",
       " 'Concours aménagement centre Locle',\n",
       " 'Concours aménagement quartier Monts',\n",
       " 'Concours école agriculture Viège ( Valais ) , jugement',\n",
       " 'Concours Institut vétérinaire Berne',\n",
       " 'Concours gare Berne',\n",
       " 'Concours réalisation cuisine modèle organisé Novelectric',\n",
       " 'Concours réalisation cuisine modèle organisé Novelectric , jugement',\n",
       " 'Concours centre paroissial Montbrillant',\n",
       " 'Concours centre paroissial Montbrillant , Genève',\n",
       " 'Concours collège Corcelles - Cormondrèche ( Neuchâtel )',\n",
       " 'Concours collège Corcelles - Cormondrèche ( Neuchâtel ) , jugement',\n",
       " 'Concours grande salle Avenches',\n",
       " 'Concours succursale SBG ( Schweizerische Bankgeselschaft ) , Bienne',\n",
       " 'Concours Centre paroissial \" Forges \" , Chaux-de-Fonds',\n",
       " 'Concours nouvelles écoles professionelles Sion',\n",
       " 'Concours Institut vétérinaire Berne , jugement',\n",
       " 'Concours construction maison congrès , Genève',\n",
       " 'Concours construction école commerce , Genève',\n",
       " 'Concours bâtiment administratif dépôt central Compagnie Vaudoise Electricité , Morges',\n",
       " 'Concours bâtiment administratif dépôt central Compagnie Vaudoise Electricité , Morges , jugement',\n",
       " 'Concours bâtiment scolaire Montreux - centre',\n",
       " 'Concours bâtiment scolaire Montreux - centre , jugement',\n",
       " 'Concours bâtiment scolaire Montreux - Clarens',\n",
       " 'Concours bâtiment scolaire Montreux - Clarens , jugement',\n",
       " 'Concours Centre paroissial quartier Forges , Chaux-de-Fonds',\n",
       " 'Concours Centre paroissial quartier Forges , Chaux-de-Fonds , jugement',\n",
       " 'Concours collège secondaire Saint-Imier',\n",
       " 'Concours école Commerce Genève',\n",
       " 'Concours grande salle Avenches , jugement',\n",
       " 'Concours Palazzo dei Congressi Vita Sett , Ascona',\n",
       " 'Concours Autoroute Genève - Lausanne : pont Boiron Nyon pont Asse',\n",
       " 'Concours Autoroute Genève - Lausanne : pont Boiron Nyon pont Asse',\n",
       " 'Concours étude groupe scolaire , Pully',\n",
       " 'Concours utilisation terrain ouest parc Mon-Repos , Lausanne',\n",
       " 'Concours Banque cantonale , Fribourg',\n",
       " 'Concours Banque cantonale , Fribourg , jugement',\n",
       " 'Concours idées aménagement quais , Bienne',\n",
       " 'Concours idées Exposition nationale Lausanne 1964 , jugement',\n",
       " 'Concours aménagement centre paroissial scolaire Planta - - , Sion',\n",
       " 'Concours aménagement quartier Chamblandes',\n",
       " 'Concours Autoroute Genève - Lausanne : pont Venoge RC n° 76',\n",
       " 'Concours bâtiment Gymnase cantonal',\n",
       " 'Concours bâtiment Gymnase cantonal , Neuchâtel',\n",
       " 'Concours Centre études Trevano , Locarno',\n",
       " 'Concours Centre études Trevano , Locarno',\n",
       " 'Concours casernement place armes Génie , Bremgarten ( Argovie ) , jugement',\n",
       " 'Concours groupe scolaire Charmettes , Neuchâtel',\n",
       " 'Concours immeuble Organisation mondiale Santé / OMS , Genève',\n",
       " 'Concours plan quartier Eplatures Chaux-de-Fonds',\n",
       " 'Concours étude aménagement Tunis',\n",
       " 'Concours ferme colonisation type Bevaix',\n",
       " 'Concours Maison congrès , Locarno , jugement',\n",
       " 'Concours ( 1er degré)pour salle manifestations théâtre Neuchâtel',\n",
       " 'Concours idée aménagement terrains S.I. Monteiron Préverenges',\n",
       " 'Concours aménagement rive Saint-Blaise , Neuchâtel',\n",
       " 'Concours aménagement rive Saint-Blaise , Neuchâtel , jugement',\n",
       " 'Concours aménagement quartier Verger',\n",
       " 'Concours Centre paroissial Saint-Matthieu , Lausanne',\n",
       " 'Concours temple Saint-Jacques locaux scolaires , Chissiez , Lausanne',\n",
       " 'Concours groupe scolaire salle gymnastique Guin ( Fribourg )',\n",
       " 'Concours maison communale école Pregassona , Tessin',\n",
       " 'Concours nouvelle école chimie pharmacie Genève , jugement',\n",
       " 'Concours Ecole normale Porrentruy',\n",
       " 'Concours gare Zurich',\n",
       " 'Concours groupe scolaire Pully',\n",
       " 'Concours groupe scolaire Pully , jugement',\n",
       " 'Concours groupe scolaire secondaire Orbe',\n",
       " 'Concours ensemble paroissial communal Hérémence , Valais , jugement',\n",
       " 'Concours gymnase , Bienne',\n",
       " 'Concours groupe scolaire primaire Chaux-de-Fonds',\n",
       " 'Concours maison communale école Pregassona , Tessin , jugement',\n",
       " 'Concours / Expertises Projets',\n",
       " 'Concours gymnase Bienne',\n",
       " 'Concours Maison européenne 1963',\n",
       " 'Concours Ecole , Chêne - Bourg',\n",
       " 'Concours Palazzo dei Congressi , Lugano',\n",
       " 'Concours Eglise Notre-Dame Paix , Chaux-de-Fonds',\n",
       " 'Concours Eglise Notre-Dame Paix , Chaux-de-Fonds , jugement',\n",
       " 'Concours home aveugles âgés , Ecublens',\n",
       " 'Concours groupe scolaire primaire Chaux-de-Fonds , jugement',\n",
       " 'Concours auberge communale grande salle Echandens , jugement',\n",
       " 'Concours village vacances Fiesch , jugement',\n",
       " 'Concours école normale , Porrentruy',\n",
       " 'Concours église Gland',\n",
       " 'Concours nouvelle école secondaire ménagère Viège',\n",
       " 'Concours station épuration eaux concours idées aménagement quartier Aviron , Vevey',\n",
       " 'Concours Nuovo Ospedale Civico di Lugano',\n",
       " 'Concours aménagement place Marché Montreux',\n",
       " 'Concours aménagement place Halles - Hôtel Ville , Lutry',\n",
       " 'Concours Institut Sainte-Croix , Tour-de-Trême',\n",
       " 'Concours groupe scolaire Wünnewyl',\n",
       " 'Concours Temple Servette',\n",
       " 'Concours temple Servette',\n",
       " 'Concours groupe scolaire Chêne - Bourg , jugement',\n",
       " 'Concours ensemble paroissial catholique Locle',\n",
       " 'Concours école normale instituteurs Porrentruy',\n",
       " 'Projet Concours Mount Olympus : 3 résidences Hollywood',\n",
       " 'Concours Marina ( Uni 2 ) , Genève',\n",
       " 'Concours école secondaire régionale Colombier ( Neuchâtel )',\n",
       " 'Concours Institut Sainte-Croix , Tour-de-Trême , jugement',\n",
       " 'Concours Centre professionnel , Genève',\n",
       " 'Concours centre scolaire Lucens',\n",
       " 'Concours Projets construction Piscine , Prilly',\n",
       " 'Concours bâtiment personnel hôpital district Martigny',\n",
       " 'Concours centre paroissial Saint-Joseph Delémont',\n",
       " 'Concours centre paroissial Saint-Joseph Delémont , jugement',\n",
       " 'Concours gymnase cantonal Chaux-de-Fonds',\n",
       " 'Concours gymnase cantonal Chaux-de-Fonds , jugement',\n",
       " 'concours gymnase cantonal Chaux Fonds : projet Sophie',\n",
       " 'Concours Gymnase cantonal Montagnes , Chaux-de-Fonds',\n",
       " 'Concours transformations Hôtel Alpha - Palmiers , Lausanne',\n",
       " 'Concours centre scolaire Lucens , jugement',\n",
       " 'Concours nouvelle clinique pédiatrique Hôpital Ile Berne',\n",
       " 'Jury concours centre communal , Wetzikon',\n",
       " 'Concours idées centre civique , Chêne - Bougeries',\n",
       " 'concours église catholique St. Etienne ( Sallaz)Lausanne : projet Adieu Berthe',\n",
       " 'Concours église protestante Sion',\n",
       " 'Concours église protestante Sion , jugement',\n",
       " 'Concours intégration oeuvres art collège secondaire Nyon',\n",
       " 'Concours intégration oeuvres art collège secondaire Nyon , jugement',\n",
       " 'Concours future église catholique Saint-Etienne ( Sallaz ) Lausanne',\n",
       " 'concours paroisse protestante , Sion : projet Aglae',\n",
       " 'Concours bâtiment personnel hôpital district Martigny , jugement',\n",
       " 'Concours Pavillon suisse Exposition universelle Osaka 1970 , jugement',\n",
       " 'Concours piscine Prilly',\n",
       " 'Concours Collège secondaire , Locle',\n",
       " 'Concours centre paroissial Riddes , jugement',\n",
       " 'Concours groupe scolaire Bergières',\n",
       " 'Concours Musée horlogerie ville Chaux-de-Fonds',\n",
       " 'Concours pont Bahyse autoroute Léman ( N9 )',\n",
       " 'Concours collège secondaire Locle',\n",
       " 'Jury concours sélection école Kleinfeld , Lengnau',\n",
       " 'Concours idées Ecole polytechnique fédérale Lausanne',\n",
       " 'Concours reconstruction siège Genevoise , Genève',\n",
       " 'Concours groupe scolaire Bergières , jugement',\n",
       " 'Concours pont Chandelard ( autoroute Léman N9 )',\n",
       " 'Concours pont Paudèze autoroute Léman N9 , jugement',\n",
       " 'Concours - soumission halles usages multiples places armes',\n",
       " 'Concours - soumission halles usages multiples places armes , jugement',\n",
       " 'Jury concours centre sportif , Zollikon',\n",
       " 'Concours idées aménagement quartier Planta , Sion',\n",
       " 'Concours projets nouvelle Ecole secondaire Naters',\n",
       " 'Concours projets centre scolaire Salvan',\n",
       " 'Concours projets centre scolaire Verbier',\n",
       " 'Concours Ecole Belvédère , Chêne - Bougeries',\n",
       " 'concours école secondaire Naters : projet Flexibel',\n",
       " 'Concours fortification campagne , jugement',\n",
       " 'concours centre scolaire Verbier : projet Monzeur',\n",
       " 'Concours centre scolaire sportif Saint-Aubin ( FR )',\n",
       " 'Concours pont Felsenau , tronçon Brünnen - Wankdorf autoroute N1 , Berne',\n",
       " 'Concours centre scolaire secondaire , Monthey',\n",
       " 'Concours - soumission ponts Lutrive autoroute Léman N9',\n",
       " 'Concours aménagement Veyrier',\n",
       " 'Concours international Université Florence',\n",
       " 'Concours international Foire Dakar',\n",
       " 'Concours international Foire Dakar',\n",
       " 'Concours aménagement noyau historique nouvelle Station fédérale recherche génie rural Tänikon',\n",
       " 'Concours aménagement noyau historique nouvelle Station fédérale recherche génie rural Tänikon , jugement',\n",
       " 'concours place Planta',\n",
       " 'Concours centre technique rurale nouvelle Station fédérale recherche Tänikon , jugement',\n",
       " 'Concours centre technique rurale nouvelle Station fédérale recherche génie rural Tänikon',\n",
       " 'Concours entrepôt poste atelier - garage centrale téléphonique Nidau , Bienne',\n",
       " 'Concours projets vue aménagement domaine Viktoria , Köniz - Wabern',\n",
       " 'Concours nouveaux bâtiments stations recherches agronomiques Liebefeld - Berne , jugement',\n",
       " 'Concours - soumission viaduc lac Gruyère ( Autoroute N 12 Vevey - Berne )',\n",
       " 'Concours - soumission viaduc accès jonction Aigle autoroute Léman N9',\n",
       " 'Concours - soumission viaduc accès jonction Aigle autoroute Léman N9 , jugement',\n",
       " 'Jury concours école secondaire Neuenegg',\n",
       " 'Concours idées Centre enseignement secondaire supérieur vaudois ( CESSEV )',\n",
       " 'Concours projets vue aménagement domaine Viktoria , Köniz - Wabern , jugement',\n",
       " 'Concours projets Collège primaire halle gymnastique Cornaux',\n",
       " 'Concours appel avant-projets relatifs bâtimenbts places armes Chamblon-sur-Yverdon Moudon',\n",
       " 'Concours appel avant-projets relatifs bâtimenbts places armes Chamblon-sur-Yverdon Moudon',\n",
       " 'Concours appel avant-projets relatifs bâtimenbts places armes Chamblon-sur-Yverdon Moudon , jugement',\n",
       " 'Concours nouvelle Université Calabre , jugement',\n",
       " 'concours centre scolaire Saint-Nicolas : projet Stägu',\n",
       " 'Concours Groupe scolaire Arnold Reymond bâtiment administratif communal',\n",
       " 'Concours viaduc Piota Negra , zone Piottino autoroute Chiasso-Saint-Gothard',\n",
       " 'Concours viaduc Piota Negra , zone Piottino autoroute Chiasso-Saint-Gothard , jugement',\n",
       " 'Concours Centre régional scolaire Gampel',\n",
       " 'Concours Centre régional scolaire Gampel , jugement',\n",
       " 'Concours Collège régional Loèche',\n",
       " 'Concours idées Centre enseignement secondaire supérieur vaudois ( CESSEV ) , jugement',\n",
       " 'Concours International Hotel , Abu Dhabi',\n",
       " 'Jury concours centre formation CFF Loewenberg , Morat',\n",
       " 'Concours idées aménagement place Überbiel , Viège , jugement',\n",
       " 'Concours projet nouvelle école douanes Liestal',\n",
       " 'Concours projet nouvelle école douanes Liestal , jugement',\n",
       " 'Concours aménagement Valsainte',\n",
       " 'concours centre scolaire Grimisuat : projet TOP',\n",
       " 'Concours idée aménagement site Casino , Morges',\n",
       " 'Concours idées aménagement centre village Gland',\n",
       " 'Concours idées aménagement centre village Gland , jugement',\n",
       " 'Concours projet Conservatoire musique Lausanne',\n",
       " 'Concours projet Conservatoire musique Lausanne , jugement',\n",
       " 'Concours projets centre diocésain Fribourg',\n",
       " 'concours école commerce Martigny',\n",
       " 'Concours Banque Etat Fribourg',\n",
       " 'Concours viaduc Ruina ( autoroute N2 , Chiasso-Saint-Gothard )',\n",
       " 'Concours viaduc Ruina ( autoroute N2 , Chiasso-Saint-Gothard ) , jugement',\n",
       " 'Concours - soumission pont Veveyse Fégire ( autoroute N 12 Vevey - Fribourg - Berne )',\n",
       " 'Concours - soumission ponts Talent ( autoroute N1 Lausanne - Berne )',\n",
       " 'Jury concours école douaniers , Liestal',\n",
       " 'Concours design mobilier gares , jugement',\n",
       " 'Concours Banque Etat Fribourg , jugement',\n",
       " 'Concours centre instruction Protection civile , Lausanne',\n",
       " 'Concours bâtiment \" Poste \" Rivaz',\n",
       " 'Concours bâtiment \" Poste \" Rivaz , jugement',\n",
       " 'Concours institut formation professionnelle',\n",
       " 'Concours - soumission pont Veveyse Fégire ( autoroute N 12 Vevey - Fribourg - Berne ) , jugement',\n",
       " 'Concours - soumission ponts Talent ( autoroute N1 Lausanne - Berne ) , jugement',\n",
       " 'Concours \" Hôtel Ouchy - Antares \" , Lausanne',\n",
       " 'Concours Mobilière Suisse , Berne',\n",
       " 'Concours Agence centrale recherches Comité international Croix - Rouge ( CICR ) , Genève',\n",
       " 'Concours complexe \" Beausobre \" Morges',\n",
       " 'Concours complexe \" Beausobre \" Morges , jugement',\n",
       " 'Jury concours bâtiment administratif Mobilière , Berne',\n",
       " 'Jury concours complexe sportif Jeunes - Rives , Neuchâtel',\n",
       " 'Concours ( 1er degré ) Etablissement médico-social \" Baumettes \" Renens environs',\n",
       " 'Concours projets bâtiment scolaire locaux Protection civile , Epalinges , jugement',\n",
       " 'Concours Agence centrale recherches Comité international Croix - Rouge ( CICR ) , Genève , jugement',\n",
       " 'Concours agrandissement école supérieure commerce , Neuchâtel , jugement',\n",
       " 'Concours EPFL Ecublens ( étape , secteur Ouest )',\n",
       " 'Concours EPFL Ecublens ( étape , secteur Ouest ) , jugement',\n",
       " 'Concours CESSNOV Yverdon',\n",
       " 'Concours CESSNOV Yverdon , jugement',\n",
       " 'Concours bâtiment personnes âgées Orbe',\n",
       " 'Concours bâtiment personnes âgées Orbe , jugement',\n",
       " 'Concours complexe sportif Crans-près-Céligny',\n",
       " 'Concours complexe sportif Crans-près-Céligny , jugement',\n",
       " 'Jury concours agrandissement Ecole supérieure Commerce , Neuchâtel',\n",
       " 'Concours ( 1er degré ) Etablissement médico-social \" Baumettes \" Renens environs , jugement',\n",
       " 'Concours bâtiment administratif , Bienne : Bâtiment administratif district',\n",
       " 'Concours Lancy - Sud , Lancy',\n",
       " 'Concours Musée Croix - Rouge , Genève',\n",
       " 'Concours EPFL , 2ème phase',\n",
       " 'Concours bâtiments universitaires Neuchâtel',\n",
       " 'Concours bâtiments universitaires Neuchâtel , jugement',\n",
       " 'Concours centre scolaire sud Chavannes-près-Renens',\n",
       " 'Concours centre scolaire sud Chavannes-près-Renens , jugement',\n",
       " 'Concours tribunal cantonal Hermitage Lausanne',\n",
       " 'Concours Archives cantonales vaudoises',\n",
       " 'Concours Archives cantonales vaudoises , jugement',\n",
       " 'Concours bâtiment communal Duillier',\n",
       " 'Concours bâtiment communal Duillier',\n",
       " 'Concours bâtiment communal Duillier , jugement',\n",
       " 'Concours bâtiment police , Monthey',\n",
       " 'Concours bâtiment police , Monthey , jugement',\n",
       " 'Concours centre scolaire Montana - Village',\n",
       " 'Jury concours concstruction bâtiments universitaires Jeunes - Rives , Neuchâtel',\n",
       " 'concours centre scolaire Montana : projet 31546',\n",
       " 'Concours idées logements Grangette',\n",
       " 'Concours idées logements Praz Séchaud',\n",
       " 'Concours Home \" Repos \" , Neuveville',\n",
       " 'Concours ancien Palais Expositions , Genève',\n",
       " 'Concours ancien Palais Expositions , Genève , jugement',\n",
       " 'concours école primaire Loèche-les-Bains : projet 100001',\n",
       " 'Concours Cité Suchard Neuchâtel',\n",
       " 'Concours nouvelle affectation Caserne Lausanne',\n",
       " 'Concours nouvelle affectation Caserne Lausanne , jugement',\n",
       " 'Concours tribunal cantonal Hermitage Lausanne , jugement',\n",
       " 'Concours centre scolaire Montana - Village , jugement',\n",
       " 'Concours hôptital régional Bienne',\n",
       " 'Concours salle communale Estavayer-le-Lac',\n",
       " 'Concours salle polyvalente Auvernier',\n",
       " 'Jury concours aménagement centre localité Boll - Sinneringen , Vechigen',\n",
       " 'Jury concours Ecole professionnelle Oberland - Ost , Interlaken',\n",
       " 'Jury concours extension Ecole cantonale Luegeten , Zug',\n",
       " 'Jury concours bâtiment polyvalent , Aarburg',\n",
       " 'Jury concours salle sport polyvalente , Däniken',\n",
       " 'Concours bâtiment administration district , Bienne',\n",
       " 'Concours technikum cantonal , St - Imier',\n",
       " 'Concours idées logements Grangette , jugement',\n",
       " 'Concours idées logements Praz Séchaud , jugement',\n",
       " 'Concours logements Préverenges',\n",
       " 'concours école Arbaz : projet 130143',\n",
       " 'Concours Ecole construction Fédération vaudoise entrepreneurs ( FVE ) Tolochenaz',\n",
       " 'Concours Ecole construction Fédération vaudoise entrepreneurs ( FVE ) Tolochenaz , jugement',\n",
       " 'Concours école Bouveret',\n",
       " 'Concours école Bouveret , jugement',\n",
       " 'concours école Bouveret : projet 645013',\n",
       " 'Concours Cité Suchard Neuchâtel , jugement',\n",
       " 'Concours Maison Commune Lavigny',\n",
       " 'Concours salle polyvalente Evouettes',\n",
       " 'Concours salle polyvalente Evouettes , jugement',\n",
       " 'Concours Prieuré Perroy',\n",
       " 'Concours Théâtre Monthey',\n",
       " 'Concours bâtiment Services Industriels logements',\n",
       " 'Concours bâtiment Services Industriels logements , jugement',\n",
       " 'Concours centre sport , Berne Wankdorf',\n",
       " 'Concours groupe scolaire salle gymnastique Forel - Lavaux',\n",
       " 'Concours groupe scolaire salle gymnastique Forel - Lavaux , jugement',\n",
       " 'Concours Ecole professionelle Lausanne',\n",
       " 'Concours Ecole professionelle Lausanne , jugement',\n",
       " 'concours salle spectacle Monthey : projet 123123',\n",
       " 'Concours salle spectacles Monthey',\n",
       " 'Concours salle spectacles Monthey , jugement',\n",
       " 'Concours salle polyvalente Etoy',\n",
       " 'Concours salle polyvalente Etoy , jugement',\n",
       " 'Concours - Commune Lausanne',\n",
       " 'Jury concours hangar bus Kreuzzelg , Wettingen',\n",
       " 'Jury concours invitation EMS Roggwil',\n",
       " 'Concours bâtiments publics Aran - Villette',\n",
       " 'Concours locaux service logements Ballaigues',\n",
       " 'Concours gares Saignelégier+Le Noirmont',\n",
       " 'Concours logements Préverenges , jugement',\n",
       " 'Concours logements jeunes Lausanne',\n",
       " 'Concours logements jeunes Lausanne , jugement',\n",
       " 'Concours Gare Bulle',\n",
       " 'Concours Gare Bulle , jugement',\n",
       " 'concours restauration église Mase',\n",
       " 'concours Werkhof 9 : projet 921021',\n",
       " 'Concours collège Ruettes , Nyon',\n",
       " 'Concours quartier Crochetan - Cotterg Monthey',\n",
       " 'Concours quartier Crochetan - Cotterg Monthey , jugement',\n",
       " 'Concours Werkhof N9 , Simplon - Dorf',\n",
       " 'Concours Centre communal scolaire Arzier - Muids',\n",
       " 'Concours Centre vie enfantine Valency',\n",
       " 'Concours Centre vie enfantine Valency , jugement',\n",
       " 'Concours Centre scolaire , sportif logements Chéserex',\n",
       " 'Concours centre sportif loisir Crans',\n",
       " 'Concours centre sportif loisir Crans , jugement',\n",
       " 'Concours Gymnase Ecole supérieure commerce Nyon',\n",
       " 'Concours Ecole supérieure commerce Sierre',\n",
       " 'Concours Ecole supérieure commerce Sierre , jugement',\n",
       " 'Jury concours bâtiment paroissial , Wanden an der Aare',\n",
       " 'Concours Can Pallet , Mataro',\n",
       " 'Concours logements Yverdon-les-Bains',\n",
       " 'Concours salles classe logements Giez',\n",
       " 'Concours Ecole professionelle commerciale Chablais Aigle',\n",
       " 'Concours Ecole professionelle commerciale Chablais Aigle , jugement',\n",
       " 'Concours Ecole professionnelle commerciale Chablais , Aigle',\n",
       " 'Concours Home personnes âgées vallée Tavannes Reconvilier',\n",
       " 'Concours Home personnes âgées vallée Tavannes Reconvilier , jugement',\n",
       " 'Concours Centre culturel communal Viège',\n",
       " 'Concours Centre culturel communal Viège , jugement',\n",
       " 'Concours Centre scolaire , sportif logements Chéserex , jugement',\n",
       " 'Concours Centre sportif Sentier',\n",
       " 'Concours Centre sportif Sentier , jugement',\n",
       " 'Concours collège secondaire Gland',\n",
       " 'Concours collège secondaire Gland',\n",
       " 'Concours Gymnase Ecole supérieure commerce Nyon , jugement',\n",
       " 'Concours Home personnes âgées malades chroniques Moûtier',\n",
       " 'Concours Home personnes âgées malades chroniques Moûtier , jugement',\n",
       " 'Concours immeuble services industriels techniques Martigny',\n",
       " 'Concours immeuble services industriels techniques Martigny , jugement',\n",
       " 'Programme concours Home , district Moutier',\n",
       " 'Concours réaffectation centre pénitencier Santa Verdiana , Florence',\n",
       " 'concours Genève - Cointrin : Halle frêt aéroport',\n",
       " 'Concours aménagement intérieur halle sport Sierre',\n",
       " 'Concours aménagement intérieur halle sport Sierre , jugement',\n",
       " 'concours hôpital Sierre : projet 837480',\n",
       " 'Concours maison arrêts préventive Côte',\n",
       " 'Concours logements sociaux \" Toises \" , Coppet',\n",
       " 'Concours Vignettes Montana',\n",
       " 'Concours Vignettes Montana , jugement',\n",
       " 'Concours centre commercial Sion',\n",
       " 'Concours centre commercial Sion , jugement',\n",
       " 'Concours centre paroissial église St - Marcel , Delémont',\n",
       " 'Concours collège secondaire Gland , jugement',\n",
       " 'Concours collège Chavornay',\n",
       " 'Concours collège Renens',\n",
       " 'Concours parking , route Clémenty , Nyon',\n",
       " 'Concours construction administrative communale Mont-sur-Lausanne',\n",
       " 'Concours grande salle centre tennis Martigny',\n",
       " 'Concours grande salle centre tennis Martigny , jugement',\n",
       " 'Concours piscine salle gymnastique Porrentruy',\n",
       " 'Concours piscine salle gymnastique Porrentruy , jugement',\n",
       " 'Jury concours centre cours sport , Wohlen',\n",
       " 'Jury concours centre loisirs sports Rheinau , Thusis',\n",
       " 'Jury concours centre loisirs sports , Klosters',\n",
       " 'Jury concours salle sport terrain Grendelmatte , Riehen',\n",
       " 'Concours Chauderon Nord Lausanne',\n",
       " 'Concours bâtiments service Villars - Sainte - Croix',\n",
       " 'Concours bâtiments service Villars - Sainte - Croix , jugement',\n",
       " 'Concours locaux service Chexbres',\n",
       " 'Concours locaux service Chexbres , jugement',\n",
       " 'Concours salles gymnastique spectacle Landeron',\n",
       " 'Concours salles gymnastique spectacle Landeron , jugement',\n",
       " 'Concours salles gymnastique locaux Protection civile Corcelles - Cormondrèche',\n",
       " 'Concours salles gymnastique locaux Protection civile Corcelles - Cormondrèche , jugement',\n",
       " 'Concours ancienne papeterie Bulle',\n",
       " 'Concours ancienne papeterie Bulle , jugement',\n",
       " 'Concours Centre police cantonale Mont-sur-Lausanne',\n",
       " 'Concours Centre police cantonale Mont-sur-Lausanne , jugement',\n",
       " 'Concours collège secondaire \" Terre Sainte \" , Coppet',\n",
       " 'Concours Pavillon architecture Lausanne',\n",
       " 'Concours Pavillon architecture Lausanne , jugement',\n",
       " 'Concours réaménagement secteur gare , Nidau',\n",
       " 'Concours collège Corsier-sur-Vevey',\n",
       " 'Concours habitat industriel Givisiez',\n",
       " 'Concours habitat industriel Givisiez , jugement',\n",
       " 'Concours grande salle Corsier-sur-Vevey',\n",
       " 'Jury concours habitat industriel Faye , Givisiez',\n",
       " 'Jury concours aménagement plateau Pérolle',\n",
       " 'Jury concours installations sportives Trottacher , Kloten',\n",
       " 'Jury concours école secondaire salle gymnastique , Riggisberg',\n",
       " 'Concours Chauderon Nord Lausanne , jugement',\n",
       " 'Concours habitations Aubonne',\n",
       " 'Concours habitations Aubonne , jugement',\n",
       " 'Concours ilôt Riponne - Tunnel Lausanne',\n",
       " 'Concours ilôt Riponne - Tunnel Lausanne , jugement',\n",
       " 'Concours construction place Sans-Nom Chaux - de- Fonds',\n",
       " 'Concours Centre Begnins Begnins , jugement',\n",
       " 'Concours musée archéologie Neuchâtel',\n",
       " 'Concours musée archéologie Neuchâtel , jugement',\n",
       " 'Concours bâtiment Société banque suisse ( SBS ) , Renens',\n",
       " 'Concours centre Pré-Formation Rolle',\n",
       " 'Concours centre rencontres , spectacles loisirs , Moutier',\n",
       " 'Concours Centre scolaire Collombey - Muraz',\n",
       " 'Concours nouvel Hôpital Montreux',\n",
       " 'Concours nouvel Hôpital Montreux , jugement',\n",
       " 'Concours parking gare Montreux',\n",
       " 'Concours parking gare Montreux , jugement',\n",
       " 'Concours grande salle Corsier-sur-Vevey , jugement',\n",
       " 'Concours aménagement ancienne cité chemins fer , Conakry',\n",
       " 'Concours \" Gare Flon \" Lausanne',\n",
       " 'Concours \" Gare Flon \" Lausanne , jugement',\n",
       " 'Concours place Hôtel Ville bâtiment administratif Monthey',\n",
       " 'Concours place Hôtel Ville bâtiment administratif Monthey , jugement',\n",
       " 'Concours concept aménagement Viège - Ouest',\n",
       " 'Concours réaménagement gare place gare , Olten',\n",
       " 'Concours ateliers Stuag , Studen',\n",
       " 'Concours portails tunnel autoroute Transjurane N 16',\n",
       " 'Concours centre Pré-Formation Rolle , jugement',\n",
       " 'Concours Centre scolaire Collombey - Muraz , jugement',\n",
       " 'Concours théâtre Neuchâtel',\n",
       " 'Concours théâtre Neuchâtel , jugement',\n",
       " 'Concours école secondaire Porrentruy',\n",
       " 'Concours salle spectacle locaux protection civile Colombier',\n",
       " 'Concours salle spectacle locaux protection civile Colombier , jugement',\n",
       " 'Concours , Barcelone',\n",
       " 'Jury concours idée château Köniz',\n",
       " 'Concours extension école supérieure commerce Lausanne',\n",
       " 'Concours extension école supérieure commerce Lausanne , jugement',\n",
       " 'Concours construction 4 portails tunnel transjurane N16',\n",
       " 'Concours maison étudiants équipements sportifs \" Cèdres \" Lausanne',\n",
       " 'Concours place Marché Bex',\n",
       " 'Concours place Marché Bex , jugement',\n",
       " 'Concours bâtiment postal Sion 1',\n",
       " 'Concours centre entretien administration Delémont autoroute N 16',\n",
       " 'Concours relais autoroutier Bursins',\n",
       " 'Concours relais autoroutier Bursins , jugement',\n",
       " 'Concours Ouchy - Front lac Lausanne',\n",
       " 'Concours portails tunnel autoroute Transjurane N 16 , jugement',\n",
       " 'Concours Ouchy - Front lac Lausanne , jugement',\n",
       " 'Concours bâtiment administratif cantonal Chaux-de-Fonds',\n",
       " 'Concours bâtiment administratif cantonal Chaux-de-Fonds , jugement',\n",
       " 'Concours centre communal Ecublens',\n",
       " 'Concours centre communal Ecublens , jugement',\n",
       " 'Concours centre primaire scolaire Orsières',\n",
       " 'Jury concours exension siège SBS / SBV ( Société banque Suisse ) , Bienne',\n",
       " 'Concours architecture centre Vuillermet Lausanne',\n",
       " 'Concours mobilier urbain',\n",
       " 'Concours Cité - Lausanne , jugement',\n",
       " 'Concours Cité - Lausanne',\n",
       " 'Concours aménagement site Géronde Sierre',\n",
       " 'Concours aménagement site Géronde Sierre , jugement',\n",
       " 'Concours école stations agricoles Grange - Verney Moudon , jugement',\n",
       " 'Concours gare Morges',\n",
       " 'Concours \" Murtenhof \" Morat',\n",
       " 'Concours \" Murtenhof \" Morat , jugement',\n",
       " 'Concours \" Pendule Foucault \" , Lycée cantonal Porrentruy',\n",
       " 'Concours Centre entretien autoroute N 5 Boudry',\n",
       " 'Concours Centre entretien autoroute N 5 Boudry , jugement',\n",
       " 'Concours centre scolaire Hermitage Lausanne',\n",
       " 'Concours centre scolaire Hermitage Lausanne , jugement',\n",
       " 'Concours Centre professionnel Delémont',\n",
       " 'Concours centre scolaire locaux service feu , Monthey',\n",
       " 'Concours passerelle Rhône Sion',\n",
       " 'Jury concours invitation bâtiment Sandoz / Wander Monbijoustrasse , Berne',\n",
       " 'Projet concours réaménagement centre Samarcande , Ouzbékistan',\n",
       " 'Concours mobilier urbain , jugement',\n",
       " 'Concours agrandissement entreprise \" CORUM \" Chaux-de-Fonds',\n",
       " 'Concours agrandissement entreprise \" CORUM \" Chaux-de-Fonds , jugement',\n",
       " 'Concours aménagement centre village Founex',\n",
       " 'Concours aménagement centre village Founex , jugement',\n",
       " 'Concours école stations agricoles Grange - Verney Moudon',\n",
       " 'Concours hôpital Gruyère Riaz',\n",
       " 'Concours bâtiment corporatif AVE Sion',\n",
       " 'Concours bâtiment corporatif AVE Sion , jugement',\n",
       " 'Concours centre entretien administration Delémont autoroute N 16 , jugement',\n",
       " 'Concours centre sportif centre protection civile Couvet',\n",
       " 'Concours centre sportif centre protection civile Couvet , jugement',\n",
       " 'Concours jardin Pérolles Fribourg',\n",
       " 'Concours jardin Pérolles Fribourg , jugement',\n",
       " 'Concours centre sportif communal \" Iles \" Yverdon-les-Bains',\n",
       " 'Concours centre sportif communal \" Iles \" Yverdon-les-Bains , jugement',\n",
       " 'Concours passerelle Rhône Sion , jugement',\n",
       " 'Jury concours centre sportif centre protection civile , Couvet',\n",
       " 'Concours ( 2e degré ) centre sportif centre protection civile Couvet',\n",
       " 'Concours habitation personnel poste gardes-frontière Villeneuve',\n",
       " 'Concours hôpital Gruyère Riaz , jugement',\n",
       " 'Concours bâtiment administration cantonale BAC Morges',\n",
       " 'Concours bâtiment administration cantonale BAC Morges , jugement',\n",
       " 'Concours bâtiment Police Sûreté- CB3 Mont-sur-Lausanne',\n",
       " 'Concours bâtiment Police Sûreté- CB3 Mont-sur-Lausanne , jugement',\n",
       " 'Concours centre communal \" Grand Pré \" Cheseaux',\n",
       " 'Concours centre communal \" Grand Pré \" Cheseaux , jugement',\n",
       " 'Concours Centre entretien autoroute Sierre',\n",
       " 'Concours Centre entretien autoroute Sierre , jugement',\n",
       " 'Concours concept aménagement secteur \" Praz \" Cugy',\n",
       " 'Concours Quartier Nord Ecole Polytechnique fédérale ( EPFL )',\n",
       " 'Concours centre administratif Cortaillod',\n",
       " 'Concours centre administratif Cortaillod , jugement',\n",
       " 'Concours maison feu Crans - Montana',\n",
       " 'Concours international musée Prado , Madrid',\n",
       " 'Concours habitation personnel poste gardes-frontière Villeneuve , jugement',\n",
       " 'Concours Paroisse catholique St - Amédée , Lausanne',\n",
       " 'Concours concept aménagement secteur \" Praz \" Cugy , jugement',\n",
       " 'Concours centre scolaire sportif Prehl , Morat',\n",
       " 'Concours idées réorganisation Place Château Lausanne',\n",
       " 'Concours foyer personnes polyhandicapées , Malleray : Pimpinière',\n",
       " 'Concours église , Rome',\n",
       " 'Projet concours complexe paroissial Rome',\n",
       " 'Concours centre enseignement secondaire supérieur formation professionnelle , Morges',\n",
       " 'Concours centre enseignement secondaire supérieur centre enseignement professionnel Marcelin , Morges',\n",
       " 'Concours salle gymnastique Tannay',\n",
       " 'Concours requalification environnementale aire ancienne fonderie , Susa',\n",
       " 'Concours centre scolaire Bresse Vétroz',\n",
       " 'Concours musée éthnographie Genève',\n",
       " 'Concours école cantonale degré diplôme Fribourg',\n",
       " 'Concours nouvelle clinique établissement thermal Lavey-les-Bains',\n",
       " 'Concours centre scolaire ( cycle orientation ) Collombey - Muraz',\n",
       " 'Jeux Olympiques Sion 2006 : Concours patinoire Martigny',\n",
       " 'Jury concours extension hotel ESSM , Macolin',\n",
       " 'Concours pont Rhône Souste , Loèche',\n",
       " 'Exposition nationale suisse 2002 : Concours Arteplage Morat',\n",
       " 'Concours Lausanne Jardins 2000',\n",
       " 'Concours Centre exploitation routes nationales ( CeRN ) , Bursins',\n",
       " 'Concours collège Tombay II , Bussigny-près-Lausanne',\n",
       " 'Concours cycle orientation Gruyère , Tour-de-Trême',\n",
       " 'Concours école technique \" CIFOM \" , Locle',\n",
       " 'Concours groupe scolaire économique Ouches , Genève',\n",
       " 'Concours Gymnase intercantonal Broye , Payerne',\n",
       " 'Concours équipements collectifs communaux \" Pommier \" , Grand-Saconnex',\n",
       " 'Concours bâtiment service incendie secours , police cantonale juges instruction , Chaux-de-Fonds',\n",
       " 'Concours halle atelier place armes Bure',\n",
       " 'Concours amphithéâtre Nyon ( mise valeur vestiges archéologiques construction lieu visite spectacle )',\n",
       " 'Concours extension Gymnase Burier , Tour-de-Peilz',\n",
       " 'Concours transformation agrandissement stade olympique Pontaise , Lausanne',\n",
       " 'Concours bâtiment scolaire , Porrentruy',\n",
       " 'Concours bâtiment place armes Bière',\n",
       " 'Concours salle sport gymnase Beaulieu , Lausanne',\n",
       " 'Concours cération portail sud tunnel Glion , Montreux',\n",
       " 'Concours école culture générale commerce post-obligatoire \" Rolliet \" , Plan-les-Ouates',\n",
       " 'concours théâtre Genève',\n",
       " 'Concours construction Hôtel-de-Ville Vallorbe',\n",
       " 'Concours pont Pyrimont Rhône , jugement',\n",
       " 'Concours , devise \" Wie ich auffasse \"',\n",
       " 'Concours idées étude plans nouvel hôtel Banque Populaire Suisse Fribourg , projet AL',\n",
       " 'Concours Bureau International Travail , Genève',\n",
       " 'Stockholm , concours urbanisation',\n",
       " 'Concours projets maisons familiales économiques , banlieue',\n",
       " 'Hôpital Cantonal Zurich , concours',\n",
       " 'Concours Ecole Vie',\n",
       " 'Concours Centre international , Vienne',\n",
       " 'Concours invitation achèvement quartier ch . Pont-de-Ville , ch . Fontaine , Seymaz , Chêne - Bougeries',\n",
       " 'Concours idées aménagement terrains Services Industriels , Genève',\n",
       " 'Concours groupe scolaire primaire quartier Bourg , Fribourg , jugement',\n",
       " 'Concours reconstruction ville Chauny',\n",
       " 'Concours centre touristique Montreux',\n",
       " 'Concours temple Saint-Jacques locaux scolaires , Chissiez , Lausanne , jugement',\n",
       " 'Concours Banque Populaire Broye , Payerne , jugement',\n",
       " 'Concours Banque Populaire Broye , Payerne , jugement',\n",
       " 'Concours reconstruction pont Zaehringen Fribourg , jugement',\n",
       " 'Concours Pénitencier Bochuz ( Plaine Orbe )',\n",
       " 'Concours idées centre municipal éducation physique sports quartier Vernets , Genève , jugement',\n",
       " 'Concours idées abattoir , Nyon , jugement',\n",
       " 'Concours Société amélioration logement ( section romande )',\n",
       " 'Concours ( 2e degré ) parlement fédéral Berne , jugement',\n",
       " 'Concours nouvel Hôtel Postes Télégraphes Zürich , jugement',\n",
       " 'Concours aménagement terrains ancienne gare Bienne',\n",
       " 'Concours idées raccordement Canal transhelvétique lac Léman , jugement',\n",
       " 'Concours auberge communale grande salle Echandens',\n",
       " 'Concours restreint architecture pavillon Suisse exposition internationale \" Arts techniques vie moderne \" Paris 1937',\n",
       " 'Concours idées Centre civique Chênes - Bougeries ( Genève )',\n",
       " 'Concours restreint monument commémoratif fondation Union postale universelle , jugement-397',\n",
       " 'Concours restreint monument commémoratif fondation Union postale universelle , jugement-398',\n",
       " 'Concours collège Prilly , jugement',\n",
       " 'Concours projets Centre paroissial oecuménique Ittigen',\n",
       " 'Concours aménagement nouvelle plage Lausanne',\n",
       " 'Concours architecture construction bâtiments administration fédéraux , Berne , concours',\n",
       " 'Concours architecture construction bâtiments administration fédéraux , Berne , concours B',\n",
       " 'Concours bâtiments administration Berne',\n",
       " 'Concours monument commémoratif fondation Union postale universelle',\n",
       " 'Concours idées révision plan extension ville Lausanne',\n",
       " 'Concours idées grande salle Maison peuple',\n",
       " 'Concours hôtel Banque Populaire Suisse , Zürich',\n",
       " 'Concours garderie enfants classes enfantines aménagement place jeux enfants , Montelly , Lausanne',\n",
       " 'Concours Plan aménagement quartier Maladière , route cantonale lac , Neuchâtel , jugement',\n",
       " 'Concours aménagement quartier Villamont place Faucon , jugement',\n",
       " 'Concours aménagement quartier Villamont place Faucon , jugement',\n",
       " 'Concours aménagement place gare , Berne',\n",
       " 'Concours agrandissement asile St - Josefsheim , Souste(Loèche )',\n",
       " 'Concours aménagement usine gaz , Sion',\n",
       " 'Concours Station fédérale recherches agronomiques Changins , jugement',\n",
       " 'Concours construction pont Rhin , jugement',\n",
       " 'Concours école quartier Auge , Fribourg',\n",
       " 'Concours école quartier Places , Fribourg , jugement',\n",
       " 'Concours aménagement général construction tribunes couvertes Parc Sports , Pontaise , Lausanne',\n",
       " 'Concours pont Chandelard ( autoroute Léman N9 ) , jugement',\n",
       " 'Concours projets Station - Abris construire Chantepoulet , place Longemalle , Genève , jugement',\n",
       " 'Concours petites villas maisons familiales Genève',\n",
       " 'Concours maisons destinées logement personnel usine Verbois , Genève , jugement',\n",
       " 'Concours étude nouvel hôtel postes Neuchâtel',\n",
       " 'Concours Hôtel Postes Télégraphes Berne',\n",
       " 'Concours Hôtel Postes Télégraphes Schaffhausen',\n",
       " 'Concours Banque Populaire Suisse Fribourg',\n",
       " 'Concours Société immobilière Bellevue , Neuchâtel ( cité Suchard Serrières ) , jugement',\n",
       " 'Concours Hospice Ed . Sandoz - David , Lausanne',\n",
       " 'Concours bâtiment Société Romande Electricité , Vevey',\n",
       " 'concours construction collège Renens',\n",
       " 'Concours international Monument Réformation , Genève , jugement',\n",
       " 'Concours Ecole Cantonale Agriculture Cernier',\n",
       " 'Concours groupe scolaire secondaire Orbe , jugement',\n",
       " 'Concours école enfantine Tour-de-Peilz',\n",
       " 'Concours centre scolaire , Cressier , Neuchâtel , jugement',\n",
       " 'Concours idées vue aménagement voies circulation rue Mont-Blanc Grand-Quai , Genève , jugement',\n",
       " 'Concours usine Coulouvrenière , Genève',\n",
       " 'Concours parlement fédéral bâtiments administratifs Berne',\n",
       " 'Concours Ecole cantonale agriculture , Moudon',\n",
       " 'Concours projets centre scolaire Verbier , jugement',\n",
       " 'Concours Hospice Vieillesse Genève , jugement',\n",
       " 'Concours bâtiments destinés institut Alexis Mégevand ( enfants anormaux , indisciplinés sourds - muets ) , jugement',\n",
       " 'Concours projets Centre régional sud district Brigue',\n",
       " 'concours école régionale sud district Brig - Glis : projet PEP',\n",
       " 'Concours Hôtel communal , Locle',\n",
       " 'Concours aménagement place \" Prés Ville \"',\n",
       " 'Concours collège classique Lausanne',\n",
       " 'Concours centre sportif municipal Diekirch ( Luxembourg )',\n",
       " 'Concours immeuble administratif Saudi Arabian Airlines Corporation , Dejddah ( Arabie Saoudite )',\n",
       " 'Concours bâtiments Foire suisse échantillons ( Mustermesse ) , Bâle , jugement',\n",
       " 'Concours art funéraire',\n",
       " 'Concours émulation - 2e classe - Esquisse : lavoir abreuvoir publics',\n",
       " 'Concours reconstruction village Euseigne , jugement',\n",
       " 'Concours hôpital isolement , Lausanne , jugement',\n",
       " 'Concours hôpital isolement , Lausanne , jugement',\n",
       " 'Concours Hôtel communal , Locle , jugement',\n",
       " 'Concours bâtiment école primaire Arnex Orbe , jugement',\n",
       " 'Concours bâtiment école primaire Arnex Orbe , jugement',\n",
       " 'Concours Monument commémoratif Eugène Rambert , Clarens , jugement',\n",
       " 'Concours Monument commémoratif Eugène Rambert , Clarens , jugement',\n",
       " ...]"
      ]
     },
     "execution_count": 14,
     "metadata": {},
     "output_type": "execute_result"
    }
   ],
   "source": [
    "texts"
   ]
  },
  {
   "cell_type": "code",
   "execution_count": 15,
   "metadata": {},
   "outputs": [
    {
     "name": "stderr",
     "output_type": "stream",
     "text": [
      "/home/cfoye/.pyenv/versions/impresso/lib/python3.11/site-packages/numba/np/ufunc/parallel.py:371: NumbaWarning: The TBB threading layer requires TBB version 2021 update 6 or later i.e., TBB_INTERFACE_VERSION >= 12060. Found TBB_INTERFACE_VERSION = 12050. The TBB threading layer is disabled.\n",
      "  warnings.warn(problem)\n"
     ]
    }
   ],
   "source": [
    "topics, probs = topic_model.fit_transform(texts)"
   ]
  },
  {
   "cell_type": "code",
   "execution_count": 16,
   "metadata": {},
   "outputs": [
    {
     "data": {
      "text/html": [
       "<div>\n",
       "<style scoped>\n",
       "    .dataframe tbody tr th:only-of-type {\n",
       "        vertical-align: middle;\n",
       "    }\n",
       "\n",
       "    .dataframe tbody tr th {\n",
       "        vertical-align: top;\n",
       "    }\n",
       "\n",
       "    .dataframe thead th {\n",
       "        text-align: right;\n",
       "    }\n",
       "</style>\n",
       "<table border=\"1\" class=\"dataframe\">\n",
       "  <thead>\n",
       "    <tr style=\"text-align: right;\">\n",
       "      <th></th>\n",
       "      <th>Topic</th>\n",
       "      <th>Count</th>\n",
       "      <th>Name</th>\n",
       "      <th>Representation</th>\n",
       "      <th>Representative_Docs</th>\n",
       "    </tr>\n",
       "  </thead>\n",
       "  <tbody>\n",
       "    <tr>\n",
       "      <th>0</th>\n",
       "      <td>-1</td>\n",
       "      <td>304</td>\n",
       "      <td>-1_tour_musée_institut_jugement</td>\n",
       "      <td>[tour, musée, institut, jugement, université, ...</td>\n",
       "      <td>[Concours école enfantine Tour-de-Peilz , juge...</td>\n",
       "    </tr>\n",
       "    <tr>\n",
       "      <th>1</th>\n",
       "      <td>0</td>\n",
       "      <td>183</td>\n",
       "      <td>0_lausanne_zürich_ecole_école</td>\n",
       "      <td>[lausanne, zürich, ecole, école, ecoles, jugem...</td>\n",
       "      <td>[Concours école supérieure jeunes filles Lausa...</td>\n",
       "    </tr>\n",
       "    <tr>\n",
       "      <th>2</th>\n",
       "      <td>1</td>\n",
       "      <td>173</td>\n",
       "      <td>1_villamont_aménagement_jugement_quais</td>\n",
       "      <td>[villamont, aménagement, jugement, quais, agra...</td>\n",
       "      <td>[Concours aménagement quartier Villamont place...</td>\n",
       "    </tr>\n",
       "    <tr>\n",
       "      <th>3</th>\n",
       "      <td>2</td>\n",
       "      <td>139</td>\n",
       "      <td>2_jugement_bâtiments_scolaire_scolaires</td>\n",
       "      <td>[jugement, bâtiments, scolaire, scolaires, bât...</td>\n",
       "      <td>[Concours bâtiment scolaire , Nyon , jugement,...</td>\n",
       "    </tr>\n",
       "    <tr>\n",
       "      <th>4</th>\n",
       "      <td>3</td>\n",
       "      <td>126</td>\n",
       "      <td>3_école_ecole_écoles_jugement</td>\n",
       "      <td>[école, ecole, écoles, jugement, supérieure, i...</td>\n",
       "      <td>[Concours école secondaire jeunes filles Bienn...</td>\n",
       "    </tr>\n",
       "    <tr>\n",
       "      <th>...</th>\n",
       "      <td>...</td>\n",
       "      <td>...</td>\n",
       "      <td>...</td>\n",
       "      <td>...</td>\n",
       "      <td>...</td>\n",
       "    </tr>\n",
       "    <tr>\n",
       "      <th>58</th>\n",
       "      <td>57</td>\n",
       "      <td>13</td>\n",
       "      <td>57_universitaires_universitaire_université_jug...</td>\n",
       "      <td>[universitaires, universitaire, université, ju...</td>\n",
       "      <td>[Concours bâtiments universitaires Mail , Neuc...</td>\n",
       "    </tr>\n",
       "    <tr>\n",
       "      <th>59</th>\n",
       "      <td>58</td>\n",
       "      <td>13</td>\n",
       "      <td>58_crématoire_vevey_concours_jugement</td>\n",
       "      <td>[crématoire, vevey, concours, jugement, cremat...</td>\n",
       "      <td>[Concours crématoire , Vevey, Concours crémato...</td>\n",
       "    </tr>\n",
       "    <tr>\n",
       "      <th>60</th>\n",
       "      <td>59</td>\n",
       "      <td>11</td>\n",
       "      <td>59_muséum_museum_histoire_musée</td>\n",
       "      <td>[muséum, museum, histoire, musée, naturelle, j...</td>\n",
       "      <td>[Concours ( 2e degré ) Muséum histoire naturel...</td>\n",
       "    </tr>\n",
       "    <tr>\n",
       "      <th>61</th>\n",
       "      <td>60</td>\n",
       "      <td>11</td>\n",
       "      <td>60_industriels_services_service_logements</td>\n",
       "      <td>[industriels, services, service, logements, ma...</td>\n",
       "      <td>[Concours immeuble services industriels techni...</td>\n",
       "    </tr>\n",
       "    <tr>\n",
       "      <th>62</th>\n",
       "      <td>61</td>\n",
       "      <td>11</td>\n",
       "      <td>61_art_lausanne_école_ecole</td>\n",
       "      <td>[art, lausanne, école, ecole, arts, architectu...</td>\n",
       "      <td>[Concours ( 2e degré ) groupe scolaire école c...</td>\n",
       "    </tr>\n",
       "  </tbody>\n",
       "</table>\n",
       "<p>63 rows × 5 columns</p>\n",
       "</div>"
      ],
      "text/plain": [
       "    Topic  Count                                               Name  \\\n",
       "0      -1    304                    -1_tour_musée_institut_jugement   \n",
       "1       0    183                      0_lausanne_zürich_ecole_école   \n",
       "2       1    173             1_villamont_aménagement_jugement_quais   \n",
       "3       2    139            2_jugement_bâtiments_scolaire_scolaires   \n",
       "4       3    126                      3_école_ecole_écoles_jugement   \n",
       "..    ...    ...                                                ...   \n",
       "58     57     13  57_universitaires_universitaire_université_jug...   \n",
       "59     58     13              58_crématoire_vevey_concours_jugement   \n",
       "60     59     11                    59_muséum_museum_histoire_musée   \n",
       "61     60     11          60_industriels_services_service_logements   \n",
       "62     61     11                        61_art_lausanne_école_ecole   \n",
       "\n",
       "                                       Representation  \\\n",
       "0   [tour, musée, institut, jugement, université, ...   \n",
       "1   [lausanne, zürich, ecole, école, ecoles, jugem...   \n",
       "2   [villamont, aménagement, jugement, quais, agra...   \n",
       "3   [jugement, bâtiments, scolaire, scolaires, bât...   \n",
       "4   [école, ecole, écoles, jugement, supérieure, i...   \n",
       "..                                                ...   \n",
       "58  [universitaires, universitaire, université, ju...   \n",
       "59  [crématoire, vevey, concours, jugement, cremat...   \n",
       "60  [muséum, museum, histoire, musée, naturelle, j...   \n",
       "61  [industriels, services, service, logements, ma...   \n",
       "62  [art, lausanne, école, ecole, arts, architectu...   \n",
       "\n",
       "                                  Representative_Docs  \n",
       "0   [Concours école enfantine Tour-de-Peilz , juge...  \n",
       "1   [Concours école supérieure jeunes filles Lausa...  \n",
       "2   [Concours aménagement quartier Villamont place...  \n",
       "3   [Concours bâtiment scolaire , Nyon , jugement,...  \n",
       "4   [Concours école secondaire jeunes filles Bienn...  \n",
       "..                                                ...  \n",
       "58  [Concours bâtiments universitaires Mail , Neuc...  \n",
       "59  [Concours crématoire , Vevey, Concours crémato...  \n",
       "60  [Concours ( 2e degré ) Muséum histoire naturel...  \n",
       "61  [Concours immeuble services industriels techni...  \n",
       "62  [Concours ( 2e degré ) groupe scolaire école c...  \n",
       "\n",
       "[63 rows x 5 columns]"
      ]
     },
     "execution_count": 16,
     "metadata": {},
     "output_type": "execute_result"
    }
   ],
   "source": [
    "topic_model.get_topic_info()"
   ]
  },
  {
   "cell_type": "code",
   "execution_count": 17,
   "metadata": {},
   "outputs": [],
   "source": [
    "doc_topic_df = topic_model.get_document_info(texts)\n"
   ]
  },
  {
   "cell_type": "code",
   "execution_count": 22,
   "metadata": {},
   "outputs": [
    {
     "data": {
      "application/vnd.plotly.v1+json": {
       "config": {
        "plotlyServerURL": "https://plot.ly"
       },
       "data": [
        {
         "hoverinfo": "text",
         "marker": {
          "color": "rgb(61,153,112)"
         },
         "mode": "lines",
         "type": "scatter",
         "x": [
          0,
          0.5940293763340199,
          0.5940293763340199,
          0
         ],
         "xaxis": "x",
         "y": [
          -5,
          -5,
          -15,
          -15
         ],
         "yaxis": "y"
        },
        {
         "hoverinfo": "text",
         "marker": {
          "color": "rgb(255,65,54)"
         },
         "mode": "lines",
         "type": "scatter",
         "x": [
          0,
          0.7519285488666004,
          0.7519285488666004,
          0
         ],
         "xaxis": "x",
         "y": [
          -25,
          -25,
          -35,
          -35
         ],
         "yaxis": "y"
        },
        {
         "hoverinfo": "text",
         "marker": {
          "color": "rgb(0,116,217)"
         },
         "mode": "lines",
         "type": "scatter",
         "x": [
          0.5940293763340199,
          1.009629586713176,
          1.009629586713176,
          0.7519285488666004
         ],
         "xaxis": "x",
         "y": [
          -10,
          -10,
          -30,
          -30
         ],
         "yaxis": "y"
        },
        {
         "hoverinfo": "text",
         "marker": {
          "color": "rgb(35,205,205)"
         },
         "mode": "lines",
         "type": "scatter",
         "x": [
          0,
          0.5204509657363006,
          0.5204509657363006,
          0
         ],
         "xaxis": "x",
         "y": [
          -45,
          -45,
          -55,
          -55
         ],
         "yaxis": "y"
        },
        {
         "hoverinfo": "text",
         "marker": {
          "color": "rgb(133,20,75)"
         },
         "mode": "lines",
         "type": "scatter",
         "x": [
          0,
          0.8055644724293276,
          0.8055644724293276,
          0
         ],
         "xaxis": "x",
         "y": [
          -65,
          -65,
          -75,
          -75
         ],
         "yaxis": "y"
        },
        {
         "hoverinfo": "text",
         "marker": {
          "color": "rgb(255,220,0)"
         },
         "mode": "lines",
         "type": "scatter",
         "x": [
          0,
          0.8765506207931066,
          0.8765506207931066,
          0
         ],
         "xaxis": "x",
         "y": [
          -85,
          -85,
          -95,
          -95
         ],
         "yaxis": "y"
        },
        {
         "hoverinfo": "text",
         "marker": {
          "color": "rgb(40,35,35)"
         },
         "mode": "lines",
         "type": "scatter",
         "x": [
          0,
          0.8509684898001245,
          0.8509684898001245,
          0
         ],
         "xaxis": "x",
         "y": [
          -105,
          -105,
          -115,
          -115
         ],
         "yaxis": "y"
        },
        {
         "hoverinfo": "text",
         "marker": {
          "color": "rgb(40,35,35)"
         },
         "mode": "lines",
         "type": "scatter",
         "x": [
          0,
          0.8199532750086964,
          0.8199532750086964,
          0
         ],
         "xaxis": "x",
         "y": [
          -125,
          -125,
          -135,
          -135
         ],
         "yaxis": "y"
        },
        {
         "hoverinfo": "text",
         "marker": {
          "color": "rgb(40,35,35)"
         },
         "mode": "lines",
         "type": "scatter",
         "x": [
          0.8509684898001245,
          0.9401261028360218,
          0.9401261028360218,
          0.8199532750086964
         ],
         "xaxis": "x",
         "y": [
          -110,
          -110,
          -130,
          -130
         ],
         "yaxis": "y"
        },
        {
         "hoverinfo": "text",
         "marker": {
          "color": "rgb(0,116,217)"
         },
         "mode": "lines",
         "type": "scatter",
         "x": [
          0.8765506207931066,
          1.0184932486730525,
          1.0184932486730525,
          0.9401261028360218
         ],
         "xaxis": "x",
         "y": [
          -90,
          -90,
          -120,
          -120
         ],
         "yaxis": "y"
        },
        {
         "hoverinfo": "text",
         "marker": {
          "color": "rgb(0,116,217)"
         },
         "mode": "lines",
         "type": "scatter",
         "x": [
          0.8055644724293276,
          1.0781147546819214,
          1.0781147546819214,
          1.0184932486730525
         ],
         "xaxis": "x",
         "y": [
          -70,
          -70,
          -105,
          -105
         ],
         "yaxis": "y"
        },
        {
         "hoverinfo": "text",
         "marker": {
          "color": "rgb(61,153,112)"
         },
         "mode": "lines",
         "type": "scatter",
         "x": [
          0,
          0.7805596743124512,
          0.7805596743124512,
          0
         ],
         "xaxis": "x",
         "y": [
          -145,
          -145,
          -155,
          -155
         ],
         "yaxis": "y"
        },
        {
         "hoverinfo": "text",
         "marker": {
          "color": "rgb(255,65,54)"
         },
         "mode": "lines",
         "type": "scatter",
         "x": [
          0,
          0.7937395687643553,
          0.7937395687643553,
          0
         ],
         "xaxis": "x",
         "y": [
          -175,
          -175,
          -185,
          -185
         ],
         "yaxis": "y"
        },
        {
         "hoverinfo": "text",
         "marker": {
          "color": "rgb(255,65,54)"
         },
         "mode": "lines",
         "type": "scatter",
         "x": [
          0,
          0.8318656848196967,
          0.8318656848196967,
          0.7937395687643553
         ],
         "xaxis": "x",
         "y": [
          -165,
          -165,
          -180,
          -180
         ],
         "yaxis": "y"
        },
        {
         "hoverinfo": "text",
         "marker": {
          "color": "rgb(35,205,205)"
         },
         "mode": "lines",
         "type": "scatter",
         "x": [
          0,
          0.8743891422970124,
          0.8743891422970124,
          0
         ],
         "xaxis": "x",
         "y": [
          -205,
          -205,
          -215,
          -215
         ],
         "yaxis": "y"
        },
        {
         "hoverinfo": "text",
         "marker": {
          "color": "rgb(35,205,205)"
         },
         "mode": "lines",
         "type": "scatter",
         "x": [
          0,
          0.9451469590040226,
          0.9451469590040226,
          0.8743891422970124
         ],
         "xaxis": "x",
         "y": [
          -195,
          -195,
          -210,
          -210
         ],
         "yaxis": "y"
        },
        {
         "hoverinfo": "text",
         "marker": {
          "color": "rgb(61,153,112)"
         },
         "mode": "lines",
         "type": "scatter",
         "x": [
          0,
          0.8593686102516122,
          0.8593686102516122,
          0
         ],
         "xaxis": "x",
         "y": [
          -225,
          -225,
          -235,
          -235
         ],
         "yaxis": "y"
        },
        {
         "hoverinfo": "text",
         "marker": {
          "color": "rgb(0,116,217)"
         },
         "mode": "lines",
         "type": "scatter",
         "x": [
          0.9451469590040226,
          1.0058572928527851,
          1.0058572928527851,
          0.8593686102516122
         ],
         "xaxis": "x",
         "y": [
          -202.5,
          -202.5,
          -230,
          -230
         ],
         "yaxis": "y"
        },
        {
         "hoverinfo": "text",
         "marker": {
          "color": "rgb(0,116,217)"
         },
         "mode": "lines",
         "type": "scatter",
         "x": [
          0.8318656848196967,
          1.0703548903501254,
          1.0703548903501254,
          1.0058572928527851
         ],
         "xaxis": "x",
         "y": [
          -172.5,
          -172.5,
          -216.25,
          -216.25
         ],
         "yaxis": "y"
        },
        {
         "hoverinfo": "text",
         "marker": {
          "color": "rgb(0,116,217)"
         },
         "mode": "lines",
         "type": "scatter",
         "x": [
          0.7805596743124512,
          1.1291875082906087,
          1.1291875082906087,
          1.0703548903501254
         ],
         "xaxis": "x",
         "y": [
          -150,
          -150,
          -194.375,
          -194.375
         ],
         "yaxis": "y"
        },
        {
         "hoverinfo": "text",
         "marker": {
          "color": "rgb(0,116,217)"
         },
         "mode": "lines",
         "type": "scatter",
         "x": [
          1.0781147546819214,
          1.2121044178498548,
          1.2121044178498548,
          1.1291875082906087
         ],
         "xaxis": "x",
         "y": [
          -87.5,
          -87.5,
          -172.1875,
          -172.1875
         ],
         "yaxis": "y"
        },
        {
         "hoverinfo": "text",
         "marker": {
          "color": "rgb(0,116,217)"
         },
         "mode": "lines",
         "type": "scatter",
         "x": [
          0.5204509657363006,
          1.278119635027174,
          1.278119635027174,
          1.2121044178498548
         ],
         "xaxis": "x",
         "y": [
          -50,
          -50,
          -129.84375,
          -129.84375
         ],
         "yaxis": "y"
        },
        {
         "hoverinfo": "text",
         "marker": {
          "color": "rgb(255,65,54)"
         },
         "mode": "lines",
         "type": "scatter",
         "x": [
          0,
          0.8110676705793379,
          0.8110676705793379,
          0
         ],
         "xaxis": "x",
         "y": [
          -245,
          -245,
          -255,
          -255
         ],
         "yaxis": "y"
        },
        {
         "hoverinfo": "text",
         "marker": {
          "color": "rgb(35,205,205)"
         },
         "mode": "lines",
         "type": "scatter",
         "x": [
          0,
          0.9064947082903239,
          0.9064947082903239,
          0
         ],
         "xaxis": "x",
         "y": [
          -265,
          -265,
          -275,
          -275
         ],
         "yaxis": "y"
        },
        {
         "hoverinfo": "text",
         "marker": {
          "color": "rgb(35,205,205)"
         },
         "mode": "lines",
         "type": "scatter",
         "x": [
          0.9064947082903239,
          0.9752116735149613,
          0.9752116735149613,
          0
         ],
         "xaxis": "x",
         "y": [
          -270,
          -270,
          -285,
          -285
         ],
         "yaxis": "y"
        },
        {
         "hoverinfo": "text",
         "marker": {
          "color": "rgb(133,20,75)"
         },
         "mode": "lines",
         "type": "scatter",
         "x": [
          0,
          0.9333337641838485,
          0.9333337641838485,
          0
         ],
         "xaxis": "x",
         "y": [
          -295,
          -295,
          -305,
          -305
         ],
         "yaxis": "y"
        },
        {
         "hoverinfo": "text",
         "marker": {
          "color": "rgb(255,220,0)"
         },
         "mode": "lines",
         "type": "scatter",
         "x": [
          0,
          0.9357693531893292,
          0.9357693531893292,
          0
         ],
         "xaxis": "x",
         "y": [
          -315,
          -315,
          -325,
          -325
         ],
         "yaxis": "y"
        },
        {
         "hoverinfo": "text",
         "marker": {
          "color": "rgb(40,35,35)"
         },
         "mode": "lines",
         "type": "scatter",
         "x": [
          0,
          0.9853167473454598,
          0.9853167473454598,
          0
         ],
         "xaxis": "x",
         "y": [
          -345,
          -345,
          -355,
          -355
         ],
         "yaxis": "y"
        },
        {
         "hoverinfo": "text",
         "marker": {
          "color": "rgb(40,35,35)"
         },
         "mode": "lines",
         "type": "scatter",
         "x": [
          0,
          0.9908379474746657,
          0.9908379474746657,
          0.9853167473454598
         ],
         "xaxis": "x",
         "y": [
          -335,
          -335,
          -350,
          -350
         ],
         "yaxis": "y"
        },
        {
         "hoverinfo": "text",
         "marker": {
          "color": "rgb(61,153,112)"
         },
         "mode": "lines",
         "type": "scatter",
         "x": [
          0,
          0.98252718276751,
          0.98252718276751,
          0
         ],
         "xaxis": "x",
         "y": [
          -365,
          -365,
          -375,
          -375
         ],
         "yaxis": "y"
        },
        {
         "hoverinfo": "text",
         "marker": {
          "color": "rgb(0,116,217)"
         },
         "mode": "lines",
         "type": "scatter",
         "x": [
          0.9908379474746657,
          1.0007656834773209,
          1.0007656834773209,
          0.98252718276751
         ],
         "xaxis": "x",
         "y": [
          -342.5,
          -342.5,
          -370,
          -370
         ],
         "yaxis": "y"
        },
        {
         "hoverinfo": "text",
         "marker": {
          "color": "rgb(255,65,54)"
         },
         "mode": "lines",
         "type": "scatter",
         "x": [
          0,
          0.960664435634687,
          0.960664435634687,
          0
         ],
         "xaxis": "x",
         "y": [
          -385,
          -385,
          -395,
          -395
         ],
         "yaxis": "y"
        },
        {
         "hoverinfo": "text",
         "marker": {
          "color": "rgb(255,65,54)"
         },
         "mode": "lines",
         "type": "scatter",
         "x": [
          0,
          0.973909247083504,
          0.973909247083504,
          0
         ],
         "xaxis": "x",
         "y": [
          -405,
          -405,
          -415,
          -415
         ],
         "yaxis": "y"
        },
        {
         "hoverinfo": "text",
         "marker": {
          "color": "rgb(255,65,54)"
         },
         "mode": "lines",
         "type": "scatter",
         "x": [
          0.960664435634687,
          0.998591810329616,
          0.998591810329616,
          0.973909247083504
         ],
         "xaxis": "x",
         "y": [
          -390,
          -390,
          -410,
          -410
         ],
         "yaxis": "y"
        },
        {
         "hoverinfo": "text",
         "marker": {
          "color": "rgb(0,116,217)"
         },
         "mode": "lines",
         "type": "scatter",
         "x": [
          1.0007656834773209,
          1.0130932335794722,
          1.0130932335794722,
          0.998591810329616
         ],
         "xaxis": "x",
         "y": [
          -356.25,
          -356.25,
          -400,
          -400
         ],
         "yaxis": "y"
        },
        {
         "hoverinfo": "text",
         "marker": {
          "color": "rgb(0,116,217)"
         },
         "mode": "lines",
         "type": "scatter",
         "x": [
          0.9357693531893292,
          1.0272201475284168,
          1.0272201475284168,
          1.0130932335794722
         ],
         "xaxis": "x",
         "y": [
          -320,
          -320,
          -378.125,
          -378.125
         ],
         "yaxis": "y"
        },
        {
         "hoverinfo": "text",
         "marker": {
          "color": "rgb(0,116,217)"
         },
         "mode": "lines",
         "type": "scatter",
         "x": [
          0.9333337641838485,
          1.042577963987575,
          1.042577963987575,
          1.0272201475284168
         ],
         "xaxis": "x",
         "y": [
          -300,
          -300,
          -349.0625,
          -349.0625
         ],
         "yaxis": "y"
        },
        {
         "hoverinfo": "text",
         "marker": {
          "color": "rgb(35,205,205)"
         },
         "mode": "lines",
         "type": "scatter",
         "x": [
          0,
          0.9190053609146466,
          0.9190053609146466,
          0
         ],
         "xaxis": "x",
         "y": [
          -425,
          -425,
          -435,
          -435
         ],
         "yaxis": "y"
        },
        {
         "hoverinfo": "text",
         "marker": {
          "color": "rgb(61,153,112)"
         },
         "mode": "lines",
         "type": "scatter",
         "x": [
          0,
          0.9290998485383519,
          0.9290998485383519,
          0
         ],
         "xaxis": "x",
         "y": [
          -455,
          -455,
          -465,
          -465
         ],
         "yaxis": "y"
        },
        {
         "hoverinfo": "text",
         "marker": {
          "color": "rgb(61,153,112)"
         },
         "mode": "lines",
         "type": "scatter",
         "x": [
          0,
          0.9771461808708312,
          0.9771461808708312,
          0.9290998485383519
         ],
         "xaxis": "x",
         "y": [
          -445,
          -445,
          -460,
          -460
         ],
         "yaxis": "y"
        },
        {
         "hoverinfo": "text",
         "marker": {
          "color": "rgb(0,116,217)"
         },
         "mode": "lines",
         "type": "scatter",
         "x": [
          0.9190053609146466,
          1.0459815757352304,
          1.0459815757352304,
          0.9771461808708312
         ],
         "xaxis": "x",
         "y": [
          -430,
          -430,
          -452.5,
          -452.5
         ],
         "yaxis": "y"
        },
        {
         "hoverinfo": "text",
         "marker": {
          "color": "rgb(0,116,217)"
         },
         "mode": "lines",
         "type": "scatter",
         "x": [
          1.042577963987575,
          1.0604720944315031,
          1.0604720944315031,
          1.0459815757352304
         ],
         "xaxis": "x",
         "y": [
          -324.53125,
          -324.53125,
          -441.25,
          -441.25
         ],
         "yaxis": "y"
        },
        {
         "hoverinfo": "text",
         "marker": {
          "color": "rgb(0,116,217)"
         },
         "mode": "lines",
         "type": "scatter",
         "x": [
          0.9752116735149613,
          1.0761349393165596,
          1.0761349393165596,
          1.0604720944315031
         ],
         "xaxis": "x",
         "y": [
          -277.5,
          -277.5,
          -382.890625,
          -382.890625
         ],
         "yaxis": "y"
        },
        {
         "hoverinfo": "text",
         "marker": {
          "color": "rgb(255,65,54)"
         },
         "mode": "lines",
         "type": "scatter",
         "x": [
          0,
          0.850806313344251,
          0.850806313344251,
          0
         ],
         "xaxis": "x",
         "y": [
          -475,
          -475,
          -485,
          -485
         ],
         "yaxis": "y"
        },
        {
         "hoverinfo": "text",
         "marker": {
          "color": "rgb(255,65,54)"
         },
         "mode": "lines",
         "type": "scatter",
         "x": [
          0.850806313344251,
          0.9635501298107637,
          0.9635501298107637,
          0
         ],
         "xaxis": "x",
         "y": [
          -480,
          -480,
          -495,
          -495
         ],
         "yaxis": "y"
        },
        {
         "hoverinfo": "text",
         "marker": {
          "color": "rgb(0,116,217)"
         },
         "mode": "lines",
         "type": "scatter",
         "x": [
          1.0761349393165596,
          1.1067091903061774,
          1.1067091903061774,
          0.9635501298107637
         ],
         "xaxis": "x",
         "y": [
          -330.1953125,
          -330.1953125,
          -487.5,
          -487.5
         ],
         "yaxis": "y"
        },
        {
         "hoverinfo": "text",
         "marker": {
          "color": "rgb(0,116,217)"
         },
         "mode": "lines",
         "type": "scatter",
         "x": [
          0.8110676705793379,
          1.1292171623336231,
          1.1292171623336231,
          1.1067091903061774
         ],
         "xaxis": "x",
         "y": [
          -250,
          -250,
          -408.84765625,
          -408.84765625
         ],
         "yaxis": "y"
        },
        {
         "hoverinfo": "text",
         "marker": {
          "color": "rgb(35,205,205)"
         },
         "mode": "lines",
         "type": "scatter",
         "x": [
          0,
          0.7929632237230793,
          0.7929632237230793,
          0
         ],
         "xaxis": "x",
         "y": [
          -505,
          -505,
          -515,
          -515
         ],
         "yaxis": "y"
        },
        {
         "hoverinfo": "text",
         "marker": {
          "color": "rgb(35,205,205)"
         },
         "mode": "lines",
         "type": "scatter",
         "x": [
          0.7929632237230793,
          0.9212890785166126,
          0.9212890785166126,
          0
         ],
         "xaxis": "x",
         "y": [
          -510,
          -510,
          -525,
          -525
         ],
         "yaxis": "y"
        },
        {
         "hoverinfo": "text",
         "marker": {
          "color": "rgb(0,116,217)"
         },
         "mode": "lines",
         "type": "scatter",
         "x": [
          1.1292171623336231,
          1.1934053413727372,
          1.1934053413727372,
          0.9212890785166126
         ],
         "xaxis": "x",
         "y": [
          -329.423828125,
          -329.423828125,
          -517.5,
          -517.5
         ],
         "yaxis": "y"
        },
        {
         "hoverinfo": "text",
         "marker": {
          "color": "rgb(133,20,75)"
         },
         "mode": "lines",
         "type": "scatter",
         "x": [
          0,
          0.6420892115778689,
          0.6420892115778689,
          0
         ],
         "xaxis": "x",
         "y": [
          -535,
          -535,
          -545,
          -545
         ],
         "yaxis": "y"
        },
        {
         "hoverinfo": "text",
         "marker": {
          "color": "rgb(255,220,0)"
         },
         "mode": "lines",
         "type": "scatter",
         "x": [
          0,
          0.8985499535852939,
          0.8985499535852939,
          0
         ],
         "xaxis": "x",
         "y": [
          -565,
          -565,
          -575,
          -575
         ],
         "yaxis": "y"
        },
        {
         "hoverinfo": "text",
         "marker": {
          "color": "rgb(255,220,0)"
         },
         "mode": "lines",
         "type": "scatter",
         "x": [
          0,
          0.9437951733399665,
          0.9437951733399665,
          0.8985499535852939
         ],
         "xaxis": "x",
         "y": [
          -555,
          -555,
          -570,
          -570
         ],
         "yaxis": "y"
        },
        {
         "hoverinfo": "text",
         "marker": {
          "color": "rgb(40,35,35)"
         },
         "mode": "lines",
         "type": "scatter",
         "x": [
          0,
          0.8931952968927341,
          0.8931952968927341,
          0
         ],
         "xaxis": "x",
         "y": [
          -585,
          -585,
          -595,
          -595
         ],
         "yaxis": "y"
        },
        {
         "hoverinfo": "text",
         "marker": {
          "color": "rgb(40,35,35)"
         },
         "mode": "lines",
         "type": "scatter",
         "x": [
          0,
          0.9265011120605401,
          0.9265011120605401,
          0
         ],
         "xaxis": "x",
         "y": [
          -605,
          -605,
          -615,
          -615
         ],
         "yaxis": "y"
        },
        {
         "hoverinfo": "text",
         "marker": {
          "color": "rgb(40,35,35)"
         },
         "mode": "lines",
         "type": "scatter",
         "x": [
          0.8931952968927341,
          0.99892989675176,
          0.99892989675176,
          0.9265011120605401
         ],
         "xaxis": "x",
         "y": [
          -590,
          -590,
          -610,
          -610
         ],
         "yaxis": "y"
        },
        {
         "hoverinfo": "text",
         "marker": {
          "color": "rgb(0,116,217)"
         },
         "mode": "lines",
         "type": "scatter",
         "x": [
          0.9437951733399665,
          1.0591101955484272,
          1.0591101955484272,
          0.99892989675176
         ],
         "xaxis": "x",
         "y": [
          -562.5,
          -562.5,
          -600,
          -600
         ],
         "yaxis": "y"
        },
        {
         "hoverinfo": "text",
         "marker": {
          "color": "rgb(0,116,217)"
         },
         "mode": "lines",
         "type": "scatter",
         "x": [
          0.6420892115778689,
          1.114819587932322,
          1.114819587932322,
          1.0591101955484272
         ],
         "xaxis": "x",
         "y": [
          -540,
          -540,
          -581.25,
          -581.25
         ],
         "yaxis": "y"
        },
        {
         "hoverinfo": "text",
         "marker": {
          "color": "rgb(0,116,217)"
         },
         "mode": "lines",
         "type": "scatter",
         "x": [
          1.1934053413727372,
          1.2094813678797052,
          1.2094813678797052,
          1.114819587932322
         ],
         "xaxis": "x",
         "y": [
          -423.4619140625,
          -423.4619140625,
          -560.625,
          -560.625
         ],
         "yaxis": "y"
        },
        {
         "hoverinfo": "text",
         "marker": {
          "color": "rgb(0,116,217)"
         },
         "mode": "lines",
         "type": "scatter",
         "x": [
          1.278119635027174,
          1.3139421227415766,
          1.3139421227415766,
          1.2094813678797052
         ],
         "xaxis": "x",
         "y": [
          -89.921875,
          -89.921875,
          -492.04345703125,
          -492.04345703125
         ],
         "yaxis": "y"
        },
        {
         "hoverinfo": "text",
         "marker": {
          "color": "rgb(0,116,217)"
         },
         "mode": "lines",
         "type": "scatter",
         "x": [
          1.009629586713176,
          1.3644272067240726,
          1.3644272067240726,
          1.3139421227415766
         ],
         "xaxis": "x",
         "y": [
          -20,
          -20,
          -290.982666015625,
          -290.982666015625
         ],
         "yaxis": "y"
        }
       ],
       "layout": {
        "autosize": false,
        "height": 1130,
        "hoverlabel": {
         "bgcolor": "white",
         "font": {
          "family": "Rockwell",
          "size": 16
         }
        },
        "hovermode": "closest",
        "plot_bgcolor": "#ECEFF1",
        "showlegend": false,
        "template": {
         "data": {
          "bar": [
           {
            "error_x": {
             "color": "#2a3f5f"
            },
            "error_y": {
             "color": "#2a3f5f"
            },
            "marker": {
             "line": {
              "color": "white",
              "width": 0.5
             },
             "pattern": {
              "fillmode": "overlay",
              "size": 10,
              "solidity": 0.2
             }
            },
            "type": "bar"
           }
          ],
          "barpolar": [
           {
            "marker": {
             "line": {
              "color": "white",
              "width": 0.5
             },
             "pattern": {
              "fillmode": "overlay",
              "size": 10,
              "solidity": 0.2
             }
            },
            "type": "barpolar"
           }
          ],
          "carpet": [
           {
            "aaxis": {
             "endlinecolor": "#2a3f5f",
             "gridcolor": "#C8D4E3",
             "linecolor": "#C8D4E3",
             "minorgridcolor": "#C8D4E3",
             "startlinecolor": "#2a3f5f"
            },
            "baxis": {
             "endlinecolor": "#2a3f5f",
             "gridcolor": "#C8D4E3",
             "linecolor": "#C8D4E3",
             "minorgridcolor": "#C8D4E3",
             "startlinecolor": "#2a3f5f"
            },
            "type": "carpet"
           }
          ],
          "choropleth": [
           {
            "colorbar": {
             "outlinewidth": 0,
             "ticks": ""
            },
            "type": "choropleth"
           }
          ],
          "contour": [
           {
            "colorbar": {
             "outlinewidth": 0,
             "ticks": ""
            },
            "colorscale": [
             [
              0,
              "#0d0887"
             ],
             [
              0.1111111111111111,
              "#46039f"
             ],
             [
              0.2222222222222222,
              "#7201a8"
             ],
             [
              0.3333333333333333,
              "#9c179e"
             ],
             [
              0.4444444444444444,
              "#bd3786"
             ],
             [
              0.5555555555555556,
              "#d8576b"
             ],
             [
              0.6666666666666666,
              "#ed7953"
             ],
             [
              0.7777777777777778,
              "#fb9f3a"
             ],
             [
              0.8888888888888888,
              "#fdca26"
             ],
             [
              1,
              "#f0f921"
             ]
            ],
            "type": "contour"
           }
          ],
          "contourcarpet": [
           {
            "colorbar": {
             "outlinewidth": 0,
             "ticks": ""
            },
            "type": "contourcarpet"
           }
          ],
          "heatmap": [
           {
            "colorbar": {
             "outlinewidth": 0,
             "ticks": ""
            },
            "colorscale": [
             [
              0,
              "#0d0887"
             ],
             [
              0.1111111111111111,
              "#46039f"
             ],
             [
              0.2222222222222222,
              "#7201a8"
             ],
             [
              0.3333333333333333,
              "#9c179e"
             ],
             [
              0.4444444444444444,
              "#bd3786"
             ],
             [
              0.5555555555555556,
              "#d8576b"
             ],
             [
              0.6666666666666666,
              "#ed7953"
             ],
             [
              0.7777777777777778,
              "#fb9f3a"
             ],
             [
              0.8888888888888888,
              "#fdca26"
             ],
             [
              1,
              "#f0f921"
             ]
            ],
            "type": "heatmap"
           }
          ],
          "heatmapgl": [
           {
            "colorbar": {
             "outlinewidth": 0,
             "ticks": ""
            },
            "colorscale": [
             [
              0,
              "#0d0887"
             ],
             [
              0.1111111111111111,
              "#46039f"
             ],
             [
              0.2222222222222222,
              "#7201a8"
             ],
             [
              0.3333333333333333,
              "#9c179e"
             ],
             [
              0.4444444444444444,
              "#bd3786"
             ],
             [
              0.5555555555555556,
              "#d8576b"
             ],
             [
              0.6666666666666666,
              "#ed7953"
             ],
             [
              0.7777777777777778,
              "#fb9f3a"
             ],
             [
              0.8888888888888888,
              "#fdca26"
             ],
             [
              1,
              "#f0f921"
             ]
            ],
            "type": "heatmapgl"
           }
          ],
          "histogram": [
           {
            "marker": {
             "pattern": {
              "fillmode": "overlay",
              "size": 10,
              "solidity": 0.2
             }
            },
            "type": "histogram"
           }
          ],
          "histogram2d": [
           {
            "colorbar": {
             "outlinewidth": 0,
             "ticks": ""
            },
            "colorscale": [
             [
              0,
              "#0d0887"
             ],
             [
              0.1111111111111111,
              "#46039f"
             ],
             [
              0.2222222222222222,
              "#7201a8"
             ],
             [
              0.3333333333333333,
              "#9c179e"
             ],
             [
              0.4444444444444444,
              "#bd3786"
             ],
             [
              0.5555555555555556,
              "#d8576b"
             ],
             [
              0.6666666666666666,
              "#ed7953"
             ],
             [
              0.7777777777777778,
              "#fb9f3a"
             ],
             [
              0.8888888888888888,
              "#fdca26"
             ],
             [
              1,
              "#f0f921"
             ]
            ],
            "type": "histogram2d"
           }
          ],
          "histogram2dcontour": [
           {
            "colorbar": {
             "outlinewidth": 0,
             "ticks": ""
            },
            "colorscale": [
             [
              0,
              "#0d0887"
             ],
             [
              0.1111111111111111,
              "#46039f"
             ],
             [
              0.2222222222222222,
              "#7201a8"
             ],
             [
              0.3333333333333333,
              "#9c179e"
             ],
             [
              0.4444444444444444,
              "#bd3786"
             ],
             [
              0.5555555555555556,
              "#d8576b"
             ],
             [
              0.6666666666666666,
              "#ed7953"
             ],
             [
              0.7777777777777778,
              "#fb9f3a"
             ],
             [
              0.8888888888888888,
              "#fdca26"
             ],
             [
              1,
              "#f0f921"
             ]
            ],
            "type": "histogram2dcontour"
           }
          ],
          "mesh3d": [
           {
            "colorbar": {
             "outlinewidth": 0,
             "ticks": ""
            },
            "type": "mesh3d"
           }
          ],
          "parcoords": [
           {
            "line": {
             "colorbar": {
              "outlinewidth": 0,
              "ticks": ""
             }
            },
            "type": "parcoords"
           }
          ],
          "pie": [
           {
            "automargin": true,
            "type": "pie"
           }
          ],
          "scatter": [
           {
            "fillpattern": {
             "fillmode": "overlay",
             "size": 10,
             "solidity": 0.2
            },
            "type": "scatter"
           }
          ],
          "scatter3d": [
           {
            "line": {
             "colorbar": {
              "outlinewidth": 0,
              "ticks": ""
             }
            },
            "marker": {
             "colorbar": {
              "outlinewidth": 0,
              "ticks": ""
             }
            },
            "type": "scatter3d"
           }
          ],
          "scattercarpet": [
           {
            "marker": {
             "colorbar": {
              "outlinewidth": 0,
              "ticks": ""
             }
            },
            "type": "scattercarpet"
           }
          ],
          "scattergeo": [
           {
            "marker": {
             "colorbar": {
              "outlinewidth": 0,
              "ticks": ""
             }
            },
            "type": "scattergeo"
           }
          ],
          "scattergl": [
           {
            "marker": {
             "colorbar": {
              "outlinewidth": 0,
              "ticks": ""
             }
            },
            "type": "scattergl"
           }
          ],
          "scattermapbox": [
           {
            "marker": {
             "colorbar": {
              "outlinewidth": 0,
              "ticks": ""
             }
            },
            "type": "scattermapbox"
           }
          ],
          "scatterpolar": [
           {
            "marker": {
             "colorbar": {
              "outlinewidth": 0,
              "ticks": ""
             }
            },
            "type": "scatterpolar"
           }
          ],
          "scatterpolargl": [
           {
            "marker": {
             "colorbar": {
              "outlinewidth": 0,
              "ticks": ""
             }
            },
            "type": "scatterpolargl"
           }
          ],
          "scatterternary": [
           {
            "marker": {
             "colorbar": {
              "outlinewidth": 0,
              "ticks": ""
             }
            },
            "type": "scatterternary"
           }
          ],
          "surface": [
           {
            "colorbar": {
             "outlinewidth": 0,
             "ticks": ""
            },
            "colorscale": [
             [
              0,
              "#0d0887"
             ],
             [
              0.1111111111111111,
              "#46039f"
             ],
             [
              0.2222222222222222,
              "#7201a8"
             ],
             [
              0.3333333333333333,
              "#9c179e"
             ],
             [
              0.4444444444444444,
              "#bd3786"
             ],
             [
              0.5555555555555556,
              "#d8576b"
             ],
             [
              0.6666666666666666,
              "#ed7953"
             ],
             [
              0.7777777777777778,
              "#fb9f3a"
             ],
             [
              0.8888888888888888,
              "#fdca26"
             ],
             [
              1,
              "#f0f921"
             ]
            ],
            "type": "surface"
           }
          ],
          "table": [
           {
            "cells": {
             "fill": {
              "color": "#EBF0F8"
             },
             "line": {
              "color": "white"
             }
            },
            "header": {
             "fill": {
              "color": "#C8D4E3"
             },
             "line": {
              "color": "white"
             }
            },
            "type": "table"
           }
          ]
         },
         "layout": {
          "annotationdefaults": {
           "arrowcolor": "#2a3f5f",
           "arrowhead": 0,
           "arrowwidth": 1
          },
          "autotypenumbers": "strict",
          "coloraxis": {
           "colorbar": {
            "outlinewidth": 0,
            "ticks": ""
           }
          },
          "colorscale": {
           "diverging": [
            [
             0,
             "#8e0152"
            ],
            [
             0.1,
             "#c51b7d"
            ],
            [
             0.2,
             "#de77ae"
            ],
            [
             0.3,
             "#f1b6da"
            ],
            [
             0.4,
             "#fde0ef"
            ],
            [
             0.5,
             "#f7f7f7"
            ],
            [
             0.6,
             "#e6f5d0"
            ],
            [
             0.7,
             "#b8e186"
            ],
            [
             0.8,
             "#7fbc41"
            ],
            [
             0.9,
             "#4d9221"
            ],
            [
             1,
             "#276419"
            ]
           ],
           "sequential": [
            [
             0,
             "#0d0887"
            ],
            [
             0.1111111111111111,
             "#46039f"
            ],
            [
             0.2222222222222222,
             "#7201a8"
            ],
            [
             0.3333333333333333,
             "#9c179e"
            ],
            [
             0.4444444444444444,
             "#bd3786"
            ],
            [
             0.5555555555555556,
             "#d8576b"
            ],
            [
             0.6666666666666666,
             "#ed7953"
            ],
            [
             0.7777777777777778,
             "#fb9f3a"
            ],
            [
             0.8888888888888888,
             "#fdca26"
            ],
            [
             1,
             "#f0f921"
            ]
           ],
           "sequentialminus": [
            [
             0,
             "#0d0887"
            ],
            [
             0.1111111111111111,
             "#46039f"
            ],
            [
             0.2222222222222222,
             "#7201a8"
            ],
            [
             0.3333333333333333,
             "#9c179e"
            ],
            [
             0.4444444444444444,
             "#bd3786"
            ],
            [
             0.5555555555555556,
             "#d8576b"
            ],
            [
             0.6666666666666666,
             "#ed7953"
            ],
            [
             0.7777777777777778,
             "#fb9f3a"
            ],
            [
             0.8888888888888888,
             "#fdca26"
            ],
            [
             1,
             "#f0f921"
            ]
           ]
          },
          "colorway": [
           "#636efa",
           "#EF553B",
           "#00cc96",
           "#ab63fa",
           "#FFA15A",
           "#19d3f3",
           "#FF6692",
           "#B6E880",
           "#FF97FF",
           "#FECB52"
          ],
          "font": {
           "color": "#2a3f5f"
          },
          "geo": {
           "bgcolor": "white",
           "lakecolor": "white",
           "landcolor": "white",
           "showlakes": true,
           "showland": true,
           "subunitcolor": "#C8D4E3"
          },
          "hoverlabel": {
           "align": "left"
          },
          "hovermode": "closest",
          "mapbox": {
           "style": "light"
          },
          "paper_bgcolor": "white",
          "plot_bgcolor": "white",
          "polar": {
           "angularaxis": {
            "gridcolor": "#EBF0F8",
            "linecolor": "#EBF0F8",
            "ticks": ""
           },
           "bgcolor": "white",
           "radialaxis": {
            "gridcolor": "#EBF0F8",
            "linecolor": "#EBF0F8",
            "ticks": ""
           }
          },
          "scene": {
           "xaxis": {
            "backgroundcolor": "white",
            "gridcolor": "#DFE8F3",
            "gridwidth": 2,
            "linecolor": "#EBF0F8",
            "showbackground": true,
            "ticks": "",
            "zerolinecolor": "#EBF0F8"
           },
           "yaxis": {
            "backgroundcolor": "white",
            "gridcolor": "#DFE8F3",
            "gridwidth": 2,
            "linecolor": "#EBF0F8",
            "showbackground": true,
            "ticks": "",
            "zerolinecolor": "#EBF0F8"
           },
           "zaxis": {
            "backgroundcolor": "white",
            "gridcolor": "#DFE8F3",
            "gridwidth": 2,
            "linecolor": "#EBF0F8",
            "showbackground": true,
            "ticks": "",
            "zerolinecolor": "#EBF0F8"
           }
          },
          "shapedefaults": {
           "line": {
            "color": "#2a3f5f"
           }
          },
          "ternary": {
           "aaxis": {
            "gridcolor": "#DFE8F3",
            "linecolor": "#A2B1C6",
            "ticks": ""
           },
           "baxis": {
            "gridcolor": "#DFE8F3",
            "linecolor": "#A2B1C6",
            "ticks": ""
           },
           "bgcolor": "white",
           "caxis": {
            "gridcolor": "#DFE8F3",
            "linecolor": "#A2B1C6",
            "ticks": ""
           }
          },
          "title": {
           "x": 0.05
          },
          "xaxis": {
           "automargin": true,
           "gridcolor": "#EBF0F8",
           "linecolor": "#EBF0F8",
           "ticks": "",
           "title": {
            "standoff": 15
           },
           "zerolinecolor": "#EBF0F8",
           "zerolinewidth": 2
          },
          "yaxis": {
           "automargin": true,
           "gridcolor": "#EBF0F8",
           "linecolor": "#EBF0F8",
           "ticks": "",
           "title": {
            "standoff": 15
           },
           "zerolinecolor": "#EBF0F8",
           "zerolinewidth": 2
          }
         }
        },
        "title": {
         "font": {
          "color": "Black",
          "size": 22
         },
         "text": "<b>Hierarchical Clustering</b>",
         "x": 0.5,
         "xanchor": "center",
         "yanchor": "top"
        },
        "width": 1000,
        "xaxis": {
         "mirror": "allticks",
         "rangemode": "tozero",
         "showgrid": false,
         "showline": true,
         "showticklabels": true,
         "ticks": "outside",
         "type": "linear",
         "zeroline": false
        },
        "yaxis": {
         "mirror": "allticks",
         "range": [
          -620,
          0
         ],
         "rangemode": "tozero",
         "showgrid": false,
         "showline": true,
         "showticklabels": true,
         "tickmode": "array",
         "ticks": "outside",
         "ticktext": [
          "32_banque_populaire_jugement",
          "19_hôtel_hòtel_hotel",
          "24_hôtel_hotel_ville",
          "30_hôtel_hôtelier_berne",
          "54_extension_jugement_aména...",
          "22_ville_extension_communes",
          "35_chaux_jugement_de",
          "11_cantonal_gymnase_canton",
          "61_art_lausanne_école",
          "51_école_ecole_agriculture",
          "31_école_ecole_commerce",
          "3_école_ecole_écoles",
          "0_lausanne_zürich_ecole",
          "1_villamont_aménagement_jug...",
          "4_salle_salles_lausanne",
          "17_gymnastique_halle_salle",
          "16_groupe_scolaire_jugement",
          "7_centre_scolaire_scolaires",
          "2_jugement_bâtiments_scolaire",
          "39_professionnel_centre_com...",
          "25_paroissial_paroisse_centre",
          "26_communale_communal_conco...",
          "27_centre_sportif_sport",
          "20_jury_agrandissement_spor...",
          "59_muséum_museum_histoire",
          "40_musée_beaux_histoire",
          "46_logements_jugement_conco...",
          "60_industriels_services_ser...",
          "57_universitaires_universit...",
          "23_vaudois_bankgeselschaft_...",
          "21_temple_agrandissement_cl...",
          "6_collèges_collège_college",
          "58_crématoire_vevey_concours",
          "48_station_stations_rurale",
          "33_infirmerie_concours_juge...",
          "41_casino_concours_jugement",
          "52_urbanisation_urbanisme_l...",
          "53_âgées_agées_personnes",
          "9_église_eglise_protestante",
          "5_maisons_maison_villas",
          "12_concours_werkhof_auffasse",
          "50_artisans_abattoirs_jugem...",
          "49_jugement_geiser_bourgeoi...",
          "8_monument_monuments_archéo...",
          "56_fontaine_fontaines_auguste",
          "34_décoration_sculpturale_d...",
          "36_gares_gare_concours",
          "10_autoroute_autoroutier_co...",
          "14_pont_ponts_jugement",
          "45_danube_rhône_canal",
          "55_constructions_meilleures...",
          "28_façades_façade_concours",
          "13_émulation_classe_exposit...",
          "44_berne_bern_gare",
          "42_bern_berne_fédérale",
          "47_bureau_bureaux_bibliothè...",
          "15_internationale_1937_expo...",
          "29_lausanne_palais_tribunal",
          "43_société_zürich_zurich",
          "38_société_sociétés_romande",
          "37_hospice_médecine_lausanne",
          "18_hôpital_hopital_jugement"
         ],
         "tickvals": [
          -5,
          -15,
          -25,
          -35,
          -45,
          -55,
          -65,
          -75,
          -85,
          -95,
          -105,
          -115,
          -125,
          -135,
          -145,
          -155,
          -165,
          -175,
          -185,
          -195,
          -205,
          -215,
          -225,
          -235,
          -245,
          -255,
          -265,
          -275,
          -285,
          -295,
          -305,
          -315,
          -325,
          -335,
          -345,
          -355,
          -365,
          -375,
          -385,
          -395,
          -405,
          -415,
          -425,
          -435,
          -445,
          -455,
          -465,
          -475,
          -485,
          -495,
          -505,
          -515,
          -525,
          -535,
          -545,
          -555,
          -565,
          -575,
          -585,
          -595,
          -605,
          -615
         ],
         "type": "linear",
         "zeroline": false
        }
       }
      },
      "text/html": [
       "<div>                            <div id=\"2a68f0ef-323a-4a25-885d-ba20cb4cbe2e\" class=\"plotly-graph-div\" style=\"height:1130px; width:1000px;\"></div>            <script type=\"text/javascript\">                require([\"plotly\"], function(Plotly) {                    window.PLOTLYENV=window.PLOTLYENV || {};                                    if (document.getElementById(\"2a68f0ef-323a-4a25-885d-ba20cb4cbe2e\")) {                    Plotly.newPlot(                        \"2a68f0ef-323a-4a25-885d-ba20cb4cbe2e\",                        [{\"hoverinfo\":\"text\",\"marker\":{\"color\":\"rgb(61,153,112)\"},\"mode\":\"lines\",\"x\":[0.0,0.5940293763340199,0.5940293763340199,0.0],\"xaxis\":\"x\",\"y\":[-5.0,-5.0,-15.0,-15.0],\"yaxis\":\"y\",\"type\":\"scatter\"},{\"hoverinfo\":\"text\",\"marker\":{\"color\":\"rgb(255,65,54)\"},\"mode\":\"lines\",\"x\":[0.0,0.7519285488666004,0.7519285488666004,0.0],\"xaxis\":\"x\",\"y\":[-25.0,-25.0,-35.0,-35.0],\"yaxis\":\"y\",\"type\":\"scatter\"},{\"hoverinfo\":\"text\",\"marker\":{\"color\":\"rgb(0,116,217)\"},\"mode\":\"lines\",\"x\":[0.5940293763340199,1.009629586713176,1.009629586713176,0.7519285488666004],\"xaxis\":\"x\",\"y\":[-10.0,-10.0,-30.0,-30.0],\"yaxis\":\"y\",\"type\":\"scatter\"},{\"hoverinfo\":\"text\",\"marker\":{\"color\":\"rgb(35,205,205)\"},\"mode\":\"lines\",\"x\":[0.0,0.5204509657363006,0.5204509657363006,0.0],\"xaxis\":\"x\",\"y\":[-45.0,-45.0,-55.0,-55.0],\"yaxis\":\"y\",\"type\":\"scatter\"},{\"hoverinfo\":\"text\",\"marker\":{\"color\":\"rgb(133,20,75)\"},\"mode\":\"lines\",\"x\":[0.0,0.8055644724293276,0.8055644724293276,0.0],\"xaxis\":\"x\",\"y\":[-65.0,-65.0,-75.0,-75.0],\"yaxis\":\"y\",\"type\":\"scatter\"},{\"hoverinfo\":\"text\",\"marker\":{\"color\":\"rgb(255,220,0)\"},\"mode\":\"lines\",\"x\":[0.0,0.8765506207931066,0.8765506207931066,0.0],\"xaxis\":\"x\",\"y\":[-85.0,-85.0,-95.0,-95.0],\"yaxis\":\"y\",\"type\":\"scatter\"},{\"hoverinfo\":\"text\",\"marker\":{\"color\":\"rgb(40,35,35)\"},\"mode\":\"lines\",\"x\":[0.0,0.8509684898001245,0.8509684898001245,0.0],\"xaxis\":\"x\",\"y\":[-105.0,-105.0,-115.0,-115.0],\"yaxis\":\"y\",\"type\":\"scatter\"},{\"hoverinfo\":\"text\",\"marker\":{\"color\":\"rgb(40,35,35)\"},\"mode\":\"lines\",\"x\":[0.0,0.8199532750086964,0.8199532750086964,0.0],\"xaxis\":\"x\",\"y\":[-125.0,-125.0,-135.0,-135.0],\"yaxis\":\"y\",\"type\":\"scatter\"},{\"hoverinfo\":\"text\",\"marker\":{\"color\":\"rgb(40,35,35)\"},\"mode\":\"lines\",\"x\":[0.8509684898001245,0.9401261028360218,0.9401261028360218,0.8199532750086964],\"xaxis\":\"x\",\"y\":[-110.0,-110.0,-130.0,-130.0],\"yaxis\":\"y\",\"type\":\"scatter\"},{\"hoverinfo\":\"text\",\"marker\":{\"color\":\"rgb(0,116,217)\"},\"mode\":\"lines\",\"x\":[0.8765506207931066,1.0184932486730525,1.0184932486730525,0.9401261028360218],\"xaxis\":\"x\",\"y\":[-90.0,-90.0,-120.0,-120.0],\"yaxis\":\"y\",\"type\":\"scatter\"},{\"hoverinfo\":\"text\",\"marker\":{\"color\":\"rgb(0,116,217)\"},\"mode\":\"lines\",\"x\":[0.8055644724293276,1.0781147546819214,1.0781147546819214,1.0184932486730525],\"xaxis\":\"x\",\"y\":[-70.0,-70.0,-105.0,-105.0],\"yaxis\":\"y\",\"type\":\"scatter\"},{\"hoverinfo\":\"text\",\"marker\":{\"color\":\"rgb(61,153,112)\"},\"mode\":\"lines\",\"x\":[0.0,0.7805596743124512,0.7805596743124512,0.0],\"xaxis\":\"x\",\"y\":[-145.0,-145.0,-155.0,-155.0],\"yaxis\":\"y\",\"type\":\"scatter\"},{\"hoverinfo\":\"text\",\"marker\":{\"color\":\"rgb(255,65,54)\"},\"mode\":\"lines\",\"x\":[0.0,0.7937395687643553,0.7937395687643553,0.0],\"xaxis\":\"x\",\"y\":[-175.0,-175.0,-185.0,-185.0],\"yaxis\":\"y\",\"type\":\"scatter\"},{\"hoverinfo\":\"text\",\"marker\":{\"color\":\"rgb(255,65,54)\"},\"mode\":\"lines\",\"x\":[0.0,0.8318656848196967,0.8318656848196967,0.7937395687643553],\"xaxis\":\"x\",\"y\":[-165.0,-165.0,-180.0,-180.0],\"yaxis\":\"y\",\"type\":\"scatter\"},{\"hoverinfo\":\"text\",\"marker\":{\"color\":\"rgb(35,205,205)\"},\"mode\":\"lines\",\"x\":[0.0,0.8743891422970124,0.8743891422970124,0.0],\"xaxis\":\"x\",\"y\":[-205.0,-205.0,-215.0,-215.0],\"yaxis\":\"y\",\"type\":\"scatter\"},{\"hoverinfo\":\"text\",\"marker\":{\"color\":\"rgb(35,205,205)\"},\"mode\":\"lines\",\"x\":[0.0,0.9451469590040226,0.9451469590040226,0.8743891422970124],\"xaxis\":\"x\",\"y\":[-195.0,-195.0,-210.0,-210.0],\"yaxis\":\"y\",\"type\":\"scatter\"},{\"hoverinfo\":\"text\",\"marker\":{\"color\":\"rgb(61,153,112)\"},\"mode\":\"lines\",\"x\":[0.0,0.8593686102516122,0.8593686102516122,0.0],\"xaxis\":\"x\",\"y\":[-225.0,-225.0,-235.0,-235.0],\"yaxis\":\"y\",\"type\":\"scatter\"},{\"hoverinfo\":\"text\",\"marker\":{\"color\":\"rgb(0,116,217)\"},\"mode\":\"lines\",\"x\":[0.9451469590040226,1.0058572928527851,1.0058572928527851,0.8593686102516122],\"xaxis\":\"x\",\"y\":[-202.5,-202.5,-230.0,-230.0],\"yaxis\":\"y\",\"type\":\"scatter\"},{\"hoverinfo\":\"text\",\"marker\":{\"color\":\"rgb(0,116,217)\"},\"mode\":\"lines\",\"x\":[0.8318656848196967,1.0703548903501254,1.0703548903501254,1.0058572928527851],\"xaxis\":\"x\",\"y\":[-172.5,-172.5,-216.25,-216.25],\"yaxis\":\"y\",\"type\":\"scatter\"},{\"hoverinfo\":\"text\",\"marker\":{\"color\":\"rgb(0,116,217)\"},\"mode\":\"lines\",\"x\":[0.7805596743124512,1.1291875082906087,1.1291875082906087,1.0703548903501254],\"xaxis\":\"x\",\"y\":[-150.0,-150.0,-194.375,-194.375],\"yaxis\":\"y\",\"type\":\"scatter\"},{\"hoverinfo\":\"text\",\"marker\":{\"color\":\"rgb(0,116,217)\"},\"mode\":\"lines\",\"x\":[1.0781147546819214,1.2121044178498548,1.2121044178498548,1.1291875082906087],\"xaxis\":\"x\",\"y\":[-87.5,-87.5,-172.1875,-172.1875],\"yaxis\":\"y\",\"type\":\"scatter\"},{\"hoverinfo\":\"text\",\"marker\":{\"color\":\"rgb(0,116,217)\"},\"mode\":\"lines\",\"x\":[0.5204509657363006,1.278119635027174,1.278119635027174,1.2121044178498548],\"xaxis\":\"x\",\"y\":[-50.0,-50.0,-129.84375,-129.84375],\"yaxis\":\"y\",\"type\":\"scatter\"},{\"hoverinfo\":\"text\",\"marker\":{\"color\":\"rgb(255,65,54)\"},\"mode\":\"lines\",\"x\":[0.0,0.8110676705793379,0.8110676705793379,0.0],\"xaxis\":\"x\",\"y\":[-245.0,-245.0,-255.0,-255.0],\"yaxis\":\"y\",\"type\":\"scatter\"},{\"hoverinfo\":\"text\",\"marker\":{\"color\":\"rgb(35,205,205)\"},\"mode\":\"lines\",\"x\":[0.0,0.9064947082903239,0.9064947082903239,0.0],\"xaxis\":\"x\",\"y\":[-265.0,-265.0,-275.0,-275.0],\"yaxis\":\"y\",\"type\":\"scatter\"},{\"hoverinfo\":\"text\",\"marker\":{\"color\":\"rgb(35,205,205)\"},\"mode\":\"lines\",\"x\":[0.9064947082903239,0.9752116735149613,0.9752116735149613,0.0],\"xaxis\":\"x\",\"y\":[-270.0,-270.0,-285.0,-285.0],\"yaxis\":\"y\",\"type\":\"scatter\"},{\"hoverinfo\":\"text\",\"marker\":{\"color\":\"rgb(133,20,75)\"},\"mode\":\"lines\",\"x\":[0.0,0.9333337641838485,0.9333337641838485,0.0],\"xaxis\":\"x\",\"y\":[-295.0,-295.0,-305.0,-305.0],\"yaxis\":\"y\",\"type\":\"scatter\"},{\"hoverinfo\":\"text\",\"marker\":{\"color\":\"rgb(255,220,0)\"},\"mode\":\"lines\",\"x\":[0.0,0.9357693531893292,0.9357693531893292,0.0],\"xaxis\":\"x\",\"y\":[-315.0,-315.0,-325.0,-325.0],\"yaxis\":\"y\",\"type\":\"scatter\"},{\"hoverinfo\":\"text\",\"marker\":{\"color\":\"rgb(40,35,35)\"},\"mode\":\"lines\",\"x\":[0.0,0.9853167473454598,0.9853167473454598,0.0],\"xaxis\":\"x\",\"y\":[-345.0,-345.0,-355.0,-355.0],\"yaxis\":\"y\",\"type\":\"scatter\"},{\"hoverinfo\":\"text\",\"marker\":{\"color\":\"rgb(40,35,35)\"},\"mode\":\"lines\",\"x\":[0.0,0.9908379474746657,0.9908379474746657,0.9853167473454598],\"xaxis\":\"x\",\"y\":[-335.0,-335.0,-350.0,-350.0],\"yaxis\":\"y\",\"type\":\"scatter\"},{\"hoverinfo\":\"text\",\"marker\":{\"color\":\"rgb(61,153,112)\"},\"mode\":\"lines\",\"x\":[0.0,0.98252718276751,0.98252718276751,0.0],\"xaxis\":\"x\",\"y\":[-365.0,-365.0,-375.0,-375.0],\"yaxis\":\"y\",\"type\":\"scatter\"},{\"hoverinfo\":\"text\",\"marker\":{\"color\":\"rgb(0,116,217)\"},\"mode\":\"lines\",\"x\":[0.9908379474746657,1.0007656834773209,1.0007656834773209,0.98252718276751],\"xaxis\":\"x\",\"y\":[-342.5,-342.5,-370.0,-370.0],\"yaxis\":\"y\",\"type\":\"scatter\"},{\"hoverinfo\":\"text\",\"marker\":{\"color\":\"rgb(255,65,54)\"},\"mode\":\"lines\",\"x\":[0.0,0.960664435634687,0.960664435634687,0.0],\"xaxis\":\"x\",\"y\":[-385.0,-385.0,-395.0,-395.0],\"yaxis\":\"y\",\"type\":\"scatter\"},{\"hoverinfo\":\"text\",\"marker\":{\"color\":\"rgb(255,65,54)\"},\"mode\":\"lines\",\"x\":[0.0,0.973909247083504,0.973909247083504,0.0],\"xaxis\":\"x\",\"y\":[-405.0,-405.0,-415.0,-415.0],\"yaxis\":\"y\",\"type\":\"scatter\"},{\"hoverinfo\":\"text\",\"marker\":{\"color\":\"rgb(255,65,54)\"},\"mode\":\"lines\",\"x\":[0.960664435634687,0.998591810329616,0.998591810329616,0.973909247083504],\"xaxis\":\"x\",\"y\":[-390.0,-390.0,-410.0,-410.0],\"yaxis\":\"y\",\"type\":\"scatter\"},{\"hoverinfo\":\"text\",\"marker\":{\"color\":\"rgb(0,116,217)\"},\"mode\":\"lines\",\"x\":[1.0007656834773209,1.0130932335794722,1.0130932335794722,0.998591810329616],\"xaxis\":\"x\",\"y\":[-356.25,-356.25,-400.0,-400.0],\"yaxis\":\"y\",\"type\":\"scatter\"},{\"hoverinfo\":\"text\",\"marker\":{\"color\":\"rgb(0,116,217)\"},\"mode\":\"lines\",\"x\":[0.9357693531893292,1.0272201475284168,1.0272201475284168,1.0130932335794722],\"xaxis\":\"x\",\"y\":[-320.0,-320.0,-378.125,-378.125],\"yaxis\":\"y\",\"type\":\"scatter\"},{\"hoverinfo\":\"text\",\"marker\":{\"color\":\"rgb(0,116,217)\"},\"mode\":\"lines\",\"x\":[0.9333337641838485,1.042577963987575,1.042577963987575,1.0272201475284168],\"xaxis\":\"x\",\"y\":[-300.0,-300.0,-349.0625,-349.0625],\"yaxis\":\"y\",\"type\":\"scatter\"},{\"hoverinfo\":\"text\",\"marker\":{\"color\":\"rgb(35,205,205)\"},\"mode\":\"lines\",\"x\":[0.0,0.9190053609146466,0.9190053609146466,0.0],\"xaxis\":\"x\",\"y\":[-425.0,-425.0,-435.0,-435.0],\"yaxis\":\"y\",\"type\":\"scatter\"},{\"hoverinfo\":\"text\",\"marker\":{\"color\":\"rgb(61,153,112)\"},\"mode\":\"lines\",\"x\":[0.0,0.9290998485383519,0.9290998485383519,0.0],\"xaxis\":\"x\",\"y\":[-455.0,-455.0,-465.0,-465.0],\"yaxis\":\"y\",\"type\":\"scatter\"},{\"hoverinfo\":\"text\",\"marker\":{\"color\":\"rgb(61,153,112)\"},\"mode\":\"lines\",\"x\":[0.0,0.9771461808708312,0.9771461808708312,0.9290998485383519],\"xaxis\":\"x\",\"y\":[-445.0,-445.0,-460.0,-460.0],\"yaxis\":\"y\",\"type\":\"scatter\"},{\"hoverinfo\":\"text\",\"marker\":{\"color\":\"rgb(0,116,217)\"},\"mode\":\"lines\",\"x\":[0.9190053609146466,1.0459815757352304,1.0459815757352304,0.9771461808708312],\"xaxis\":\"x\",\"y\":[-430.0,-430.0,-452.5,-452.5],\"yaxis\":\"y\",\"type\":\"scatter\"},{\"hoverinfo\":\"text\",\"marker\":{\"color\":\"rgb(0,116,217)\"},\"mode\":\"lines\",\"x\":[1.042577963987575,1.0604720944315031,1.0604720944315031,1.0459815757352304],\"xaxis\":\"x\",\"y\":[-324.53125,-324.53125,-441.25,-441.25],\"yaxis\":\"y\",\"type\":\"scatter\"},{\"hoverinfo\":\"text\",\"marker\":{\"color\":\"rgb(0,116,217)\"},\"mode\":\"lines\",\"x\":[0.9752116735149613,1.0761349393165596,1.0761349393165596,1.0604720944315031],\"xaxis\":\"x\",\"y\":[-277.5,-277.5,-382.890625,-382.890625],\"yaxis\":\"y\",\"type\":\"scatter\"},{\"hoverinfo\":\"text\",\"marker\":{\"color\":\"rgb(255,65,54)\"},\"mode\":\"lines\",\"x\":[0.0,0.850806313344251,0.850806313344251,0.0],\"xaxis\":\"x\",\"y\":[-475.0,-475.0,-485.0,-485.0],\"yaxis\":\"y\",\"type\":\"scatter\"},{\"hoverinfo\":\"text\",\"marker\":{\"color\":\"rgb(255,65,54)\"},\"mode\":\"lines\",\"x\":[0.850806313344251,0.9635501298107637,0.9635501298107637,0.0],\"xaxis\":\"x\",\"y\":[-480.0,-480.0,-495.0,-495.0],\"yaxis\":\"y\",\"type\":\"scatter\"},{\"hoverinfo\":\"text\",\"marker\":{\"color\":\"rgb(0,116,217)\"},\"mode\":\"lines\",\"x\":[1.0761349393165596,1.1067091903061774,1.1067091903061774,0.9635501298107637],\"xaxis\":\"x\",\"y\":[-330.1953125,-330.1953125,-487.5,-487.5],\"yaxis\":\"y\",\"type\":\"scatter\"},{\"hoverinfo\":\"text\",\"marker\":{\"color\":\"rgb(0,116,217)\"},\"mode\":\"lines\",\"x\":[0.8110676705793379,1.1292171623336231,1.1292171623336231,1.1067091903061774],\"xaxis\":\"x\",\"y\":[-250.0,-250.0,-408.84765625,-408.84765625],\"yaxis\":\"y\",\"type\":\"scatter\"},{\"hoverinfo\":\"text\",\"marker\":{\"color\":\"rgb(35,205,205)\"},\"mode\":\"lines\",\"x\":[0.0,0.7929632237230793,0.7929632237230793,0.0],\"xaxis\":\"x\",\"y\":[-505.0,-505.0,-515.0,-515.0],\"yaxis\":\"y\",\"type\":\"scatter\"},{\"hoverinfo\":\"text\",\"marker\":{\"color\":\"rgb(35,205,205)\"},\"mode\":\"lines\",\"x\":[0.7929632237230793,0.9212890785166126,0.9212890785166126,0.0],\"xaxis\":\"x\",\"y\":[-510.0,-510.0,-525.0,-525.0],\"yaxis\":\"y\",\"type\":\"scatter\"},{\"hoverinfo\":\"text\",\"marker\":{\"color\":\"rgb(0,116,217)\"},\"mode\":\"lines\",\"x\":[1.1292171623336231,1.1934053413727372,1.1934053413727372,0.9212890785166126],\"xaxis\":\"x\",\"y\":[-329.423828125,-329.423828125,-517.5,-517.5],\"yaxis\":\"y\",\"type\":\"scatter\"},{\"hoverinfo\":\"text\",\"marker\":{\"color\":\"rgb(133,20,75)\"},\"mode\":\"lines\",\"x\":[0.0,0.6420892115778689,0.6420892115778689,0.0],\"xaxis\":\"x\",\"y\":[-535.0,-535.0,-545.0,-545.0],\"yaxis\":\"y\",\"type\":\"scatter\"},{\"hoverinfo\":\"text\",\"marker\":{\"color\":\"rgb(255,220,0)\"},\"mode\":\"lines\",\"x\":[0.0,0.8985499535852939,0.8985499535852939,0.0],\"xaxis\":\"x\",\"y\":[-565.0,-565.0,-575.0,-575.0],\"yaxis\":\"y\",\"type\":\"scatter\"},{\"hoverinfo\":\"text\",\"marker\":{\"color\":\"rgb(255,220,0)\"},\"mode\":\"lines\",\"x\":[0.0,0.9437951733399665,0.9437951733399665,0.8985499535852939],\"xaxis\":\"x\",\"y\":[-555.0,-555.0,-570.0,-570.0],\"yaxis\":\"y\",\"type\":\"scatter\"},{\"hoverinfo\":\"text\",\"marker\":{\"color\":\"rgb(40,35,35)\"},\"mode\":\"lines\",\"x\":[0.0,0.8931952968927341,0.8931952968927341,0.0],\"xaxis\":\"x\",\"y\":[-585.0,-585.0,-595.0,-595.0],\"yaxis\":\"y\",\"type\":\"scatter\"},{\"hoverinfo\":\"text\",\"marker\":{\"color\":\"rgb(40,35,35)\"},\"mode\":\"lines\",\"x\":[0.0,0.9265011120605401,0.9265011120605401,0.0],\"xaxis\":\"x\",\"y\":[-605.0,-605.0,-615.0,-615.0],\"yaxis\":\"y\",\"type\":\"scatter\"},{\"hoverinfo\":\"text\",\"marker\":{\"color\":\"rgb(40,35,35)\"},\"mode\":\"lines\",\"x\":[0.8931952968927341,0.99892989675176,0.99892989675176,0.9265011120605401],\"xaxis\":\"x\",\"y\":[-590.0,-590.0,-610.0,-610.0],\"yaxis\":\"y\",\"type\":\"scatter\"},{\"hoverinfo\":\"text\",\"marker\":{\"color\":\"rgb(0,116,217)\"},\"mode\":\"lines\",\"x\":[0.9437951733399665,1.0591101955484272,1.0591101955484272,0.99892989675176],\"xaxis\":\"x\",\"y\":[-562.5,-562.5,-600.0,-600.0],\"yaxis\":\"y\",\"type\":\"scatter\"},{\"hoverinfo\":\"text\",\"marker\":{\"color\":\"rgb(0,116,217)\"},\"mode\":\"lines\",\"x\":[0.6420892115778689,1.114819587932322,1.114819587932322,1.0591101955484272],\"xaxis\":\"x\",\"y\":[-540.0,-540.0,-581.25,-581.25],\"yaxis\":\"y\",\"type\":\"scatter\"},{\"hoverinfo\":\"text\",\"marker\":{\"color\":\"rgb(0,116,217)\"},\"mode\":\"lines\",\"x\":[1.1934053413727372,1.2094813678797052,1.2094813678797052,1.114819587932322],\"xaxis\":\"x\",\"y\":[-423.4619140625,-423.4619140625,-560.625,-560.625],\"yaxis\":\"y\",\"type\":\"scatter\"},{\"hoverinfo\":\"text\",\"marker\":{\"color\":\"rgb(0,116,217)\"},\"mode\":\"lines\",\"x\":[1.278119635027174,1.3139421227415766,1.3139421227415766,1.2094813678797052],\"xaxis\":\"x\",\"y\":[-89.921875,-89.921875,-492.04345703125,-492.04345703125],\"yaxis\":\"y\",\"type\":\"scatter\"},{\"hoverinfo\":\"text\",\"marker\":{\"color\":\"rgb(0,116,217)\"},\"mode\":\"lines\",\"x\":[1.009629586713176,1.3644272067240726,1.3644272067240726,1.3139421227415766],\"xaxis\":\"x\",\"y\":[-20.0,-20.0,-290.982666015625,-290.982666015625],\"yaxis\":\"y\",\"type\":\"scatter\"}],                        {\"autosize\":false,\"height\":1130,\"hovermode\":\"closest\",\"showlegend\":false,\"width\":1000,\"xaxis\":{\"mirror\":\"allticks\",\"rangemode\":\"tozero\",\"showgrid\":false,\"showline\":true,\"showticklabels\":true,\"ticks\":\"outside\",\"type\":\"linear\",\"zeroline\":false},\"yaxis\":{\"mirror\":\"allticks\",\"rangemode\":\"tozero\",\"showgrid\":false,\"showline\":true,\"showticklabels\":true,\"tickmode\":\"array\",\"ticks\":\"outside\",\"ticktext\":[\"32_banque_populaire_jugement\",\"19_h\\u00f4tel_h\\u00f2tel_hotel\",\"24_h\\u00f4tel_hotel_ville\",\"30_h\\u00f4tel_h\\u00f4telier_berne\",\"54_extension_jugement_am\\u00e9na...\",\"22_ville_extension_communes\",\"35_chaux_jugement_de\",\"11_cantonal_gymnase_canton\",\"61_art_lausanne_\\u00e9cole\",\"51_\\u00e9cole_ecole_agriculture\",\"31_\\u00e9cole_ecole_commerce\",\"3_\\u00e9cole_ecole_\\u00e9coles\",\"0_lausanne_z\\u00fcrich_ecole\",\"1_villamont_am\\u00e9nagement_jug...\",\"4_salle_salles_lausanne\",\"17_gymnastique_halle_salle\",\"16_groupe_scolaire_jugement\",\"7_centre_scolaire_scolaires\",\"2_jugement_b\\u00e2timents_scolaire\",\"39_professionnel_centre_com...\",\"25_paroissial_paroisse_centre\",\"26_communale_communal_conco...\",\"27_centre_sportif_sport\",\"20_jury_agrandissement_spor...\",\"59_mus\\u00e9um_museum_histoire\",\"40_mus\\u00e9e_beaux_histoire\",\"46_logements_jugement_conco...\",\"60_industriels_services_ser...\",\"57_universitaires_universit...\",\"23_vaudois_bankgeselschaft_...\",\"21_temple_agrandissement_cl...\",\"6_coll\\u00e8ges_coll\\u00e8ge_college\",\"58_cr\\u00e9matoire_vevey_concours\",\"48_station_stations_rurale\",\"33_infirmerie_concours_juge...\",\"41_casino_concours_jugement\",\"52_urbanisation_urbanisme_l...\",\"53_\\u00e2g\\u00e9es_ag\\u00e9es_personnes\",\"9_\\u00e9glise_eglise_protestante\",\"5_maisons_maison_villas\",\"12_concours_werkhof_auffasse\",\"50_artisans_abattoirs_jugem...\",\"49_jugement_geiser_bourgeoi...\",\"8_monument_monuments_arch\\u00e9o...\",\"56_fontaine_fontaines_auguste\",\"34_d\\u00e9coration_sculpturale_d...\",\"36_gares_gare_concours\",\"10_autoroute_autoroutier_co...\",\"14_pont_ponts_jugement\",\"45_danube_rh\\u00f4ne_canal\",\"55_constructions_meilleures...\",\"28_fa\\u00e7ades_fa\\u00e7ade_concours\",\"13_\\u00e9mulation_classe_exposit...\",\"44_berne_bern_gare\",\"42_bern_berne_f\\u00e9d\\u00e9rale\",\"47_bureau_bureaux_biblioth\\u00e8...\",\"15_internationale_1937_expo...\",\"29_lausanne_palais_tribunal\",\"43_soci\\u00e9t\\u00e9_z\\u00fcrich_zurich\",\"38_soci\\u00e9t\\u00e9_soci\\u00e9t\\u00e9s_romande\",\"37_hospice_m\\u00e9decine_lausanne\",\"18_h\\u00f4pital_hopital_jugement\"],\"tickvals\":[-5.0,-15.0,-25.0,-35.0,-45.0,-55.0,-65.0,-75.0,-85.0,-95.0,-105.0,-115.0,-125.0,-135.0,-145.0,-155.0,-165.0,-175.0,-185.0,-195.0,-205.0,-215.0,-225.0,-235.0,-245.0,-255.0,-265.0,-275.0,-285.0,-295.0,-305.0,-315.0,-325.0,-335.0,-345.0,-355.0,-365.0,-375.0,-385.0,-395.0,-405.0,-415.0,-425.0,-435.0,-445.0,-455.0,-465.0,-475.0,-485.0,-495.0,-505.0,-515.0,-525.0,-535.0,-545.0,-555.0,-565.0,-575.0,-585.0,-595.0,-605.0,-615.0],\"type\":\"linear\",\"zeroline\":false,\"range\":[-620.0,0.0]},\"template\":{\"data\":{\"barpolar\":[{\"marker\":{\"line\":{\"color\":\"white\",\"width\":0.5},\"pattern\":{\"fillmode\":\"overlay\",\"size\":10,\"solidity\":0.2}},\"type\":\"barpolar\"}],\"bar\":[{\"error_x\":{\"color\":\"#2a3f5f\"},\"error_y\":{\"color\":\"#2a3f5f\"},\"marker\":{\"line\":{\"color\":\"white\",\"width\":0.5},\"pattern\":{\"fillmode\":\"overlay\",\"size\":10,\"solidity\":0.2}},\"type\":\"bar\"}],\"carpet\":[{\"aaxis\":{\"endlinecolor\":\"#2a3f5f\",\"gridcolor\":\"#C8D4E3\",\"linecolor\":\"#C8D4E3\",\"minorgridcolor\":\"#C8D4E3\",\"startlinecolor\":\"#2a3f5f\"},\"baxis\":{\"endlinecolor\":\"#2a3f5f\",\"gridcolor\":\"#C8D4E3\",\"linecolor\":\"#C8D4E3\",\"minorgridcolor\":\"#C8D4E3\",\"startlinecolor\":\"#2a3f5f\"},\"type\":\"carpet\"}],\"choropleth\":[{\"colorbar\":{\"outlinewidth\":0,\"ticks\":\"\"},\"type\":\"choropleth\"}],\"contourcarpet\":[{\"colorbar\":{\"outlinewidth\":0,\"ticks\":\"\"},\"type\":\"contourcarpet\"}],\"contour\":[{\"colorbar\":{\"outlinewidth\":0,\"ticks\":\"\"},\"colorscale\":[[0.0,\"#0d0887\"],[0.1111111111111111,\"#46039f\"],[0.2222222222222222,\"#7201a8\"],[0.3333333333333333,\"#9c179e\"],[0.4444444444444444,\"#bd3786\"],[0.5555555555555556,\"#d8576b\"],[0.6666666666666666,\"#ed7953\"],[0.7777777777777778,\"#fb9f3a\"],[0.8888888888888888,\"#fdca26\"],[1.0,\"#f0f921\"]],\"type\":\"contour\"}],\"heatmapgl\":[{\"colorbar\":{\"outlinewidth\":0,\"ticks\":\"\"},\"colorscale\":[[0.0,\"#0d0887\"],[0.1111111111111111,\"#46039f\"],[0.2222222222222222,\"#7201a8\"],[0.3333333333333333,\"#9c179e\"],[0.4444444444444444,\"#bd3786\"],[0.5555555555555556,\"#d8576b\"],[0.6666666666666666,\"#ed7953\"],[0.7777777777777778,\"#fb9f3a\"],[0.8888888888888888,\"#fdca26\"],[1.0,\"#f0f921\"]],\"type\":\"heatmapgl\"}],\"heatmap\":[{\"colorbar\":{\"outlinewidth\":0,\"ticks\":\"\"},\"colorscale\":[[0.0,\"#0d0887\"],[0.1111111111111111,\"#46039f\"],[0.2222222222222222,\"#7201a8\"],[0.3333333333333333,\"#9c179e\"],[0.4444444444444444,\"#bd3786\"],[0.5555555555555556,\"#d8576b\"],[0.6666666666666666,\"#ed7953\"],[0.7777777777777778,\"#fb9f3a\"],[0.8888888888888888,\"#fdca26\"],[1.0,\"#f0f921\"]],\"type\":\"heatmap\"}],\"histogram2dcontour\":[{\"colorbar\":{\"outlinewidth\":0,\"ticks\":\"\"},\"colorscale\":[[0.0,\"#0d0887\"],[0.1111111111111111,\"#46039f\"],[0.2222222222222222,\"#7201a8\"],[0.3333333333333333,\"#9c179e\"],[0.4444444444444444,\"#bd3786\"],[0.5555555555555556,\"#d8576b\"],[0.6666666666666666,\"#ed7953\"],[0.7777777777777778,\"#fb9f3a\"],[0.8888888888888888,\"#fdca26\"],[1.0,\"#f0f921\"]],\"type\":\"histogram2dcontour\"}],\"histogram2d\":[{\"colorbar\":{\"outlinewidth\":0,\"ticks\":\"\"},\"colorscale\":[[0.0,\"#0d0887\"],[0.1111111111111111,\"#46039f\"],[0.2222222222222222,\"#7201a8\"],[0.3333333333333333,\"#9c179e\"],[0.4444444444444444,\"#bd3786\"],[0.5555555555555556,\"#d8576b\"],[0.6666666666666666,\"#ed7953\"],[0.7777777777777778,\"#fb9f3a\"],[0.8888888888888888,\"#fdca26\"],[1.0,\"#f0f921\"]],\"type\":\"histogram2d\"}],\"histogram\":[{\"marker\":{\"pattern\":{\"fillmode\":\"overlay\",\"size\":10,\"solidity\":0.2}},\"type\":\"histogram\"}],\"mesh3d\":[{\"colorbar\":{\"outlinewidth\":0,\"ticks\":\"\"},\"type\":\"mesh3d\"}],\"parcoords\":[{\"line\":{\"colorbar\":{\"outlinewidth\":0,\"ticks\":\"\"}},\"type\":\"parcoords\"}],\"pie\":[{\"automargin\":true,\"type\":\"pie\"}],\"scatter3d\":[{\"line\":{\"colorbar\":{\"outlinewidth\":0,\"ticks\":\"\"}},\"marker\":{\"colorbar\":{\"outlinewidth\":0,\"ticks\":\"\"}},\"type\":\"scatter3d\"}],\"scattercarpet\":[{\"marker\":{\"colorbar\":{\"outlinewidth\":0,\"ticks\":\"\"}},\"type\":\"scattercarpet\"}],\"scattergeo\":[{\"marker\":{\"colorbar\":{\"outlinewidth\":0,\"ticks\":\"\"}},\"type\":\"scattergeo\"}],\"scattergl\":[{\"marker\":{\"colorbar\":{\"outlinewidth\":0,\"ticks\":\"\"}},\"type\":\"scattergl\"}],\"scattermapbox\":[{\"marker\":{\"colorbar\":{\"outlinewidth\":0,\"ticks\":\"\"}},\"type\":\"scattermapbox\"}],\"scatterpolargl\":[{\"marker\":{\"colorbar\":{\"outlinewidth\":0,\"ticks\":\"\"}},\"type\":\"scatterpolargl\"}],\"scatterpolar\":[{\"marker\":{\"colorbar\":{\"outlinewidth\":0,\"ticks\":\"\"}},\"type\":\"scatterpolar\"}],\"scatter\":[{\"fillpattern\":{\"fillmode\":\"overlay\",\"size\":10,\"solidity\":0.2},\"type\":\"scatter\"}],\"scatterternary\":[{\"marker\":{\"colorbar\":{\"outlinewidth\":0,\"ticks\":\"\"}},\"type\":\"scatterternary\"}],\"surface\":[{\"colorbar\":{\"outlinewidth\":0,\"ticks\":\"\"},\"colorscale\":[[0.0,\"#0d0887\"],[0.1111111111111111,\"#46039f\"],[0.2222222222222222,\"#7201a8\"],[0.3333333333333333,\"#9c179e\"],[0.4444444444444444,\"#bd3786\"],[0.5555555555555556,\"#d8576b\"],[0.6666666666666666,\"#ed7953\"],[0.7777777777777778,\"#fb9f3a\"],[0.8888888888888888,\"#fdca26\"],[1.0,\"#f0f921\"]],\"type\":\"surface\"}],\"table\":[{\"cells\":{\"fill\":{\"color\":\"#EBF0F8\"},\"line\":{\"color\":\"white\"}},\"header\":{\"fill\":{\"color\":\"#C8D4E3\"},\"line\":{\"color\":\"white\"}},\"type\":\"table\"}]},\"layout\":{\"annotationdefaults\":{\"arrowcolor\":\"#2a3f5f\",\"arrowhead\":0,\"arrowwidth\":1},\"autotypenumbers\":\"strict\",\"coloraxis\":{\"colorbar\":{\"outlinewidth\":0,\"ticks\":\"\"}},\"colorscale\":{\"diverging\":[[0,\"#8e0152\"],[0.1,\"#c51b7d\"],[0.2,\"#de77ae\"],[0.3,\"#f1b6da\"],[0.4,\"#fde0ef\"],[0.5,\"#f7f7f7\"],[0.6,\"#e6f5d0\"],[0.7,\"#b8e186\"],[0.8,\"#7fbc41\"],[0.9,\"#4d9221\"],[1,\"#276419\"]],\"sequential\":[[0.0,\"#0d0887\"],[0.1111111111111111,\"#46039f\"],[0.2222222222222222,\"#7201a8\"],[0.3333333333333333,\"#9c179e\"],[0.4444444444444444,\"#bd3786\"],[0.5555555555555556,\"#d8576b\"],[0.6666666666666666,\"#ed7953\"],[0.7777777777777778,\"#fb9f3a\"],[0.8888888888888888,\"#fdca26\"],[1.0,\"#f0f921\"]],\"sequentialminus\":[[0.0,\"#0d0887\"],[0.1111111111111111,\"#46039f\"],[0.2222222222222222,\"#7201a8\"],[0.3333333333333333,\"#9c179e\"],[0.4444444444444444,\"#bd3786\"],[0.5555555555555556,\"#d8576b\"],[0.6666666666666666,\"#ed7953\"],[0.7777777777777778,\"#fb9f3a\"],[0.8888888888888888,\"#fdca26\"],[1.0,\"#f0f921\"]]},\"colorway\":[\"#636efa\",\"#EF553B\",\"#00cc96\",\"#ab63fa\",\"#FFA15A\",\"#19d3f3\",\"#FF6692\",\"#B6E880\",\"#FF97FF\",\"#FECB52\"],\"font\":{\"color\":\"#2a3f5f\"},\"geo\":{\"bgcolor\":\"white\",\"lakecolor\":\"white\",\"landcolor\":\"white\",\"showlakes\":true,\"showland\":true,\"subunitcolor\":\"#C8D4E3\"},\"hoverlabel\":{\"align\":\"left\"},\"hovermode\":\"closest\",\"mapbox\":{\"style\":\"light\"},\"paper_bgcolor\":\"white\",\"plot_bgcolor\":\"white\",\"polar\":{\"angularaxis\":{\"gridcolor\":\"#EBF0F8\",\"linecolor\":\"#EBF0F8\",\"ticks\":\"\"},\"bgcolor\":\"white\",\"radialaxis\":{\"gridcolor\":\"#EBF0F8\",\"linecolor\":\"#EBF0F8\",\"ticks\":\"\"}},\"scene\":{\"xaxis\":{\"backgroundcolor\":\"white\",\"gridcolor\":\"#DFE8F3\",\"gridwidth\":2,\"linecolor\":\"#EBF0F8\",\"showbackground\":true,\"ticks\":\"\",\"zerolinecolor\":\"#EBF0F8\"},\"yaxis\":{\"backgroundcolor\":\"white\",\"gridcolor\":\"#DFE8F3\",\"gridwidth\":2,\"linecolor\":\"#EBF0F8\",\"showbackground\":true,\"ticks\":\"\",\"zerolinecolor\":\"#EBF0F8\"},\"zaxis\":{\"backgroundcolor\":\"white\",\"gridcolor\":\"#DFE8F3\",\"gridwidth\":2,\"linecolor\":\"#EBF0F8\",\"showbackground\":true,\"ticks\":\"\",\"zerolinecolor\":\"#EBF0F8\"}},\"shapedefaults\":{\"line\":{\"color\":\"#2a3f5f\"}},\"ternary\":{\"aaxis\":{\"gridcolor\":\"#DFE8F3\",\"linecolor\":\"#A2B1C6\",\"ticks\":\"\"},\"baxis\":{\"gridcolor\":\"#DFE8F3\",\"linecolor\":\"#A2B1C6\",\"ticks\":\"\"},\"bgcolor\":\"white\",\"caxis\":{\"gridcolor\":\"#DFE8F3\",\"linecolor\":\"#A2B1C6\",\"ticks\":\"\"}},\"title\":{\"x\":0.05},\"xaxis\":{\"automargin\":true,\"gridcolor\":\"#EBF0F8\",\"linecolor\":\"#EBF0F8\",\"ticks\":\"\",\"title\":{\"standoff\":15},\"zerolinecolor\":\"#EBF0F8\",\"zerolinewidth\":2},\"yaxis\":{\"automargin\":true,\"gridcolor\":\"#EBF0F8\",\"linecolor\":\"#EBF0F8\",\"ticks\":\"\",\"title\":{\"standoff\":15},\"zerolinecolor\":\"#EBF0F8\",\"zerolinewidth\":2}}},\"title\":{\"font\":{\"size\":22,\"color\":\"Black\"},\"text\":\"\\u003cb\\u003eHierarchical Clustering\\u003c\\u002fb\\u003e\",\"x\":0.5,\"xanchor\":\"center\",\"yanchor\":\"top\"},\"hoverlabel\":{\"font\":{\"size\":16,\"family\":\"Rockwell\"},\"bgcolor\":\"white\"},\"plot_bgcolor\":\"#ECEFF1\"},                        {\"responsive\": true}                    ).then(function(){\n",
       "                            \n",
       "var gd = document.getElementById('2a68f0ef-323a-4a25-885d-ba20cb4cbe2e');\n",
       "var x = new MutationObserver(function (mutations, observer) {{\n",
       "        var display = window.getComputedStyle(gd).display;\n",
       "        if (!display || display === 'none') {{\n",
       "            console.log([gd, 'removed!']);\n",
       "            Plotly.purge(gd);\n",
       "            observer.disconnect();\n",
       "        }}\n",
       "}});\n",
       "\n",
       "// Listen for the removal of the full notebook cells\n",
       "var notebookContainer = gd.closest('#notebook-container');\n",
       "if (notebookContainer) {{\n",
       "    x.observe(notebookContainer, {childList: true});\n",
       "}}\n",
       "\n",
       "// Listen for the clearing of the current output cell\n",
       "var outputEl = gd.closest('.output');\n",
       "if (outputEl) {{\n",
       "    x.observe(outputEl, {childList: true});\n",
       "}}\n",
       "\n",
       "                        })                };                });            </script>        </div>"
      ]
     },
     "metadata": {},
     "output_type": "display_data"
    }
   ],
   "source": [
    "fig = topic_model.visualize_hierarchy()\n",
    "fig.show()"
   ]
  },
  {
   "cell_type": "code",
   "execution_count": 19,
   "metadata": {},
   "outputs": [
    {
     "data": {
      "text/plain": [
       "Localité\n",
       "Lausanne     300\n",
       "Genève       207\n",
       "Neuchâtel     72\n",
       "Bern          62\n",
       "Fribourg      58\n",
       "            ... \n",
       "Firenze        1\n",
       "Diekirch       1\n",
       "Djeddah        1\n",
       "Veyrier        1\n",
       "Ouchy          1\n",
       "Name: count, Length: 385, dtype: int64"
      ]
     },
     "execution_count": 19,
     "metadata": {},
     "output_type": "execute_result"
    }
   ],
   "source": [
    "acm_competitions[\"Localité\"].value_counts()"
   ]
  },
  {
   "cell_type": "code",
   "execution_count": null,
   "metadata": {},
   "outputs": [],
   "source": []
  }
 ],
 "metadata": {
  "kernelspec": {
   "display_name": "impresso",
   "language": "python",
   "name": "python3"
  },
  "language_info": {
   "codemirror_mode": {
    "name": "ipython",
    "version": 3
   },
   "file_extension": ".py",
   "mimetype": "text/x-python",
   "name": "python",
   "nbconvert_exporter": "python",
   "pygments_lexer": "ipython3",
   "version": "3.11.10"
  }
 },
 "nbformat": 4,
 "nbformat_minor": 2
}

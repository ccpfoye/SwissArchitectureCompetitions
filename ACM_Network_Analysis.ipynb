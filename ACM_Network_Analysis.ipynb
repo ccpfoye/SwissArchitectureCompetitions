{
 "cells": [
  {
   "cell_type": "code",
   "execution_count": 2,
   "metadata": {},
   "outputs": [],
   "source": [
    "import pandas as pd\n",
    "import numpy as np\n",
    "import matplotlib.pyplot as plt\n",
    "import spacy\n",
    "import networkx"
   ]
  },
  {
   "cell_type": "code",
   "execution_count": 45,
   "metadata": {},
   "outputs": [],
   "source": [
    "acm_competitions_all = pd.read_feather(\"Data/ACM/AcmEPFL_paired.feather\")"
   ]
  },
  {
   "cell_type": "code",
   "execution_count": 46,
   "metadata": {},
   "outputs": [],
   "source": [
    "acm_competitions = acm_competitions_all[\n",
    "    (acm_competitions_all['is_jury']) \n",
    "    | (acm_competitions_all['is_jury'] & acm_competitions_all['paired_competitons'].apply(lambda x: len(x) == 0 if isinstance(x, list) else False))\n",
    "]"
   ]
  },
  {
   "cell_type": "markdown",
   "metadata": {},
   "source": [
    "## Architect Co-Occurence Network Analysis"
   ]
  },
  {
   "cell_type": "code",
   "execution_count": 47,
   "metadata": {},
   "outputs": [],
   "source": [
    "acm_competitons_artists = acm_competitions[acm_competitions['CombinedArtists'].notnull() & acm_competitions['Rôle de l\\'auteur'].notnull()]"
   ]
  },
  {
   "cell_type": "code",
   "execution_count": null,
   "metadata": {},
   "outputs": [
    {
     "data": {
      "text/plain": [
       "(array([  7.,  25., 109., 112.,  90.,  69.,  87.,  89.,  72., 102.]),\n",
       " array([1872., 1884., 1896., 1908., 1920., 1932., 1944., 1956., 1968.,\n",
       "        1980., 1992.]),\n",
       " <BarContainer object of 10 artists>)"
      ]
     },
     "execution_count": 50,
     "metadata": {},
     "output_type": "execute_result"
    },
    {
     "data": {
      "image/png": "[encoded data removed]",
      "text/plain": [
       "<Figure size 640x480 with 1 Axes>"
      ]
     },
     "metadata": {},
     "output_type": "display_data"
    }
   ],
   "source": [
    "plt.hist(acm_competitons_artists['Date de début de l\\'objet'].dt.year)"
   ]
  },
  {
   "cell_type": "code",
   "execution_count": null,
   "metadata": {},
   "outputs": [],
   "source": [
    "test_row = acm_competitons_artists.iloc[0]"
   ]
  },
  {
   "cell_type": "code",
   "execution_count": 91,
   "metadata": {},
   "outputs": [
    {
     "data": {
      "text/plain": [
       "orig_index                                                                 38\n",
       "Nom de l'objet                    Concours pour le casino d'Yverdon, jugement\n",
       "Programme                                                                None\n",
       "Adresse 1                                                                None\n",
       "Adresse 2                                                                None\n",
       "Adresse 3                                                                None\n",
       "Numéro postal                                                             NaN\n",
       "Localité                                                              Yverdon\n",
       "Canton - Département                                                     None\n",
       "Pays                                                                   Suisse\n",
       "Date de début de l'objet                                  1896-01-01 00:00:00\n",
       "Date de fin de l'objet                                                    NaT\n",
       "Concours ouvert à                                                        None\n",
       "Notes de l'objet            Pas d'extrait de rapport du jury dans la SBZ, ...\n",
       "Auteurs                     Châble, Gustave;Béguin, Jean;Widmer, Fritz;Wul...\n",
       "Rôle de l'auteur            1er prix ex aequo;5e prix;2e prix ex aequo;2e ...\n",
       "Dossiers reliés                                                          None\n",
       "Pièces reliées                                                           None\n",
       "CombinedArtists             [[Châble, Gustave], [Béguin, Jean], [Widmer, F...\n",
       "is_jury                                                                  True\n",
       "paired_competitons                                                     [1965]\n",
       "comp_id                                                                    38\n",
       "Name: 38, dtype: object"
      ]
     },
     "execution_count": 91,
     "metadata": {},
     "output_type": "execute_result"
    }
   ],
   "source": [
    "test_row"
   ]
  },
  {
   "cell_type": "code",
   "execution_count": 92,
   "metadata": {},
   "outputs": [
    {
     "data": {
      "text/plain": [
       "['Châble, Gustave',\n",
       " 'Béguin, Jean',\n",
       " 'Widmer, Fritz',\n",
       " 'Wullschleger, Erwin +',\n",
       " 'Perret, Ch +',\n",
       " 'Lambert, André',\n",
       " 'Bezencenet, Louis &',\n",
       " 'Girardet, Alexandre &',\n",
       " 'Linder, Th']"
      ]
     },
     "execution_count": 92,
     "metadata": {},
     "output_type": "execute_result"
    }
   ],
   "source": [
    "test_row['Auteurs'].split(';')"
   ]
  },
  {
   "cell_type": "code",
   "execution_count": 93,
   "metadata": {},
   "outputs": [
    {
     "data": {
      "text/plain": [
       "['1er prix ex aequo',\n",
       " '5e prix',\n",
       " '2e prix ex aequo',\n",
       " '2e prix ex aequo',\n",
       " '2e prix ex aequo',\n",
       " 'Mention et achat',\n",
       " '1er  prix',\n",
       " '1er  prix',\n",
       " '1er prix ex aequo']"
      ]
     },
     "execution_count": 93,
     "metadata": {},
     "output_type": "execute_result"
    }
   ],
   "source": [
    "test_row['Rôle de l\\'auteur'].split(';')"
   ]
  },
  {
   "cell_type": "code",
   "execution_count": null,
   "metadata": {},
   "outputs": [],
   "source": []
  }
 ],
 "metadata": {
  "kernelspec": {
   "display_name": "impresso",
   "language": "python",
   "name": "python3"
  },
  "language_info": {
   "codemirror_mode": {
    "name": "ipython",
    "version": 3
   },
   "file_extension": ".py",
   "mimetype": "text/x-python",
   "name": "python",
   "nbconvert_exporter": "python",
   "pygments_lexer": "ipython3",
   "version": "3.11.10"
  }
 },
 "nbformat": 4,
 "nbformat_minor": 2
}
